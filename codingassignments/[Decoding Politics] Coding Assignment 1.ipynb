{
 "cells": [
  {
   "cell_type": "markdown",
   "metadata": {},
   "source": [
    "# Coding Assignment 1: Elections Around the World "
   ]
  },
  {
   "cell_type": "markdown",
   "metadata": {},
   "source": [
    "Assignment logistics goes here"
   ]
  },
  {
   "cell_type": "markdown",
   "metadata": {},
   "source": [
    "Voting systems tend to be very game theoretical in nature, but we'll run through a few simulations. "
   ]
  },
  {
   "cell_type": "code",
   "execution_count": 2,
   "metadata": {},
   "outputs": [],
   "source": [
    "from datascience import * \n",
    "import random \n",
    "import numpy as np"
   ]
  },
  {
   "cell_type": "markdown",
   "metadata": {},
   "source": [
    "We have generated a dataset somewhat arbitrarily for you all to work with. Essentially, we created a set of preferences for each voter (a total of 100,000 voters) semi-randomly. "
   ]
  },
  {
   "cell_type": "code",
   "execution_count": 3,
   "metadata": {},
   "outputs": [],
   "source": [
    "def read_data(): \n",
    "    data = np.genfromtxt(\"./vote-preferences.csv\", delimiter=',', dtype=str)\n",
    "    return data[1:]"
   ]
  },
  {
   "cell_type": "markdown",
   "metadata": {},
   "source": [
    "It's not important that you understand what this does. This is how you'll get your data."
   ]
  },
  {
   "cell_type": "code",
   "execution_count": 4,
   "metadata": {},
   "outputs": [
    {
     "data": {
      "text/plain": [
       "array([['I', 'C', 'B', ..., 'D', 'J', 'H'],\n",
       "       ['I', 'H', 'A', ..., 'G', 'B', 'C'],\n",
       "       ['E', 'H', 'C', ..., 'G', 'D', 'F'],\n",
       "       ...,\n",
       "       ['I', 'C', 'A', ..., 'D', 'E', 'B'],\n",
       "       ['H', 'J', 'G', ..., 'B', 'F', 'I'],\n",
       "       ['B', 'I', 'C', ..., 'F', 'G', 'D']], dtype='<U7')"
      ]
     },
     "execution_count": 4,
     "metadata": {},
     "output_type": "execute_result"
    }
   ],
   "source": [
    "dataset = read_data()\n",
    "dataset"
   ]
  },
  {
   "cell_type": "code",
   "execution_count": 5,
   "metadata": {},
   "outputs": [],
   "source": [
    "candidates = make_array('A', 'B', 'C', 'D', 'E', \n",
    "                        'F', 'G', 'H', 'I', 'J')"
   ]
  },
  {
   "cell_type": "markdown",
   "metadata": {},
   "source": [
    "The output here is a bit confusing, but the way you can visualize this is that each row outputted represents a voter. The first letter listed represents the voter's top choice, the second letter listed represents the voter's second choice, and so on. The ellipsis represents a similar output that doesn't need to be repeated just for the sake of brevity. If it helps, you can imagine that each row looks something like $[A, B, C, D, E, F, G, H, I, J]$ except in a semi-random order. "
   ]
  },
  {
   "cell_type": "markdown",
   "metadata": {},
   "source": [
    "## Question 1: First-Past-the-Post Voting System"
   ]
  },
  {
   "cell_type": "markdown",
   "metadata": {},
   "source": [
    "We won't tell you much about how first-past-the-post (FPTP) voting works, but it's a system that most of you should be fairly familiar with. This part has a couple of different parts that will help develop your understanding of this particular voting system as well as one possible implementation for a computational model that we can use in comparisons. "
   ]
  },
  {
   "cell_type": "markdown",
   "metadata": {},
   "source": [
    "### 1.1: Explain how a first-past-the-post voting systems work. You should include advantages and disadvantages as well as examples of where FPTP is being used."
   ]
  },
  {
   "cell_type": "markdown",
   "metadata": {},
   "source": [
    "YOUR ANSWER HERE: "
   ]
  },
  {
   "cell_type": "markdown",
   "metadata": {},
   "source": [
    "### 1.2: Write a function that simulates an election in an FTPP voting system. "
   ]
  },
  {
   "cell_type": "code",
   "execution_count": 9,
   "metadata": {},
   "outputs": [],
   "source": [
    "def voting(candidates, data): \n",
    "    vote_count = np.zeros(len(candidates)) \n",
    "    for votes in data:\n",
    "        index = np.where(candidates == votes[0])\n",
    "        vote_count[index] += 1\n",
    "    return vote_count"
   ]
  },
  {
   "cell_type": "code",
   "execution_count": 16,
   "metadata": {
    "editable": false
   },
   "outputs": [],
   "source": [
    "vote_count = voting(candidates, dataset)\n",
    "assert vote_count[3] == max(vote_count) == 19933\n",
    "assert min(voting(candidates, dataset)) == 5032"
   ]
  },
  {
   "cell_type": "markdown",
   "metadata": {},
   "source": [
    "### 1.3: Using the voting function that you wrote from the previous question, complete a simulation of first-past-the-post voting system. You should be sure to return both the candidate that gets the most votes as well as the total number of votes that the candidate got. "
   ]
  },
  {
   "cell_type": "code",
   "execution_count": 11,
   "metadata": {},
   "outputs": [],
   "source": [
    "def first_past_the_post(candidates, data): \n",
    "    vote_count = voting(candidates, data)\n",
    "    top_vote_count = max(vote_count)\n",
    "    index = np.where(vote_count == top_vote_count)\n",
    "    return candidates[index], top_vote_count\n",
    "\n",
    "first_past_the_post(candidates, dataset)"
   ]
  },
  {
   "cell_type": "code",
   "execution_count": 17,
   "metadata": {
    "editable": false
   },
   "outputs": [],
   "source": [
    "assert first_past_the_post(candidates, dataset)[0] == \"D\"\n",
    "assert first_past_the_post(candidates, dataset)[1] == max(vote_count)"
   ]
  },
  {
   "cell_type": "markdown",
   "metadata": {},
   "source": [
    "### 1.4: Given the data that we've provided you about 100,000 voters, who won this election? How many votes did that candidate get?"
   ]
  },
  {
   "cell_type": "markdown",
   "metadata": {},
   "source": [
    "YOUR ANSWER HERE: "
   ]
  },
  {
   "cell_type": "markdown",
   "metadata": {},
   "source": [
    "## Question 2: Ranked-Choice Voting System"
   ]
  },
  {
   "cell_type": "markdown",
   "metadata": {},
   "source": [
    "Another common voting system that many of you may be familiar with is ranked-choice voting system. Similar to the first question, we won't be telling you how it works, but we will walk you through the code development so that we can come up with empirical support for theoretical analysis "
   ]
  },
  {
   "cell_type": "markdown",
   "metadata": {},
   "source": [
    "### 2.1: Explain how a ranked-choice voting system works. You should include advantages and disadvantages as well as examples of where ranked-choice voting is being used."
   ]
  },
  {
   "cell_type": "markdown",
   "metadata": {},
   "source": [
    "YOUR ANSWER HERE: "
   ]
  },
  {
   "cell_type": "markdown",
   "metadata": {},
   "source": [
    "### 2.2: Explain how ranked-choice voting is different from FTPP voting system. "
   ]
  },
  {
   "cell_type": "markdown",
   "metadata": {},
   "source": [
    "YOUR ANSWER HERE: "
   ]
  },
  {
   "cell_type": "markdown",
   "metadata": {},
   "source": [
    "We're going to provide a function for you that's pretty similar to something that you've already written. There's a component that's added in for you that makes this function slightly different (you don't totally need to understand how it works). "
   ]
  },
  {
   "cell_type": "code",
   "execution_count": 19,
   "metadata": {
    "editable": false
   },
   "outputs": [],
   "source": [
    "def round_of_voting(candidates, data): \n",
    "    vote_count = np.zeros(len(candidates)) \n",
    "    for votes in data:\n",
    "        while votes[0] not in candidates: \n",
    "            votes = votes[1:]\n",
    "        index = np.where(candidates == votes[0])\n",
    "        vote_count[index] += 1\n",
    "    return vote_count"
   ]
  },
  {
   "cell_type": "markdown",
   "metadata": {},
   "source": [
    "### 2.3 Write a function that simulates the ranked-choice voting system. You should use the round_of_voting function provided to you above as well as the helper function that we are providing below. "
   ]
  },
  {
   "cell_type": "code",
   "execution_count": 32,
   "metadata": {},
   "outputs": [],
   "source": [
    "def helper(vote_count, candidates): \n",
    "    lowest_tally = min(vote_count)\n",
    "    lowest_index = np.where(vote_count == lowest_tally)\n",
    "    candidates = np.delete(candidates, lowest_index)\n",
    "    return candidates"
   ]
  },
  {
   "cell_type": "code",
   "execution_count": 38,
   "metadata": {},
   "outputs": [],
   "source": [
    "def ranked_choice(candidates, data): \n",
    "    winner = False\n",
    "    while not winner: \n",
    "        vote_count = round_of_voting(candidates, data)\n",
    "        if max(vote_count) > (len(data) / 2):\n",
    "            winner = True\n",
    "        else: \n",
    "            candidates = helper(vote_count, candidates)\n",
    "    index = np.where(vote_count == max(vote_count))\n",
    "    return candidates[index], max(vote_count)"
   ]
  },
  {
   "cell_type": "code",
   "execution_count": 39,
   "metadata": {
    "editable": false
   },
   "outputs": [],
   "source": [
    "assert ranked_choice(candidates, dataset)[0] == 'J'"
   ]
  },
  {
   "cell_type": "markdown",
   "metadata": {},
   "source": [
    "### 2.4 Which candidate won? In the first round, how many votes did the winning candidate get? In the final round, how many votes did that candidate get? Which candidate had the most votes in the first round?"
   ]
  },
  {
   "cell_type": "markdown",
   "metadata": {},
   "source": [
    "YOUR ANSWER HERE: "
   ]
  },
  {
   "cell_type": "markdown",
   "metadata": {},
   "source": [
    "### 2.5 If you noticed, it took awhile for the cells in 2.3 to finish. Why is this the case? What is causing it to take so long?"
   ]
  },
  {
   "cell_type": "markdown",
   "metadata": {},
   "source": [
    "YOUR ANSWER HERE: "
   ]
  },
  {
   "cell_type": "markdown",
   "metadata": {},
   "source": [
    "## Question 3: Proportional Voting System"
   ]
  },
  {
   "cell_type": "markdown",
   "metadata": {},
   "source": [
    "In the previous voting systems we looked at, we were able to determine a specific candidate as a winner. A proportional voting system won't do that, but we'll let you figure out how it works. "
   ]
  },
  {
   "cell_type": "markdown",
   "metadata": {},
   "source": [
    "### 3.1 Explain how a proportional voting system works. You should include advantages and disadvantages as well as examples of where proportional voting is being used."
   ]
  },
  {
   "cell_type": "markdown",
   "metadata": {},
   "source": [
    "YOUR ANSWER HERE: "
   ]
  },
  {
   "cell_type": "markdown",
   "metadata": {},
   "source": [
    "### 3.2: Write a function that simulates proportional voting system."
   ]
  },
  {
   "cell_type": "code",
   "execution_count": 43,
   "metadata": {},
   "outputs": [],
   "source": [
    "def proportional_voting(parties, data): \n",
    "    party_count = voting(parties, data)\n",
    "    for i in range(len(party_count)):\n",
    "        party_count[i] = party_count[i] / len(data)\n",
    "    return party_count"
   ]
  },
  {
   "cell_type": "code",
   "execution_count": 50,
   "metadata": {
    "editable": false
   },
   "outputs": [],
   "source": [
    "proportions = proportional_voting(candidates, dataset)\n",
    "assert round(max(proportions), 2) == 0.20"
   ]
  },
  {
   "cell_type": "markdown",
   "metadata": {},
   "source": [
    "### 3.3 Given your understanding of proportional voting systems, how many of the electorates in a given body should be from each of the parties?"
   ]
  },
  {
   "cell_type": "markdown",
   "metadata": {},
   "source": [
    "YOUR ANSWER HERE: "
   ]
  },
  {
   "cell_type": "markdown",
   "metadata": {},
   "source": [
    "## Question 4: Recap"
   ]
  },
  {
   "cell_type": "markdown",
   "metadata": {},
   "source": [
    "We've taken a look at several voting systems over the course of this assignment. This is your chance to bring it all together and dig deeper into this topic with something you are interested in. "
   ]
  },
  {
   "cell_type": "markdown",
   "metadata": {},
   "source": [
    "### 4.1 In a paragraph or two, compare and contrast the three different voting systems that we examined earlier in the assignment."
   ]
  },
  {
   "cell_type": "markdown",
   "metadata": {},
   "source": [
    "YOUR ANSWER HERE: "
   ]
  },
  {
   "cell_type": "markdown",
   "metadata": {},
   "source": [
    "### 4.2 This is your chance to take a deeper look at various voting systems at all levels of government and in any region of the world. In a paragraph or two, write about a voting system that you find interesting that isn't one of the three that we worked on in this assignment. Make sure to include the advantages and disadvantages as well as examples of where the voting system is being used. "
   ]
  },
  {
   "cell_type": "markdown",
   "metadata": {},
   "source": [
    "YOUR ANSWER HERE: "
   ]
  },
  {
   "cell_type": "markdown",
   "metadata": {},
   "source": [
    "### 4.3 GIven all the claims that the electoral college system that the United States employs in our quadrennial presidential elections needs reform, come up with a new voting system to use to elect the President of the United States. This voting system can be one of the three we worked on in this assignment, something that's been written about extensively in academia, or a completely fictitious voting system."
   ]
  },
  {
   "cell_type": "markdown",
   "metadata": {},
   "source": [
    "YOUR ANSWER HERE: "
   ]
  },
  {
   "cell_type": "markdown",
   "metadata": {},
   "source": [
    "## Submission"
   ]
  },
  {
   "cell_type": "markdown",
   "metadata": {},
   "source": [
    "Congratulations, you've reached the end of this coding assignment! To submit, go to datahub.berkeley.edu. Find your file. Click the checkbox next to the file. If it is green, press shutdown. If it isn't lit up, press \"Download\". After you download it, please rename the file to follow this format, \"[YOUR NAME] CODING ASSIGNMENT #1.ipynb\", and submit it to the correct bCourses assignment page."
   ]
  }
 ],
 "metadata": {
  "kernelspec": {
   "display_name": "Python 3",
   "language": "python",
   "name": "python3"
  },
  "language_info": {
   "codemirror_mode": {
    "name": "ipython",
    "version": 3
   },
   "file_extension": ".py",
   "mimetype": "text/x-python",
   "name": "python",
   "nbconvert_exporter": "python",
   "pygments_lexer": "ipython3",
   "version": "3.6.7"
  }
 },
 "nbformat": 4,
 "nbformat_minor": 2
}
