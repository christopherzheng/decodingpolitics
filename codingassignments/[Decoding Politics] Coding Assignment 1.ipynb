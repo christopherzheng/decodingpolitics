{
 "cells": [
  {
   "cell_type": "markdown",
   "metadata": {},
   "source": [
    "# Coding Assignment 1: Elections Around the World "
   ]
  },
  {
   "cell_type": "markdown",
   "metadata": {},
   "source": [
    "## Instructions\n",
    "Welcome to your first coding assignment! The goal of this assignment is to help further familiarize you with how Python syntax works. Coding assignments are somewhat longer than labs, but they should not be significantly more difficult. Coding Assignment #1 will be due on **March 5th**. Like the lab, you will be asked to fill in code where there are ellipses (...) and write a few sentences in response to conceptual questions where it says \"YOUR ANSWER HERE\". For coding assignments, we are looking for a higher level of understanding than in the lab; however, you will have significantly more time to complete the assignment and we as facilitators will be available during office hours and through Slack.\n",
    "\n",
    "*Please take your time to read the text carefully.* We have included important instructions on how you should approach each problem. Many questions can be resolved by reading this spec carefully."
   ]
  },
  {
   "cell_type": "markdown",
   "metadata": {},
   "source": [
    "## Introduction\n",
    "\n",
    "For this assignment, we will be looking at different types of voting systems and how we would simulate them through programming. Democracies across the world have approached voting and elections differently, and they can occasionally lead to differing results. Voting systems tend to be very game theoretical in nature, but we'll run through a few simulations.\n",
    "\n",
    "For this assignment, you will need not only this Coding Assignment file, but also the vote-preferences.csv in your DataHub. Take this moment to check that it is located in the same folder as this file."
   ]
  },
  {
   "cell_type": "code",
   "execution_count": null,
   "metadata": {
    "collapsed": true
   },
   "outputs": [],
   "source": [
    "from datascience import * \n",
    "import random \n",
    "import numpy as np"
   ]
  },
  {
   "cell_type": "markdown",
   "metadata": {},
   "source": [
    "We have generated a dataset somewhat arbitrarily for you all to work with. Essentially, we created a set of preferences for each voter (a total of 100,000 voters) semi-randomly."
   ]
  },
  {
   "cell_type": "code",
   "execution_count": null,
   "metadata": {
    "collapsed": true
   },
   "outputs": [],
   "source": [
    "def read_data(): \n",
    "    data = np.genfromtxt(\"./vote-preferences.csv\", delimiter=',', dtype=str)\n",
    "    return data[1:]"
   ]
  },
  {
   "cell_type": "markdown",
   "metadata": {},
   "source": [
    "It's not important that you understand what this does. This is how you'll get your data. If you run into any errors, please again check that vote-preferences.csv is also imported into your DataHub."
   ]
  },
  {
   "cell_type": "code",
   "execution_count": null,
   "metadata": {
    "collapsed": false
   },
   "outputs": [],
   "source": [
    "dataset = read_data()\n",
    "dataset"
   ]
  },
  {
   "cell_type": "markdown",
   "metadata": {},
   "source": [
    "The output here is somewhat confusing, so let's walk through it briefly. Each row in the output represents a voter. The first letter listed represents the voter's top choice, the second letter listed represents the voter's second choice, and so on. If it helps, you can imagine that each row looks something like $[A, B, C, D, E, F, G, H, I, J]$ except in a semi-random order.\n",
    "\n",
    "The ellipsis between the third and fifth choice is shorthand to represent the other potential choices. It is not repeated for the sake of brevity. The ellipsis between the third and fifth row is also used for the same purpose. Like stated previously, there are 100,000 voters in the data we have provided you. It would be tedious and unnecessary to write out each row. Jupyter Notebook shortens the results for you so you can get an idea of what the array looks like without seeing every value."
   ]
  },
  {
   "cell_type": "code",
   "execution_count": null,
   "metadata": {
    "collapsed": true
   },
   "outputs": [],
   "source": [
    "candidates = np.array(['A', 'B', 'C', 'D', 'E', \n",
    "                        'F', 'G', 'H', 'I', 'J'])"
   ]
  },
  {
   "cell_type": "markdown",
   "metadata": {},
   "source": [
    "## Question 1: First-Past-the-Post Voting System"
   ]
  },
  {
   "cell_type": "markdown",
   "metadata": {},
   "source": [
    "We begin by examining a First-Past-the-Post Voting (FPTP) system. It is one of the most popular voting systems in the world. Before we implement our own FPTP system however, we need to develop a thorough understanding of how it works. Look at some of the following links and provide an explanation of FPTP. Please also feel free to explore other resources to understand FPTP.\n",
    "\n",
    "**Resources**<br>\n",
    "What is the First Past the Post Voting System: https://www.telegraph.co.uk/politics/0/first-past-post-voting-system/<br>\n",
    "Advantages and Disadvantages of FPTP: https://www.uk-engage.org/2013/06/what-are-the-advantages-and-disadvantages-of-using-the-first-past-the-post-voting-system-2/"
   ]
  },
  {
   "cell_type": "markdown",
   "metadata": {},
   "source": [
    "### 1.1: Explain how a first-past-the-post voting systems work. You should include advantages and disadvantages as well as examples of where FPTP is being used."
   ]
  },
  {
   "cell_type": "markdown",
   "metadata": {},
   "source": [
    "YOUR ANSWER HERE: "
   ]
  },
  {
   "cell_type": "markdown",
   "metadata": {},
   "source": [
    "### 1.2: Write a function that simulates an election in an FPTP voting system. \n",
    "\n",
    "Now we'll put your knowledge to the test and implement an FPTP voting system in Python. This first function, <code>voting</code>, takes in two arguments: <code>candidates</code> and <code>data</code>. <code>candidates</code> will take in our array of candidates, which is also named <code>candidates</code>. <code>data</code> will take our full dataset, also calculated above and given to you.\n",
    "\n",
    "For this question, think about how we can \"count\" in Python. How do we add by one, and when should we do it? Also consider how our array is structured. If you recall, each voter has a list of preferences. In an FPTP voting system, who would the voter vote for?"
   ]
  },
  {
   "cell_type": "code",
   "execution_count": 1,
   "metadata": {
    "collapsed": false
   },
   "outputs": [
    {
     "ename": "SyntaxError",
     "evalue": "invalid syntax (<ipython-input-1-8c8c7971d148>, line 7)",
     "output_type": "error",
     "traceback": [
      "\u001b[0;36m  File \u001b[0;32m\"<ipython-input-1-8c8c7971d148>\"\u001b[0;36m, line \u001b[0;32m7\u001b[0m\n\u001b[0;31m    for votes in ...:\u001b[0m\n\u001b[0m                 ^\u001b[0m\n\u001b[0;31mSyntaxError\u001b[0m\u001b[0;31m:\u001b[0m invalid syntax\n"
     ]
    }
   ],
   "source": [
    "# Fill in the ellipses with your own code\n",
    "def voting(candidates, data): \n",
    "    \"\"\" vote_count = np.zeros(len(candidates)) creates an array of length len(candidates)\n",
    "        and sets each index to 0\n",
    "        Example: np.zeros(4) would create an array of [0, 0, 0, 0]\"\"\"\n",
    "    vote_count = np.zeros(len(candidates)) \n",
    "    for votes in ...:\n",
    "        index = ...\n",
    "        ...\n",
    "    return ..."
   ]
  },
  {
   "cell_type": "code",
   "execution_count": null,
   "metadata": {
    "collapsed": true,
    "editable": false
   },
   "outputs": [],
   "source": [
    "vote_count = voting(candidates, dataset)\n",
    "assert vote_count[3] == max(vote_count) == 19933\n",
    "assert min(voting(candidates, dataset)) == 5032"
   ]
  },
  {
   "cell_type": "markdown",
   "metadata": {},
   "source": [
    "### 1.3: Using the voting function that you wrote from the previous question, complete a simulation of first-past-the-post voting system. You should be sure to return both the candidate that gets the most votes as well as the total number of votes that the candidate got. \n",
    "\n",
    "We have written a function that helps us vote, however, we still can't tell who wins! In the <code>first_past_the_post</code> function, we want to calculate from our voting data exactly who won the election and also how many votes they received. In a FPTP voting system, who is the winner?"
   ]
  },
  {
   "cell_type": "code",
   "execution_count": null,
   "metadata": {
    "collapsed": false
   },
   "outputs": [],
   "source": [
    "# Fill in the ellipses with your own code\n",
    "# Remember, we want to know both the candidate who won AND the number of votes they received!\n",
    "def first_past_the_post(candidates, data): \n",
    "    vote_count = ...\n",
    "    top_vote_count = ...\n",
    "    index = ...\n",
    "    return ...\n",
    "\n",
    "first_past_the_post(candidates, dataset)"
   ]
  },
  {
   "cell_type": "code",
   "execution_count": null,
   "metadata": {
    "collapsed": true,
    "editable": false
   },
   "outputs": [],
   "source": [
    "assert first_past_the_post(candidates, dataset)[0] == \"D\"\n",
    "assert first_past_the_post(candidates, dataset)[1] == max(vote_count)"
   ]
  },
  {
   "cell_type": "markdown",
   "metadata": {},
   "source": [
    "### 1.4: Given the data that we've provided you about 100,000 voters, who won this election? How many votes did that candidate get?"
   ]
  },
  {
   "cell_type": "markdown",
   "metadata": {},
   "source": [
    "YOUR ANSWER HERE: "
   ]
  },
  {
   "cell_type": "markdown",
   "metadata": {},
   "source": [
    "## Question 2: Ranked-Choice Voting System"
   ]
  },
  {
   "cell_type": "markdown",
   "metadata": {},
   "source": [
    "Another common voting system is ranked-choice voting system. Similar to the first question, we won't be telling you how it works, but we will walk you through the code development. Again, take this time to familiarize yourself with how exactly ranked-choice voting works; we cannot develop code without knowing what goal our code aims to achieve.\n",
    "\n",
    "**Resources**<br>\n",
    "Ranked-choice voting: https://ballotpedia.org/Ranked-choice_voting_(RCV)<br>\n",
    "What is RCV?: https://www.rankedchoicevoting.org/what-is-rcv"
   ]
  },
  {
   "cell_type": "markdown",
   "metadata": {},
   "source": [
    "### 2.1: Explain how a ranked-choice voting system works. You should include advantages and disadvantages as well as examples of where ranked-choice voting is being used."
   ]
  },
  {
   "cell_type": "markdown",
   "metadata": {},
   "source": [
    "YOUR ANSWER HERE: "
   ]
  },
  {
   "cell_type": "markdown",
   "metadata": {},
   "source": [
    "### 2.2: Explain how ranked-choice voting is different from FTPP voting system. "
   ]
  },
  {
   "cell_type": "markdown",
   "metadata": {},
   "source": [
    "YOUR ANSWER HERE: "
   ]
  },
  {
   "cell_type": "markdown",
   "metadata": {},
   "source": [
    "We're going to provide a function for you that's pretty similar to something that you've already written. There's a component that's added in for you that makes this function slightly different. You don't need to completely understand how this addition works, but consider how ranked-choice voting functions and why we do not only consider the top candidate of each voter.\n",
    "\n",
    "If you are still confused, the <code>helper</code> function in the next part of this question may provide some clarity."
   ]
  },
  {
   "cell_type": "code",
   "execution_count": null,
   "metadata": {
    "collapsed": true,
    "editable": false
   },
   "outputs": [],
   "source": [
    "def round_of_voting(candidates, data): \n",
    "    vote_count = np.zeros(len(candidates)) \n",
    "    for votes in data:\n",
    "        while votes[0] not in candidates: \n",
    "            votes = votes[1:]\n",
    "        index = np.where(candidates == votes[0])\n",
    "        vote_count[index] += 1\n",
    "    return vote_count"
   ]
  },
  {
   "cell_type": "markdown",
   "metadata": {},
   "source": [
    "### 2.3 Write a function that simulates the ranked-choice voting system. You should use the round_of_voting function provided to you above as well as the helper function that you should complete below. "
   ]
  },
  {
   "cell_type": "code",
   "execution_count": 3,
   "metadata": {
    "collapsed": false
   },
   "outputs": [
    {
     "ename": "SyntaxError",
     "evalue": "invalid syntax (<ipython-input-3-5b4d83b1437b>, line 3)",
     "output_type": "error",
     "traceback": [
      "\u001b[0;36m  File \u001b[0;32m\"<ipython-input-3-5b4d83b1437b>\"\u001b[0;36m, line \u001b[0;32m3\u001b[0m\n\u001b[0;31m    lowest_tally = ...\u001b[0m\n\u001b[0m                   ^\u001b[0m\n\u001b[0;31mSyntaxError\u001b[0m\u001b[0;31m:\u001b[0m invalid syntax\n"
     ]
    }
   ],
   "source": [
    "# DO NOT CHANGE THIS CODE\n",
    "def helper(vote_count, candidates): \n",
    "    lowest_tally = ...\n",
    "    lowest_index = np.where(vote_count == lowest_tally)\n",
    "    candidates = np.delete(candidates, lowest_index)\n",
    "    return candidates"
   ]
  },
  {
   "cell_type": "code",
   "execution_count": 2,
   "metadata": {
    "collapsed": false
   },
   "outputs": [
    {
     "ename": "SyntaxError",
     "evalue": "invalid syntax (<ipython-input-2-9137d755b9d1>, line 3)",
     "output_type": "error",
     "traceback": [
      "\u001b[0;36m  File \u001b[0;32m\"<ipython-input-2-9137d755b9d1>\"\u001b[0;36m, line \u001b[0;32m3\u001b[0m\n\u001b[0;31m    winner = ...\u001b[0m\n\u001b[0m             ^\u001b[0m\n\u001b[0;31mSyntaxError\u001b[0m\u001b[0;31m:\u001b[0m invalid syntax\n"
     ]
    }
   ],
   "source": [
    "# Fill in the ellipses with your own code\n",
    "def ranked_choice(candidates, data): \n",
    "    winner = ...\n",
    "    while ...: \n",
    "        vote_count = ...\n",
    "        if ...:\n",
    "            winner = ...\n",
    "        else: \n",
    "            candidates = ...\n",
    "    index = ...\n",
    "    return ..."
   ]
  },
  {
   "cell_type": "code",
   "execution_count": null,
   "metadata": {
    "collapsed": true,
    "editable": false
   },
   "outputs": [],
   "source": [
    "assert ranked_choice(candidates, dataset)[0] == 'J'"
   ]
  },
  {
   "cell_type": "markdown",
   "metadata": {},
   "source": [
    "### 2.4 Explain the results of the ranked-choice election. A complete answer will not only address these questions, but also give a detailed explanation of the election. Which candidate ultimately won the election? How many votes did the final winner get in the first round? How many votes did the final winner have in the final round? Which candidate actually got the most votes in the first round? Why is this possible under ranked-choice?"
   ]
  },
  {
   "cell_type": "markdown",
   "metadata": {},
   "source": [
    "YOUR ANSWER HERE: "
   ]
  },
  {
   "cell_type": "markdown",
   "metadata": {},
   "source": [
    "### 2.5 If you noticed, it took awhile for the cells in 2.3 to finish. Why is this the case? What is causing it to take so long?"
   ]
  },
  {
   "cell_type": "markdown",
   "metadata": {},
   "source": [
    "YOUR ANSWER HERE: "
   ]
  },
  {
   "cell_type": "markdown",
   "metadata": {},
   "source": [
    "## Question 3: Proportional Voting System"
   ]
  },
  {
   "cell_type": "markdown",
   "metadata": {},
   "source": [
    "In the previous voting systems we looked at, we were able to determine a specific candidate as a winner. A proportional voting system won't do that, but we'll let you figure out how it works.\n",
    "\n",
    "**Resources**<br>\n",
    "How Proportional Representation Elections Work: https://www.fairvote.org/how_proportional_representation_elections_work<br>\n",
    "Proportional Representation Voting Systems: https://followmyvote.com/proportional-representation-voting-systems/"
   ]
  },
  {
   "cell_type": "markdown",
   "metadata": {},
   "source": [
    "### 3.1 Explain how a proportional voting system works. You should include advantages and disadvantages as well as examples of where proportional voting is being used."
   ]
  },
  {
   "cell_type": "markdown",
   "metadata": {},
   "source": [
    "YOUR ANSWER HERE: "
   ]
  },
  {
   "cell_type": "markdown",
   "metadata": {},
   "source": [
    "### 3.2: Write a function that simulates proportional voting system.\n",
    "\n",
    "Instead of returning a winner or the number of votes, we want to return an array with the proportion of votes that each candidate received. **You should use a function you've previously written to conduct this election.**"
   ]
  },
  {
   "cell_type": "code",
   "execution_count": null,
   "metadata": {
    "collapsed": true
   },
   "outputs": [],
   "source": [
    "# Fill in the ellipses with your own code\n",
    "def proportional_voting(parties, data): \n",
    "    party_count = ...\n",
    "    for ...:\n",
    "        party_count[...] = ... / ...\n",
    "    return ..."
   ]
  },
  {
   "cell_type": "code",
   "execution_count": null,
   "metadata": {
    "collapsed": true,
    "editable": false
   },
   "outputs": [],
   "source": [
    "proportions = proportional_voting(candidates, dataset)\n",
    "assert round(max(proportions), 2) == 0.20"
   ]
  },
  {
   "cell_type": "markdown",
   "metadata": {},
   "source": [
    "### 3.3 Given your understanding of proportional voting systems, how many of the electorates in a given body should be from each of the parties?"
   ]
  },
  {
   "cell_type": "markdown",
   "metadata": {},
   "source": [
    "YOUR ANSWER HERE: "
   ]
  },
  {
   "cell_type": "markdown",
   "metadata": {},
   "source": [
    "## Question 4: Recap"
   ]
  },
  {
   "cell_type": "markdown",
   "metadata": {},
   "source": [
    "We've taken a look at several voting systems over the course of this assignment. This is your chance to bring it all together and dig deeper into the concept of voting systems through looking at the real world."
   ]
  },
  {
   "cell_type": "markdown",
   "metadata": {},
   "source": [
    "### 4.1 In a paragraph or two, compare and contrast the three different voting systems that we examined earlier in the assignment."
   ]
  },
  {
   "cell_type": "markdown",
   "metadata": {},
   "source": [
    "YOUR ANSWER HERE: "
   ]
  },
  {
   "cell_type": "markdown",
   "metadata": {},
   "source": [
    "### 4.2 This is your chance to take a deeper look at various voting systems at all levels of government and in any region of the world. In a paragraph or two, write about a voting system that you find interesting that isn't one of the three that we worked on in this assignment. Make sure to include the advantages and disadvantages as well as examples of where the voting system is being used. "
   ]
  },
  {
   "cell_type": "markdown",
   "metadata": {},
   "source": [
    "YOUR ANSWER HERE: "
   ]
  },
  {
   "cell_type": "markdown",
   "metadata": {},
   "source": [
    "### 4.3 Given all the claims that the electoral college system that the United States employs in our quadrennial presidential elections needs reform, come up with a new voting system to use to elect the President of the United States. This voting system can be one of the three we worked on in this assignment, something that's been written about extensively in academia, or a completely fictitious voting system."
   ]
  },
  {
   "cell_type": "markdown",
   "metadata": {},
   "source": [
    "YOUR ANSWER HERE: "
   ]
  },
  {
   "cell_type": "markdown",
   "metadata": {},
   "source": [
    "## Submission"
   ]
  },
  {
   "cell_type": "markdown",
   "metadata": {},
   "source": [
    "Congratulations, you've reached the end of this coding assignment! To submit, go to datahub.berkeley.edu. Find your file. Click the checkbox next to the file. If it is green, press shutdown. If it isn't lit up, press \"Download\". After you download it, please rename the file to follow this format, \"[YOUR NAME] CODING ASSIGNMENT #1.ipynb\", and submit it to the correct bCourses assignment page."
   ]
  }
 ],
 "metadata": {
  "kernelspec": {
   "display_name": "Python 2",
   "language": "python",
   "name": "python2"
  },
  "language_info": {
   "codemirror_mode": {
    "name": "ipython",
    "version": 2
   },
   "file_extension": ".py",
   "mimetype": "text/x-python",
   "name": "python",
   "nbconvert_exporter": "python",
   "pygments_lexer": "ipython2",
   "version": "2.7.13"
  }
 },
 "nbformat": 4,
 "nbformat_minor": 2
}
