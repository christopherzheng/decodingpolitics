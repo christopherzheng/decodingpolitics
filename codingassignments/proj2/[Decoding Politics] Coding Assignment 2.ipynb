{
 "cells": [
  {
   "cell_type": "markdown",
   "metadata": {},
   "source": [
    "# Coding Assignment 2: The Problem With Political Jokes Is That They Get Elected<sup>1</sup>"
   ]
  },
  {
   "cell_type": "markdown",
   "metadata": {},
   "source": [
    "We know we didn't give you a ton of turn around time between the first coding assignment and this coding assignment, but we hope that you'll enjoy doing this assignment and seeing how we actually use data to address real political issues. As always, please come to us for assistance and office hours! \n",
    "\n",
    "Coding Assignment 2 will be due on **Friday, March 22 at 11:59 PM**. Note: This is the day before we leave for Spring Break. "
   ]
  },
  {
   "cell_type": "markdown",
   "metadata": {},
   "source": [
    "As it was for Coding Assignment 1, you may work with **one** other student on this assignment. Please fill in the cell below with the appropriate values, if applicable, for each variable."
   ]
  },
  {
   "cell_type": "code",
   "execution_count": null,
   "metadata": {},
   "outputs": [],
   "source": [
    "NAME = \"\"\n",
    "COLLABORATOR_NAME = \"\""
   ]
  },
  {
   "cell_type": "markdown",
   "metadata": {},
   "source": [
    "We will import the libraries/packages that you may need while doing this assignment. You **SHOULD NOT** change the below cell in any way. "
   ]
  },
  {
   "cell_type": "code",
   "execution_count": null,
   "metadata": {
    "editable": false
   },
   "outputs": [],
   "source": [
    "from datascience import *\n",
    "import numpy as np\n",
    "%matplotlib inline\n",
    "import matplotlib.pyplot as plots\n",
    "plots.style.use('fivethirtyeight')"
   ]
  },
  {
   "cell_type": "markdown",
   "metadata": {},
   "source": [
    "Whereas the last assignment was very game theoretical, this assignment will have a very real and tangible outcome, which should give you a better sense of how we might apply basic data tools to confirm or reject your suspicions. Given that this assignment is entirely based on a real situation, we want to remind the class that we, as facilitators, are **NOT** taking a political stance by developing this assignment nor are we telling you that a political stance is better for any particular reason. We are **only** illustrating the idea that we can empirically confirm or reject suspicions that we come across. "
   ]
  },
  {
   "cell_type": "markdown",
   "metadata": {},
   "source": [
    "## 1. Introduction: The People Who Cast The Votes Decide Nothing; The People Who Count The Votes Decide Everything<sup>2</sup>"
   ]
  },
  {
   "cell_type": "markdown",
   "metadata": {},
   "source": [
    "On November 6th, 2018, Mark Harris won the U.S. House of Representatives seat from North Carolina District 9. Upon completing the tally counts, Mark Harris led by 905."
   ]
  },
  {
   "cell_type": "markdown",
   "metadata": {},
   "source": [
    "We've already done some of the initial steps for you, which can often be the hardest part to any data analytics project. We've provided you with a question (is there evidence of election tampering in Bladen County, North Carolina) and datasets. We've already done a significant portion of the cleaning for you since it can often be highly technical and incredibly frustrating, but we left a portion of this for you to develop an intuition for data cleaning."
   ]
  },
  {
   "cell_type": "code",
   "execution_count": null,
   "metadata": {},
   "outputs": [],
   "source": [
    "election_results = Table.read_table(\"nc_election_results_11062018.csv\")\n",
    "election_results"
   ]
  },
  {
   "cell_type": "markdown",
   "metadata": {},
   "source": [
    "One thing you should notice is that all the values in the first column (\"County\") are the same. Another thing you should notice is that there are 183544 rows omitted. \n",
    "\n",
    "**1.1**: How many rows are you in the `election_results` table? How many columns are in the `election_results` table?"
   ]
  },
  {
   "cell_type": "code",
   "execution_count": null,
   "metadata": {},
   "outputs": [],
   "source": [
    "print(\"There are \" + ... + \" rows.\")\n",
    "print(\"There are \" + ... + \" columns.\")"
   ]
  },
  {
   "cell_type": "markdown",
   "metadata": {},
   "source": [
    "As you can tell, there's a lot of data here. Some of it is pretty useful, but there are 183,554 rows so let's filter out only what's necessary. The dataset here represents all of the contests in the November 2018 elections in North Carolina. We only care about US Congressional District 09, which is the election Mark Harris was involved in. \n",
    "\n",
    "**1.2**: Create a new table that only contains data regarding the US House of Representatives District 09 election."
   ]
  },
  {
   "cell_type": "code",
   "execution_count": null,
   "metadata": {},
   "outputs": [],
   "source": [
    "# Create a new table that only contains data dealing with the US HOUSE OF REPRESENTATIVES DISTRICT 09 election\n",
    "district9 = ...\n",
    "district9.show(10)"
   ]
  },
  {
   "cell_type": "markdown",
   "metadata": {},
   "source": [
    "Our dataset is significantly smaller, which makes it easier to work with so that might be able to answer our questions about whether Mark Harris engaged in election fraud. Not all of these columns are useful. Some columns are repetitive to the identifying information that we are trying to track—these include the Contest Group ID and Contest Type. These columns are reflected in the Contest Name column by the full race name. When cleaning the dataset, we can take out repetitive information that won't be useful to our data analysis. Therefore, we should drop somre columms from our table.\n",
    "\n",
    "**1.3**: Drop \"Contest Group ID\", \"Contest Type\", and \"Vote For\" from the `district9` table."
   ]
  },
  {
   "cell_type": "code",
   "execution_count": null,
   "metadata": {},
   "outputs": [],
   "source": [
    "district9 = ...\n",
    "district9"
   ]
  },
  {
   "cell_type": "markdown",
   "metadata": {},
   "source": [
    "It's always worthwhile to make sure that you understand what each of the columns represent. Sometimes, that requires you to do some external research so that you can effectively analyze the data that you have. \n",
    "\n",
    "**1.4**: Explain how the `Election Day`, `One Stop`, `Absentee by Mail`, `Provisional`, and `Total Votes` columns differ. "
   ]
  },
  {
   "cell_type": "markdown",
   "metadata": {},
   "source": [
    "YOUR ANSWER HERE: "
   ]
  },
  {
   "cell_type": "markdown",
   "metadata": {},
   "source": [
    "## 2. Bladen County: I Don't Know Much About Americanism, But It's a Damn Good Word With Which To Carry An Election<sup>3</sup>"
   ]
  },
  {
   "cell_type": "markdown",
   "metadata": {},
   "source": [
    "**MORE CONTEXT HERE**\n",
    "- Investigations on election fraud in District 9 of North Carolina were actually opened in 2016. They largely centered around Leslie McCrae Dowless, a former convicted felon with numerous charges of fraud who also happened to work on the Mark Harris campaign.\n",
    "- After examining the circumstances regarding the 2018 House elections, the state elections board refused to certify the election results and unanimously voted to throw out the 2018 election results.\n",
    "- Election officials in North Carolina ordered a special election to take place. McCreary, the Democratic candidate, will be campaigning again, though Harris, the Republican candidate, will not.\n",
    "\n",
    "More information can be found at the end of this assignment"
   ]
  },
  {
   "cell_type": "markdown",
   "metadata": {},
   "source": [
    "**2.1**: Create a table that has all the precincts of Bladen County.\n",
    "\n",
    "***WARNING***: Even though it's displayed as \"BLADEN,\" you have to use the string \"\\nBLADEN\" instead. "
   ]
  },
  {
   "cell_type": "code",
   "execution_count": null,
   "metadata": {},
   "outputs": [],
   "source": [
    "# Create a table with all the precincts within Bladen County. Remember to use \"\\nBLADEN\"!\n",
    "bladen = ...\n",
    "bladen"
   ]
  },
  {
   "cell_type": "markdown",
   "metadata": {},
   "source": [
    "**2.2**: How many votes did Mark Harris win Bladen County by?\n",
    "\n",
    "*HINT #1*: Grouping works by aggregating a bunch of related information together. So far, we've only put the column as an argument in the `group` function, but we can also add a second argument that dictates what function we use to aggregate all the data together. This will give a lot of information that doesn't make any sense. Since the syntax is fairly new, we'll provide most of the code for this. "
   ]
  },
  {
   "cell_type": "code",
   "execution_count": null,
   "metadata": {},
   "outputs": [],
   "source": [
    "# give everything except the column names\n",
    "total_votes = bladen.group(\"Choice\", sum).select('Choice', 'Total Votes sum').relabeled(\"Total Votes sum\", \"Total Votes\")\n",
    "total_votes"
   ]
  },
  {
   "cell_type": "markdown",
   "metadata": {},
   "source": [
    "**2.3**: What percentage of the \"Total Votes\" were \"Absentee by Mail\"?\n",
    "\n",
    "*HINT #1*: `table_name['column name']` takes the column as makes it an array where `table_name` and `'column name'` are placeholders for the actual value that you should use.\n",
    "\n",
    "*HINT #2*: `sum(array)` returns the sum of the array that is passed in where `array` represents a placeholder for the actual value that you should use.\n",
    "\n",
    "*HINT #3*: Complete the `percent` function because it may be useful later. "
   ]
  },
  {
   "cell_type": "code",
   "execution_count": null,
   "metadata": {},
   "outputs": [],
   "source": [
    "# The percent function should return the percentage of a to b\n",
    "# Example: percent(9, 10) should return 90, not 0.9\n",
    "def percent(_, _): \n",
    "    return "
   ]
  },
  {
   "cell_type": "code",
   "execution_count": null,
   "metadata": {
    "editable": false
   },
   "outputs": [],
   "source": [
    "assert percent(2, 5) == 40\n",
    "assert percent(-1, 5) == -20\n",
    "assert round(percent(1, 3), 2) == 33.33"
   ]
  },
  {
   "cell_type": "code",
   "execution_count": null,
   "metadata": {},
   "outputs": [],
   "source": [
    "bladen_absentee_by_mail = ...\n",
    "bladen_total_votes = ...\n",
    "\n",
    "percentage = ...\n",
    "\n",
    "print(\"Absentee by mail ballots represent \" + ... + \\\n",
    "      \"% of the votes.\")"
   ]
  },
  {
   "cell_type": "code",
   "execution_count": null,
   "metadata": {
    "editable": false
   },
   "outputs": [],
   "source": [
    "assert round(percentage, 2) == 7.28"
   ]
  },
  {
   "cell_type": "markdown",
   "metadata": {},
   "source": [
    "**2.4:** Create a table that has only the \"ABSENTEE\" precincts for Bladen County. \n",
    "\n",
    "*HINT*: Use a table that you've created earlier!"
   ]
  },
  {
   "cell_type": "code",
   "execution_count": null,
   "metadata": {},
   "outputs": [],
   "source": [
    "# Create a table with the \"ABSENTEE\" precincts of Bladen County\n",
    "bladen_abs = ...       \n",
    "bladen_abs"
   ]
  },
  {
   "cell_type": "code",
   "execution_count": null,
   "metadata": {
    "editable": false
   },
   "outputs": [],
   "source": [
    "assert (bladen_abs.num_rows, bladen_abs.num_columns) == (3, 12)\n",
    "assert all(bladen_abs['County'] == \\\n",
    "           np.array(['\\nBLADEN', '\\nBLADEN', '\\nBLADEN']))\n",
    "assert sum(bladen_abs['Total Votes']) == 684.0"
   ]
  },
  {
   "cell_type": "markdown",
   "metadata": {},
   "source": [
    "**2.5**: In Bladen County, what percentage of the absentee by mail votes were won by Mark Harris?\n",
    "\n",
    "*HINT #1*: Call a function that you've already written."
   ]
  },
  {
   "cell_type": "code",
   "execution_count": null,
   "metadata": {},
   "outputs": [],
   "source": [
    "mh_absentee_votes = bladen_abs.column(\"Absentee by Mail\")[2]\n",
    "mark_harris_abs_percent = ...\n",
    "mark_harris_abs_percent"
   ]
  },
  {
   "cell_type": "code",
   "execution_count": null,
   "metadata": {
    "editable": false
   },
   "outputs": [],
   "source": [
    "assert round(mark_harris_abs_percent, 2) == 61.40"
   ]
  },
  {
   "cell_type": "markdown",
   "metadata": {},
   "source": [
    "Often times, we have to introduce new datasets in order to have a more comprehensive analysis. North Carolina also releases data on voters who request absentee ballots. To understand whether the 61.4% of absentee ballot votes for Mark Harris is significant, we need to know what percent of the vote we expect Mark Harris to receive. "
   ]
  },
  {
   "cell_type": "code",
   "execution_count": null,
   "metadata": {},
   "outputs": [],
   "source": [
    "bladen_absentees = Table.read_table(\"bladen.csv\")\n",
    "bladen_absentees.show(10)"
   ]
  },
  {
   "cell_type": "markdown",
   "metadata": {},
   "source": [
    "The dataset we provide on absentee ballots has a lot of extraneous information that we don't totally care about so let's clean it up. We won't break it into as many components this time as we did the first time. \n",
    "\n",
    "**2.6**: Clean up the `bladen_absentees` table so that we only have rows and columns that we care about. We want only rows that deal with \"CONGRESSIONAL DISTRICT 9\". At the very minimum, we want the `ballot_req_delivery_type`, `ballot_req_type`, `ballot_request_party`, `ballot_rtn_status`, and some sort of unique identifier for each voter. While it isn't totally necessary to, include the `county_desc` and `cong_dist_desc` columns as well\n",
    "\n",
    "*HINT #1*: Sometimes, `select` is better than `drop`. "
   ]
  },
  {
   "cell_type": "code",
   "execution_count": null,
   "metadata": {},
   "outputs": [],
   "source": [
    "bladen_abs_d9 = ...\n",
    "bladen_abs_d9 = ...\n",
    "bladen_abs_d9"
   ]
  },
  {
   "cell_type": "code",
   "execution_count": null,
   "metadata": {
    "editable": false
   },
   "outputs": [],
   "source": [
    "assert (bladen_abs_d9.num_rows, bladen_abs_d9.num_columns) == (5971, 7)\n",
    "assert all(bladen_abs_d9['county_desc'] == \"BLADEN\")"
   ]
  },
  {
   "cell_type": "markdown",
   "metadata": {},
   "source": [
    "**2.7**: Use the `group` function, to compute the percentage of absentee ballot voters that requested a Republican ballot. "
   ]
  },
  {
   "cell_type": "code",
   "execution_count": null,
   "metadata": {},
   "outputs": [],
   "source": [
    "bladenabs_d9byparty = ...\n",
    "bladenabs_d9byparty"
   ]
  },
  {
   "cell_type": "code",
   "execution_count": null,
   "metadata": {},
   "outputs": [],
   "source": [
    "republicans = bladenabs_d9byparty.column(\"count\")[3]\n",
    "rep_percent = ...\n",
    "rep_percent"
   ]
  },
  {
   "cell_type": "code",
   "execution_count": null,
   "metadata": {
    "editable": false
   },
   "outputs": [],
   "source": [
    "assert round(rep_percent, 2) == 20.31"
   ]
  },
  {
   "cell_type": "markdown",
   "metadata": {},
   "source": [
    "**2.8**: Is there a noticeable discrepancy that makes you suspicious?"
   ]
  },
  {
   "cell_type": "markdown",
   "metadata": {},
   "source": [
    "YOUR ANSWER HERE: "
   ]
  },
  {
   "cell_type": "markdown",
   "metadata": {},
   "source": [
    "Sometimes it can be hard to really undertand what's going on with just numbers. Instead, let's try to visualize exactly how our data is working. First, however, to get an accurate asssessment, let's limit the absentee ballots we're looking at to the ones mailed in and accepted.\n",
    "\n",
    "**2.9**: Create a table from the <code>bladen_abs_d9</code> table that lists the number of people registered per party, counting only the ballots where the <code>ballot_req_type</code> was MAIL and the <code>ballot_rtn_status</code> was ACCEPTED."
   ]
  },
  {
   "cell_type": "code",
   "execution_count": null,
   "metadata": {},
   "outputs": [],
   "source": [
    "mail_only = ...\n",
    "mail_only = ...\n",
    "mail_only_parties = ...\n",
    "mail_only_parties"
   ]
  },
  {
   "cell_type": "markdown",
   "metadata": {},
   "source": [
    "Now that we have the specific number of people who when requesting their ballots identified as DEM/LIB/REP/UNA, let's take a look at how the vote actually went.\n",
    "\n",
    "**2.10**: Create an overlaid bar chart of the count per party*. An overlaid bar chart is a bar chart with two different datasets contained in it, plotted with the same x-axis and y-axis. One bar should represent the total number of ballots requested for a party. The other bar should represent the total number of votes for the party.\n",
    "\n",
    "\\* For reference: https://www.inferentialthinking.com/chapters/07/3/Overlaid_Graphs.html"
   ]
  },
  {
   "cell_type": "code",
   "execution_count": null,
   "metadata": {},
   "outputs": [],
   "source": [
    "votes = bladen_abs.column(\"Total Votes\")\n",
    "# Notice that you can request a UNA (unaffiliated) ballot, but cannot vote for an unaffiliated candidate.\n",
    "# The .append adds in a row for UNA to the votes array so that each column has the same number of rows.\n",
    "votes = np.append(votes, 0)\n",
    "# Create a new table that represents the two bars asked for in the question\n",
    "comparisons = ...\n",
    "\n",
    "# Using the table, create an overlaid bar chart\n",
    "..."
   ]
  },
  {
   "cell_type": "markdown",
   "metadata": {},
   "source": [
    "## 3. Richmond County: Winning The Election Is A Good-News, Bad-News Kind of Thing. Okay, Now You're The Mayor. The Bad News Is, Now You're The Mayor."
   ]
  },
  {
   "cell_type": "markdown",
   "metadata": {},
   "source": [
    "**NOTE: THIS PROBLEM WILL BE CHALLENGING, BUT IT'S GOOD TO LEARN FROM AND WORK THROUGH. PLEASE START EARLY AND COME MEET US FOR OFFICE HOURS IF YOU NEED HELP.**"
   ]
  },
  {
   "cell_type": "markdown",
   "metadata": {},
   "source": [
    "When you're analyzing data, it's really important to contextualize the numbers we've already calculated by examining the differences when compared to other similarly-calculated numbers. While a better analysis would compare the results of the potential discrepancy to the results in all other counties in North Carolina Congressional District 9, we'll save you the time and only require you to look at one other county: Richmond County. \n",
    "\n",
    "We won't break up the analysis as much as we did in the previous section, but you should be able to follow a similar type of procedure to compute the same numbers (***NOTE: This is why it's a good idea to write generalizable functions***). Instead, we'll provide some guidelines and you should provide the code, the calculations, and the explanations to further your analysis. "
   ]
  },
  {
   "cell_type": "markdown",
   "metadata": {},
   "source": [
    "**3.1**: Does the same discrepancy of number of absentee votes exist in Richmond County as it does in Bladen County? "
   ]
  },
  {
   "cell_type": "markdown",
   "metadata": {},
   "source": [
    "**Some Guidance**\n",
    "\n",
    "Take a look at how we calculated these values in the previous problem. We are essentially going to do that same work here, but instead of using bladen.csv, we want to use richmond.csv, as that contains the new data we are analyzing. Take note of any differences there are between these two data files! richmond.csv does NOT have an \"ABSENTEE\" precinct, however, there are still tallied counts for \"Absentee by Mail\". Other than that, most of the data should have already been cleaned for you.\n",
    "\n",
    "**General Procedure**\n",
    "- create the same tables as in Part 2\n",
    "- create the same graphs\n",
    "- compute the same values and compare\n",
    "- create the same visualization\n"
   ]
  },
  {
   "cell_type": "code",
   "execution_count": null,
   "metadata": {},
   "outputs": [],
   "source": [
    "## Fill in your code here. Feel free to break up into multiple cells\n",
    "## if needed. Make sure to give descriptive variable names so that\n",
    "## it's easier for us to follow when we grade\n",
    "..."
   ]
  },
  {
   "cell_type": "markdown",
   "metadata": {},
   "source": [
    "**3.2**: Without considering external information, what conclusions can you draw about the North Carolina Congressional District 9 election? Explain in approximately a paragraph that explains the results and any explanations you may have for it."
   ]
  },
  {
   "cell_type": "markdown",
   "metadata": {},
   "source": [
    "YOUR ANSWER HERE: "
   ]
  },
  {
   "cell_type": "markdown",
   "metadata": {},
   "source": [
    "## 4. Writing Questions: The Greatest Threat To The Constitutional Right To Vote Is Voter Fraud"
   ]
  },
  {
   "cell_type": "markdown",
   "metadata": {},
   "source": [
    "For the following questions, please elaborate in more than just a few sentences. The questions will be graded on the thoughtfulness of the the answer. Please feel free to bring in as much additional information as you'd like, though be sure to cite your sources when doing so. "
   ]
  },
  {
   "cell_type": "markdown",
   "metadata": {},
   "source": [
    "**4.1**: One of the primary reasons why people were able to discover the discrepancy inresults in the North Carolina Congressional District 9 election stems from the strong election transparency laws the state has regarding its elections. What degree of transparency is necessary to ensure elections remain fair? For states that aren't as transparent about their election laws, what policy recommendations do you have to ensure fair and secure elections?"
   ]
  },
  {
   "cell_type": "markdown",
   "metadata": {},
   "source": [
    "YOUR ANSWER HERE"
   ]
  },
  {
   "cell_type": "markdown",
   "metadata": {},
   "source": [
    "**4.2**: Recall the `bladen_absentees` table and the data it had inside of it. This information is public and accessible to anyone looking for it. While we haven't talked about it at all over the course of the semester, there are some ethical concerns that are fairly apparent with the data provided. What are some important considerations regarding how this data is being handled and shared? Are there any ethical concerns that secretaries of states should consider?"
   ]
  },
  {
   "cell_type": "markdown",
   "metadata": {},
   "source": [
    "YOUR ANSWER HERE"
   ]
  },
  {
   "cell_type": "markdown",
   "metadata": {},
   "source": [
    "**4.3**: If you are a registered voter in the United States, imagine something like this occurred in your district. Who would be the major players (e.g. people, agencies, etc.) involved in the scandal? Are there laws in place that prevent the type of fraudulent behavior seen in North Carolina? If yes, explain those laws and regulations and how it prevents fraud. If no, what policy recommendations would you propose? If you are ineligible to vote in the United States, write about your \"home district\" whether that may be your district based off your Berkeley address or your home country. Take your pick. "
   ]
  },
  {
   "cell_type": "markdown",
   "metadata": {},
   "source": [
    "YOUR ANSWER HERE"
   ]
  },
  {
   "cell_type": "markdown",
   "metadata": {},
   "source": [
    "## Additional Reading"
   ]
  },
  {
   "cell_type": "markdown",
   "metadata": {},
   "source": [
    "NC Prosecutor Has Been Probing Election Fraud in 9th District Going Back to 2016: https://www.rollcall.com/news/politics/in-9th-district-n-c-prosecutor-has-been-probing-election-fraud-for-months<br>\n",
    "North Carolina elections board sets new dates for House election: https://www.reuters.com/article/us-usa-election-north-carolina-idUSKCN1QL29U<br>\n",
    "Leslie McCrae Dowless: 5 Fast Facts You Need to Know: https://heavy.com/news/2018/12/leslie-mccrae-dowless/<br>\n",
    "What's Happening in North Carolina's 9th Congressional District: https://www.cnn.com/2018/12/12/politics/north-carolina-district-9-state-of-play/index.html"
   ]
  },
  {
   "cell_type": "markdown",
   "metadata": {},
   "source": [
    "## Submission"
   ]
  },
  {
   "cell_type": "markdown",
   "metadata": {},
   "source": [
    "Congratulations, you've reached the end of this coding assignment! To submit, go to datahub.berkeley.edu. Find your file. Click the checkbox next to the file. If it is green, press shutdown. If it isn't lit up, press \"Download\". After you download it, please rename the file to follow this format, \"[YOUR NAME + COLLABORATOR NAME] CODING ASSIGNMENT #2.ipynb\", and submit it to the correct bCourses assignment page."
   ]
  },
  {
   "cell_type": "markdown",
   "metadata": {},
   "source": [
    "## Quotes\n",
    "\n",
    "(1) \"The problem with political jokes is that they get elected.\" - Henry Cate VII<br>\n",
    "(2) \"The people who cast the votes decide nothing; the people who count the votes decide everything.\" - Josef Stalin<br>\n",
    "(3) \"I don't know much about Americanism, but it's a damn good word with which to carry an election.\" - Warren G. Harding<br>\n",
    "(4) \"Winning the election is a good-news, bad-news kind of thing. Okay, now you're the mayor. The bad news is, now you're the mayor.\" - Clint Eastwood<br>"
   ]
  }
 ],
 "metadata": {
  "kernelspec": {
   "display_name": "Python 3",
   "language": "python",
   "name": "python3"
  },
  "language_info": {
   "codemirror_mode": {
    "name": "ipython",
    "version": 3
   },
   "file_extension": ".py",
   "mimetype": "text/x-python",
   "name": "python",
   "nbconvert_exporter": "python",
   "pygments_lexer": "ipython3",
   "version": "3.6.7"
  }
 },
 "nbformat": 4,
 "nbformat_minor": 2
}
