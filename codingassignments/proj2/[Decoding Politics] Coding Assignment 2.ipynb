{
 "cells": [
  {
   "cell_type": "markdown",
   "metadata": {},
   "source": [
    "# Coding Assignment 2: {insert pun-y name here}"
   ]
  },
  {
   "cell_type": "markdown",
   "metadata": {},
   "source": [
    "We know we didn't give you a ton of turn around time between the first coding assignment and this coding assignment, but we hope that you'll enjoy doing this assignment, especially if you didn't really like the first one. \n",
    "\n",
    "Coding Assignment 2 will be due on **Friday, March 22 at 11:59 PM**. Note: This is the day before we leave for Spring Break. "
   ]
  },
  {
   "cell_type": "markdown",
   "metadata": {},
   "source": [
    "As it was for Coding Assignment 1, you may work with **one** other student on this assignment. Please fill in the cell below with the appropriate values, if applicable, for each variable."
   ]
  },
  {
   "cell_type": "code",
   "execution_count": null,
   "metadata": {},
   "outputs": [],
   "source": [
    "NAME = \"\"\n",
    "COLLABORATOR_NAME = \"\""
   ]
  },
  {
   "cell_type": "markdown",
   "metadata": {},
   "source": [
    "We will import the libraries/packages that you may need while doing this assignment. You **SHOULD NOT** change the below cell in any way. \n",
    "\n",
    "@Christopher: Make sure to change the metadata of the below cell!"
   ]
  },
  {
   "cell_type": "code",
   "execution_count": 1,
   "metadata": {},
   "outputs": [],
   "source": [
    "from datascience import *\n",
    "import numpy as np"
   ]
  },
  {
   "cell_type": "markdown",
   "metadata": {},
   "source": [
    "Whereas the last assignment was very game theoretical, this assignment will have a very real and tangible outcome, which should give you a better sense of how we might apply basic data tools to confirm or reject your suspicions. Given that this assignment is entirely based on a real situation, we want to remind the class that we, as facilitators, are **NOT** taking a political stance by developing this assignment nor are we telling you that a political stance is better for any particular reason. We are **only** illustrating the idea that we can empirically confirm or reject suspicions that we come across. "
   ]
  },
  {
   "cell_type": "markdown",
   "metadata": {},
   "source": [
    "## Introduction"
   ]
  },
  {
   "cell_type": "markdown",
   "metadata": {},
   "source": [
    "On November 6th, 2018, Mark Harris won the U.S. House of Representatives seat from North Carolina District 9. Upon completing the tally counts, Mark Harris led by **905** (@Christopher: double check this value) out of **130,000** (@Christopher: get the exact value)"
   ]
  },
  {
   "cell_type": "markdown",
   "metadata": {},
   "source": [
    "We've already done some of the initial steps for you, which can often be the hardest part to any data analytics project. We've provided you with a question (is there evidence of election tampering in Bladen County, North Carolina) and datasets. We've already done a significant portion of the cleaning for you since it can often be highly technical and incredibly frustrating, but we left a portion of this for you to develop an intuition for data cleaning."
   ]
  },
  {
   "cell_type": "code",
   "execution_count": 2,
   "metadata": {},
   "outputs": [
    {
     "data": {
      "text/html": [
       "<table border=\"1\" class=\"dataframe\">\n",
       "    <thead>\n",
       "        <tr>\n",
       "            <th>County</th> <th>Election Date</th> <th>Precinct</th> <th>Contest Group ID</th> <th>Contest Type</th> <th>Contest Name</th> <th>Choice</th> <th>Choice Party</th> <th>Vote For</th> <th>Election Day</th> <th>One Stop</th> <th>Absentee by Mail</th> <th>Provisional</th> <th>Total Votes</th> <th>Real Precinct</th>\n",
       "        </tr>\n",
       "    </thead>\n",
       "    <tbody>\n",
       "        <tr>\n",
       "            <td>\n",
       "ALAMANCE</td> <td>11/06/2018   </td> <td>064     </td> <td>1228            </td> <td>S           </td> <td>NC COURT OF APPEALS JUDGE SEAT 3           </td> <td>Michael Monaco, Sr.</td> <td>LIB         </td> <td>1       </td> <td>59          </td> <td>65      </td> <td>2               </td> <td>1          </td> <td>127        </td> <td>Y            </td>\n",
       "        </tr>\n",
       "        <tr>\n",
       "            <td>\n",
       "ALAMANCE</td> <td>11/06/2018   </td> <td>03N     </td> <td>1228            </td> <td>S           </td> <td>NC COURT OF APPEALS JUDGE SEAT 3           </td> <td>Michael Monaco, Sr.</td> <td>LIB         </td> <td>1       </td> <td>59          </td> <td>38      </td> <td>1               </td> <td>0          </td> <td>98         </td> <td>Y            </td>\n",
       "        </tr>\n",
       "        <tr>\n",
       "            <td>\n",
       "ALAMANCE</td> <td>11/06/2018   </td> <td>03S     </td> <td>1228            </td> <td>S           </td> <td>NC COURT OF APPEALS JUDGE SEAT 3           </td> <td>Michael Monaco, Sr.</td> <td>LIB         </td> <td>1       </td> <td>106         </td> <td>108     </td> <td>0               </td> <td>3          </td> <td>217        </td> <td>Y            </td>\n",
       "        </tr>\n",
       "        <tr>\n",
       "            <td>\n",
       "ALAMANCE</td> <td>11/06/2018   </td> <td>04      </td> <td>1228            </td> <td>S           </td> <td>NC COURT OF APPEALS JUDGE SEAT 3           </td> <td>Michael Monaco, Sr.</td> <td>LIB         </td> <td>1       </td> <td>67          </td> <td>38      </td> <td>1               </td> <td>0          </td> <td>106        </td> <td>Y            </td>\n",
       "        </tr>\n",
       "        <tr>\n",
       "            <td>\n",
       "ALAMANCE</td> <td>11/06/2018   </td> <td>035     </td> <td>1228            </td> <td>S           </td> <td>NC COURT OF APPEALS JUDGE SEAT 3           </td> <td>Michael Monaco, Sr.</td> <td>LIB         </td> <td>1       </td> <td>73          </td> <td>54      </td> <td>1               </td> <td>1          </td> <td>129        </td> <td>Y            </td>\n",
       "        </tr>\n",
       "        <tr>\n",
       "            <td>\n",
       "ALAMANCE</td> <td>11/06/2018   </td> <td>07      </td> <td>1228            </td> <td>S           </td> <td>NC COURT OF APPEALS JUDGE SEAT 3           </td> <td>Michael Monaco, Sr.</td> <td>LIB         </td> <td>1       </td> <td>43          </td> <td>33      </td> <td>2               </td> <td>0          </td> <td>78         </td> <td>Y            </td>\n",
       "        </tr>\n",
       "        <tr>\n",
       "            <td>\n",
       "ALAMANCE</td> <td>11/06/2018   </td> <td>09S     </td> <td>1228            </td> <td>S           </td> <td>NC COURT OF APPEALS JUDGE SEAT 3           </td> <td>Michael Monaco, Sr.</td> <td>LIB         </td> <td>1       </td> <td>83          </td> <td>59      </td> <td>2               </td> <td>0          </td> <td>144        </td> <td>Y            </td>\n",
       "        </tr>\n",
       "        <tr>\n",
       "            <td>\n",
       "ALAMANCE</td> <td>11/06/2018   </td> <td>12S     </td> <td>1228            </td> <td>S           </td> <td>NC COURT OF APPEALS JUDGE SEAT 3           </td> <td>Michael Monaco, Sr.</td> <td>LIB         </td> <td>1       </td> <td>15          </td> <td>5       </td> <td>0               </td> <td>0          </td> <td>20         </td> <td>Y            </td>\n",
       "        </tr>\n",
       "        <tr>\n",
       "            <td>\n",
       "ALAMANCE</td> <td>11/06/2018   </td> <td>03N2    </td> <td>1273            </td> <td>S           </td> <td>NC DISTRICT COURT JUDGE DISTRICT 15A SEAT 1</td> <td>Brad Allen         </td> <td>DEM         </td> <td>1       </td> <td>217         </td> <td>81      </td> <td>18              </td> <td>0          </td> <td>316        </td> <td>Y            </td>\n",
       "        </tr>\n",
       "        <tr>\n",
       "            <td>\n",
       "ALAMANCE</td> <td>11/06/2018   </td> <td>03W     </td> <td>1273            </td> <td>S           </td> <td>NC DISTRICT COURT JUDGE DISTRICT 15A SEAT 1</td> <td>Brad Allen         </td> <td>DEM         </td> <td>1       </td> <td>459         </td> <td>538     </td> <td>20              </td> <td>2          </td> <td>1019       </td> <td>Y            </td>\n",
       "        </tr>\n",
       "    </tbody>\n",
       "</table>\n",
       "<p>... (183544 rows omitted)</p>"
      ],
      "text/plain": [
       "County    | Election Date | Precinct | Contest Group ID | Contest Type | Contest Name                                | Choice              | Choice Party | Vote For | Election Day | One Stop | Absentee by Mail | Provisional | Total Votes | Real Precinct\n",
       "\n",
       "ALAMANCE | 11/06/2018    | 064      | 1228             | S            | NC COURT OF APPEALS JUDGE SEAT 3            | Michael Monaco, Sr. | LIB          | 1        | 59           | 65       | 2                | 1           | 127         | Y\n",
       "\n",
       "ALAMANCE | 11/06/2018    | 03N      | 1228             | S            | NC COURT OF APPEALS JUDGE SEAT 3            | Michael Monaco, Sr. | LIB          | 1        | 59           | 38       | 1                | 0           | 98          | Y\n",
       "\n",
       "ALAMANCE | 11/06/2018    | 03S      | 1228             | S            | NC COURT OF APPEALS JUDGE SEAT 3            | Michael Monaco, Sr. | LIB          | 1        | 106          | 108      | 0                | 3           | 217         | Y\n",
       "\n",
       "ALAMANCE | 11/06/2018    | 04       | 1228             | S            | NC COURT OF APPEALS JUDGE SEAT 3            | Michael Monaco, Sr. | LIB          | 1        | 67           | 38       | 1                | 0           | 106         | Y\n",
       "\n",
       "ALAMANCE | 11/06/2018    | 035      | 1228             | S            | NC COURT OF APPEALS JUDGE SEAT 3            | Michael Monaco, Sr. | LIB          | 1        | 73           | 54       | 1                | 1           | 129         | Y\n",
       "\n",
       "ALAMANCE | 11/06/2018    | 07       | 1228             | S            | NC COURT OF APPEALS JUDGE SEAT 3            | Michael Monaco, Sr. | LIB          | 1        | 43           | 33       | 2                | 0           | 78          | Y\n",
       "\n",
       "ALAMANCE | 11/06/2018    | 09S      | 1228             | S            | NC COURT OF APPEALS JUDGE SEAT 3            | Michael Monaco, Sr. | LIB          | 1        | 83           | 59       | 2                | 0           | 144         | Y\n",
       "\n",
       "ALAMANCE | 11/06/2018    | 12S      | 1228             | S            | NC COURT OF APPEALS JUDGE SEAT 3            | Michael Monaco, Sr. | LIB          | 1        | 15           | 5        | 0                | 0           | 20          | Y\n",
       "\n",
       "ALAMANCE | 11/06/2018    | 03N2     | 1273             | S            | NC DISTRICT COURT JUDGE DISTRICT 15A SEAT 1 | Brad Allen          | DEM          | 1        | 217          | 81       | 18               | 0           | 316         | Y\n",
       "\n",
       "ALAMANCE | 11/06/2018    | 03W      | 1273             | S            | NC DISTRICT COURT JUDGE DISTRICT 15A SEAT 1 | Brad Allen          | DEM          | 1        | 459          | 538      | 20               | 2           | 1019        | Y\n",
       "... (183544 rows omitted)"
      ]
     },
     "execution_count": 2,
     "metadata": {},
     "output_type": "execute_result"
    }
   ],
   "source": [
    "election_results = Table.read_table(\"nc_election_results_11062018.csv\")\n",
    "election_results"
   ]
  },
  {
   "cell_type": "markdown",
   "metadata": {},
   "source": [
    "One thing you should notice is that all the values in the first column (\"County\") are the same. Another thing you should notice is that there are 183544 rows omitted. \n",
    "\n",
    "**1.1**: How many rows are you in the `election_results` table? How many columns are in the `election_results` table?"
   ]
  },
  {
   "cell_type": "code",
   "execution_count": 4,
   "metadata": {},
   "outputs": [
    {
     "name": "stdout",
     "output_type": "stream",
     "text": [
      "There are 183554 rows.\n",
      "There are 15 columns.\n"
     ]
    }
   ],
   "source": [
    "print(\"There are \" + str(election_results.num_rows) + \" rows.\")\n",
    "print(\"There are \" + str(election_results.num_columns) + \" columns.\")"
   ]
  },
  {
   "cell_type": "markdown",
   "metadata": {},
   "source": [
    "As you can tell, there's a lot of data here. Some of it is pretty useful, but there are 183,554 rows so let's filter out only what's necessary. The dataset here represents all of the contests in the November 2018 elections in North Carolina. We only care about US Congressional District 09, which is the election Mark Harris was involved in. \n",
    "\n",
    "**1.2**: Create a new table that only contains data regarding the US House of Representatives District 09 election."
   ]
  },
  {
   "cell_type": "code",
   "execution_count": 5,
   "metadata": {},
   "outputs": [
    {
     "data": {
      "text/html": [
       "<table border=\"1\" class=\"dataframe\">\n",
       "    <thead>\n",
       "        <tr>\n",
       "            <th>County</th> <th>Election Date</th> <th>Precinct</th> <th>Contest Group ID</th> <th>Contest Type</th> <th>Contest Name</th> <th>Choice</th> <th>Choice Party</th> <th>Vote For</th> <th>Election Day</th> <th>One Stop</th> <th>Absentee by Mail</th> <th>Provisional</th> <th>Total Votes</th> <th>Real Precinct</th>\n",
       "        </tr>\n",
       "    </thead>\n",
       "    <tbody>\n",
       "        <tr>\n",
       "            <td>\n",
       "BLADEN</td> <td>11/06/2018   </td> <td>P45             </td> <td>1183            </td> <td>S           </td> <td>US HOUSE OF REPRESENTATIVES DISTRICT 09</td> <td>Dan McCready</td> <td>DEM         </td> <td>1       </td> <td>60          </td> <td>0       </td> <td>0               </td> <td>0          </td> <td>60         </td> <td>Y            </td>\n",
       "        </tr>\n",
       "        <tr>\n",
       "            <td>\n",
       "BLADEN</td> <td>11/06/2018   </td> <td>P202            </td> <td>1183            </td> <td>S           </td> <td>US HOUSE OF REPRESENTATIVES DISTRICT 09</td> <td>Dan McCready</td> <td>DEM         </td> <td>1       </td> <td>210         </td> <td>0       </td> <td>0               </td> <td>0          </td> <td>210        </td> <td>Y            </td>\n",
       "        </tr>\n",
       "        <tr>\n",
       "            <td>\n",
       "BLADEN</td> <td>11/06/2018   </td> <td>P60             </td> <td>1183            </td> <td>S           </td> <td>US HOUSE OF REPRESENTATIVES DISTRICT 09</td> <td>Dan McCready</td> <td>DEM         </td> <td>1       </td> <td>289         </td> <td>0       </td> <td>0               </td> <td>0          </td> <td>289        </td> <td>Y            </td>\n",
       "        </tr>\n",
       "        <tr>\n",
       "            <td>\n",
       "BLADEN</td> <td>11/06/2018   </td> <td>P35             </td> <td>1183            </td> <td>S           </td> <td>US HOUSE OF REPRESENTATIVES DISTRICT 09</td> <td>Dan McCready</td> <td>DEM         </td> <td>1       </td> <td>89          </td> <td>0       </td> <td>0               </td> <td>0          </td> <td>89         </td> <td>Y            </td>\n",
       "        </tr>\n",
       "        <tr>\n",
       "            <td>\n",
       "BLADEN</td> <td>11/06/2018   </td> <td>P15             </td> <td>1183            </td> <td>S           </td> <td>US HOUSE OF REPRESENTATIVES DISTRICT 09</td> <td>Dan McCready</td> <td>DEM         </td> <td>1       </td> <td>224         </td> <td>0       </td> <td>0               </td> <td>0          </td> <td>224        </td> <td>Y            </td>\n",
       "        </tr>\n",
       "        <tr>\n",
       "            <td>\n",
       "BLADEN</td> <td>11/06/2018   </td> <td>P201            </td> <td>1183            </td> <td>S           </td> <td>US HOUSE OF REPRESENTATIVES DISTRICT 09</td> <td>Dan McCready</td> <td>DEM         </td> <td>1       </td> <td>104         </td> <td>0       </td> <td>0               </td> <td>0          </td> <td>104        </td> <td>Y            </td>\n",
       "        </tr>\n",
       "        <tr>\n",
       "            <td>\n",
       "BLADEN</td> <td>11/06/2018   </td> <td>PROVISIONAL     </td> <td>1183            </td> <td>S           </td> <td>US HOUSE OF REPRESENTATIVES DISTRICT 09</td> <td>Dan McCready</td> <td>DEM         </td> <td>1       </td> <td>0           </td> <td>0       </td> <td>0               </td> <td>5          </td> <td>5          </td> <td>N            </td>\n",
       "        </tr>\n",
       "        <tr>\n",
       "            <td>\n",
       "BLADEN</td> <td>11/06/2018   </td> <td>ONE STOP LIBRARY</td> <td>1183            </td> <td>S           </td> <td>US HOUSE OF REPRESENTATIVES DISTRICT 09</td> <td>Dan McCready</td> <td>DEM         </td> <td>1       </td> <td>0           </td> <td>1906    </td> <td>0               </td> <td>0          </td> <td>1906       </td> <td>N            </td>\n",
       "        </tr>\n",
       "        <tr>\n",
       "            <td>\n",
       "BLADEN</td> <td>11/06/2018   </td> <td>P40             </td> <td>1183            </td> <td>S           </td> <td>US HOUSE OF REPRESENTATIVES DISTRICT 09</td> <td>Dan McCready</td> <td>DEM         </td> <td>1       </td> <td>98          </td> <td>0       </td> <td>0               </td> <td>0          </td> <td>98         </td> <td>Y            </td>\n",
       "        </tr>\n",
       "        <tr>\n",
       "            <td>\n",
       "BLADEN</td> <td>11/06/2018   </td> <td>P10             </td> <td>1183            </td> <td>S           </td> <td>US HOUSE OF REPRESENTATIVES DISTRICT 09</td> <td>Dan McCready</td> <td>DEM         </td> <td>1       </td> <td>103         </td> <td>0       </td> <td>0               </td> <td>0          </td> <td>103        </td> <td>Y            </td>\n",
       "        </tr>\n",
       "    </tbody>\n",
       "</table>\n",
       "<p>... (728 rows omitted)</p>"
      ],
      "text/plain": [
       "<IPython.core.display.HTML object>"
      ]
     },
     "metadata": {},
     "output_type": "display_data"
    }
   ],
   "source": [
    "district9 = election_results.where(\"Contest Name\", are.equal_to(\"US HOUSE OF REPRESENTATIVES DISTRICT 09\"))\n",
    "district9.show(10)"
   ]
  },
  {
   "cell_type": "markdown",
   "metadata": {},
   "source": [
    "Our dataset is significantly smaller, which makes it easier to work with so that might be able to answer our questions about whether Mark Harris engaged in election fraud. Not all of these columns are useful. **BLAH BLAH BLAH**.  \n",
    "\n",
    "**1.3**: Drop \"Contest Group ID\", \"Contest Type\", and \"Vote For\" from the `district9` table."
   ]
  },
  {
   "cell_type": "code",
   "execution_count": 7,
   "metadata": {},
   "outputs": [
    {
     "data": {
      "text/html": [
       "<table border=\"1\" class=\"dataframe\">\n",
       "    <thead>\n",
       "        <tr>\n",
       "            <th>County</th> <th>Election Date</th> <th>Precinct</th> <th>Contest Name</th> <th>Choice</th> <th>Choice Party</th> <th>Election Day</th> <th>One Stop</th> <th>Absentee by Mail</th> <th>Provisional</th> <th>Total Votes</th> <th>Real Precinct</th>\n",
       "        </tr>\n",
       "    </thead>\n",
       "    <tbody>\n",
       "        <tr>\n",
       "            <td>\n",
       "BLADEN</td> <td>11/06/2018   </td> <td>P45             </td> <td>US HOUSE OF REPRESENTATIVES DISTRICT 09</td> <td>Dan McCready</td> <td>DEM         </td> <td>60          </td> <td>0       </td> <td>0               </td> <td>0          </td> <td>60         </td> <td>Y            </td>\n",
       "        </tr>\n",
       "        <tr>\n",
       "            <td>\n",
       "BLADEN</td> <td>11/06/2018   </td> <td>P202            </td> <td>US HOUSE OF REPRESENTATIVES DISTRICT 09</td> <td>Dan McCready</td> <td>DEM         </td> <td>210         </td> <td>0       </td> <td>0               </td> <td>0          </td> <td>210        </td> <td>Y            </td>\n",
       "        </tr>\n",
       "        <tr>\n",
       "            <td>\n",
       "BLADEN</td> <td>11/06/2018   </td> <td>P60             </td> <td>US HOUSE OF REPRESENTATIVES DISTRICT 09</td> <td>Dan McCready</td> <td>DEM         </td> <td>289         </td> <td>0       </td> <td>0               </td> <td>0          </td> <td>289        </td> <td>Y            </td>\n",
       "        </tr>\n",
       "        <tr>\n",
       "            <td>\n",
       "BLADEN</td> <td>11/06/2018   </td> <td>P35             </td> <td>US HOUSE OF REPRESENTATIVES DISTRICT 09</td> <td>Dan McCready</td> <td>DEM         </td> <td>89          </td> <td>0       </td> <td>0               </td> <td>0          </td> <td>89         </td> <td>Y            </td>\n",
       "        </tr>\n",
       "        <tr>\n",
       "            <td>\n",
       "BLADEN</td> <td>11/06/2018   </td> <td>P15             </td> <td>US HOUSE OF REPRESENTATIVES DISTRICT 09</td> <td>Dan McCready</td> <td>DEM         </td> <td>224         </td> <td>0       </td> <td>0               </td> <td>0          </td> <td>224        </td> <td>Y            </td>\n",
       "        </tr>\n",
       "        <tr>\n",
       "            <td>\n",
       "BLADEN</td> <td>11/06/2018   </td> <td>P201            </td> <td>US HOUSE OF REPRESENTATIVES DISTRICT 09</td> <td>Dan McCready</td> <td>DEM         </td> <td>104         </td> <td>0       </td> <td>0               </td> <td>0          </td> <td>104        </td> <td>Y            </td>\n",
       "        </tr>\n",
       "        <tr>\n",
       "            <td>\n",
       "BLADEN</td> <td>11/06/2018   </td> <td>PROVISIONAL     </td> <td>US HOUSE OF REPRESENTATIVES DISTRICT 09</td> <td>Dan McCready</td> <td>DEM         </td> <td>0           </td> <td>0       </td> <td>0               </td> <td>5          </td> <td>5          </td> <td>N            </td>\n",
       "        </tr>\n",
       "        <tr>\n",
       "            <td>\n",
       "BLADEN</td> <td>11/06/2018   </td> <td>ONE STOP LIBRARY</td> <td>US HOUSE OF REPRESENTATIVES DISTRICT 09</td> <td>Dan McCready</td> <td>DEM         </td> <td>0           </td> <td>1906    </td> <td>0               </td> <td>0          </td> <td>1906       </td> <td>N            </td>\n",
       "        </tr>\n",
       "        <tr>\n",
       "            <td>\n",
       "BLADEN</td> <td>11/06/2018   </td> <td>P40             </td> <td>US HOUSE OF REPRESENTATIVES DISTRICT 09</td> <td>Dan McCready</td> <td>DEM         </td> <td>98          </td> <td>0       </td> <td>0               </td> <td>0          </td> <td>98         </td> <td>Y            </td>\n",
       "        </tr>\n",
       "        <tr>\n",
       "            <td>\n",
       "BLADEN</td> <td>11/06/2018   </td> <td>P10             </td> <td>US HOUSE OF REPRESENTATIVES DISTRICT 09</td> <td>Dan McCready</td> <td>DEM         </td> <td>103         </td> <td>0       </td> <td>0               </td> <td>0          </td> <td>103        </td> <td>Y            </td>\n",
       "        </tr>\n",
       "    </tbody>\n",
       "</table>\n",
       "<p>... (728 rows omitted)</p>"
      ],
      "text/plain": [
       "County  | Election Date | Precinct         | Contest Name                            | Choice       | Choice Party | Election Day | One Stop | Absentee by Mail | Provisional | Total Votes | Real Precinct\n",
       "\n",
       "BLADEN | 11/06/2018    | P45              | US HOUSE OF REPRESENTATIVES DISTRICT 09 | Dan McCready | DEM          | 60           | 0        | 0                | 0           | 60          | Y\n",
       "\n",
       "BLADEN | 11/06/2018    | P202             | US HOUSE OF REPRESENTATIVES DISTRICT 09 | Dan McCready | DEM          | 210          | 0        | 0                | 0           | 210         | Y\n",
       "\n",
       "BLADEN | 11/06/2018    | P60              | US HOUSE OF REPRESENTATIVES DISTRICT 09 | Dan McCready | DEM          | 289          | 0        | 0                | 0           | 289         | Y\n",
       "\n",
       "BLADEN | 11/06/2018    | P35              | US HOUSE OF REPRESENTATIVES DISTRICT 09 | Dan McCready | DEM          | 89           | 0        | 0                | 0           | 89          | Y\n",
       "\n",
       "BLADEN | 11/06/2018    | P15              | US HOUSE OF REPRESENTATIVES DISTRICT 09 | Dan McCready | DEM          | 224          | 0        | 0                | 0           | 224         | Y\n",
       "\n",
       "BLADEN | 11/06/2018    | P201             | US HOUSE OF REPRESENTATIVES DISTRICT 09 | Dan McCready | DEM          | 104          | 0        | 0                | 0           | 104         | Y\n",
       "\n",
       "BLADEN | 11/06/2018    | PROVISIONAL      | US HOUSE OF REPRESENTATIVES DISTRICT 09 | Dan McCready | DEM          | 0            | 0        | 0                | 5           | 5           | N\n",
       "\n",
       "BLADEN | 11/06/2018    | ONE STOP LIBRARY | US HOUSE OF REPRESENTATIVES DISTRICT 09 | Dan McCready | DEM          | 0            | 1906     | 0                | 0           | 1906        | N\n",
       "\n",
       "BLADEN | 11/06/2018    | P40              | US HOUSE OF REPRESENTATIVES DISTRICT 09 | Dan McCready | DEM          | 98           | 0        | 0                | 0           | 98          | Y\n",
       "\n",
       "BLADEN | 11/06/2018    | P10              | US HOUSE OF REPRESENTATIVES DISTRICT 09 | Dan McCready | DEM          | 103          | 0        | 0                | 0           | 103         | Y\n",
       "... (728 rows omitted)"
      ]
     },
     "execution_count": 7,
     "metadata": {},
     "output_type": "execute_result"
    }
   ],
   "source": [
    "district9 = district9.drop(\"Contest Group ID\", \"Contest Type\" ,\"Vote For\")\n",
    "district9"
   ]
  },
  {
   "cell_type": "markdown",
   "metadata": {},
   "source": [
    "@Christopher: there might be more to this?!"
   ]
  },
  {
   "cell_type": "markdown",
   "metadata": {},
   "source": [
    "## Bladen County"
   ]
  },
  {
   "cell_type": "markdown",
   "metadata": {},
   "source": [
    "## Other Counties"
   ]
  },
  {
   "cell_type": "markdown",
   "metadata": {},
   "source": [
    "## Absentee Ballot Data"
   ]
  },
  {
   "cell_type": "code",
   "execution_count": 9,
   "metadata": {},
   "outputs": [
    {
     "data": {
      "text/html": [
       "<table border=\"1\" class=\"dataframe\">\n",
       "    <thead>\n",
       "        <tr>\n",
       "            <th>county_desc</th> <th>voter_reg_num</th> <th>ncid</th> <th>voter_last_name</th> <th>voter_first_name</th> <th>voter_middle_name</th> <th>race</th> <th>gender</th> <th>age</th> <th>voter_street_address</th> <th>voter_city</th> <th>voter_state</th> <th>voter_zip</th> <th>ballot_mail_street_address</th> <th>ballot_mail_city</th> <th>ballot_mail_state</th> <th>ballot_mail_zip</th> <th>other_mail_addr1</th> <th>other_mail_addr2</th> <th>other_city_state_zip</th> <th>election_dt</th> <th>voter_party_code</th> <th>precinct_desc</th> <th>cong_dist_desc</th> <th>nc_house_desc</th> <th>nc_senate_desc</th> <th>ballot_req_delivery_type</th> <th>ballot_req_type</th> <th>ballot_request_party</th> <th>ballot_req_dt</th> <th>ballot_send_dt</th> <th>ballot_rtn_dt</th> <th>ballot_rtn_status</th> <th>site_name</th> <th>sdr</th> <th>mail_veri_status</th>\n",
       "        </tr>\n",
       "    </thead>\n",
       "    <tbody>\n",
       "        <tr>\n",
       "            <td>BLADEN     </td> <td>58945        </td> <td>AJ43421</td> <td>ABBEY          </td> <td>AMANDA          </td> <td>SMITH            </td> <td>BLACK or AFRICAN AMERICAN</td> <td>F     </td> <td>47  </td> <td>160  LAKEWOOD RD                   </td> <td>ELIZABETHTOWN</td> <td>NC         </td> <td>28337    </td> <td>                          </td> <td>                </td> <td>                 </td> <td>               </td> <td>                </td> <td>                </td> <td>                    </td> <td>11/6/18    </td> <td>DEM             </td> <td>CENTRAL         </td> <td>CONGRESSIONAL DISTRICT 9</td> <td>NC HOUSE DISTRICT 22</td> <td>NC SENATE DISTRICT 8</td> <td>IN PERSON               </td> <td>ONE-STOP       </td> <td>DEM                 </td> <td>10/29/18     </td> <td>10/29/18      </td> <td>10/29/18     </td> <td>ACCEPTED         </td> <td>BLADEN COUNTY PUBLIC LIBRARY</td> <td>    </td> <td>                </td>\n",
       "        </tr>\n",
       "        <tr>\n",
       "            <td>BLADEN     </td> <td>58498        </td> <td>AJ43169</td> <td>ABBEY          </td> <td>RASHAUNDA       </td> <td>DALAJA           </td> <td>BLACK or AFRICAN AMERICAN</td> <td>F     </td> <td>20  </td> <td>2899  ELKTON RD                    </td> <td>CLARKTON     </td> <td>NC         </td> <td>28433    </td> <td>                          </td> <td>                </td> <td>                 </td> <td>               </td> <td>                </td> <td>                </td> <td>                    </td> <td>11/6/18    </td> <td>DEM             </td> <td>BROWN MARSH     </td> <td>CONGRESSIONAL DISTRICT 7</td> <td>NC HOUSE DISTRICT 22</td> <td>NC SENATE DISTRICT 8</td> <td>IN PERSON               </td> <td>ONE-STOP       </td> <td>DEM                 </td> <td>11/2/18      </td> <td>11/2/18       </td> <td>11/2/18      </td> <td>ACCEPTED         </td> <td>BLADEN COUNTY PUBLIC LIBRARY</td> <td>    </td> <td>                </td>\n",
       "        </tr>\n",
       "        <tr>\n",
       "            <td>BLADEN     </td> <td>53346        </td> <td>AJ39560</td> <td>ABBOTT         </td> <td>RANDOLPH        </td> <td>SYLVESTER        </td> <td>BLACK or AFRICAN AMERICAN</td> <td>M     </td> <td>80  </td> <td>404  DAVID ST                      </td> <td>ELIZABETHTOWN</td> <td>NC         </td> <td>28337    </td> <td>                          </td> <td>                </td> <td>                 </td> <td>               </td> <td>                </td> <td>                </td> <td>                    </td> <td>11/6/18    </td> <td>DEM             </td> <td>ELIZABETHTOWN #2</td> <td>CONGRESSIONAL DISTRICT 7</td> <td>NC HOUSE DISTRICT 22</td> <td>NC SENATE DISTRICT 8</td> <td>IN PERSON               </td> <td>ONE-STOP       </td> <td>DEM                 </td> <td>10/25/18     </td> <td>10/25/18      </td> <td>10/25/18     </td> <td>ACCEPTED         </td> <td>BLADEN COUNTY PUBLIC LIBRARY</td> <td>    </td> <td>                </td>\n",
       "        </tr>\n",
       "        <tr>\n",
       "            <td>BLADEN     </td> <td>34672        </td> <td>AJ24541</td> <td>ADAMS          </td> <td>ANTONIO         </td> <td>W                </td> <td>BLACK or AFRICAN AMERICAN</td> <td>M     </td> <td>44  </td> <td>2343  MERCER MILL/BROWN MARSH RD   </td> <td>ELIZABETHTOWN</td> <td>NC         </td> <td>28337    </td> <td>                          </td> <td>                </td> <td>                 </td> <td>               </td> <td>                </td> <td>                </td> <td>                    </td> <td>11/6/18    </td> <td>DEM             </td> <td>ELIZABETHTOWN #2</td> <td>CONGRESSIONAL DISTRICT 7</td> <td>NC HOUSE DISTRICT 22</td> <td>NC SENATE DISTRICT 8</td> <td>IN PERSON               </td> <td>ONE-STOP       </td> <td>DEM                 </td> <td>11/1/18      </td> <td>11/1/18       </td> <td>11/1/18      </td> <td>ACCEPTED         </td> <td>BLADEN COUNTY PUBLIC LIBRARY</td> <td>    </td> <td>                </td>\n",
       "        </tr>\n",
       "        <tr>\n",
       "            <td>BLADEN     </td> <td>27124        </td> <td>AJ20437</td> <td>ADAMS          </td> <td>CHARLES         </td> <td>GREGORY          </td> <td>BLACK or AFRICAN AMERICAN</td> <td>M     </td> <td>53  </td> <td>131  JOHNSON RD                    </td> <td>ELIZABETHTOWN</td> <td>NC         </td> <td>28337    </td> <td>                          </td> <td>                </td> <td>                 </td> <td>               </td> <td>                </td> <td>                </td> <td>                    </td> <td>11/6/18    </td> <td>DEM             </td> <td>ELIZABETHTOWN #1</td> <td>CONGRESSIONAL DISTRICT 9</td> <td>NC HOUSE DISTRICT 22</td> <td>NC SENATE DISTRICT 8</td> <td>IN PERSON               </td> <td>ONE-STOP       </td> <td>DEM                 </td> <td>10/22/18     </td> <td>10/22/18      </td> <td>10/22/18     </td> <td>ACCEPTED         </td> <td>BLADEN COUNTY PUBLIC LIBRARY</td> <td>    </td> <td>                </td>\n",
       "        </tr>\n",
       "        <tr>\n",
       "            <td>BLADEN     </td> <td>52302        </td> <td>AJ38775</td> <td>ADAMS          </td> <td>CRYSTAL         </td> <td>LYNN             </td> <td>WHITE                    </td> <td>F     </td> <td>53  </td> <td>303  PECAN ST   #9A                </td> <td>BLADENBORO   </td> <td>NC         </td> <td>28320    </td> <td>303 PECAN ST # 9A         </td> <td>BLADENBORO      </td> <td>NC               </td> <td>28320          </td> <td>nan             </td> <td>nan             </td> <td>nan                 </td> <td>11/6/18    </td> <td>UNA             </td> <td>BLADENBORO #2   </td> <td>CONGRESSIONAL DISTRICT 9</td> <td>NC HOUSE DISTRICT 22</td> <td>NC SENATE DISTRICT 8</td> <td>MAIL                    </td> <td>MAIL           </td> <td>UNA                 </td> <td>10/4/18      </td> <td>10/5/18       </td> <td>nan          </td> <td>nan              </td> <td>nan                         </td> <td>    </td> <td>                </td>\n",
       "        </tr>\n",
       "        <tr>\n",
       "            <td>BLADEN     </td> <td>10818        </td> <td>AJ8344 </td> <td>ADAMS          </td> <td>FRANCES         </td> <td>GOODEN           </td> <td>WHITE                    </td> <td>F     </td> <td>85  </td> <td>5725  NC 242 HWY S                 </td> <td>ELIZABETHTOWN</td> <td>NC         </td> <td>28337    </td> <td>5725 NC 242 HWY S         </td> <td>ELIZABETHTOWN   </td> <td>NC               </td> <td>28337          </td> <td>nan             </td> <td>nan             </td> <td>nan                 </td> <td>11/6/18    </td> <td>UNA             </td> <td>ELIZABETHTOWN #1</td> <td>CONGRESSIONAL DISTRICT 9</td> <td>NC HOUSE DISTRICT 22</td> <td>NC SENATE DISTRICT 8</td> <td>MAIL                    </td> <td>MAIL           </td> <td>UNA                 </td> <td>10/5/18      </td> <td>10/8/18       </td> <td>10/20/18     </td> <td>ACCEPTED         </td> <td>nan                         </td> <td>    </td> <td>                </td>\n",
       "        </tr>\n",
       "        <tr>\n",
       "            <td>BLADEN     </td> <td>41763        </td> <td>AJ29556</td> <td>ADAMS          </td> <td>LATOYA          </td> <td>SHANT'E          </td> <td>BLACK or AFRICAN AMERICAN</td> <td>F     </td> <td>34  </td> <td>11436  NC 242 HWY S                </td> <td>BLADENBORO   </td> <td>NC         </td> <td>28320    </td> <td>11436 NC 242 HWY S        </td> <td>BLADENBORO      </td> <td>NC               </td> <td>28320          </td> <td>nan             </td> <td>nan             </td> <td>nan                 </td> <td>11/6/18    </td> <td>UNA             </td> <td>BLADENBORO #2   </td> <td>CONGRESSIONAL DISTRICT 9</td> <td>NC HOUSE DISTRICT 22</td> <td>NC SENATE DISTRICT 8</td> <td>MAIL                    </td> <td>MAIL           </td> <td>UNA                 </td> <td>4/3/18       </td> <td>9/21/18       </td> <td>nan          </td> <td>nan              </td> <td>nan                         </td> <td>    </td> <td>                </td>\n",
       "        </tr>\n",
       "        <tr>\n",
       "            <td>BLADEN     </td> <td>50008        </td> <td>AJ37032</td> <td>ADAMS          </td> <td>MARY            </td> <td>FRANCES          </td> <td>WHITE                    </td> <td>F     </td> <td>66  </td> <td>11316  CENTER RD                   </td> <td>BLADENBORO   </td> <td>NC         </td> <td>28320    </td> <td>11316 CENTER RD           </td> <td>BLADENBORO      </td> <td>NC               </td> <td>28320          </td> <td>nan             </td> <td>nan             </td> <td>nan                 </td> <td>11/6/18    </td> <td>UNA             </td> <td>BLADENBORO #2   </td> <td>CONGRESSIONAL DISTRICT 9</td> <td>NC HOUSE DISTRICT 22</td> <td>NC SENATE DISTRICT 8</td> <td>MAIL                    </td> <td>MAIL           </td> <td>UNA                 </td> <td>4/25/18      </td> <td>9/21/18       </td> <td>10/15/18     </td> <td>ACCEPTED         </td> <td>nan                         </td> <td>    </td> <td>                </td>\n",
       "        </tr>\n",
       "        <tr>\n",
       "            <td>BLADEN     </td> <td>22374        </td> <td>AJ16327</td> <td>ADAMS          </td> <td>MARY            </td> <td>EVETTE           </td> <td>BLACK or AFRICAN AMERICAN</td> <td>F     </td> <td>51  </td> <td>2343  MERCER MILL/BROWN MARSH RD   </td> <td>ELIZABETHTOWN</td> <td>NC         </td> <td>28337    </td> <td>                          </td> <td>                </td> <td>                 </td> <td>               </td> <td>                </td> <td>                </td> <td>                    </td> <td>11/6/18    </td> <td>DEM             </td> <td>ELIZABETHTOWN #2</td> <td>CONGRESSIONAL DISTRICT 7</td> <td>NC HOUSE DISTRICT 22</td> <td>NC SENATE DISTRICT 8</td> <td>IN PERSON               </td> <td>ONE-STOP       </td> <td>DEM                 </td> <td>10/23/18     </td> <td>10/23/18      </td> <td>10/23/18     </td> <td>ACCEPTED         </td> <td>BLADEN COUNTY PUBLIC LIBRARY</td> <td>    </td> <td>                </td>\n",
       "        </tr>\n",
       "    </tbody>\n",
       "</table>\n",
       "<p>... (8100 rows omitted)</p>"
      ],
      "text/plain": [
       "<IPython.core.display.HTML object>"
      ]
     },
     "metadata": {},
     "output_type": "display_data"
    }
   ],
   "source": [
    "bladen_absentees = Table.read_table(\"bladen.csv\")\n",
    "bladen_absentees.show(10)"
   ]
  },
  {
   "cell_type": "code",
   "execution_count": null,
   "metadata": {},
   "outputs": [],
   "source": []
  }
 ],
 "metadata": {
  "kernelspec": {
   "display_name": "Python 3",
   "language": "python",
   "name": "python3"
  },
  "language_info": {
   "codemirror_mode": {
    "name": "ipython",
    "version": 3
   },
   "file_extension": ".py",
   "mimetype": "text/x-python",
   "name": "python",
   "nbconvert_exporter": "python",
   "pygments_lexer": "ipython3",
   "version": "3.6.7"
  }
 },
 "nbformat": 4,
 "nbformat_minor": 2
}
