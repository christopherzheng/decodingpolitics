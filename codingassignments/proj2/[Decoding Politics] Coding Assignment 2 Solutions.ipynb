{
 "cells": [
  {
   "cell_type": "markdown",
   "metadata": {},
   "source": [
    "# Coding Assignment 2: The Problem With Political Jokes Is That They Get Elected<sup>1</sup>"
   ]
  },
  {
   "cell_type": "markdown",
   "metadata": {},
   "source": [
    "We know we didn't give you a ton of turn around time between the first coding assignment and this coding assignment, but we hope that you'll enjoy doing this assignment and seeing how we actually use data to address real political issues. As always, please come to us for assistance and office hours! \n",
    "\n",
    "Coding Assignment 2 will be due on **Friday, March 22 at 11:59 PM**. Note: This is the day before we leave for Spring Break. "
   ]
  },
  {
   "cell_type": "markdown",
   "metadata": {},
   "source": [
    "As it was for Coding Assignment 1, you may work with **one** other student on this assignment. Please fill in the cell below with the appropriate values, if applicable, for each variable."
   ]
  },
  {
   "cell_type": "code",
   "execution_count": 1,
   "metadata": {},
   "outputs": [],
   "source": [
    "NAME = \"\"\n",
    "COLLABORATOR_NAME = \"\""
   ]
  },
  {
   "cell_type": "markdown",
   "metadata": {},
   "source": [
    "We will import the libraries/packages that you may need while doing this assignment. You **SHOULD NOT** change the below cell in any way. "
   ]
  },
  {
   "cell_type": "code",
   "execution_count": 2,
   "metadata": {
    "editable": false
   },
   "outputs": [],
   "source": [
    "from datascience import *\n",
    "import numpy as np\n",
    "%matplotlib inline\n",
    "import matplotlib.pyplot as plots\n",
    "plots.style.use('fivethirtyeight')"
   ]
  },
  {
   "cell_type": "markdown",
   "metadata": {},
   "source": [
    "Whereas the last assignment was very game theoretical, this assignment will have a very real and tangible outcome, which should give you a better sense of how we might apply basic data tools to confirm or reject your suspicions. Given that this assignment is entirely based on a real situation, we want to remind the class that we, as facilitators, are **NOT** taking a political stance by developing this assignment nor are we telling you that a political stance is better for any particular reason. We are **only** illustrating the idea that we can empirically confirm or reject suspicions that we come across. "
   ]
  },
  {
   "cell_type": "markdown",
   "metadata": {},
   "source": [
    "## 1. Introduction: The People Who Cast The Votes Decide Nothing; The People Who Count The Votes Decide Everything<sup>2</sup>"
   ]
  },
  {
   "cell_type": "markdown",
   "metadata": {},
   "source": [
    "On November 6th, 2018, Mark Harris won the U.S. House of Representatives seat from North Carolina District 9. Upon completing the tally counts, Mark Harris led by 905."
   ]
  },
  {
   "cell_type": "markdown",
   "metadata": {},
   "source": [
    "We've already done some of the initial steps for you, which can often be the hardest part to any data analytics project. We've provided you with a question (is there evidence of election tampering in Bladen County, North Carolina) and datasets. We've already done a significant portion of the cleaning for you since it can often be highly technical and incredibly frustrating, but we left a portion of this for you to develop an intuition for data cleaning."
   ]
  },
  {
   "cell_type": "code",
   "execution_count": 3,
   "metadata": {},
   "outputs": [
    {
     "data": {
      "text/html": [
       "<table border=\"1\" class=\"dataframe\">\n",
       "    <thead>\n",
       "        <tr>\n",
       "            <th>County</th> <th>Election Date</th> <th>Precinct</th> <th>Contest Group ID</th> <th>Contest Type</th> <th>Contest Name</th> <th>Choice</th> <th>Choice Party</th> <th>Vote For</th> <th>Election Day</th> <th>One Stop</th> <th>Absentee by Mail</th> <th>Provisional</th> <th>Total Votes</th> <th>Real Precinct</th>\n",
       "        </tr>\n",
       "    </thead>\n",
       "    <tbody>\n",
       "        <tr>\n",
       "            <td>\n",
       "ALAMANCE</td> <td>11/06/2018   </td> <td>064     </td> <td>1228            </td> <td>S           </td> <td>NC COURT OF APPEALS JUDGE SEAT 3           </td> <td>Michael Monaco, Sr.</td> <td>LIB         </td> <td>1       </td> <td>59          </td> <td>65      </td> <td>2               </td> <td>1          </td> <td>127        </td> <td>Y            </td>\n",
       "        </tr>\n",
       "        <tr>\n",
       "            <td>\n",
       "ALAMANCE</td> <td>11/06/2018   </td> <td>03N     </td> <td>1228            </td> <td>S           </td> <td>NC COURT OF APPEALS JUDGE SEAT 3           </td> <td>Michael Monaco, Sr.</td> <td>LIB         </td> <td>1       </td> <td>59          </td> <td>38      </td> <td>1               </td> <td>0          </td> <td>98         </td> <td>Y            </td>\n",
       "        </tr>\n",
       "        <tr>\n",
       "            <td>\n",
       "ALAMANCE</td> <td>11/06/2018   </td> <td>03S     </td> <td>1228            </td> <td>S           </td> <td>NC COURT OF APPEALS JUDGE SEAT 3           </td> <td>Michael Monaco, Sr.</td> <td>LIB         </td> <td>1       </td> <td>106         </td> <td>108     </td> <td>0               </td> <td>3          </td> <td>217        </td> <td>Y            </td>\n",
       "        </tr>\n",
       "        <tr>\n",
       "            <td>\n",
       "ALAMANCE</td> <td>11/06/2018   </td> <td>04      </td> <td>1228            </td> <td>S           </td> <td>NC COURT OF APPEALS JUDGE SEAT 3           </td> <td>Michael Monaco, Sr.</td> <td>LIB         </td> <td>1       </td> <td>67          </td> <td>38      </td> <td>1               </td> <td>0          </td> <td>106        </td> <td>Y            </td>\n",
       "        </tr>\n",
       "        <tr>\n",
       "            <td>\n",
       "ALAMANCE</td> <td>11/06/2018   </td> <td>035     </td> <td>1228            </td> <td>S           </td> <td>NC COURT OF APPEALS JUDGE SEAT 3           </td> <td>Michael Monaco, Sr.</td> <td>LIB         </td> <td>1       </td> <td>73          </td> <td>54      </td> <td>1               </td> <td>1          </td> <td>129        </td> <td>Y            </td>\n",
       "        </tr>\n",
       "        <tr>\n",
       "            <td>\n",
       "ALAMANCE</td> <td>11/06/2018   </td> <td>07      </td> <td>1228            </td> <td>S           </td> <td>NC COURT OF APPEALS JUDGE SEAT 3           </td> <td>Michael Monaco, Sr.</td> <td>LIB         </td> <td>1       </td> <td>43          </td> <td>33      </td> <td>2               </td> <td>0          </td> <td>78         </td> <td>Y            </td>\n",
       "        </tr>\n",
       "        <tr>\n",
       "            <td>\n",
       "ALAMANCE</td> <td>11/06/2018   </td> <td>09S     </td> <td>1228            </td> <td>S           </td> <td>NC COURT OF APPEALS JUDGE SEAT 3           </td> <td>Michael Monaco, Sr.</td> <td>LIB         </td> <td>1       </td> <td>83          </td> <td>59      </td> <td>2               </td> <td>0          </td> <td>144        </td> <td>Y            </td>\n",
       "        </tr>\n",
       "        <tr>\n",
       "            <td>\n",
       "ALAMANCE</td> <td>11/06/2018   </td> <td>12S     </td> <td>1228            </td> <td>S           </td> <td>NC COURT OF APPEALS JUDGE SEAT 3           </td> <td>Michael Monaco, Sr.</td> <td>LIB         </td> <td>1       </td> <td>15          </td> <td>5       </td> <td>0               </td> <td>0          </td> <td>20         </td> <td>Y            </td>\n",
       "        </tr>\n",
       "        <tr>\n",
       "            <td>\n",
       "ALAMANCE</td> <td>11/06/2018   </td> <td>03N2    </td> <td>1273            </td> <td>S           </td> <td>NC DISTRICT COURT JUDGE DISTRICT 15A SEAT 1</td> <td>Brad Allen         </td> <td>DEM         </td> <td>1       </td> <td>217         </td> <td>81      </td> <td>18              </td> <td>0          </td> <td>316        </td> <td>Y            </td>\n",
       "        </tr>\n",
       "        <tr>\n",
       "            <td>\n",
       "ALAMANCE</td> <td>11/06/2018   </td> <td>03W     </td> <td>1273            </td> <td>S           </td> <td>NC DISTRICT COURT JUDGE DISTRICT 15A SEAT 1</td> <td>Brad Allen         </td> <td>DEM         </td> <td>1       </td> <td>459         </td> <td>538     </td> <td>20              </td> <td>2          </td> <td>1019       </td> <td>Y            </td>\n",
       "        </tr>\n",
       "    </tbody>\n",
       "</table>\n",
       "<p>... (183544 rows omitted)</p>"
      ],
      "text/plain": [
       "County    | Election Date | Precinct | Contest Group ID | Contest Type | Contest Name                                | Choice              | Choice Party | Vote For | Election Day | One Stop | Absentee by Mail | Provisional | Total Votes | Real Precinct\n",
       "\n",
       "ALAMANCE | 11/06/2018    | 064      | 1228             | S            | NC COURT OF APPEALS JUDGE SEAT 3            | Michael Monaco, Sr. | LIB          | 1        | 59           | 65       | 2                | 1           | 127         | Y\n",
       "\n",
       "ALAMANCE | 11/06/2018    | 03N      | 1228             | S            | NC COURT OF APPEALS JUDGE SEAT 3            | Michael Monaco, Sr. | LIB          | 1        | 59           | 38       | 1                | 0           | 98          | Y\n",
       "\n",
       "ALAMANCE | 11/06/2018    | 03S      | 1228             | S            | NC COURT OF APPEALS JUDGE SEAT 3            | Michael Monaco, Sr. | LIB          | 1        | 106          | 108      | 0                | 3           | 217         | Y\n",
       "\n",
       "ALAMANCE | 11/06/2018    | 04       | 1228             | S            | NC COURT OF APPEALS JUDGE SEAT 3            | Michael Monaco, Sr. | LIB          | 1        | 67           | 38       | 1                | 0           | 106         | Y\n",
       "\n",
       "ALAMANCE | 11/06/2018    | 035      | 1228             | S            | NC COURT OF APPEALS JUDGE SEAT 3            | Michael Monaco, Sr. | LIB          | 1        | 73           | 54       | 1                | 1           | 129         | Y\n",
       "\n",
       "ALAMANCE | 11/06/2018    | 07       | 1228             | S            | NC COURT OF APPEALS JUDGE SEAT 3            | Michael Monaco, Sr. | LIB          | 1        | 43           | 33       | 2                | 0           | 78          | Y\n",
       "\n",
       "ALAMANCE | 11/06/2018    | 09S      | 1228             | S            | NC COURT OF APPEALS JUDGE SEAT 3            | Michael Monaco, Sr. | LIB          | 1        | 83           | 59       | 2                | 0           | 144         | Y\n",
       "\n",
       "ALAMANCE | 11/06/2018    | 12S      | 1228             | S            | NC COURT OF APPEALS JUDGE SEAT 3            | Michael Monaco, Sr. | LIB          | 1        | 15           | 5        | 0                | 0           | 20          | Y\n",
       "\n",
       "ALAMANCE | 11/06/2018    | 03N2     | 1273             | S            | NC DISTRICT COURT JUDGE DISTRICT 15A SEAT 1 | Brad Allen          | DEM          | 1        | 217          | 81       | 18               | 0           | 316         | Y\n",
       "\n",
       "ALAMANCE | 11/06/2018    | 03W      | 1273             | S            | NC DISTRICT COURT JUDGE DISTRICT 15A SEAT 1 | Brad Allen          | DEM          | 1        | 459          | 538      | 20               | 2           | 1019        | Y\n",
       "... (183544 rows omitted)"
      ]
     },
     "execution_count": 3,
     "metadata": {},
     "output_type": "execute_result"
    }
   ],
   "source": [
    "election_results = Table.read_table(\"nc_election_results_11062018.csv\")\n",
    "election_results"
   ]
  },
  {
   "cell_type": "markdown",
   "metadata": {},
   "source": [
    "One thing you should notice is that all the values in the first column (\"County\") are the same. Another thing you should notice is that there are 183544 rows omitted. \n",
    "\n",
    "**1.1**: How many rows are you in the `election_results` table? How many columns are in the `election_results` table?"
   ]
  },
  {
   "cell_type": "code",
   "execution_count": 4,
   "metadata": {},
   "outputs": [
    {
     "name": "stdout",
     "output_type": "stream",
     "text": [
      "There are 183554 rows.\n",
      "There are 15 columns.\n"
     ]
    }
   ],
   "source": [
    "print(\"There are \" + str(election_results.num_rows) + \" rows.\")\n",
    "print(\"There are \" + str(election_results.num_columns) + \" columns.\")"
   ]
  },
  {
   "cell_type": "markdown",
   "metadata": {},
   "source": [
    "As you can tell, there's a lot of data here. Some of it is pretty useful, but there are 183,554 rows so let's filter out only what's necessary. The dataset here represents all of the contests in the November 2018 elections in North Carolina. We only care about US Congressional District 09, which is the election Mark Harris was involved in. \n",
    "\n",
    "**1.2**: Create a new table that only contains data regarding the US House of Representatives District 09 election."
   ]
  },
  {
   "cell_type": "code",
   "execution_count": 7,
   "metadata": {},
   "outputs": [
    {
     "data": {
      "text/html": [
       "<table border=\"1\" class=\"dataframe\">\n",
       "    <thead>\n",
       "        <tr>\n",
       "            <th>County</th> <th>Election Date</th> <th>Precinct</th> <th>Contest Group ID</th> <th>Contest Type</th> <th>Contest Name</th> <th>Choice</th> <th>Choice Party</th> <th>Vote For</th> <th>Election Day</th> <th>One Stop</th> <th>Absentee by Mail</th> <th>Provisional</th> <th>Total Votes</th> <th>Real Precinct</th>\n",
       "        </tr>\n",
       "    </thead>\n",
       "    <tbody>\n",
       "        <tr>\n",
       "            <td>\n",
       "BLADEN</td> <td>11/06/2018   </td> <td>P45             </td> <td>1183            </td> <td>S           </td> <td>US HOUSE OF REPRESENTATIVES DISTRICT 09</td> <td>Dan McCready</td> <td>DEM         </td> <td>1       </td> <td>60          </td> <td>0       </td> <td>0               </td> <td>0          </td> <td>60         </td> <td>Y            </td>\n",
       "        </tr>\n",
       "        <tr>\n",
       "            <td>\n",
       "BLADEN</td> <td>11/06/2018   </td> <td>P202            </td> <td>1183            </td> <td>S           </td> <td>US HOUSE OF REPRESENTATIVES DISTRICT 09</td> <td>Dan McCready</td> <td>DEM         </td> <td>1       </td> <td>210         </td> <td>0       </td> <td>0               </td> <td>0          </td> <td>210        </td> <td>Y            </td>\n",
       "        </tr>\n",
       "        <tr>\n",
       "            <td>\n",
       "BLADEN</td> <td>11/06/2018   </td> <td>P60             </td> <td>1183            </td> <td>S           </td> <td>US HOUSE OF REPRESENTATIVES DISTRICT 09</td> <td>Dan McCready</td> <td>DEM         </td> <td>1       </td> <td>289         </td> <td>0       </td> <td>0               </td> <td>0          </td> <td>289        </td> <td>Y            </td>\n",
       "        </tr>\n",
       "        <tr>\n",
       "            <td>\n",
       "BLADEN</td> <td>11/06/2018   </td> <td>P35             </td> <td>1183            </td> <td>S           </td> <td>US HOUSE OF REPRESENTATIVES DISTRICT 09</td> <td>Dan McCready</td> <td>DEM         </td> <td>1       </td> <td>89          </td> <td>0       </td> <td>0               </td> <td>0          </td> <td>89         </td> <td>Y            </td>\n",
       "        </tr>\n",
       "        <tr>\n",
       "            <td>\n",
       "BLADEN</td> <td>11/06/2018   </td> <td>P15             </td> <td>1183            </td> <td>S           </td> <td>US HOUSE OF REPRESENTATIVES DISTRICT 09</td> <td>Dan McCready</td> <td>DEM         </td> <td>1       </td> <td>224         </td> <td>0       </td> <td>0               </td> <td>0          </td> <td>224        </td> <td>Y            </td>\n",
       "        </tr>\n",
       "        <tr>\n",
       "            <td>\n",
       "BLADEN</td> <td>11/06/2018   </td> <td>P201            </td> <td>1183            </td> <td>S           </td> <td>US HOUSE OF REPRESENTATIVES DISTRICT 09</td> <td>Dan McCready</td> <td>DEM         </td> <td>1       </td> <td>104         </td> <td>0       </td> <td>0               </td> <td>0          </td> <td>104        </td> <td>Y            </td>\n",
       "        </tr>\n",
       "        <tr>\n",
       "            <td>\n",
       "BLADEN</td> <td>11/06/2018   </td> <td>PROVISIONAL     </td> <td>1183            </td> <td>S           </td> <td>US HOUSE OF REPRESENTATIVES DISTRICT 09</td> <td>Dan McCready</td> <td>DEM         </td> <td>1       </td> <td>0           </td> <td>0       </td> <td>0               </td> <td>5          </td> <td>5          </td> <td>N            </td>\n",
       "        </tr>\n",
       "        <tr>\n",
       "            <td>\n",
       "BLADEN</td> <td>11/06/2018   </td> <td>ONE STOP LIBRARY</td> <td>1183            </td> <td>S           </td> <td>US HOUSE OF REPRESENTATIVES DISTRICT 09</td> <td>Dan McCready</td> <td>DEM         </td> <td>1       </td> <td>0           </td> <td>1906    </td> <td>0               </td> <td>0          </td> <td>1906       </td> <td>N            </td>\n",
       "        </tr>\n",
       "        <tr>\n",
       "            <td>\n",
       "BLADEN</td> <td>11/06/2018   </td> <td>P40             </td> <td>1183            </td> <td>S           </td> <td>US HOUSE OF REPRESENTATIVES DISTRICT 09</td> <td>Dan McCready</td> <td>DEM         </td> <td>1       </td> <td>98          </td> <td>0       </td> <td>0               </td> <td>0          </td> <td>98         </td> <td>Y            </td>\n",
       "        </tr>\n",
       "        <tr>\n",
       "            <td>\n",
       "BLADEN</td> <td>11/06/2018   </td> <td>P10             </td> <td>1183            </td> <td>S           </td> <td>US HOUSE OF REPRESENTATIVES DISTRICT 09</td> <td>Dan McCready</td> <td>DEM         </td> <td>1       </td> <td>103         </td> <td>0       </td> <td>0               </td> <td>0          </td> <td>103        </td> <td>Y            </td>\n",
       "        </tr>\n",
       "    </tbody>\n",
       "</table>\n",
       "<p>... (728 rows omitted)</p>"
      ],
      "text/plain": [
       "<IPython.core.display.HTML object>"
      ]
     },
     "metadata": {},
     "output_type": "display_data"
    }
   ],
   "source": [
    "# Create a new table that only contains data dealing with the US HOUSE OF REPRESENTATIVES DISTRICT 09 election\n",
    "district9 = election_results.where(\"Contest Name\", are.equal_to(\"US HOUSE OF REPRESENTATIVES DISTRICT 09\"))\n",
    "district9.show(10)"
   ]
  },
  {
   "cell_type": "markdown",
   "metadata": {},
   "source": [
    "Our dataset is significantly smaller, which makes it easier to work with so that might be able to answer our questions about whether Mark Harris engaged in election fraud. Not all of these columns are useful. Some columns are repetitive to the identifying information that we are trying to track—these include the Contest Group ID and Contest Type. These columns are reflected in the Contest Name column by the full race name. When cleaning the dataset, we can take out repetitive information that won't be useful to our data analysis. Therefore, we should drop somre columms from our table.\n",
    "\n",
    "**1.3**: Drop \"Contest Group ID\", \"Contest Type\", and \"Vote For\" from the `district9` table."
   ]
  },
  {
   "cell_type": "code",
   "execution_count": 8,
   "metadata": {},
   "outputs": [
    {
     "data": {
      "text/html": [
       "<table border=\"1\" class=\"dataframe\">\n",
       "    <thead>\n",
       "        <tr>\n",
       "            <th>County</th> <th>Election Date</th> <th>Precinct</th> <th>Contest Name</th> <th>Choice</th> <th>Choice Party</th> <th>Election Day</th> <th>One Stop</th> <th>Absentee by Mail</th> <th>Provisional</th> <th>Total Votes</th> <th>Real Precinct</th>\n",
       "        </tr>\n",
       "    </thead>\n",
       "    <tbody>\n",
       "        <tr>\n",
       "            <td>\n",
       "BLADEN</td> <td>11/06/2018   </td> <td>P45             </td> <td>US HOUSE OF REPRESENTATIVES DISTRICT 09</td> <td>Dan McCready</td> <td>DEM         </td> <td>60          </td> <td>0       </td> <td>0               </td> <td>0          </td> <td>60         </td> <td>Y            </td>\n",
       "        </tr>\n",
       "        <tr>\n",
       "            <td>\n",
       "BLADEN</td> <td>11/06/2018   </td> <td>P202            </td> <td>US HOUSE OF REPRESENTATIVES DISTRICT 09</td> <td>Dan McCready</td> <td>DEM         </td> <td>210         </td> <td>0       </td> <td>0               </td> <td>0          </td> <td>210        </td> <td>Y            </td>\n",
       "        </tr>\n",
       "        <tr>\n",
       "            <td>\n",
       "BLADEN</td> <td>11/06/2018   </td> <td>P60             </td> <td>US HOUSE OF REPRESENTATIVES DISTRICT 09</td> <td>Dan McCready</td> <td>DEM         </td> <td>289         </td> <td>0       </td> <td>0               </td> <td>0          </td> <td>289        </td> <td>Y            </td>\n",
       "        </tr>\n",
       "        <tr>\n",
       "            <td>\n",
       "BLADEN</td> <td>11/06/2018   </td> <td>P35             </td> <td>US HOUSE OF REPRESENTATIVES DISTRICT 09</td> <td>Dan McCready</td> <td>DEM         </td> <td>89          </td> <td>0       </td> <td>0               </td> <td>0          </td> <td>89         </td> <td>Y            </td>\n",
       "        </tr>\n",
       "        <tr>\n",
       "            <td>\n",
       "BLADEN</td> <td>11/06/2018   </td> <td>P15             </td> <td>US HOUSE OF REPRESENTATIVES DISTRICT 09</td> <td>Dan McCready</td> <td>DEM         </td> <td>224         </td> <td>0       </td> <td>0               </td> <td>0          </td> <td>224        </td> <td>Y            </td>\n",
       "        </tr>\n",
       "        <tr>\n",
       "            <td>\n",
       "BLADEN</td> <td>11/06/2018   </td> <td>P201            </td> <td>US HOUSE OF REPRESENTATIVES DISTRICT 09</td> <td>Dan McCready</td> <td>DEM         </td> <td>104         </td> <td>0       </td> <td>0               </td> <td>0          </td> <td>104        </td> <td>Y            </td>\n",
       "        </tr>\n",
       "        <tr>\n",
       "            <td>\n",
       "BLADEN</td> <td>11/06/2018   </td> <td>PROVISIONAL     </td> <td>US HOUSE OF REPRESENTATIVES DISTRICT 09</td> <td>Dan McCready</td> <td>DEM         </td> <td>0           </td> <td>0       </td> <td>0               </td> <td>5          </td> <td>5          </td> <td>N            </td>\n",
       "        </tr>\n",
       "        <tr>\n",
       "            <td>\n",
       "BLADEN</td> <td>11/06/2018   </td> <td>ONE STOP LIBRARY</td> <td>US HOUSE OF REPRESENTATIVES DISTRICT 09</td> <td>Dan McCready</td> <td>DEM         </td> <td>0           </td> <td>1906    </td> <td>0               </td> <td>0          </td> <td>1906       </td> <td>N            </td>\n",
       "        </tr>\n",
       "        <tr>\n",
       "            <td>\n",
       "BLADEN</td> <td>11/06/2018   </td> <td>P40             </td> <td>US HOUSE OF REPRESENTATIVES DISTRICT 09</td> <td>Dan McCready</td> <td>DEM         </td> <td>98          </td> <td>0       </td> <td>0               </td> <td>0          </td> <td>98         </td> <td>Y            </td>\n",
       "        </tr>\n",
       "        <tr>\n",
       "            <td>\n",
       "BLADEN</td> <td>11/06/2018   </td> <td>P10             </td> <td>US HOUSE OF REPRESENTATIVES DISTRICT 09</td> <td>Dan McCready</td> <td>DEM         </td> <td>103         </td> <td>0       </td> <td>0               </td> <td>0          </td> <td>103        </td> <td>Y            </td>\n",
       "        </tr>\n",
       "    </tbody>\n",
       "</table>\n",
       "<p>... (728 rows omitted)</p>"
      ],
      "text/plain": [
       "County  | Election Date | Precinct         | Contest Name                            | Choice       | Choice Party | Election Day | One Stop | Absentee by Mail | Provisional | Total Votes | Real Precinct\n",
       "\n",
       "BLADEN | 11/06/2018    | P45              | US HOUSE OF REPRESENTATIVES DISTRICT 09 | Dan McCready | DEM          | 60           | 0        | 0                | 0           | 60          | Y\n",
       "\n",
       "BLADEN | 11/06/2018    | P202             | US HOUSE OF REPRESENTATIVES DISTRICT 09 | Dan McCready | DEM          | 210          | 0        | 0                | 0           | 210         | Y\n",
       "\n",
       "BLADEN | 11/06/2018    | P60              | US HOUSE OF REPRESENTATIVES DISTRICT 09 | Dan McCready | DEM          | 289          | 0        | 0                | 0           | 289         | Y\n",
       "\n",
       "BLADEN | 11/06/2018    | P35              | US HOUSE OF REPRESENTATIVES DISTRICT 09 | Dan McCready | DEM          | 89           | 0        | 0                | 0           | 89          | Y\n",
       "\n",
       "BLADEN | 11/06/2018    | P15              | US HOUSE OF REPRESENTATIVES DISTRICT 09 | Dan McCready | DEM          | 224          | 0        | 0                | 0           | 224         | Y\n",
       "\n",
       "BLADEN | 11/06/2018    | P201             | US HOUSE OF REPRESENTATIVES DISTRICT 09 | Dan McCready | DEM          | 104          | 0        | 0                | 0           | 104         | Y\n",
       "\n",
       "BLADEN | 11/06/2018    | PROVISIONAL      | US HOUSE OF REPRESENTATIVES DISTRICT 09 | Dan McCready | DEM          | 0            | 0        | 0                | 5           | 5           | N\n",
       "\n",
       "BLADEN | 11/06/2018    | ONE STOP LIBRARY | US HOUSE OF REPRESENTATIVES DISTRICT 09 | Dan McCready | DEM          | 0            | 1906     | 0                | 0           | 1906        | N\n",
       "\n",
       "BLADEN | 11/06/2018    | P40              | US HOUSE OF REPRESENTATIVES DISTRICT 09 | Dan McCready | DEM          | 98           | 0        | 0                | 0           | 98          | Y\n",
       "\n",
       "BLADEN | 11/06/2018    | P10              | US HOUSE OF REPRESENTATIVES DISTRICT 09 | Dan McCready | DEM          | 103          | 0        | 0                | 0           | 103         | Y\n",
       "... (728 rows omitted)"
      ]
     },
     "execution_count": 8,
     "metadata": {},
     "output_type": "execute_result"
    }
   ],
   "source": [
    "district9 = district9.drop(\"Contest Group ID\", \"Contest Type\" ,\"Vote For\")\n",
    "district9"
   ]
  },
  {
   "cell_type": "markdown",
   "metadata": {},
   "source": [
    "It's always worthwhile to make sure that you understand what each of the columns represent. Sometimes, that requires you to do some external research so that you can effectively analyze the data that you have. \n",
    "\n",
    "**1.4**: Explain how the `Election Day`, `One Stop`, `Absentee by Mail`, `Provisional`, and `Total Votes` columns differ. "
   ]
  },
  {
   "cell_type": "markdown",
   "metadata": {},
   "source": [
    "YOUR ANSWER HERE: "
   ]
  },
  {
   "cell_type": "markdown",
   "metadata": {},
   "source": [
    "## 2. Bladen County: I Don't Know Much About Americanism, But It's a Damn Good Word With Which To Carry An Election<sup>3</sup>"
   ]
  },
  {
   "cell_type": "markdown",
   "metadata": {},
   "source": [
    "**MORE CONTEXT HERE**\n",
    "- Investigations on election fraud in District 9 of North Carolina were actually opened in 2016. They largely centered around Leslie McCrae Dowless, a former convicted felon with numerous charges of fraud who also happened to work on the Mark Harris campaign.\n",
    "- After examining the circumstances regarding the 2018 House elections, the state elections board refused to certify the election results and unanimously voted to throw out the 2018 election results.\n",
    "- Election officials in North Carolina ordered a special election to take place. McCreary, the Democratic candidate, will be campaigning again, though Harris, the Republican candidate, will not.\n",
    "\n",
    "More information can be found at the end of this assignment"
   ]
  },
  {
   "cell_type": "markdown",
   "metadata": {},
   "source": [
    "**2.1**: Create a table that has all the precincts of Bladen County.\n",
    "\n",
    "***WARNING***: Even though it's displayed as \"BLADEN,\" you have to use the string \"\\nBLADEN\" instead. "
   ]
  },
  {
   "cell_type": "code",
   "execution_count": 9,
   "metadata": {},
   "outputs": [
    {
     "data": {
      "text/html": [
       "<table border=\"1\" class=\"dataframe\">\n",
       "    <thead>\n",
       "        <tr>\n",
       "            <th>County</th> <th>Election Date</th> <th>Precinct</th> <th>Contest Name</th> <th>Choice</th> <th>Choice Party</th> <th>Election Day</th> <th>One Stop</th> <th>Absentee by Mail</th> <th>Provisional</th> <th>Total Votes</th> <th>Real Precinct</th>\n",
       "        </tr>\n",
       "    </thead>\n",
       "    <tbody>\n",
       "        <tr>\n",
       "            <td>\n",
       "BLADEN</td> <td>11/06/2018   </td> <td>P45             </td> <td>US HOUSE OF REPRESENTATIVES DISTRICT 09</td> <td>Dan McCready</td> <td>DEM         </td> <td>60          </td> <td>0       </td> <td>0               </td> <td>0          </td> <td>60         </td> <td>Y            </td>\n",
       "        </tr>\n",
       "        <tr>\n",
       "            <td>\n",
       "BLADEN</td> <td>11/06/2018   </td> <td>P202            </td> <td>US HOUSE OF REPRESENTATIVES DISTRICT 09</td> <td>Dan McCready</td> <td>DEM         </td> <td>210         </td> <td>0       </td> <td>0               </td> <td>0          </td> <td>210        </td> <td>Y            </td>\n",
       "        </tr>\n",
       "        <tr>\n",
       "            <td>\n",
       "BLADEN</td> <td>11/06/2018   </td> <td>P60             </td> <td>US HOUSE OF REPRESENTATIVES DISTRICT 09</td> <td>Dan McCready</td> <td>DEM         </td> <td>289         </td> <td>0       </td> <td>0               </td> <td>0          </td> <td>289        </td> <td>Y            </td>\n",
       "        </tr>\n",
       "        <tr>\n",
       "            <td>\n",
       "BLADEN</td> <td>11/06/2018   </td> <td>P35             </td> <td>US HOUSE OF REPRESENTATIVES DISTRICT 09</td> <td>Dan McCready</td> <td>DEM         </td> <td>89          </td> <td>0       </td> <td>0               </td> <td>0          </td> <td>89         </td> <td>Y            </td>\n",
       "        </tr>\n",
       "        <tr>\n",
       "            <td>\n",
       "BLADEN</td> <td>11/06/2018   </td> <td>P15             </td> <td>US HOUSE OF REPRESENTATIVES DISTRICT 09</td> <td>Dan McCready</td> <td>DEM         </td> <td>224         </td> <td>0       </td> <td>0               </td> <td>0          </td> <td>224        </td> <td>Y            </td>\n",
       "        </tr>\n",
       "        <tr>\n",
       "            <td>\n",
       "BLADEN</td> <td>11/06/2018   </td> <td>P201            </td> <td>US HOUSE OF REPRESENTATIVES DISTRICT 09</td> <td>Dan McCready</td> <td>DEM         </td> <td>104         </td> <td>0       </td> <td>0               </td> <td>0          </td> <td>104        </td> <td>Y            </td>\n",
       "        </tr>\n",
       "        <tr>\n",
       "            <td>\n",
       "BLADEN</td> <td>11/06/2018   </td> <td>PROVISIONAL     </td> <td>US HOUSE OF REPRESENTATIVES DISTRICT 09</td> <td>Dan McCready</td> <td>DEM         </td> <td>0           </td> <td>0       </td> <td>0               </td> <td>5          </td> <td>5          </td> <td>N            </td>\n",
       "        </tr>\n",
       "        <tr>\n",
       "            <td>\n",
       "BLADEN</td> <td>11/06/2018   </td> <td>ONE STOP LIBRARY</td> <td>US HOUSE OF REPRESENTATIVES DISTRICT 09</td> <td>Dan McCready</td> <td>DEM         </td> <td>0           </td> <td>1906    </td> <td>0               </td> <td>0          </td> <td>1906       </td> <td>N            </td>\n",
       "        </tr>\n",
       "        <tr>\n",
       "            <td>\n",
       "BLADEN</td> <td>11/06/2018   </td> <td>P40             </td> <td>US HOUSE OF REPRESENTATIVES DISTRICT 09</td> <td>Dan McCready</td> <td>DEM         </td> <td>98          </td> <td>0       </td> <td>0               </td> <td>0          </td> <td>98         </td> <td>Y            </td>\n",
       "        </tr>\n",
       "        <tr>\n",
       "            <td>\n",
       "BLADEN</td> <td>11/06/2018   </td> <td>P10             </td> <td>US HOUSE OF REPRESENTATIVES DISTRICT 09</td> <td>Dan McCready</td> <td>DEM         </td> <td>103         </td> <td>0       </td> <td>0               </td> <td>0          </td> <td>103        </td> <td>Y            </td>\n",
       "        </tr>\n",
       "    </tbody>\n",
       "</table>\n",
       "<p>... (35 rows omitted)</p>"
      ],
      "text/plain": [
       "County  | Election Date | Precinct         | Contest Name                            | Choice       | Choice Party | Election Day | One Stop | Absentee by Mail | Provisional | Total Votes | Real Precinct\n",
       "\n",
       "BLADEN | 11/06/2018    | P45              | US HOUSE OF REPRESENTATIVES DISTRICT 09 | Dan McCready | DEM          | 60           | 0        | 0                | 0           | 60          | Y\n",
       "\n",
       "BLADEN | 11/06/2018    | P202             | US HOUSE OF REPRESENTATIVES DISTRICT 09 | Dan McCready | DEM          | 210          | 0        | 0                | 0           | 210         | Y\n",
       "\n",
       "BLADEN | 11/06/2018    | P60              | US HOUSE OF REPRESENTATIVES DISTRICT 09 | Dan McCready | DEM          | 289          | 0        | 0                | 0           | 289         | Y\n",
       "\n",
       "BLADEN | 11/06/2018    | P35              | US HOUSE OF REPRESENTATIVES DISTRICT 09 | Dan McCready | DEM          | 89           | 0        | 0                | 0           | 89          | Y\n",
       "\n",
       "BLADEN | 11/06/2018    | P15              | US HOUSE OF REPRESENTATIVES DISTRICT 09 | Dan McCready | DEM          | 224          | 0        | 0                | 0           | 224         | Y\n",
       "\n",
       "BLADEN | 11/06/2018    | P201             | US HOUSE OF REPRESENTATIVES DISTRICT 09 | Dan McCready | DEM          | 104          | 0        | 0                | 0           | 104         | Y\n",
       "\n",
       "BLADEN | 11/06/2018    | PROVISIONAL      | US HOUSE OF REPRESENTATIVES DISTRICT 09 | Dan McCready | DEM          | 0            | 0        | 0                | 5           | 5           | N\n",
       "\n",
       "BLADEN | 11/06/2018    | ONE STOP LIBRARY | US HOUSE OF REPRESENTATIVES DISTRICT 09 | Dan McCready | DEM          | 0            | 1906     | 0                | 0           | 1906        | N\n",
       "\n",
       "BLADEN | 11/06/2018    | P40              | US HOUSE OF REPRESENTATIVES DISTRICT 09 | Dan McCready | DEM          | 98           | 0        | 0                | 0           | 98          | Y\n",
       "\n",
       "BLADEN | 11/06/2018    | P10              | US HOUSE OF REPRESENTATIVES DISTRICT 09 | Dan McCready | DEM          | 103          | 0        | 0                | 0           | 103         | Y\n",
       "... (35 rows omitted)"
      ]
     },
     "execution_count": 9,
     "metadata": {},
     "output_type": "execute_result"
    }
   ],
   "source": [
    "# Create a table with all the precincts within Bladen County. Remember to use \"\\nBLADEN\"!\n",
    "bladen = district9.where(\"County\", are.equal_to(\"\\nBLADEN\"))\n",
    "bladen"
   ]
  },
  {
   "cell_type": "markdown",
   "metadata": {},
   "source": [
    "**2.2**: How many votes did Mark Harris win Bladen County by?\n",
    "\n",
    "*HINT #1*: Grouping works by aggregating a bunch of related information together. So far, we've only put the column as an argument in the `group` function, but we can also add a second argument that dictates what function we use to aggregate all the data together. This will give a lot of information that doesn't make any sense. Since the syntax is fairly new, we'll provide most of the code for this. "
   ]
  },
  {
   "cell_type": "code",
   "execution_count": 10,
   "metadata": {},
   "outputs": [
    {
     "data": {
      "text/html": [
       "<table border=\"1\" class=\"dataframe\">\n",
       "    <thead>\n",
       "        <tr>\n",
       "            <th>Choice</th> <th>Total Votes</th>\n",
       "        </tr>\n",
       "    </thead>\n",
       "    <tbody>\n",
       "        <tr>\n",
       "            <td>Dan McCready</td> <td>3856       </td>\n",
       "        </tr>\n",
       "        <tr>\n",
       "            <td>Jeff Scott  </td> <td>129        </td>\n",
       "        </tr>\n",
       "        <tr>\n",
       "            <td>Mark Harris </td> <td>5413       </td>\n",
       "        </tr>\n",
       "    </tbody>\n",
       "</table>"
      ],
      "text/plain": [
       "Choice       | Total Votes\n",
       "Dan McCready | 3856\n",
       "Jeff Scott   | 129\n",
       "Mark Harris  | 5413"
      ]
     },
     "execution_count": 10,
     "metadata": {},
     "output_type": "execute_result"
    }
   ],
   "source": [
    "# give everything except the column names\n",
    "total_votes = bladen.group(\"Choice\", sum).select('Choice', 'Total Votes sum').relabeled(\"Total Votes sum\", \"Total Votes\")\n",
    "total_votes"
   ]
  },
  {
   "cell_type": "markdown",
   "metadata": {},
   "source": [
    "**2.3**: What percentage of the \"Total Votes\" were \"Absentee by Mail\"?\n",
    "\n",
    "*HINT #1*: `table_name['column name']` takes the column as makes it an array where `table_name` and `'column name'` are placeholders for the actual value that you should use.\n",
    "\n",
    "*HINT #2*: `sum(array)` returns the sum of the array that is passed in where `array` represents a placeholder for the actual value that you should use.\n",
    "\n",
    "*HINT #3*: Complete the `percent` function because it may be useful later. "
   ]
  },
  {
   "cell_type": "code",
   "execution_count": 11,
   "metadata": {},
   "outputs": [],
   "source": [
    "# The percent function should return the percentage of a to b\n",
    "# Example: percent(9, 10) should return 90, not 0.9\n",
    "def percent(a, b): \n",
    "    return (a / b) * 100"
   ]
  },
  {
   "cell_type": "code",
   "execution_count": 12,
   "metadata": {
    "editable": false
   },
   "outputs": [],
   "source": [
    "assert percent(2, 5) == 40\n",
    "assert percent(-1, 5) == -20\n",
    "assert round(percent(1, 3), 2) == 33.33"
   ]
  },
  {
   "cell_type": "code",
   "execution_count": 13,
   "metadata": {},
   "outputs": [
    {
     "name": "stdout",
     "output_type": "stream",
     "text": [
      "Absentee by mail ballots represent 7.2781442860183025% of the votes.\n"
     ]
    }
   ],
   "source": [
    "bladen_absentee_by_mail = sum(bladen['Absentee by Mail'])\n",
    "bladen_total_votes = sum(bladen['Total Votes'])\n",
    "\n",
    "percentage = percent(bladen_absentee_by_mail, bladen_total_votes)\n",
    "\n",
    "print(\"Absentee by mail ballots represent \" + str(percentage) + \\\n",
    "      \"% of the votes.\")"
   ]
  },
  {
   "cell_type": "code",
   "execution_count": 14,
   "metadata": {
    "editable": false
   },
   "outputs": [],
   "source": [
    "assert round(percentage, 2) == 7.28"
   ]
  },
  {
   "cell_type": "markdown",
   "metadata": {},
   "source": [
    "**2.4:** Create a table that has only the \"ABSENTEE\" precincts for Bladen County. \n",
    "\n",
    "*HINT*: Use a table that you've created earlier!"
   ]
  },
  {
   "cell_type": "code",
   "execution_count": 20,
   "metadata": {},
   "outputs": [
    {
     "data": {
      "text/html": [
       "<table border=\"1\" class=\"dataframe\">\n",
       "    <thead>\n",
       "        <tr>\n",
       "            <th>County</th> <th>Election Date</th> <th>Precinct</th> <th>Contest Name</th> <th>Choice</th> <th>Choice Party</th> <th>Election Day</th> <th>One Stop</th> <th>Absentee by Mail</th> <th>Provisional</th> <th>Total Votes</th> <th>Real Precinct</th>\n",
       "        </tr>\n",
       "    </thead>\n",
       "    <tbody>\n",
       "        <tr>\n",
       "            <td>\n",
       "BLADEN</td> <td>11/06/2018   </td> <td>ABSENTEE</td> <td>US HOUSE OF REPRESENTATIVES DISTRICT 09</td> <td>Dan McCready</td> <td>DEM         </td> <td>0           </td> <td>0       </td> <td>258             </td> <td>0          </td> <td>258        </td> <td>N            </td>\n",
       "        </tr>\n",
       "        <tr>\n",
       "            <td>\n",
       "BLADEN</td> <td>11/06/2018   </td> <td>ABSENTEE</td> <td>US HOUSE OF REPRESENTATIVES DISTRICT 09</td> <td>Jeff Scott  </td> <td>LIB         </td> <td>0           </td> <td>0       </td> <td>6               </td> <td>0          </td> <td>6          </td> <td>N            </td>\n",
       "        </tr>\n",
       "        <tr>\n",
       "            <td>\n",
       "BLADEN</td> <td>11/06/2018   </td> <td>ABSENTEE</td> <td>US HOUSE OF REPRESENTATIVES DISTRICT 09</td> <td>Mark Harris </td> <td>REP         </td> <td>0           </td> <td>0       </td> <td>420             </td> <td>0          </td> <td>420        </td> <td>N            </td>\n",
       "        </tr>\n",
       "    </tbody>\n",
       "</table>"
      ],
      "text/plain": [
       "County  | Election Date | Precinct | Contest Name                            | Choice       | Choice Party | Election Day | One Stop | Absentee by Mail | Provisional | Total Votes | Real Precinct\n",
       "\n",
       "BLADEN | 11/06/2018    | ABSENTEE | US HOUSE OF REPRESENTATIVES DISTRICT 09 | Dan McCready | DEM          | 0            | 0        | 258              | 0           | 258         | N\n",
       "\n",
       "BLADEN | 11/06/2018    | ABSENTEE | US HOUSE OF REPRESENTATIVES DISTRICT 09 | Jeff Scott   | LIB          | 0            | 0        | 6                | 0           | 6           | N\n",
       "\n",
       "BLADEN | 11/06/2018    | ABSENTEE | US HOUSE OF REPRESENTATIVES DISTRICT 09 | Mark Harris  | REP          | 0            | 0        | 420              | 0           | 420         | N"
      ]
     },
     "execution_count": 20,
     "metadata": {},
     "output_type": "execute_result"
    }
   ],
   "source": [
    "# Create a table with the \"ABSENTEE\" precincts of Bladen County\n",
    "bladen_abs = bladen.where(\"Precinct\", are.equal_to(\"ABSENTEE\"))       \n",
    "bladen_abs"
   ]
  },
  {
   "cell_type": "code",
   "execution_count": 21,
   "metadata": {
    "editable": false
   },
   "outputs": [],
   "source": [
    "assert (bladen_abs.num_rows, bladen_abs.num_columns) == (3, 12)\n",
    "assert all(bladen_abs['County'] == \\\n",
    "           np.array(['\\nBLADEN', '\\nBLADEN', '\\nBLADEN']))\n",
    "assert sum(bladen_abs['Total Votes']) == 684.0"
   ]
  },
  {
   "cell_type": "markdown",
   "metadata": {},
   "source": [
    "**2.5**: In Bladen County, what percentage of the absentee by mail votes were won by Mark Harris?\n",
    "\n",
    "*HINT #1*: Call a function that you've already written."
   ]
  },
  {
   "cell_type": "code",
   "execution_count": 22,
   "metadata": {},
   "outputs": [
    {
     "data": {
      "text/plain": [
       "61.40350877192983"
      ]
     },
     "execution_count": 22,
     "metadata": {},
     "output_type": "execute_result"
    }
   ],
   "source": [
    "mh_absentee_votes = bladen_abs.column(\"Absentee by Mail\")[2]\n",
    "mark_harris_abs_percent = percent(mh_absentee_votes, bladen_absentee_by_mail)\n",
    "mark_harris_abs_percent"
   ]
  },
  {
   "cell_type": "code",
   "execution_count": 23,
   "metadata": {
    "editable": false
   },
   "outputs": [],
   "source": [
    "assert round(mark_harris_abs_percent, 2) == 61.40"
   ]
  },
  {
   "cell_type": "markdown",
   "metadata": {},
   "source": [
    "Often times, we have to introduce new datasets in order to have a more comprehensive analysis. North Carolina also releases data on voters who request absentee ballots. To understand whether the 61.4% of absentee ballot votes for Mark Harris is significant, we need to know what percent of the vote we expect Mark Harris to receive. "
   ]
  },
  {
   "cell_type": "code",
   "execution_count": 24,
   "metadata": {},
   "outputs": [
    {
     "data": {
      "text/html": [
       "<table border=\"1\" class=\"dataframe\">\n",
       "    <thead>\n",
       "        <tr>\n",
       "            <th>county_desc</th> <th>voter_reg_num</th> <th>ncid</th> <th>voter_last_name</th> <th>voter_first_name</th> <th>voter_middle_name</th> <th>race</th> <th>gender</th> <th>age</th> <th>voter_street_address</th> <th>voter_city</th> <th>voter_state</th> <th>voter_zip</th> <th>ballot_mail_street_address</th> <th>ballot_mail_city</th> <th>ballot_mail_state</th> <th>ballot_mail_zip</th> <th>other_mail_addr1</th> <th>other_mail_addr2</th> <th>other_city_state_zip</th> <th>election_dt</th> <th>voter_party_code</th> <th>precinct_desc</th> <th>cong_dist_desc</th> <th>nc_house_desc</th> <th>nc_senate_desc</th> <th>ballot_req_delivery_type</th> <th>ballot_req_type</th> <th>ballot_request_party</th> <th>ballot_req_dt</th> <th>ballot_send_dt</th> <th>ballot_rtn_dt</th> <th>ballot_rtn_status</th> <th>site_name</th> <th>sdr</th> <th>mail_veri_status</th>\n",
       "        </tr>\n",
       "    </thead>\n",
       "    <tbody>\n",
       "        <tr>\n",
       "            <td>BLADEN     </td> <td>58945        </td> <td>AJ43421</td> <td>ABBEY          </td> <td>AMANDA          </td> <td>SMITH            </td> <td>BLACK or AFRICAN AMERICAN</td> <td>F     </td> <td>47  </td> <td>160  LAKEWOOD RD                   </td> <td>ELIZABETHTOWN</td> <td>NC         </td> <td>28337    </td> <td>                          </td> <td>                </td> <td>                 </td> <td>               </td> <td>                </td> <td>                </td> <td>                    </td> <td>11/6/18    </td> <td>DEM             </td> <td>CENTRAL         </td> <td>CONGRESSIONAL DISTRICT 9</td> <td>NC HOUSE DISTRICT 22</td> <td>NC SENATE DISTRICT 8</td> <td>IN PERSON               </td> <td>ONE-STOP       </td> <td>DEM                 </td> <td>10/29/18     </td> <td>10/29/18      </td> <td>10/29/18     </td> <td>ACCEPTED         </td> <td>BLADEN COUNTY PUBLIC LIBRARY</td> <td>    </td> <td>                </td>\n",
       "        </tr>\n",
       "        <tr>\n",
       "            <td>BLADEN     </td> <td>58498        </td> <td>AJ43169</td> <td>ABBEY          </td> <td>RASHAUNDA       </td> <td>DALAJA           </td> <td>BLACK or AFRICAN AMERICAN</td> <td>F     </td> <td>20  </td> <td>2899  ELKTON RD                    </td> <td>CLARKTON     </td> <td>NC         </td> <td>28433    </td> <td>                          </td> <td>                </td> <td>                 </td> <td>               </td> <td>                </td> <td>                </td> <td>                    </td> <td>11/6/18    </td> <td>DEM             </td> <td>BROWN MARSH     </td> <td>CONGRESSIONAL DISTRICT 7</td> <td>NC HOUSE DISTRICT 22</td> <td>NC SENATE DISTRICT 8</td> <td>IN PERSON               </td> <td>ONE-STOP       </td> <td>DEM                 </td> <td>11/2/18      </td> <td>11/2/18       </td> <td>11/2/18      </td> <td>ACCEPTED         </td> <td>BLADEN COUNTY PUBLIC LIBRARY</td> <td>    </td> <td>                </td>\n",
       "        </tr>\n",
       "        <tr>\n",
       "            <td>BLADEN     </td> <td>53346        </td> <td>AJ39560</td> <td>ABBOTT         </td> <td>RANDOLPH        </td> <td>SYLVESTER        </td> <td>BLACK or AFRICAN AMERICAN</td> <td>M     </td> <td>80  </td> <td>404  DAVID ST                      </td> <td>ELIZABETHTOWN</td> <td>NC         </td> <td>28337    </td> <td>                          </td> <td>                </td> <td>                 </td> <td>               </td> <td>                </td> <td>                </td> <td>                    </td> <td>11/6/18    </td> <td>DEM             </td> <td>ELIZABETHTOWN #2</td> <td>CONGRESSIONAL DISTRICT 7</td> <td>NC HOUSE DISTRICT 22</td> <td>NC SENATE DISTRICT 8</td> <td>IN PERSON               </td> <td>ONE-STOP       </td> <td>DEM                 </td> <td>10/25/18     </td> <td>10/25/18      </td> <td>10/25/18     </td> <td>ACCEPTED         </td> <td>BLADEN COUNTY PUBLIC LIBRARY</td> <td>    </td> <td>                </td>\n",
       "        </tr>\n",
       "        <tr>\n",
       "            <td>BLADEN     </td> <td>34672        </td> <td>AJ24541</td> <td>ADAMS          </td> <td>ANTONIO         </td> <td>W                </td> <td>BLACK or AFRICAN AMERICAN</td> <td>M     </td> <td>44  </td> <td>2343  MERCER MILL/BROWN MARSH RD   </td> <td>ELIZABETHTOWN</td> <td>NC         </td> <td>28337    </td> <td>                          </td> <td>                </td> <td>                 </td> <td>               </td> <td>                </td> <td>                </td> <td>                    </td> <td>11/6/18    </td> <td>DEM             </td> <td>ELIZABETHTOWN #2</td> <td>CONGRESSIONAL DISTRICT 7</td> <td>NC HOUSE DISTRICT 22</td> <td>NC SENATE DISTRICT 8</td> <td>IN PERSON               </td> <td>ONE-STOP       </td> <td>DEM                 </td> <td>11/1/18      </td> <td>11/1/18       </td> <td>11/1/18      </td> <td>ACCEPTED         </td> <td>BLADEN COUNTY PUBLIC LIBRARY</td> <td>    </td> <td>                </td>\n",
       "        </tr>\n",
       "        <tr>\n",
       "            <td>BLADEN     </td> <td>27124        </td> <td>AJ20437</td> <td>ADAMS          </td> <td>CHARLES         </td> <td>GREGORY          </td> <td>BLACK or AFRICAN AMERICAN</td> <td>M     </td> <td>53  </td> <td>131  JOHNSON RD                    </td> <td>ELIZABETHTOWN</td> <td>NC         </td> <td>28337    </td> <td>                          </td> <td>                </td> <td>                 </td> <td>               </td> <td>                </td> <td>                </td> <td>                    </td> <td>11/6/18    </td> <td>DEM             </td> <td>ELIZABETHTOWN #1</td> <td>CONGRESSIONAL DISTRICT 9</td> <td>NC HOUSE DISTRICT 22</td> <td>NC SENATE DISTRICT 8</td> <td>IN PERSON               </td> <td>ONE-STOP       </td> <td>DEM                 </td> <td>10/22/18     </td> <td>10/22/18      </td> <td>10/22/18     </td> <td>ACCEPTED         </td> <td>BLADEN COUNTY PUBLIC LIBRARY</td> <td>    </td> <td>                </td>\n",
       "        </tr>\n",
       "        <tr>\n",
       "            <td>BLADEN     </td> <td>52302        </td> <td>AJ38775</td> <td>ADAMS          </td> <td>CRYSTAL         </td> <td>LYNN             </td> <td>WHITE                    </td> <td>F     </td> <td>53  </td> <td>303  PECAN ST   #9A                </td> <td>BLADENBORO   </td> <td>NC         </td> <td>28320    </td> <td>303 PECAN ST # 9A         </td> <td>BLADENBORO      </td> <td>NC               </td> <td>28320          </td> <td>nan             </td> <td>nan             </td> <td>nan                 </td> <td>11/6/18    </td> <td>UNA             </td> <td>BLADENBORO #2   </td> <td>CONGRESSIONAL DISTRICT 9</td> <td>NC HOUSE DISTRICT 22</td> <td>NC SENATE DISTRICT 8</td> <td>MAIL                    </td> <td>MAIL           </td> <td>UNA                 </td> <td>10/4/18      </td> <td>10/5/18       </td> <td>nan          </td> <td>nan              </td> <td>nan                         </td> <td>    </td> <td>                </td>\n",
       "        </tr>\n",
       "        <tr>\n",
       "            <td>BLADEN     </td> <td>10818        </td> <td>AJ8344 </td> <td>ADAMS          </td> <td>FRANCES         </td> <td>GOODEN           </td> <td>WHITE                    </td> <td>F     </td> <td>85  </td> <td>5725  NC 242 HWY S                 </td> <td>ELIZABETHTOWN</td> <td>NC         </td> <td>28337    </td> <td>5725 NC 242 HWY S         </td> <td>ELIZABETHTOWN   </td> <td>NC               </td> <td>28337          </td> <td>nan             </td> <td>nan             </td> <td>nan                 </td> <td>11/6/18    </td> <td>UNA             </td> <td>ELIZABETHTOWN #1</td> <td>CONGRESSIONAL DISTRICT 9</td> <td>NC HOUSE DISTRICT 22</td> <td>NC SENATE DISTRICT 8</td> <td>MAIL                    </td> <td>MAIL           </td> <td>UNA                 </td> <td>10/5/18      </td> <td>10/8/18       </td> <td>10/20/18     </td> <td>ACCEPTED         </td> <td>nan                         </td> <td>    </td> <td>                </td>\n",
       "        </tr>\n",
       "        <tr>\n",
       "            <td>BLADEN     </td> <td>41763        </td> <td>AJ29556</td> <td>ADAMS          </td> <td>LATOYA          </td> <td>SHANT'E          </td> <td>BLACK or AFRICAN AMERICAN</td> <td>F     </td> <td>34  </td> <td>11436  NC 242 HWY S                </td> <td>BLADENBORO   </td> <td>NC         </td> <td>28320    </td> <td>11436 NC 242 HWY S        </td> <td>BLADENBORO      </td> <td>NC               </td> <td>28320          </td> <td>nan             </td> <td>nan             </td> <td>nan                 </td> <td>11/6/18    </td> <td>UNA             </td> <td>BLADENBORO #2   </td> <td>CONGRESSIONAL DISTRICT 9</td> <td>NC HOUSE DISTRICT 22</td> <td>NC SENATE DISTRICT 8</td> <td>MAIL                    </td> <td>MAIL           </td> <td>UNA                 </td> <td>4/3/18       </td> <td>9/21/18       </td> <td>nan          </td> <td>nan              </td> <td>nan                         </td> <td>    </td> <td>                </td>\n",
       "        </tr>\n",
       "        <tr>\n",
       "            <td>BLADEN     </td> <td>50008        </td> <td>AJ37032</td> <td>ADAMS          </td> <td>MARY            </td> <td>FRANCES          </td> <td>WHITE                    </td> <td>F     </td> <td>66  </td> <td>11316  CENTER RD                   </td> <td>BLADENBORO   </td> <td>NC         </td> <td>28320    </td> <td>11316 CENTER RD           </td> <td>BLADENBORO      </td> <td>NC               </td> <td>28320          </td> <td>nan             </td> <td>nan             </td> <td>nan                 </td> <td>11/6/18    </td> <td>UNA             </td> <td>BLADENBORO #2   </td> <td>CONGRESSIONAL DISTRICT 9</td> <td>NC HOUSE DISTRICT 22</td> <td>NC SENATE DISTRICT 8</td> <td>MAIL                    </td> <td>MAIL           </td> <td>UNA                 </td> <td>4/25/18      </td> <td>9/21/18       </td> <td>10/15/18     </td> <td>ACCEPTED         </td> <td>nan                         </td> <td>    </td> <td>                </td>\n",
       "        </tr>\n",
       "        <tr>\n",
       "            <td>BLADEN     </td> <td>22374        </td> <td>AJ16327</td> <td>ADAMS          </td> <td>MARY            </td> <td>EVETTE           </td> <td>BLACK or AFRICAN AMERICAN</td> <td>F     </td> <td>51  </td> <td>2343  MERCER MILL/BROWN MARSH RD   </td> <td>ELIZABETHTOWN</td> <td>NC         </td> <td>28337    </td> <td>                          </td> <td>                </td> <td>                 </td> <td>               </td> <td>                </td> <td>                </td> <td>                    </td> <td>11/6/18    </td> <td>DEM             </td> <td>ELIZABETHTOWN #2</td> <td>CONGRESSIONAL DISTRICT 7</td> <td>NC HOUSE DISTRICT 22</td> <td>NC SENATE DISTRICT 8</td> <td>IN PERSON               </td> <td>ONE-STOP       </td> <td>DEM                 </td> <td>10/23/18     </td> <td>10/23/18      </td> <td>10/23/18     </td> <td>ACCEPTED         </td> <td>BLADEN COUNTY PUBLIC LIBRARY</td> <td>    </td> <td>                </td>\n",
       "        </tr>\n",
       "    </tbody>\n",
       "</table>\n",
       "<p>... (8100 rows omitted)</p>"
      ],
      "text/plain": [
       "<IPython.core.display.HTML object>"
      ]
     },
     "metadata": {},
     "output_type": "display_data"
    }
   ],
   "source": [
    "bladen_absentees = Table.read_table(\"bladen.csv\")\n",
    "bladen_absentees.show(10)"
   ]
  },
  {
   "cell_type": "markdown",
   "metadata": {},
   "source": [
    "The dataset we provide on absentee ballots has a lot of extraneous information that we don't totally care about so let's clean it up. We won't break it into as many components this time as we did the first time. \n",
    "\n",
    "**2.6**: Clean up the `bladen_absentees` table so that we only have rows and columns that we care about. We want only rows that deal with \"CONGRESSIONAL DISTRICT 9\". At the very minimum, we want the `ballot_req_delivery_type`, `ballot_req_type`, `ballot_request_party`, `ballot_rtn_status`, and some sort of unique identifier for each voter. While it isn't totally necessary to, include the `county_desc` and `cong_dist_desc` columns as well\n",
    "\n",
    "*HINT #1*: Sometimes, `select` is better than `drop`. "
   ]
  },
  {
   "cell_type": "code",
   "execution_count": 25,
   "metadata": {},
   "outputs": [
    {
     "data": {
      "text/html": [
       "<table border=\"1\" class=\"dataframe\">\n",
       "    <thead>\n",
       "        <tr>\n",
       "            <th>county_desc</th> <th>ncid</th> <th>cong_dist_desc</th> <th>ballot_req_delivery_type</th> <th>ballot_req_type</th> <th>ballot_request_party</th> <th>ballot_rtn_status</th>\n",
       "        </tr>\n",
       "    </thead>\n",
       "    <tbody>\n",
       "        <tr>\n",
       "            <td>BLADEN     </td> <td>AJ43421</td> <td>CONGRESSIONAL DISTRICT 9</td> <td>IN PERSON               </td> <td>ONE-STOP       </td> <td>DEM                 </td> <td>ACCEPTED         </td>\n",
       "        </tr>\n",
       "        <tr>\n",
       "            <td>BLADEN     </td> <td>AJ20437</td> <td>CONGRESSIONAL DISTRICT 9</td> <td>IN PERSON               </td> <td>ONE-STOP       </td> <td>DEM                 </td> <td>ACCEPTED         </td>\n",
       "        </tr>\n",
       "        <tr>\n",
       "            <td>BLADEN     </td> <td>AJ38775</td> <td>CONGRESSIONAL DISTRICT 9</td> <td>MAIL                    </td> <td>MAIL           </td> <td>UNA                 </td> <td>nan              </td>\n",
       "        </tr>\n",
       "        <tr>\n",
       "            <td>BLADEN     </td> <td>AJ8344 </td> <td>CONGRESSIONAL DISTRICT 9</td> <td>MAIL                    </td> <td>MAIL           </td> <td>UNA                 </td> <td>ACCEPTED         </td>\n",
       "        </tr>\n",
       "        <tr>\n",
       "            <td>BLADEN     </td> <td>AJ29556</td> <td>CONGRESSIONAL DISTRICT 9</td> <td>MAIL                    </td> <td>MAIL           </td> <td>UNA                 </td> <td>nan              </td>\n",
       "        </tr>\n",
       "        <tr>\n",
       "            <td>BLADEN     </td> <td>AJ37032</td> <td>CONGRESSIONAL DISTRICT 9</td> <td>MAIL                    </td> <td>MAIL           </td> <td>UNA                 </td> <td>ACCEPTED         </td>\n",
       "        </tr>\n",
       "        <tr>\n",
       "            <td>BLADEN     </td> <td>AJ22931</td> <td>CONGRESSIONAL DISTRICT 9</td> <td>IN PERSON               </td> <td>ONE-STOP       </td> <td>DEM                 </td> <td>ACCEPTED         </td>\n",
       "        </tr>\n",
       "        <tr>\n",
       "            <td>BLADEN     </td> <td>AJ7473 </td> <td>CONGRESSIONAL DISTRICT 9</td> <td>IN PERSON               </td> <td>ONE-STOP       </td> <td>DEM                 </td> <td>ACCEPTED         </td>\n",
       "        </tr>\n",
       "        <tr>\n",
       "            <td>BLADEN     </td> <td>AJ7474 </td> <td>CONGRESSIONAL DISTRICT 9</td> <td>IN PERSON               </td> <td>ONE-STOP       </td> <td>DEM                 </td> <td>ACCEPTED         </td>\n",
       "        </tr>\n",
       "        <tr>\n",
       "            <td>BLADEN     </td> <td>AJ42469</td> <td>CONGRESSIONAL DISTRICT 9</td> <td>IN PERSON               </td> <td>ONE-STOP       </td> <td>DEM                 </td> <td>ACCEPTED         </td>\n",
       "        </tr>\n",
       "    </tbody>\n",
       "</table>\n",
       "<p>... (5961 rows omitted)</p>"
      ],
      "text/plain": [
       "county_desc | ncid    | cong_dist_desc           | ballot_req_delivery_type | ballot_req_type | ballot_request_party | ballot_rtn_status\n",
       "BLADEN      | AJ43421 | CONGRESSIONAL DISTRICT 9 | IN PERSON                | ONE-STOP        | DEM                  | ACCEPTED\n",
       "BLADEN      | AJ20437 | CONGRESSIONAL DISTRICT 9 | IN PERSON                | ONE-STOP        | DEM                  | ACCEPTED\n",
       "BLADEN      | AJ38775 | CONGRESSIONAL DISTRICT 9 | MAIL                     | MAIL            | UNA                  | nan\n",
       "BLADEN      | AJ8344  | CONGRESSIONAL DISTRICT 9 | MAIL                     | MAIL            | UNA                  | ACCEPTED\n",
       "BLADEN      | AJ29556 | CONGRESSIONAL DISTRICT 9 | MAIL                     | MAIL            | UNA                  | nan\n",
       "BLADEN      | AJ37032 | CONGRESSIONAL DISTRICT 9 | MAIL                     | MAIL            | UNA                  | ACCEPTED\n",
       "BLADEN      | AJ22931 | CONGRESSIONAL DISTRICT 9 | IN PERSON                | ONE-STOP        | DEM                  | ACCEPTED\n",
       "BLADEN      | AJ7473  | CONGRESSIONAL DISTRICT 9 | IN PERSON                | ONE-STOP        | DEM                  | ACCEPTED\n",
       "BLADEN      | AJ7474  | CONGRESSIONAL DISTRICT 9 | IN PERSON                | ONE-STOP        | DEM                  | ACCEPTED\n",
       "BLADEN      | AJ42469 | CONGRESSIONAL DISTRICT 9 | IN PERSON                | ONE-STOP        | DEM                  | ACCEPTED\n",
       "... (5961 rows omitted)"
      ]
     },
     "execution_count": 25,
     "metadata": {},
     "output_type": "execute_result"
    }
   ],
   "source": [
    "bladen_abs_d9 = bladen_absentees.where(\"cong_dist_desc\", \\\n",
    "                    are.equal_to(\"CONGRESSIONAL DISTRICT 9\"))\n",
    "bladen_abs_d9 = bladen_abs_d9.select(\"county_desc\", \"ncid\", \\\n",
    "                                     \"cong_dist_desc\", \\\n",
    "                                    \"ballot_req_delivery_type\", \\\n",
    "                                    \"ballot_req_type\", \\\n",
    "                                    \"ballot_request_party\", \\\n",
    "                                    \"ballot_rtn_status\")\n",
    "bladen_abs_d9"
   ]
  },
  {
   "cell_type": "code",
   "execution_count": 26,
   "metadata": {
    "editable": false
   },
   "outputs": [],
   "source": [
    "assert (bladen_abs_d9.num_rows, bladen_abs_d9.num_columns) == (5971, 7)\n",
    "assert all(bladen_abs_d9['county_desc'] == \"BLADEN\")"
   ]
  },
  {
   "cell_type": "markdown",
   "metadata": {},
   "source": [
    "**2.7**: Use the `group` function, to compute the percentage of absentee ballot voters that requested a Republican ballot. "
   ]
  },
  {
   "cell_type": "code",
   "execution_count": 27,
   "metadata": {},
   "outputs": [
    {
     "data": {
      "text/html": [
       "<table border=\"1\" class=\"dataframe\">\n",
       "    <thead>\n",
       "        <tr>\n",
       "            <th>ballot_request_party</th> <th>count</th>\n",
       "        </tr>\n",
       "    </thead>\n",
       "    <tbody>\n",
       "        <tr>\n",
       "            <td>CST                 </td> <td>1    </td>\n",
       "        </tr>\n",
       "        <tr>\n",
       "            <td>DEM                 </td> <td>2918 </td>\n",
       "        </tr>\n",
       "        <tr>\n",
       "            <td>LIB                 </td> <td>5    </td>\n",
       "        </tr>\n",
       "        <tr>\n",
       "            <td>REP                 </td> <td>1213 </td>\n",
       "        </tr>\n",
       "        <tr>\n",
       "            <td>UNA                 </td> <td>1834 </td>\n",
       "        </tr>\n",
       "    </tbody>\n",
       "</table>"
      ],
      "text/plain": [
       "ballot_request_party | count\n",
       "CST                  | 1\n",
       "DEM                  | 2918\n",
       "LIB                  | 5\n",
       "REP                  | 1213\n",
       "UNA                  | 1834"
      ]
     },
     "execution_count": 27,
     "metadata": {},
     "output_type": "execute_result"
    }
   ],
   "source": [
    "bladenabs_d9byparty = bladen_abs_d9.group(\"ballot_request_party\")\n",
    "bladenabs_d9byparty"
   ]
  },
  {
   "cell_type": "code",
   "execution_count": 28,
   "metadata": {},
   "outputs": [
    {
     "data": {
      "text/plain": [
       "20.314855133143528"
      ]
     },
     "execution_count": 28,
     "metadata": {},
     "output_type": "execute_result"
    }
   ],
   "source": [
    "republicans = bladenabs_d9byparty.column(\"count\")[3]\n",
    "rep_percent = percent(republicans, sum(bladenabs_d9byparty['count']))\n",
    "rep_percent"
   ]
  },
  {
   "cell_type": "code",
   "execution_count": 29,
   "metadata": {
    "editable": false
   },
   "outputs": [],
   "source": [
    "assert round(rep_percent, 2) == 20.31"
   ]
  },
  {
   "cell_type": "markdown",
   "metadata": {},
   "source": [
    "**2.8**: Is there a noticeable discrepancy that makes you suspicious?"
   ]
  },
  {
   "cell_type": "markdown",
   "metadata": {},
   "source": [
    "YOUR ANSWER HERE: "
   ]
  },
  {
   "cell_type": "markdown",
   "metadata": {},
   "source": [
    "Sometimes it can be hard to really undertand what's going on with just numbers. Instead, let's try to visualize exactly how our data is working. First, however, to get an accurate asssessment, let's limit the absentee ballots we're looking at to the ones mailed in and accepted.\n",
    "\n",
    "**2.9**: Create a table from the <code>bladen_abs_d9</code> table that lists the number of people registered per party, counting only the ballots where the <code>ballot_req_type</code> was MAIL and the <code>ballot_rtn_status</code> was ACCEPTED."
   ]
  },
  {
   "cell_type": "code",
   "execution_count": 30,
   "metadata": {},
   "outputs": [
    {
     "data": {
      "text/html": [
       "<table border=\"1\" class=\"dataframe\">\n",
       "    <thead>\n",
       "        <tr>\n",
       "            <th>ballot_request_party</th> <th>count</th>\n",
       "        </tr>\n",
       "    </thead>\n",
       "    <tbody>\n",
       "        <tr>\n",
       "            <td>DEM                 </td> <td>285  </td>\n",
       "        </tr>\n",
       "        <tr>\n",
       "            <td>LIB                 </td> <td>1    </td>\n",
       "        </tr>\n",
       "        <tr>\n",
       "            <td>REP                 </td> <td>130  </td>\n",
       "        </tr>\n",
       "        <tr>\n",
       "            <td>UNA                 </td> <td>263  </td>\n",
       "        </tr>\n",
       "    </tbody>\n",
       "</table>"
      ],
      "text/plain": [
       "ballot_request_party | count\n",
       "DEM                  | 285\n",
       "LIB                  | 1\n",
       "REP                  | 130\n",
       "UNA                  | 263"
      ]
     },
     "execution_count": 30,
     "metadata": {},
     "output_type": "execute_result"
    }
   ],
   "source": [
    "mail_only = bladen_abs_d9.where(\"ballot_req_type\", are.equal_to(\"MAIL\"))\n",
    "mail_only = mail_only.where(\"ballot_rtn_status\", are.equal_to(\"ACCEPTED\"))\n",
    "mail_only_parties = mail_only.group(\"ballot_request_party\")\n",
    "mail_only_parties"
   ]
  },
  {
   "cell_type": "markdown",
   "metadata": {},
   "source": [
    "Now that we have the specific number of people who when requesting their ballots identified as DEM/LIB/REP/UNA, let's take a look at how the vote actually went.\n",
    "\n",
    "**2.10**: Create an overlaid bar chart of the count per party*. An overlaid bar chart is a bar chart with two different datasets contained in it, plotted with the same x-axis and y-axis. One bar should represent the total number of ballots requested for a party. The other bar should represent the total number of votes for the party.\n",
    "\n",
    "\\* For reference: https://www.inferentialthinking.com/chapters/07/3/Overlaid_Graphs.html"
   ]
  },
  {
   "cell_type": "code",
   "execution_count": 31,
   "metadata": {},
   "outputs": [
    {
     "data": {
      "image/png": "[encoded data removed]",
      "text/plain": [
       "<Figure size 432x288 with 1 Axes>"
      ]
     },
     "metadata": {},
     "output_type": "display_data"
    }
   ],
   "source": [
    "votes = bladen_abs.column(\"Total Votes\")\n",
    "# Notice that you can request a UNA (unaffiliated) ballot, but cannot vote for an unaffiliated candidate.\n",
    "# The .append adds in a row for UNA to the votes array so that each column has the same number of rows.\n",
    "votes = np.append(votes, 0)\n",
    "# Create a new table that represents the two bars asked for in the question\n",
    "comparisons = Table().with_columns(\"Party\", mail_only_parties[0], \"Voted For\", votes, \n",
    "                                     \"Registered As\", mail_only_parties[1])\n",
    "\n",
    "# Using the table, create an overlaid bar chart\n",
    "comparisons.barh(\"Party\")"
   ]
  },
  {
   "cell_type": "markdown",
   "metadata": {},
   "source": [
    "## 3. Richmond County: Winning The Election Is A Good-News, Bad-News Kind of Thing. Okay, Now You're The Mayor. The Bad News Is, Now You're The Mayor."
   ]
  },
  {
   "cell_type": "markdown",
   "metadata": {},
   "source": [
    "**NOTE: THIS PROBLEM WILL BE CHALLENGING, BUT IT'S GOOD TO LEARN FROM AND WORK THROUGH. PLEASE START EARLY AND COME MEET US FOR OFFICE HOURS IF YOU NEED HELP.**"
   ]
  },
  {
   "cell_type": "markdown",
   "metadata": {},
   "source": [
    "When you're analyzing data, it's really important to contextualize the numbers we've already calculated by examining the differences when compared to other similarly-calculated numbers. While a better analysis would compare the results of the potential discrepancy to the results in all other counties in North Carolina Congressional District 9, we'll save you the time and only require you to look at one other county: Richmond County. \n",
    "\n",
    "We won't break up the analysis as much as we did in the previous section, but you should be able to follow a similar type of procedure to compute the same numbers (***NOTE: This is why it's a good idea to write generalizable functions***). Instead, we'll provide some guidelines and you should provide the code, the calculations, and the explanations to further your analysis. "
   ]
  },
  {
   "cell_type": "markdown",
   "metadata": {},
   "source": [
    "**3.1**: Does the same discrepancy of number of absentee votes exist in Richmond County as it does in Bladen County? "
   ]
  },
  {
   "cell_type": "markdown",
   "metadata": {},
   "source": [
    "**Some Guidance**\n",
    "\n",
    "Take a look at how we calculated these values in the previous problem. We are essentially going to do that same work here, but instead of using bladen.csv, we want to use richmond.csv, as that contains the new data we are analyzing. Take note of any differences there are between these two data files! richmond.csv does NOT have an \"ABSENTEE\" precinct, however, there are still tallied counts for \"Absentee by Mail\". Other than that, most of the data should have already been cleaned for you.\n",
    "\n",
    "**General Procedure**\n",
    "- create the same tables as in Part 2\n",
    "- create the same graphs\n",
    "- compute the same values and compare\n",
    "- create the same visualization\n"
   ]
  },
  {
   "cell_type": "code",
   "execution_count": 32,
   "metadata": {},
   "outputs": [
    {
     "data": {
      "text/plain": [
       "Ellipsis"
      ]
     },
     "execution_count": 32,
     "metadata": {},
     "output_type": "execute_result"
    }
   ],
   "source": [
    "## Fill in your code here. Feel free to break up into multiple cells\n",
    "## if needed. Make sure to give descriptive variable names so that\n",
    "## it's easier for us to follow when we grade\n",
    "..."
   ]
  },
  {
   "cell_type": "markdown",
   "metadata": {},
   "source": [
    "**3.2**: Without considering external information, what conclusions can you draw about the North Carolina Congressional District 9 election? Explain in approximately a paragraph that explains the results and any explanations you may have for it."
   ]
  },
  {
   "cell_type": "markdown",
   "metadata": {},
   "source": [
    "YOUR ANSWER HERE: "
   ]
  },
  {
   "cell_type": "markdown",
   "metadata": {},
   "source": [
    "## 4. Writing Questions: The Greatest Threat To The Constitutional Right To Vote Is Voter Fraud"
   ]
  },
  {
   "cell_type": "markdown",
   "metadata": {},
   "source": [
    "For the following questions, please elaborate in more than just a few sentences. The questions will be graded on the thoughtfulness of the the answer. Please feel free to bring in as much additional information as you'd like, though be sure to cite your sources when doing so. "
   ]
  },
  {
   "cell_type": "markdown",
   "metadata": {},
   "source": [
    "**4.1**: One of the primary reasons why people were able to discover the discrepancy inresults in the North Carolina Congressional District 9 election stems from the strong election transparency laws the state has regarding its elections. What degree of transparency is necessary to ensure elections remain fair? For states that aren't as transparent about their election laws, what policy recommendations do you have to ensure fair and secure elections?"
   ]
  },
  {
   "cell_type": "markdown",
   "metadata": {},
   "source": [
    "YOUR ANSWER HERE"
   ]
  },
  {
   "cell_type": "markdown",
   "metadata": {},
   "source": [
    "**4.2**: Recall the `bladen_absentees` table and the data it had inside of it. This information is public and accessible to anyone looking for it. While we haven't talked about it at all over the course of the semester, there are some ethical concerns that are fairly apparent with the data provided. What are some important considerations regarding how this data is being handled and shared? Are there any ethical concerns that secretaries of states should consider?"
   ]
  },
  {
   "cell_type": "markdown",
   "metadata": {},
   "source": [
    "YOUR ANSWER HERE"
   ]
  },
  {
   "cell_type": "markdown",
   "metadata": {},
   "source": [
    "**4.3**: If you are a registered voter in the United States, imagine something like this occurred in your district. Who would be the major players (e.g. people, agencies, etc.) involved in the scandal? Are there laws in place that prevent the type of fraudulent behavior seen in North Carolina? If yes, explain those laws and regulations and how it prevents fraud. If no, what policy recommendations would you propose? If you are ineligible to vote in the United States, write about your \"home district\" whether that may be your district based off your Berkeley address or your home country. Take your pick. "
   ]
  },
  {
   "cell_type": "markdown",
   "metadata": {},
   "source": [
    "YOUR ANSWER HERE"
   ]
  },
  {
   "cell_type": "markdown",
   "metadata": {},
   "source": [
    "## Additional Reading"
   ]
  },
  {
   "cell_type": "markdown",
   "metadata": {},
   "source": [
    "NC Prosecutor Has Been Probing Election Fraud in 9th District Going Back to 2016: https://www.rollcall.com/news/politics/in-9th-district-n-c-prosecutor-has-been-probing-election-fraud-for-months<br>\n",
    "North Carolina elections board sets new dates for House election: https://www.reuters.com/article/us-usa-election-north-carolina-idUSKCN1QL29U<br>\n",
    "Leslie McCrae Dowless: 5 Fast Facts You Need to Know: https://heavy.com/news/2018/12/leslie-mccrae-dowless/<br>\n",
    "What's Happening in North Carolina's 9th Congressional District: https://www.cnn.com/2018/12/12/politics/north-carolina-district-9-state-of-play/index.html"
   ]
  },
  {
   "cell_type": "markdown",
   "metadata": {},
   "source": [
    "## Submission"
   ]
  },
  {
   "cell_type": "markdown",
   "metadata": {},
   "source": [
    "Congratulations, you've reached the end of this coding assignment! To submit, go to datahub.berkeley.edu. Find your file. Click the checkbox next to the file. If it is green, press shutdown. If it isn't lit up, press \"Download\". After you download it, please rename the file to follow this format, \"[YOUR NAME + COLLABORATOR NAME] CODING ASSIGNMENT #2.ipynb\", and submit it to the correct bCourses assignment page."
   ]
  },
  {
   "cell_type": "markdown",
   "metadata": {},
   "source": [
    "## Quotes\n",
    "\n",
    "(1) \"The problem with political jokes is that they get elected.\" - Henry Cate VII<br>\n",
    "(2) \"The people who cast the votes decide nothing; the people who count the votes decide everything.\" - Josef Stalin<br>\n",
    "(3) \"I don't know much about Americanism, but it's a damn good word with which to carry an election.\" - Warren G. Harding<br>\n",
    "(4) \"Winning the election is a good-news, bad-news kind of thing. Okay, now you're the mayor. The bad news is, now you're the mayor.\" - Clint Eastwood<br>"
   ]
  }
 ],
 "metadata": {
  "kernelspec": {
   "display_name": "Python 3",
   "language": "python",
   "name": "python3"
  },
  "language_info": {
   "codemirror_mode": {
    "name": "ipython",
    "version": 3
   },
   "file_extension": ".py",
   "mimetype": "text/x-python",
   "name": "python",
   "nbconvert_exporter": "python",
   "pygments_lexer": "ipython3",
   "version": "3.6.7"
  }
 },
 "nbformat": 4,
 "nbformat_minor": 2
}
