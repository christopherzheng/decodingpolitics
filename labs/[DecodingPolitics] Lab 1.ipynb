{
 "cells": [
  {
   "cell_type": "markdown",
   "metadata": {},
   "source": [
    "# Week 1 Lab: Using Python to Simulate Hypothetical Elections"
   ]
  },
  {
   "cell_type": "markdown",
   "metadata": {},
   "source": [
    "Welcome to our class! We are excited to provide an introduction to how technology and data can be used for political analysis. \n",
    "\n",
    "Each week, you will complete a lab like this one in order to reinforce technical concepts and see practical applications towards political topics. Hands-on practice is the best way to grasp technical concepts, so completing labs are important for your conceptual knowledge.\n",
    "\n",
    "This class will introduce you to Python. This coding langugage is one of the most popular langugages to learn programming with and will help lay the foundations for future programming in classes such as Data 8 or CS61A."
   ]
  },
  {
   "cell_type": "markdown",
   "metadata": {},
   "source": [
    "Labs are important and make up 5% of the class grade. They also count towards the \"effort\" category. If you have any questions about anything covered in the labs or lecture, please feel free to reach out to us! Additionally, as data science and technical classes are collaborative in nature, we encourage collaboration among you and your classmates. However, there are limits to this, which are sharing code and directly providing answers to others. "
   ]
  },
  {
   "cell_type": "markdown",
   "metadata": {},
   "source": [
    "### Today's Lab—Using Python to Simulate Hypothetical Elections"
   ]
  },
  {
   "cell_type": "markdown",
   "metadata": {},
   "source": [
    "In today's lab, you will learn how to:\n",
    "\n",
    "1. Practice writing and evaluating expressions in Python. \n",
    "2. Understand what functions are and how they can be used to make code more efficient.\n",
    "3. Learn what different parts of code do.\n",
    "\n",
    "This will be in context will this week's political topic: elections.\n",
    "\n",
    "Note: In some portions of the lab, there will be ellipses (...) that you will be filling in with code. Please don't hestitate to ask one of the facilitators if you have any questions."
   ]
  },
  {
   "cell_type": "markdown",
   "metadata": {},
   "source": [
    "#### A Note on Documentation"
   ]
  },
  {
   "cell_type": "code",
   "execution_count": null,
   "metadata": {},
   "outputs": [],
   "source": [
    "# This line is a single line comment-in order to create a comment, you use the \"#\" symbol. \n",
    "\n",
    "\"\"\" \n",
    "This is a multi line comment. Comments can be used to indicate what the code that you are writing does, what errors \n",
    "(or bugs) you are running into, etc. In order to create a single lined comment, you use the \"#\" symbol. Multi-line \n",
    "comments use \". These are used primarily for documentation. The code below imports data science packages we will use \n",
    "that will help with the analysis conducted in this lab. We'd like you to try to add a comment to any code that you \n",
    "write so that we can understand what the function or algorithm is supposed to do.\n",
    "  \n",
    "\"\"\""
   ]
  },
  {
   "cell_type": "markdown",
   "metadata": {},
   "source": [
    "An important principle in Computer Science is to not re-invent the wheel. To the best of your ability, don't repeat work that has already been done, either by you or by other developers. That is not to say to copy other people's code directly. One way to make use of other people's code is to install and use packages known as *libraries*. To use these libraries, we must first **import**, which is what you see below. "
   ]
  },
  {
   "cell_type": "code",
   "execution_count": null,
   "metadata": {},
   "outputs": [],
   "source": [
    "from datascience import * # this is the library developed and used by Data 8 \n",
    "import numpy as np\n",
    "import random"
   ]
  },
  {
   "cell_type": "markdown",
   "metadata": {},
   "source": [
    "Note the asterisk (\\*) in the first line means to import everything in that libary. "
   ]
  },
  {
   "cell_type": "markdown",
   "metadata": {},
   "source": [
    "## 1. The Electoral College"
   ]
  },
  {
   "cell_type": "markdown",
   "metadata": {},
   "source": [
    "\"The Electoral College consists of 538 electors. A majority of 270 electoral votes is required to elect the President. Electoral votes are allocated among the states based on the Census. Every state is allocated a number of votes equal to the number of senators and representatives in its U.S. Congressional delegation—two votes for its senators in the U.S. Senate plus a number of votes equal to the number of its members in the U. S. House of Representatives.\" \n",
    "\n",
    "-National Archives and Records Administration\n",
    "\n",
    "One state constantly in Electoral College news is Florida. Following the 2000 elections, Florida made headlines not only for its election processes, but also for the Electoral College determining the presidency, diverging from the popular vote result. \n",
    "\n",
    "This next question follows a simulation using the data from the more recent 2016 presidential election and 2010 census, which can be found [here](https://www.archives.gov/federal-register/electoral-college/allocation.html)."
   ]
  },
  {
   "cell_type": "code",
   "execution_count": null,
   "metadata": {},
   "outputs": [],
   "source": [
    "# This code is creating two arrays and then joining them together as a table. Don't worry about tables for right\n",
    "# now, we'll learn more about them in the next couple of weeks. Basically, two arrays have been joined together \n",
    "# to create a table to better visualize the electoral college. \n",
    "\n",
    "allocated_reps_states = np.array([\"Alabama\", \"Alaska\", \"Arizona\", \"Arkansas\", \"California\", \"Colorado\", \n",
    "                            \"Connecticut\", \"Delaware\", \"District of Columbia\", \"Florida\", \"Georgia\", \n",
    "                            \"Hawaii\", \"Idaho\", \"Illinois\", \"Indiana\", \"Iowa\", \"Kansas\", \"Kentucky\", \n",
    "                            \"Louisiana\", \"Maine\", \"Maryland\", \"Massachusetts\", \"Michigan\", \"Minnesota\",\n",
    "                            \"Mississippi\", \"Missouri\", \"Montana\", \"Nebraska\", \"Nevada\", \"New Hampshire\", \n",
    "                            \"New Jersey\", \"New Mexico\", \"New York\", \"North Carolina\", \"North Dakota\",\n",
    "                            \"Ohio\", \"Oklahoma\", \"Oregon\", \"Pennsylvania\", \"Rhode Island\", \"South Carolina\",\n",
    "                            \"South Dakota\", \"Tennessee\", \"Texas\", \"Utah\", \"Vermont\", \"Virginia\", \"Washington\", \n",
    "                            \"West Virginia\", \"Wisconsin\", \"Wyoming\"])\n",
    "\n",
    "allocated_state_numbers = np.array([9, 3, 11, 6, 55, 9, \n",
    "                                    7, 3, 3, 29, 16,\n",
    "                                    4, 4, 20, 11, 6, 6, 8,\n",
    "                                    8, 4, 10, 11, 16, 10, \n",
    "                                    6, 10, 3, 5, 6, 4,\n",
    "                                    14, 5, 29, 15, 3,\n",
    "                                    18, 7, 7, 20, 4, 9, \n",
    "                                    3, 11, 38, 6, 3, 13, 12, \n",
    "                                    5, 10, 3])\n",
    "\n",
    "# Note: each number in allocated_state_numbers corresponds to a value in allocated_reps_states at the same\n",
    "# position\n",
    "\n",
    "allocated_states_2016 = Table().with_columns(\"States\", allocated_reps_states,\n",
    "                                             \"Numbers of Electoral College Representatives\", \n",
    "                                             allocated_state_numbers)"
   ]
  },
  {
   "cell_type": "code",
   "execution_count": null,
   "metadata": {},
   "outputs": [],
   "source": [
    "allocated_states_2016.show()"
   ]
  },
  {
   "cell_type": "markdown",
   "metadata": {},
   "source": [
    "Using two functions called $max()$ and $min()$, we can generate the state with the highest and lowest electoral college representatives."
   ]
  },
  {
   "cell_type": "markdown",
   "metadata": {},
   "source": [
    "#### 1.1 What is the highest number of electorates among all the states? Which state(s) is/are this?"
   ]
  },
  {
   "cell_type": "code",
   "execution_count": null,
   "metadata": {},
   "outputs": [],
   "source": [
    "max_amount = ..."
   ]
  },
  {
   "cell_type": "code",
   "execution_count": null,
   "metadata": {},
   "outputs": [],
   "source": [
    "state_with_most = allocated_states_2016.where(\"Numbers of Electoral College Representatives\", \n",
    "                                              are.equal_to(max_amount))"
   ]
  },
  {
   "cell_type": "markdown",
   "metadata": {},
   "source": [
    "YOUR ANSWER HERE: "
   ]
  },
  {
   "cell_type": "code",
   "execution_count": null,
   "metadata": {
    "editable": false
   },
   "outputs": [],
   "source": [
    "assert max_amount == max(allocated_state_numbers)\n",
    "assert state_with_most[0] == 'California'"
   ]
  },
  {
   "cell_type": "markdown",
   "metadata": {},
   "source": [
    "#### 1.2 What is the lowest number of electorates among all the states? Which state(s) is/are this?"
   ]
  },
  {
   "cell_type": "code",
   "execution_count": null,
   "metadata": {},
   "outputs": [],
   "source": [
    "min_amount = ..."
   ]
  },
  {
   "cell_type": "code",
   "execution_count": null,
   "metadata": {},
   "outputs": [],
   "source": [
    "state_with_least = allocated_states_2016.where(\"Numbers of Electoral College Representatives\", \n",
    "                                               are.equal_to(min_amount))"
   ]
  },
  {
   "cell_type": "markdown",
   "metadata": {},
   "source": [
    "YOUR ANSWER HERE: "
   ]
  },
  {
   "cell_type": "code",
   "execution_count": null,
   "metadata": {
    "editable": false
   },
   "outputs": [],
   "source": [
    "assert min_amount == min(allocated_state_numbers)\n",
    "np.testing.assert_array_equal(state_with_least['States'], make_array('Alaska', 'Delaware', \n",
    "                                                                     'District of Columbia', \n",
    "                                                                     'Montana', 'North Dakota',\n",
    "                                                                     'South Dakota', 'Vermont',\n",
    "                                                                     'Wyoming'))"
   ]
  },
  {
   "cell_type": "markdown",
   "metadata": {},
   "source": [
    "#### 1.3 Given that you need 270 (of 538) Electoral College votes to win a presidential election, determine one possibility of states that a candidate must win in order to get to at least 270 votes. "
   ]
  },
  {
   "cell_type": "code",
   "execution_count": null,
   "metadata": {},
   "outputs": [],
   "source": [
    "def to_win_presidential(states, num_reps, goal=270):\n",
    "    total = ...\n",
    "    states_to_win = np.zeros(shape=0)\n",
    "    for ...: \n",
    "        ...\n",
    "    return states_to_win, total\n",
    "            \n",
    "states, total = to_win_presidential(allocated_reps_states, allocated_state_numbers)"
   ]
  },
  {
   "cell_type": "markdown",
   "metadata": {},
   "source": [
    "YOUR ANSWER HERE: "
   ]
  },
  {
   "cell_type": "code",
   "execution_count": null,
   "metadata": {},
   "outputs": [],
   "source": [
    "np.testing.assert_array_equal(states, make_array(\"Alabama\", \"Alaska\", \"Arizona\", \"Arkansas\", \n",
    "                                                 \"California\", \"Colorado\", \"Connecticut\", \"Delaware\", \n",
    "                                                 \"District of Columbia\", \"Florida\", \"Georgia\", \n",
    "                                                 \"Hawaii\", \"Idaho\", \"Illinois\", \"Indiana\", \"Iowa\", \n",
    "                                                 \"Kansas\", \"Kentucky\", \"Louisiana\", \"Maine\", \"Maryland\", \n",
    "                                                 \"Massachusetts\", \"Michigan\", \"Minnesota\", \"Mississippi\"))\n",
    "assert total == 275"
   ]
  },
  {
   "cell_type": "markdown",
   "metadata": {},
   "source": [
    "## 2. The Presidential Hunger Games"
   ]
  },
  {
   "cell_type": "markdown",
   "metadata": {},
   "source": [
    "Assume that we are in an apocalyptic society where we can only \"reap\" from a pool of past presidents. We've created a fairly trivial election voting system for you below. "
   ]
  },
  {
   "cell_type": "code",
   "execution_count": null,
   "metadata": {},
   "outputs": [],
   "source": [
    "list_of_presidents = make_array(\"George Washington\", \"Thomas Jefferson\", \"Abraham Lincoln\", \n",
    "                                \"Theodore Rooesevelt\", \"Dwight D. Eisenhower\", \"John F. Kennedy\", \n",
    "                                \"Ronald Reagan\", \"Bill Clinton\", \"George W. Bush\", \"Barack Obama\")\n",
    "\n",
    "def presidential_hunger_games(presidents):\n",
    "    x, y = random.randint(0, len(presidents)), random.randint(0, len(presidents))\n",
    "    z = (presidents[x], presidents[y])\n",
    "    print(\"The candidates are \" + presidents[x], \"and \" + presidents[y] + \". \" + \n",
    "                 \"The winner is \" + random.choice(z) + \".\")\n",
    "\n",
    "presidential_hunger_games(list_of_presidents)"
   ]
  },
  {
   "cell_type": "markdown",
   "metadata": {},
   "source": [
    "#### 2.1 Describe what is going on in the election voting system that we have provided above. In a few sentences, tell us how it works."
   ]
  },
  {
   "cell_type": "markdown",
   "metadata": {},
   "source": [
    "YOUR ANSWER HERE: "
   ]
  },
  {
   "cell_type": "markdown",
   "metadata": {},
   "source": [
    "#### 2.2 What are some problems with this type of system? Provide examples to describe any problems that exist."
   ]
  },
  {
   "cell_type": "markdown",
   "metadata": {},
   "source": [
    "YOUR ANSWER HERE: "
   ]
  },
  {
   "cell_type": "markdown",
   "metadata": {},
   "source": [
    "## 3. Casting a Deciding Vote"
   ]
  },
  {
   "cell_type": "markdown",
   "metadata": {},
   "source": [
    "Let's get started. We'll run through some examples of the basic syntax that you'll be using frequently throughout this course. All of this will be geared toward answering a question about how many times a voter (you) will be the deciding vote. "
   ]
  },
  {
   "cell_type": "markdown",
   "metadata": {},
   "source": [
    "More specifically, this is the scenario we are trying to figure out: In your small town, you are one of 101 voters choosing amongst 3 candidates for mayor. Everyone besides you will vote randomly for 1 of the 3 candidates. If it helps, this makes you the 101st voter. The highest vote getter will be the winner (ties mean no winner). What are the odds that you cast the deciding vote that propels your preferred candidate to victory? Run through the election many times (e.g. 10,000). Each runthrough should compute whether the voter would be a deciding vote computing whether. Once the entire simulation has completed, determine the percentage of times you are the deciding vote. "
   ]
  },
  {
   "cell_type": "markdown",
   "metadata": {},
   "source": [
    "One of the toughest parts to solving problems is knowing where to start. Since this is the first problem you'll ever work on, we'll get you started. First, let's define three variables to represent each candidates' vote total. "
   ]
  },
  {
   "cell_type": "code",
   "execution_count": null,
   "metadata": {},
   "outputs": [],
   "source": [
    "# DELETE THE ELLIPSIS AND FILL IN WITH APPROPRIATE VALUE \n",
    "candidate1 = ... \n",
    "candidate2 = ...\n",
    "candidate3 = ..."
   ]
  },
  {
   "cell_type": "markdown",
   "metadata": {},
   "source": [
    "Now, we have three variables ($candidate1$, $candidate2$, and $candidate3$) that represents the total number of votes that candidate has received. Next, we should figure out figure out the voting process. Each of the voters in the town, except you, vote randomly. One of the libraries that we imported in the beginning was **random**, which will help us generate random numbers as we need them. "
   ]
  },
  {
   "cell_type": "code",
   "execution_count": null,
   "metadata": {},
   "outputs": [],
   "source": [
    "# In the next two lines of code, we've generated 5 different random numbers and printed it\n",
    "for _ in range(5): \n",
    "    print(random.randint(1, 3))"
   ]
  },
  {
   "cell_type": "markdown",
   "metadata": {},
   "source": [
    "Let's do a  quick review of two important syntax items in Python before moving on. \n",
    "\n",
    "**For loop**: Loops, in general, are fantastic if we want to repeat a set of instruction a whole bunch of times. For loops, specifically, are better used when we know how many times to repeat. While loops, the other type of loops, can also be used for a specific number of times but is more commonly used with a condition. \n",
    "\n",
    "**If-Elif-Else**: If-elif-else statements allows us to do conditional work. If something is true, we should do something specific. If it's false, we follow some different instruction. "
   ]
  },
  {
   "cell_type": "code",
   "execution_count": null,
   "metadata": {},
   "outputs": [],
   "source": [
    "# building off the above cell, let's create the voting process\n",
    "\n",
    "for _ in range(100): # this allows us to mimic 100 people doing some similar action\n",
    "    vote = ... # remember, voters choose candidates they vote for randomly\n",
    "    if vote == ...: \n",
    "        # HERE WE SHOULD CHANGE THE VOTE TOTAL FOR THE CORRECT CANDIDATE\n",
    "    elif vote == ...: \n",
    "        # HERE WE SHOULD CHANGE THE VOTE TOTAL FOR THE CORRECT CANDIDATE\n",
    "    elif vote == ...: # NOTE: it's totally fine to just write \"else:\" here\n",
    "        # HERE WE SHOULD CHANGE THE VOTE TOTAL FOR THE CORRECT CANDIDATE"
   ]
  },
  {
   "cell_type": "markdown",
   "metadata": {},
   "source": [
    "Great! Now, it's your turn to vote. It actually doesn't quite matter who you vote for. The more important idea here is to realize in which situations would you be the deciding vote. You would be the deciding vote if any two candidates are tied, you could be the tiebreaker (but you aren't necessarily the one), and the tied candidates received more votes than the third candidate. For example, let's say Candidate 1 receives 25 votes, Candidate 2 receives 25 votes, and Candidate 3 receives 50 votes. You are not a deciding vote because no matter which candidate you vote for, Candidate 3 will still win. Just to make sure things aren't overly complicated in terms of code, we'll re-organize some of the code you've written above. "
   ]
  },
  {
   "cell_type": "code",
   "execution_count": null,
   "metadata": {},
   "outputs": [],
   "source": [
    "votecount = [candidate1, candidate2, candidate3]\n",
    "if votecount.count(max(votecount)) == 1: # if the max number of votes shows up only once\n",
    "    print(\"You were not the deciding vote!\")\n",
    "elif votecount.count(max(votecount)) == 2: # if the max number of votes shows up twice\n",
    "    print(\"You are the deciding vote!\")"
   ]
  },
  {
   "cell_type": "markdown",
   "metadata": {},
   "source": [
    "For one election, we've determined if you are or aren't the deciding vote. Now, we want to compute how many times we are the deciding vote by creating a simulation of 10,000 elections. We'll build on a lot of the code that you've already written to demonstrate how we can accomplish this. "
   ]
  },
  {
   "cell_type": "code",
   "execution_count": null,
   "metadata": {},
   "outputs": [],
   "source": [
    "def simulation(sim_num=10000): # this is how we create a function, which helps to make sure we don't repeat code\n",
    "    deciding_vote = 0 # this variable will be a tracker of the number of times you are the deciding vote\n",
    "    for _ in range(sim_num): \n",
    "        votecount = [0, 0, 0] # each item in the list represents a candidate\n",
    "        for ...: \n",
    "            vote = ... # this should be almost exactly the same as it was above\n",
    "            votecount[vote] = votecount[vote] + 1 # this is slightly different from how you did it originally\n",
    "        cand1, cand2, cand3 = votecount[0], votecount[1], votecount[2]\n",
    "        if ...: \n",
    "            ...\n",
    "    ...\n",
    "    return ..."
   ]
  },
  {
   "cell_type": "code",
   "execution_count": null,
   "metadata": {},
   "outputs": [],
   "source": [
    "election_result = simulation()\n",
    "election_result"
   ]
  },
  {
   "cell_type": "markdown",
   "metadata": {},
   "source": [
    "#### 3.1 Running through the simulation, what is the proportion of times where you cast the deciding vote?"
   ]
  },
  {
   "cell_type": "markdown",
   "metadata": {},
   "source": [
    "YOUR ANSWER HERE: "
   ]
  },
  {
   "cell_type": "markdown",
   "metadata": {},
   "source": [
    "#### 3.2 What conditions need to be true for you to be the deciding vote?"
   ]
  },
  {
   "cell_type": "markdown",
   "metadata": {},
   "source": [
    "YOUR ANSWER HERE: "
   ]
  },
  {
   "cell_type": "markdown",
   "metadata": {},
   "source": [
    "#### 3.3 How does this number change as you run through it multiple times? What is the factor accounting for the change?"
   ]
  },
  {
   "cell_type": "markdown",
   "metadata": {},
   "source": [
    "YOUR ANSWER HERE: "
   ]
  },
  {
   "cell_type": "markdown",
   "metadata": {},
   "source": [
    "Congratulations, you've reached the end of this lab! While this lab is graded by effort, we still want to make sure that all of you get a grade for this assignment. To submit, go to datahub.berkeley.edu. Find your file. Click the checkbox next to the file. If it is green, press shutdown. If it isn't lit up, press \"Download\". After you download it, please rename the file to follow this format, \"[YOUR NAME] WEEK 1 LAB.ipynb\", and submit it to the correct bCourses assignment page. "
   ]
  }
 ],
 "metadata": {
  "kernelspec": {
   "display_name": "Python 3",
   "language": "python",
   "name": "python3"
  },
  "language_info": {
   "codemirror_mode": {
    "name": "ipython",
    "version": 3
   },
   "file_extension": ".py",
   "mimetype": "text/x-python",
   "name": "python",
   "nbconvert_exporter": "python",
   "pygments_lexer": "ipython3",
   "version": "3.6.7"
  }
 },
 "nbformat": 4,
 "nbformat_minor": 2
}
