{
 "cells": [
  {
   "cell_type": "markdown",
   "metadata": {},
   "source": [
    "# Week 5: Introduction to Data Visualization"
   ]
  },
  {
   "cell_type": "markdown",
   "metadata": {},
   "source": [
    "This week, we'll be examining data visualization. Data visualization is increasingly important for a variety of reasons, and is often the way in which researchers communicate large findings. Most people can't deal with enormous chunks of data; it is much preferable to them to examine data in a visual manner.\n",
    "\n",
    "This week's lab will guide you through some basic implementations of data visualization using Buzzfeed's Federal Surveillance Plane data, gathered in 2016. We have selected a small proportion of that data for you to analyze. Much of this data is actually longitude/latitude data, but creating and analyzing maps is much more difficult and we won't ask you to analyze that specifically. Rather, we'll be looking at the other aspects of the data. You will also gain more familiarity with tables and .csvs, as this is how we are pulling data to create this visualization.\n",
    "\n",
    "Buzzfeed's Original Article: https://www.buzzfeednews.com/article/peteraldhous/spies-in-the-skies <br>\n",
    "The complete dataset: https://github.com/BuzzFeedNews/2016-04-federal-surveillance-planes"
   ]
  },
  {
   "cell_type": "code",
   "execution_count": 1,
   "metadata": {},
   "outputs": [],
   "source": [
    "# PUT YOUR NAME HERE\n",
    "name = \"First Name Last Name\" "
   ]
  },
  {
   "cell_type": "code",
   "execution_count": 2,
   "metadata": {},
   "outputs": [],
   "source": [
    "import numpy as np\n",
    "from datascience import *\n",
    "\n",
    "%matplotlib inline\n",
    "import matplotlib.pyplot as plots\n",
    "plots.style.use('fivethirtyeight')"
   ]
  },
  {
   "cell_type": "markdown",
   "metadata": {},
   "source": [
    "## The Data"
   ]
  },
  {
   "cell_type": "code",
   "execution_count": 3,
   "metadata": {},
   "outputs": [
    {
     "data": {
      "text/html": [
       "<table border=\"1\" class=\"dataframe\">\n",
       "    <thead>\n",
       "        <tr>\n",
       "            <th>adshex</th> <th>flight_id</th> <th>latitude</th> <th>longitude</th> <th>altitude</th> <th>speed</th> <th>track</th> <th>squawk</th> <th>type</th> <th>timestamp</th> <th>name</th> <th>other_names1</th> <th>other_names2</th> <th>n_number</th> <th>serial_number</th> <th>mfr_mdl_code</th> <th>mfr</th> <th>model</th> <th>year_mfr</th> <th>type_aircraft</th> <th>agency</th>\n",
       "        </tr>\n",
       "    </thead>\n",
       "    <tbody>\n",
       "        <tr>\n",
       "            <td>A72AA1</td> <td>72791e8  </td> <td>33.2552 </td> <td>-117.917 </td> <td>5499    </td> <td>111  </td> <td>137  </td> <td>4401  </td> <td>B350</td> <td>2015-08-18T07:58:54Z</td> <td>US DEPARTMENT OF HOMELAND SECURITY</td> <td>US CUSTOMS & BORDER PROTECTION</td> <td>OFFICE OF AIR & MARINE</td> <td>561A    </td> <td>FM-36        </td> <td>4220012     </td> <td>HAWKER BEECHCRAFT CORP</td> <td>B300C</td> <td>2010    </td> <td>5            </td> <td>dhs   </td>\n",
       "        </tr>\n",
       "        <tr>\n",
       "            <td>A72AA1</td> <td>72791e8  </td> <td>33.2659 </td> <td>-117.928 </td> <td>5500    </td> <td>109  </td> <td>138  </td> <td>4401  </td> <td>B350</td> <td>2015-08-18T07:58:39Z</td> <td>US DEPARTMENT OF HOMELAND SECURITY</td> <td>US CUSTOMS & BORDER PROTECTION</td> <td>OFFICE OF AIR & MARINE</td> <td>561A    </td> <td>FM-36        </td> <td>4220012     </td> <td>HAWKER BEECHCRAFT CORP</td> <td>B300C</td> <td>2010    </td> <td>5            </td> <td>dhs   </td>\n",
       "        </tr>\n",
       "        <tr>\n",
       "            <td>A72AA1</td> <td>72791e8  </td> <td>33.2741 </td> <td>-117.936 </td> <td>5500    </td> <td>109  </td> <td>137  </td> <td>4401  </td> <td>B350</td> <td>2015-08-18T07:58:28Z</td> <td>US DEPARTMENT OF HOMELAND SECURITY</td> <td>US CUSTOMS & BORDER PROTECTION</td> <td>OFFICE OF AIR & MARINE</td> <td>561A    </td> <td>FM-36        </td> <td>4220012     </td> <td>HAWKER BEECHCRAFT CORP</td> <td>B300C</td> <td>2010    </td> <td>5            </td> <td>dhs   </td>\n",
       "        </tr>\n",
       "        <tr>\n",
       "            <td>A72AA1</td> <td>72791e8  </td> <td>33.2825 </td> <td>-117.945 </td> <td>5500    </td> <td>112  </td> <td>138  </td> <td>4401  </td> <td>B350</td> <td>2015-08-18T07:58:13Z</td> <td>US DEPARTMENT OF HOMELAND SECURITY</td> <td>US CUSTOMS & BORDER PROTECTION</td> <td>OFFICE OF AIR & MARINE</td> <td>561A    </td> <td>FM-36        </td> <td>4220012     </td> <td>HAWKER BEECHCRAFT CORP</td> <td>B300C</td> <td>2010    </td> <td>5            </td> <td>dhs   </td>\n",
       "        </tr>\n",
       "        <tr>\n",
       "            <td>A72AA1</td> <td>72791e8  </td> <td>33.2934 </td> <td>-117.957 </td> <td>5500    </td> <td>102  </td> <td>134  </td> <td>4401  </td> <td>B350</td> <td>2015-08-18T07:57:58Z</td> <td>US DEPARTMENT OF HOMELAND SECURITY</td> <td>US CUSTOMS & BORDER PROTECTION</td> <td>OFFICE OF AIR & MARINE</td> <td>561A    </td> <td>FM-36        </td> <td>4220012     </td> <td>HAWKER BEECHCRAFT CORP</td> <td>B300C</td> <td>2010    </td> <td>5            </td> <td>dhs   </td>\n",
       "        </tr>\n",
       "        <tr>\n",
       "            <td>A72AA1</td> <td>72791e8  </td> <td>33.3026 </td> <td>-117.967 </td> <td>5499    </td> <td>110  </td> <td>136  </td> <td>4401  </td> <td>B350</td> <td>2015-08-18T07:57:43Z</td> <td>US DEPARTMENT OF HOMELAND SECURITY</td> <td>US CUSTOMS & BORDER PROTECTION</td> <td>OFFICE OF AIR & MARINE</td> <td>561A    </td> <td>FM-36        </td> <td>4220012     </td> <td>HAWKER BEECHCRAFT CORP</td> <td>B300C</td> <td>2010    </td> <td>5            </td> <td>dhs   </td>\n",
       "        </tr>\n",
       "        <tr>\n",
       "            <td>A72AA1</td> <td>72791e8  </td> <td>33.3333 </td> <td>-118.001 </td> <td>5499    </td> <td>124  </td> <td>136  </td> <td>4401  </td> <td>B350</td> <td>2015-08-18T07:56:57Z</td> <td>US DEPARTMENT OF HOMELAND SECURITY</td> <td>US CUSTOMS & BORDER PROTECTION</td> <td>OFFICE OF AIR & MARINE</td> <td>561A    </td> <td>FM-36        </td> <td>4220012     </td> <td>HAWKER BEECHCRAFT CORP</td> <td>B300C</td> <td>2010    </td> <td>5            </td> <td>dhs   </td>\n",
       "        </tr>\n",
       "        <tr>\n",
       "            <td>A72AA1</td> <td>72791e8  </td> <td>33.3466 </td> <td>-118.015 </td> <td>5500    </td> <td>108  </td> <td>136  </td> <td>4401  </td> <td>B350</td> <td>2015-08-18T07:56:42Z</td> <td>US DEPARTMENT OF HOMELAND SECURITY</td> <td>US CUSTOMS & BORDER PROTECTION</td> <td>OFFICE OF AIR & MARINE</td> <td>561A    </td> <td>FM-36        </td> <td>4220012     </td> <td>HAWKER BEECHCRAFT CORP</td> <td>B300C</td> <td>2010    </td> <td>5            </td> <td>dhs   </td>\n",
       "        </tr>\n",
       "        <tr>\n",
       "            <td>A72AA1</td> <td>72791e8  </td> <td>33.3634 </td> <td>-118.034 </td> <td>5500    </td> <td>100  </td> <td>134  </td> <td>4401  </td> <td>B350</td> <td>2015-08-18T07:56:12Z</td> <td>US DEPARTMENT OF HOMELAND SECURITY</td> <td>US CUSTOMS & BORDER PROTECTION</td> <td>OFFICE OF AIR & MARINE</td> <td>561A    </td> <td>FM-36        </td> <td>4220012     </td> <td>HAWKER BEECHCRAFT CORP</td> <td>B300C</td> <td>2010    </td> <td>5            </td> <td>dhs   </td>\n",
       "        </tr>\n",
       "        <tr>\n",
       "            <td>A72AA1</td> <td>72791e8  </td> <td>33.3818 </td> <td>-118.057 </td> <td>5500    </td> <td>94   </td> <td>129  </td> <td>4401  </td> <td>B350</td> <td>2015-08-18T07:55:41Z</td> <td>US DEPARTMENT OF HOMELAND SECURITY</td> <td>US CUSTOMS & BORDER PROTECTION</td> <td>OFFICE OF AIR & MARINE</td> <td>561A    </td> <td>FM-36        </td> <td>4220012     </td> <td>HAWKER BEECHCRAFT CORP</td> <td>B300C</td> <td>2010    </td> <td>5            </td> <td>dhs   </td>\n",
       "        </tr>\n",
       "    </tbody>\n",
       "</table>\n",
       "<p>... (2024 rows omitted)</p>"
      ],
      "text/plain": [
       "adshex | flight_id | latitude | longitude | altitude | speed | track | squawk | type | timestamp            | name                               | other_names1                   | other_names2           | n_number | serial_number | mfr_mdl_code | mfr                    | model | year_mfr | type_aircraft | agency\n",
       "A72AA1 | 72791e8   | 33.2552  | -117.917  | 5499     | 111   | 137   | 4401   | B350 | 2015-08-18T07:58:54Z | US DEPARTMENT OF HOMELAND SECURITY | US CUSTOMS & BORDER PROTECTION | OFFICE OF AIR & MARINE | 561A     | FM-36         | 4220012      | HAWKER BEECHCRAFT CORP | B300C | 2010     | 5             | dhs\n",
       "A72AA1 | 72791e8   | 33.2659  | -117.928  | 5500     | 109   | 138   | 4401   | B350 | 2015-08-18T07:58:39Z | US DEPARTMENT OF HOMELAND SECURITY | US CUSTOMS & BORDER PROTECTION | OFFICE OF AIR & MARINE | 561A     | FM-36         | 4220012      | HAWKER BEECHCRAFT CORP | B300C | 2010     | 5             | dhs\n",
       "A72AA1 | 72791e8   | 33.2741  | -117.936  | 5500     | 109   | 137   | 4401   | B350 | 2015-08-18T07:58:28Z | US DEPARTMENT OF HOMELAND SECURITY | US CUSTOMS & BORDER PROTECTION | OFFICE OF AIR & MARINE | 561A     | FM-36         | 4220012      | HAWKER BEECHCRAFT CORP | B300C | 2010     | 5             | dhs\n",
       "A72AA1 | 72791e8   | 33.2825  | -117.945  | 5500     | 112   | 138   | 4401   | B350 | 2015-08-18T07:58:13Z | US DEPARTMENT OF HOMELAND SECURITY | US CUSTOMS & BORDER PROTECTION | OFFICE OF AIR & MARINE | 561A     | FM-36         | 4220012      | HAWKER BEECHCRAFT CORP | B300C | 2010     | 5             | dhs\n",
       "A72AA1 | 72791e8   | 33.2934  | -117.957  | 5500     | 102   | 134   | 4401   | B350 | 2015-08-18T07:57:58Z | US DEPARTMENT OF HOMELAND SECURITY | US CUSTOMS & BORDER PROTECTION | OFFICE OF AIR & MARINE | 561A     | FM-36         | 4220012      | HAWKER BEECHCRAFT CORP | B300C | 2010     | 5             | dhs\n",
       "A72AA1 | 72791e8   | 33.3026  | -117.967  | 5499     | 110   | 136   | 4401   | B350 | 2015-08-18T07:57:43Z | US DEPARTMENT OF HOMELAND SECURITY | US CUSTOMS & BORDER PROTECTION | OFFICE OF AIR & MARINE | 561A     | FM-36         | 4220012      | HAWKER BEECHCRAFT CORP | B300C | 2010     | 5             | dhs\n",
       "A72AA1 | 72791e8   | 33.3333  | -118.001  | 5499     | 124   | 136   | 4401   | B350 | 2015-08-18T07:56:57Z | US DEPARTMENT OF HOMELAND SECURITY | US CUSTOMS & BORDER PROTECTION | OFFICE OF AIR & MARINE | 561A     | FM-36         | 4220012      | HAWKER BEECHCRAFT CORP | B300C | 2010     | 5             | dhs\n",
       "A72AA1 | 72791e8   | 33.3466  | -118.015  | 5500     | 108   | 136   | 4401   | B350 | 2015-08-18T07:56:42Z | US DEPARTMENT OF HOMELAND SECURITY | US CUSTOMS & BORDER PROTECTION | OFFICE OF AIR & MARINE | 561A     | FM-36         | 4220012      | HAWKER BEECHCRAFT CORP | B300C | 2010     | 5             | dhs\n",
       "A72AA1 | 72791e8   | 33.3634  | -118.034  | 5500     | 100   | 134   | 4401   | B350 | 2015-08-18T07:56:12Z | US DEPARTMENT OF HOMELAND SECURITY | US CUSTOMS & BORDER PROTECTION | OFFICE OF AIR & MARINE | 561A     | FM-36         | 4220012      | HAWKER BEECHCRAFT CORP | B300C | 2010     | 5             | dhs\n",
       "A72AA1 | 72791e8   | 33.3818  | -118.057  | 5500     | 94    | 129   | 4401   | B350 | 2015-08-18T07:55:41Z | US DEPARTMENT OF HOMELAND SECURITY | US CUSTOMS & BORDER PROTECTION | OFFICE OF AIR & MARINE | 561A     | FM-36         | 4220012      | HAWKER BEECHCRAFT CORP | B300C | 2010     | 5             | dhs\n",
       "... (2024 rows omitted)"
      ]
     },
     "execution_count": 3,
     "metadata": {},
     "output_type": "execute_result"
    }
   ],
   "source": [
    "# Load the table\n",
    "fed_surveillance = Table.read_table(\"fed_surveillance.csv\")\n",
    "fed_surveillance"
   ]
  },
  {
   "cell_type": "markdown",
   "metadata": {},
   "source": [
    "### Whoa, that's a lot of data.\n",
    "\n",
    "Yeah it is! No one wants to comb through all that data row by row, column by column. It also is difficult to even fathom what this means. Again, remember this is only a fraction of subset of the data (there are 3 different files that Buzzfeed used in its dataset, and we are only pulling 2035 points from its first file).\n",
    "\n",
    "Each data point is a moment at which any aircraft was recorded being in the sky. As a result, some aircrafts are recorded multiple times within this data set. While this makes it more difficult to know exactly how many airplanes were present, it does give us some information on how long these airplanes were in the sky.\n",
    "\n",
    "Let's start by pruning off some of the data that we aren't going to look at in this lab. Note: This lab builds off ideas we talked about last week so please make sure you are at least familiar with what was done with Tables last week."
   ]
  },
  {
   "cell_type": "code",
   "execution_count": 4,
   "metadata": {},
   "outputs": [
    {
     "data": {
      "text/html": [
       "<table border=\"1\" class=\"dataframe\">\n",
       "    <thead>\n",
       "        <tr>\n",
       "            <th>flight_id</th> <th>latitude</th> <th>longitude</th> <th>type</th> <th>timestamp</th> <th>name</th> <th>other_names1</th> <th>other_names2</th> <th>serial_number</th> <th>year_mfr</th> <th>agency</th>\n",
       "        </tr>\n",
       "    </thead>\n",
       "    <tbody>\n",
       "        <tr>\n",
       "            <td>72791e8  </td> <td>33.2552 </td> <td>-117.917 </td> <td>B350</td> <td>2015-08-18T07:58:54Z</td> <td>US DEPARTMENT OF HOMELAND SECURITY</td> <td>US CUSTOMS & BORDER PROTECTION</td> <td>OFFICE OF AIR & MARINE</td> <td>FM-36        </td> <td>2010    </td> <td>dhs   </td>\n",
       "        </tr>\n",
       "        <tr>\n",
       "            <td>72791e8  </td> <td>33.2659 </td> <td>-117.928 </td> <td>B350</td> <td>2015-08-18T07:58:39Z</td> <td>US DEPARTMENT OF HOMELAND SECURITY</td> <td>US CUSTOMS & BORDER PROTECTION</td> <td>OFFICE OF AIR & MARINE</td> <td>FM-36        </td> <td>2010    </td> <td>dhs   </td>\n",
       "        </tr>\n",
       "        <tr>\n",
       "            <td>72791e8  </td> <td>33.2741 </td> <td>-117.936 </td> <td>B350</td> <td>2015-08-18T07:58:28Z</td> <td>US DEPARTMENT OF HOMELAND SECURITY</td> <td>US CUSTOMS & BORDER PROTECTION</td> <td>OFFICE OF AIR & MARINE</td> <td>FM-36        </td> <td>2010    </td> <td>dhs   </td>\n",
       "        </tr>\n",
       "        <tr>\n",
       "            <td>72791e8  </td> <td>33.2825 </td> <td>-117.945 </td> <td>B350</td> <td>2015-08-18T07:58:13Z</td> <td>US DEPARTMENT OF HOMELAND SECURITY</td> <td>US CUSTOMS & BORDER PROTECTION</td> <td>OFFICE OF AIR & MARINE</td> <td>FM-36        </td> <td>2010    </td> <td>dhs   </td>\n",
       "        </tr>\n",
       "        <tr>\n",
       "            <td>72791e8  </td> <td>33.2934 </td> <td>-117.957 </td> <td>B350</td> <td>2015-08-18T07:57:58Z</td> <td>US DEPARTMENT OF HOMELAND SECURITY</td> <td>US CUSTOMS & BORDER PROTECTION</td> <td>OFFICE OF AIR & MARINE</td> <td>FM-36        </td> <td>2010    </td> <td>dhs   </td>\n",
       "        </tr>\n",
       "        <tr>\n",
       "            <td>72791e8  </td> <td>33.3026 </td> <td>-117.967 </td> <td>B350</td> <td>2015-08-18T07:57:43Z</td> <td>US DEPARTMENT OF HOMELAND SECURITY</td> <td>US CUSTOMS & BORDER PROTECTION</td> <td>OFFICE OF AIR & MARINE</td> <td>FM-36        </td> <td>2010    </td> <td>dhs   </td>\n",
       "        </tr>\n",
       "        <tr>\n",
       "            <td>72791e8  </td> <td>33.3333 </td> <td>-118.001 </td> <td>B350</td> <td>2015-08-18T07:56:57Z</td> <td>US DEPARTMENT OF HOMELAND SECURITY</td> <td>US CUSTOMS & BORDER PROTECTION</td> <td>OFFICE OF AIR & MARINE</td> <td>FM-36        </td> <td>2010    </td> <td>dhs   </td>\n",
       "        </tr>\n",
       "        <tr>\n",
       "            <td>72791e8  </td> <td>33.3466 </td> <td>-118.015 </td> <td>B350</td> <td>2015-08-18T07:56:42Z</td> <td>US DEPARTMENT OF HOMELAND SECURITY</td> <td>US CUSTOMS & BORDER PROTECTION</td> <td>OFFICE OF AIR & MARINE</td> <td>FM-36        </td> <td>2010    </td> <td>dhs   </td>\n",
       "        </tr>\n",
       "        <tr>\n",
       "            <td>72791e8  </td> <td>33.3634 </td> <td>-118.034 </td> <td>B350</td> <td>2015-08-18T07:56:12Z</td> <td>US DEPARTMENT OF HOMELAND SECURITY</td> <td>US CUSTOMS & BORDER PROTECTION</td> <td>OFFICE OF AIR & MARINE</td> <td>FM-36        </td> <td>2010    </td> <td>dhs   </td>\n",
       "        </tr>\n",
       "        <tr>\n",
       "            <td>72791e8  </td> <td>33.3818 </td> <td>-118.057 </td> <td>B350</td> <td>2015-08-18T07:55:41Z</td> <td>US DEPARTMENT OF HOMELAND SECURITY</td> <td>US CUSTOMS & BORDER PROTECTION</td> <td>OFFICE OF AIR & MARINE</td> <td>FM-36        </td> <td>2010    </td> <td>dhs   </td>\n",
       "        </tr>\n",
       "    </tbody>\n",
       "</table>\n",
       "<p>... (2024 rows omitted)</p>"
      ],
      "text/plain": [
       "flight_id | latitude | longitude | type | timestamp            | name                               | other_names1                   | other_names2           | serial_number | year_mfr | agency\n",
       "72791e8   | 33.2552  | -117.917  | B350 | 2015-08-18T07:58:54Z | US DEPARTMENT OF HOMELAND SECURITY | US CUSTOMS & BORDER PROTECTION | OFFICE OF AIR & MARINE | FM-36         | 2010     | dhs\n",
       "72791e8   | 33.2659  | -117.928  | B350 | 2015-08-18T07:58:39Z | US DEPARTMENT OF HOMELAND SECURITY | US CUSTOMS & BORDER PROTECTION | OFFICE OF AIR & MARINE | FM-36         | 2010     | dhs\n",
       "72791e8   | 33.2741  | -117.936  | B350 | 2015-08-18T07:58:28Z | US DEPARTMENT OF HOMELAND SECURITY | US CUSTOMS & BORDER PROTECTION | OFFICE OF AIR & MARINE | FM-36         | 2010     | dhs\n",
       "72791e8   | 33.2825  | -117.945  | B350 | 2015-08-18T07:58:13Z | US DEPARTMENT OF HOMELAND SECURITY | US CUSTOMS & BORDER PROTECTION | OFFICE OF AIR & MARINE | FM-36         | 2010     | dhs\n",
       "72791e8   | 33.2934  | -117.957  | B350 | 2015-08-18T07:57:58Z | US DEPARTMENT OF HOMELAND SECURITY | US CUSTOMS & BORDER PROTECTION | OFFICE OF AIR & MARINE | FM-36         | 2010     | dhs\n",
       "72791e8   | 33.3026  | -117.967  | B350 | 2015-08-18T07:57:43Z | US DEPARTMENT OF HOMELAND SECURITY | US CUSTOMS & BORDER PROTECTION | OFFICE OF AIR & MARINE | FM-36         | 2010     | dhs\n",
       "72791e8   | 33.3333  | -118.001  | B350 | 2015-08-18T07:56:57Z | US DEPARTMENT OF HOMELAND SECURITY | US CUSTOMS & BORDER PROTECTION | OFFICE OF AIR & MARINE | FM-36         | 2010     | dhs\n",
       "72791e8   | 33.3466  | -118.015  | B350 | 2015-08-18T07:56:42Z | US DEPARTMENT OF HOMELAND SECURITY | US CUSTOMS & BORDER PROTECTION | OFFICE OF AIR & MARINE | FM-36         | 2010     | dhs\n",
       "72791e8   | 33.3634  | -118.034  | B350 | 2015-08-18T07:56:12Z | US DEPARTMENT OF HOMELAND SECURITY | US CUSTOMS & BORDER PROTECTION | OFFICE OF AIR & MARINE | FM-36         | 2010     | dhs\n",
       "72791e8   | 33.3818  | -118.057  | B350 | 2015-08-18T07:55:41Z | US DEPARTMENT OF HOMELAND SECURITY | US CUSTOMS & BORDER PROTECTION | OFFICE OF AIR & MARINE | FM-36         | 2010     | dhs\n",
       "... (2024 rows omitted)"
      ]
     },
     "execution_count": 4,
     "metadata": {},
     "output_type": "execute_result"
    }
   ],
   "source": [
    "# Drop the adshex, altitude, speed, track, squawk, n_number, mfr, model, type_aircraft and mfr_mdl_code columns\n",
    "fed_surveillance = fed_surveillance.drop(\"adshex\", \"altitude\", \"speed\", \"track\", \n",
    "                                         \"squawk\", \"mfr\", \"model\", \"type_aircraft\", \"n_number\", \"mfr_mdl_code\")\n",
    "fed_surveillance"
   ]
  },
  {
   "cell_type": "markdown",
   "metadata": {},
   "source": [
    "## 1. Agencies in Bar Charts"
   ]
  },
  {
   "cell_type": "markdown",
   "metadata": {},
   "source": [
    "Now that we can see all of our data at once, let's take a closer look at it. Some things that are particularly interesting may be the names of the federal departments and agencies sponsoring federal plane surveillance. Let's group information by the name column as a way of learning more about the data."
   ]
  },
  {
   "cell_type": "code",
   "execution_count": 5,
   "metadata": {},
   "outputs": [
    {
     "data": {
      "text/html": [
       "<table border=\"1\" class=\"dataframe\">\n",
       "    <thead>\n",
       "        <tr>\n",
       "            <th>name</th> <th>count</th>\n",
       "        </tr>\n",
       "    </thead>\n",
       "    <tbody>\n",
       "        <tr>\n",
       "            <td>NATIONAL AIRCRAFT LEASING CORP    </td> <td>1199 </td>\n",
       "        </tr>\n",
       "        <tr>\n",
       "            <td>NBR AVIATION                      </td> <td>88   </td>\n",
       "        </tr>\n",
       "        <tr>\n",
       "            <td>OTV LEASING                       </td> <td>57   </td>\n",
       "        </tr>\n",
       "        <tr>\n",
       "            <td>PXW SERVICES                      </td> <td>2    </td>\n",
       "        </tr>\n",
       "        <tr>\n",
       "            <td>RKT PRODUCTIONS                   </td> <td>40   </td>\n",
       "        </tr>\n",
       "        <tr>\n",
       "            <td>US DEPARTMENT OF HOMELAND SECURITY</td> <td>648  </td>\n",
       "        </tr>\n",
       "    </tbody>\n",
       "</table>"
      ],
      "text/plain": [
       "name                               | count\n",
       "NATIONAL AIRCRAFT LEASING CORP     | 1199\n",
       "NBR AVIATION                       | 88\n",
       "OTV LEASING                        | 57\n",
       "PXW SERVICES                       | 2\n",
       "RKT PRODUCTIONS                    | 40\n",
       "US DEPARTMENT OF HOMELAND SECURITY | 648"
      ]
     },
     "execution_count": 5,
     "metadata": {},
     "output_type": "execute_result"
    }
   ],
   "source": [
    "# Group the fed_surveillance table by the \"name\" column\n",
    "names = fed_surveillance.group(\"name\")\n",
    "names"
   ]
  },
  {
   "cell_type": "markdown",
   "metadata": {},
   "source": [
    "**1.1 What visualization that we discussed is the most appropriate for representing the data above? Please briefly justify your answer.**"
   ]
  },
  {
   "cell_type": "markdown",
   "metadata": {},
   "source": [
    "YOUR ANSWER HERE"
   ]
  },
  {
   "cell_type": "code",
   "execution_count": 6,
   "metadata": {},
   "outputs": [
    {
     "data": {
      "image/png": "[encoded data removed]",
      "text/plain": [
       "<Figure size 432x288 with 1 Axes>"
      ]
     },
     "metadata": {},
     "output_type": "display_data"
    }
   ],
   "source": [
    "names.barh(\"name\", \"count\")"
   ]
  },
  {
   "cell_type": "markdown",
   "metadata": {},
   "source": [
    "You could infer this from the numbers alone, but it is interesting to see how they actually stack up. National Aircraft Leasing Corp has almost twice the number of data points associated as the US Department of Homeland Security, which tells us they either have more aircrafts in the skies, or their planes are flying for longer periods of time. Meanwhile, PXW Services with a measly 2 data points cannot even be seen from our bar chart.\n",
    "\n",
    "This is a good moment to pause and try to analyze some of our data. Exactly what is National Aircraft Leasing Corp? Who are they associated with? Why are we even including them in our federal surveillance dataset? Let's specifically analyze the rows in our table that are associated with National Aircraft Leasing Corp."
   ]
  },
  {
   "cell_type": "code",
   "execution_count": 7,
   "metadata": {},
   "outputs": [
    {
     "data": {
      "text/html": [
       "<table border=\"1\" class=\"dataframe\">\n",
       "    <thead>\n",
       "        <tr>\n",
       "            <th>flight_id</th> <th>latitude</th> <th>longitude</th> <th>type</th> <th>timestamp</th> <th>name</th> <th>other_names1</th> <th>other_names2</th> <th>serial_number</th> <th>year_mfr</th> <th>agency</th>\n",
       "        </tr>\n",
       "    </thead>\n",
       "    <tbody>\n",
       "        <tr>\n",
       "            <td>72660d6  </td> <td>38.7527 </td> <td>-77.4352 </td> <td>nan </td> <td>2015-08-17T23:51:48Z</td> <td>NATIONAL AIRCRAFT LEASING CORP</td> <td>nan         </td> <td>nan         </td> <td>T20608914    </td> <td>2009    </td> <td>fbi   </td>\n",
       "        </tr>\n",
       "        <tr>\n",
       "            <td>72660d6  </td> <td>38.7796 </td> <td>-77.4988 </td> <td>nan </td> <td>2015-08-17T23:50:47Z</td> <td>NATIONAL AIRCRAFT LEASING CORP</td> <td>nan         </td> <td>nan         </td> <td>T20608914    </td> <td>2009    </td> <td>fbi   </td>\n",
       "        </tr>\n",
       "        <tr>\n",
       "            <td>72660d6  </td> <td>38.7627 </td> <td>-77.4847 </td> <td>nan </td> <td>2015-08-17T23:50:17Z</td> <td>NATIONAL AIRCRAFT LEASING CORP</td> <td>nan         </td> <td>nan         </td> <td>T20608914    </td> <td>2009    </td> <td>fbi   </td>\n",
       "        </tr>\n",
       "        <tr>\n",
       "            <td>72660d6  </td> <td>38.7548 </td> <td>-77.4076 </td> <td>nan </td> <td>2015-08-17T23:49:01Z</td> <td>NATIONAL AIRCRAFT LEASING CORP</td> <td>nan         </td> <td>nan         </td> <td>T20608914    </td> <td>2009    </td> <td>fbi   </td>\n",
       "        </tr>\n",
       "        <tr>\n",
       "            <td>72660d6  </td> <td>38.7558 </td> <td>-77.4007 </td> <td>nan </td> <td>2015-08-17T23:48:51Z</td> <td>NATIONAL AIRCRAFT LEASING CORP</td> <td>nan         </td> <td>nan         </td> <td>T20608914    </td> <td>2009    </td> <td>fbi   </td>\n",
       "        </tr>\n",
       "        <tr>\n",
       "            <td>72660d6  </td> <td>38.7599 </td> <td>-77.3871 </td> <td>nan </td> <td>2015-08-17T23:48:36Z</td> <td>NATIONAL AIRCRAFT LEASING CORP</td> <td>nan         </td> <td>nan         </td> <td>T20608914    </td> <td>2009    </td> <td>fbi   </td>\n",
       "        </tr>\n",
       "        <tr>\n",
       "            <td>72660d6  </td> <td>38.7634 </td> <td>-77.3764 </td> <td>nan </td> <td>2015-08-17T23:48:21Z</td> <td>NATIONAL AIRCRAFT LEASING CORP</td> <td>nan         </td> <td>nan         </td> <td>T20608914    </td> <td>2009    </td> <td>fbi   </td>\n",
       "        </tr>\n",
       "        <tr>\n",
       "            <td>72660d6  </td> <td>38.7714 </td> <td>-77.3489 </td> <td>nan </td> <td>2015-08-17T23:47:41Z</td> <td>NATIONAL AIRCRAFT LEASING CORP</td> <td>nan         </td> <td>nan         </td> <td>T20608914    </td> <td>2009    </td> <td>fbi   </td>\n",
       "        </tr>\n",
       "        <tr>\n",
       "            <td>72660d6  </td> <td>38.7833 </td> <td>-77.3162 </td> <td>nan </td> <td>2015-08-17T23:46:56Z</td> <td>NATIONAL AIRCRAFT LEASING CORP</td> <td>nan         </td> <td>nan         </td> <td>T20608914    </td> <td>2009    </td> <td>fbi   </td>\n",
       "        </tr>\n",
       "        <tr>\n",
       "            <td>72660d6  </td> <td>38.7879 </td> <td>-77.304  </td> <td>nan </td> <td>2015-08-17T23:46:41Z</td> <td>NATIONAL AIRCRAFT LEASING CORP</td> <td>nan         </td> <td>nan         </td> <td>T20608914    </td> <td>2009    </td> <td>fbi   </td>\n",
       "        </tr>\n",
       "    </tbody>\n",
       "</table>\n",
       "<p>... (1189 rows omitted)</p>"
      ],
      "text/plain": [
       "flight_id | latitude | longitude | type | timestamp            | name                           | other_names1 | other_names2 | serial_number | year_mfr | agency\n",
       "72660d6   | 38.7527  | -77.4352  | nan  | 2015-08-17T23:51:48Z | NATIONAL AIRCRAFT LEASING CORP | nan          | nan          | T20608914     | 2009     | fbi\n",
       "72660d6   | 38.7796  | -77.4988  | nan  | 2015-08-17T23:50:47Z | NATIONAL AIRCRAFT LEASING CORP | nan          | nan          | T20608914     | 2009     | fbi\n",
       "72660d6   | 38.7627  | -77.4847  | nan  | 2015-08-17T23:50:17Z | NATIONAL AIRCRAFT LEASING CORP | nan          | nan          | T20608914     | 2009     | fbi\n",
       "72660d6   | 38.7548  | -77.4076  | nan  | 2015-08-17T23:49:01Z | NATIONAL AIRCRAFT LEASING CORP | nan          | nan          | T20608914     | 2009     | fbi\n",
       "72660d6   | 38.7558  | -77.4007  | nan  | 2015-08-17T23:48:51Z | NATIONAL AIRCRAFT LEASING CORP | nan          | nan          | T20608914     | 2009     | fbi\n",
       "72660d6   | 38.7599  | -77.3871  | nan  | 2015-08-17T23:48:36Z | NATIONAL AIRCRAFT LEASING CORP | nan          | nan          | T20608914     | 2009     | fbi\n",
       "72660d6   | 38.7634  | -77.3764  | nan  | 2015-08-17T23:48:21Z | NATIONAL AIRCRAFT LEASING CORP | nan          | nan          | T20608914     | 2009     | fbi\n",
       "72660d6   | 38.7714  | -77.3489  | nan  | 2015-08-17T23:47:41Z | NATIONAL AIRCRAFT LEASING CORP | nan          | nan          | T20608914     | 2009     | fbi\n",
       "72660d6   | 38.7833  | -77.3162  | nan  | 2015-08-17T23:46:56Z | NATIONAL AIRCRAFT LEASING CORP | nan          | nan          | T20608914     | 2009     | fbi\n",
       "72660d6   | 38.7879  | -77.304   | nan  | 2015-08-17T23:46:41Z | NATIONAL AIRCRAFT LEASING CORP | nan          | nan          | T20608914     | 2009     | fbi\n",
       "... (1189 rows omitted)"
      ]
     },
     "execution_count": 7,
     "metadata": {},
     "output_type": "execute_result"
    }
   ],
   "source": [
    "leasingcorp = fed_surveillance.where(\"name\", are.equal_to(\"NATIONAL AIRCRAFT LEASING CORP\"))\n",
    "leasingcorp"
   ]
  },
  {
   "cell_type": "markdown",
   "metadata": {},
   "source": [
    "Let's take a look at the agency column. Notice anything interesting?\n",
    "\n",
    "Only one agency appears to be associated with National Aircraft Leasing Corp. However, we can also only see 10 rows of our National Aircraft Leasing Corp data, but we want to review the entire table without looking at every row individually. We want to aggregate all our data together, which we can do by grouping."
   ]
  },
  {
   "cell_type": "code",
   "execution_count": 9,
   "metadata": {},
   "outputs": [
    {
     "data": {
      "text/html": [
       "<table border=\"1\" class=\"dataframe\">\n",
       "    <thead>\n",
       "        <tr>\n",
       "            <th>agency</th> <th>count</th>\n",
       "        </tr>\n",
       "    </thead>\n",
       "    <tbody>\n",
       "        <tr>\n",
       "            <td>fbi   </td> <td>1199 </td>\n",
       "        </tr>\n",
       "    </tbody>\n",
       "</table>"
      ],
      "text/plain": [
       "agency | count\n",
       "fbi    | 1199"
      ]
     },
     "execution_count": 9,
     "metadata": {},
     "output_type": "execute_result"
    }
   ],
   "source": [
    "# Group the leasingcorp table by the agency column\n",
    "leasingagency = leasingcorp.group(\"agency\")\n",
    "leasingagency"
   ]
  },
  {
   "cell_type": "code",
   "execution_count": 10,
   "metadata": {},
   "outputs": [
    {
     "data": {
      "text/html": [
       "<table border=\"1\" class=\"dataframe\">\n",
       "    <thead>\n",
       "        <tr>\n",
       "            <th>agency</th> <th>count</th>\n",
       "        </tr>\n",
       "    </thead>\n",
       "    <tbody>\n",
       "        <tr>\n",
       "            <td>dhs   </td> <td>648  </td>\n",
       "        </tr>\n",
       "        <tr>\n",
       "            <td>fbi   </td> <td>1386 </td>\n",
       "        </tr>\n",
       "    </tbody>\n",
       "</table>"
      ],
      "text/plain": [
       "agency | count\n",
       "dhs    | 648\n",
       "fbi    | 1386"
      ]
     },
     "execution_count": 10,
     "metadata": {},
     "output_type": "execute_result"
    }
   ],
   "source": [
    "agencies = fed_surveillance.group(\"agency\")\n",
    "agencies"
   ]
  },
  {
   "cell_type": "markdown",
   "metadata": {},
   "source": [
    "From digging a little deeper into our dataset, we can realize that the majority of airplanes attributed to the FBI are actually associated with the National Aircraft Leasing Corp. "
   ]
  },
  {
   "cell_type": "markdown",
   "metadata": {},
   "source": [
    "## 2. Latitude and Longitude Distributions"
   ]
  },
  {
   "cell_type": "markdown",
   "metadata": {},
   "source": [
    "**2.1 A map is clearly the most ideal representation of latitude and longitude. However, given that we are not learning map visualizations in this course, what other chart that we discussed is useful in representing ranges of data, such as latitudes and longitudes? How does this differ from a bar chart?**"
   ]
  },
  {
   "cell_type": "markdown",
   "metadata": {},
   "source": [
    "YOUR ANSWER HERE"
   ]
  },
  {
   "cell_type": "markdown",
   "metadata": {},
   "source": [
    "Let's take a look at how much latitudes and longitudes overlap. How can we determine how many planes were spotted at the same latitude/longitude through table functions? Implement this below."
   ]
  },
  {
   "cell_type": "code",
   "execution_count": 11,
   "metadata": {},
   "outputs": [
    {
     "data": {
      "text/html": [
       "<table border=\"1\" class=\"dataframe\">\n",
       "    <thead>\n",
       "        <tr>\n",
       "            <th>latitude</th> <th>count</th>\n",
       "        </tr>\n",
       "    </thead>\n",
       "    <tbody>\n",
       "        <tr>\n",
       "            <td>25.0309 </td> <td>1    </td>\n",
       "        </tr>\n",
       "        <tr>\n",
       "            <td>25.0372 </td> <td>1    </td>\n",
       "        </tr>\n",
       "        <tr>\n",
       "            <td>25.0462 </td> <td>1    </td>\n",
       "        </tr>\n",
       "        <tr>\n",
       "            <td>25.1002 </td> <td>1    </td>\n",
       "        </tr>\n",
       "        <tr>\n",
       "            <td>25.3236 </td> <td>1    </td>\n",
       "        </tr>\n",
       "        <tr>\n",
       "            <td>25.3383 </td> <td>1    </td>\n",
       "        </tr>\n",
       "        <tr>\n",
       "            <td>25.3804 </td> <td>1    </td>\n",
       "        </tr>\n",
       "        <tr>\n",
       "            <td>25.4341 </td> <td>1    </td>\n",
       "        </tr>\n",
       "        <tr>\n",
       "            <td>25.4393 </td> <td>1    </td>\n",
       "        </tr>\n",
       "        <tr>\n",
       "            <td>25.4395 </td> <td>1    </td>\n",
       "        </tr>\n",
       "    </tbody>\n",
       "</table>\n",
       "<p>... (1767 rows omitted)</p>"
      ],
      "text/plain": [
       "latitude | count\n",
       "25.0309  | 1\n",
       "25.0372  | 1\n",
       "25.0462  | 1\n",
       "25.1002  | 1\n",
       "25.3236  | 1\n",
       "25.3383  | 1\n",
       "25.3804  | 1\n",
       "25.4341  | 1\n",
       "25.4393  | 1\n",
       "25.4395  | 1\n",
       "... (1767 rows omitted)"
      ]
     },
     "execution_count": 11,
     "metadata": {},
     "output_type": "execute_result"
    }
   ],
   "source": [
    "latitude = fed_surveillance.group(\"latitude\")\n",
    "latitude"
   ]
  },
  {
   "cell_type": "code",
   "execution_count": 12,
   "metadata": {},
   "outputs": [
    {
     "data": {
      "text/html": [
       "<table border=\"1\" class=\"dataframe\">\n",
       "    <thead>\n",
       "        <tr>\n",
       "            <th>longitude</th> <th>count</th>\n",
       "        </tr>\n",
       "    </thead>\n",
       "    <tbody>\n",
       "        <tr>\n",
       "            <td>-122.209 </td> <td>1    </td>\n",
       "        </tr>\n",
       "        <tr>\n",
       "            <td>-122.195 </td> <td>1    </td>\n",
       "        </tr>\n",
       "        <tr>\n",
       "            <td>-122.194 </td> <td>1    </td>\n",
       "        </tr>\n",
       "        <tr>\n",
       "            <td>-122.186 </td> <td>1    </td>\n",
       "        </tr>\n",
       "        <tr>\n",
       "            <td>-122.183 </td> <td>1    </td>\n",
       "        </tr>\n",
       "        <tr>\n",
       "            <td>-122.182 </td> <td>1    </td>\n",
       "        </tr>\n",
       "        <tr>\n",
       "            <td>-122.182 </td> <td>4    </td>\n",
       "        </tr>\n",
       "        <tr>\n",
       "            <td>-122.181 </td> <td>1    </td>\n",
       "        </tr>\n",
       "        <tr>\n",
       "            <td>-122.126 </td> <td>1    </td>\n",
       "        </tr>\n",
       "        <tr>\n",
       "            <td>-122.117 </td> <td>1    </td>\n",
       "        </tr>\n",
       "    </tbody>\n",
       "</table>\n",
       "<p>... (1484 rows omitted)</p>"
      ],
      "text/plain": [
       "longitude | count\n",
       "-122.209  | 1\n",
       "-122.195  | 1\n",
       "-122.194  | 1\n",
       "-122.186  | 1\n",
       "-122.183  | 1\n",
       "-122.182  | 1\n",
       "-122.182  | 4\n",
       "-122.181  | 1\n",
       "-122.126  | 1\n",
       "-122.117  | 1\n",
       "... (1484 rows omitted)"
      ]
     },
     "execution_count": 12,
     "metadata": {},
     "output_type": "execute_result"
    }
   ],
   "source": [
    "longitude = fed_surveillance.group(\"longitude\")\n",
    "longitude"
   ]
  },
  {
   "cell_type": "markdown",
   "metadata": {},
   "source": [
    "Now, create two visualizations with the type of chart you identified that demonstrate distributions of different latitudes."
   ]
  },
  {
   "cell_type": "code",
   "execution_count": 13,
   "metadata": {},
   "outputs": [
    {
     "data": {
      "image/png": "[encoded data removed]",
      "text/plain": [
       "<Figure size 432x288 with 1 Axes>"
      ]
     },
     "metadata": {},
     "output_type": "display_data"
    }
   ],
   "source": [
    "# Create the latitude-based visualization, demonstrating distributions of latitudes\n",
    "latitude.hist(\"latitude\")"
   ]
  },
  {
   "cell_type": "code",
   "execution_count": 14,
   "metadata": {},
   "outputs": [
    {
     "data": {
      "image/png": "[encoded data removed]",
      "text/plain": [
       "<Figure size 432x288 with 1 Axes>"
      ]
     },
     "metadata": {},
     "output_type": "display_data"
    }
   ],
   "source": [
    "# Create the longitude-based visualizaiton, demonstrating distributions of longitudes\n",
    "longitude.hist(\"longitude\")"
   ]
  },
  {
   "cell_type": "markdown",
   "metadata": {},
   "source": [
    "Though we are not learning maps, we have learned about scatterplots, which we can use to plot individual points given a horizontal and a vertical axis. We can use this to simulate a basic map, given the datapoints that we have. First, select latitude and longitude from fed_surveillance into a new table. Then, generate a scatterplot with the table information."
   ]
  },
  {
   "cell_type": "code",
   "execution_count": 15,
   "metadata": {},
   "outputs": [],
   "source": [
    "# Select latitude and longitude from the fed_surveillance table\n",
    "lat_lon = fed_surveillance.select(\"latitude\", \"longitude\")"
   ]
  },
  {
   "cell_type": "code",
   "execution_count": 16,
   "metadata": {},
   "outputs": [
    {
     "data": {
      "image/png": "[encoded data removed]",
      "text/plain": [
       "<Figure size 360x360 with 1 Axes>"
      ]
     },
     "metadata": {},
     "output_type": "display_data"
    }
   ],
   "source": [
    "# Create a scatterplot from the isolated dataset\n",
    "lat_lon.scatter('longitude')"
   ]
  },
  {
   "cell_type": "markdown",
   "metadata": {},
   "source": [
    "Since we only have a little over 2000 data points, and since these data points are not randomly sampled, you may notice that our data points seem to be clustered in certain areas. \n",
    "\n",
    "**2.2 Postulate why our data points seem to be centered around certain locations. Postulate why this may be. Looking at the Buzzfeed article or entering some of the latitude/longitude combinations into Google Maps may be useful. Note: Negative longitudes represent longitudes WEST of the Prime Meridian.**"
   ]
  },
  {
   "cell_type": "markdown",
   "metadata": {},
   "source": [
    "YOUR ANSWER HERE"
   ]
  },
  {
   "cell_type": "markdown",
   "metadata": {},
   "source": [
    "## 3. Some Kind of Line Graph"
   ]
  },
  {
   "cell_type": "markdown",
   "metadata": {},
   "source": [
    "When do our planes tend to fly? This is an interesting question that should be examined. The Buzzfeed team actually looked at federal surveillance plane flight patterns around key events, such as the San Bernardino shooting. We, however, are just going to take a quick look at how they vary across the day, as this data only includes partial data from two days in August 2015.\n",
    "\n",
    "We have created a table with a more stream-lined timestamp for you below, which only displays the hour that the datapoint was collected during. Use this to first count how many planes are flying at any given hour."
   ]
  },
  {
   "cell_type": "code",
   "execution_count": 47,
   "metadata": {},
   "outputs": [
    {
     "data": {
      "text/html": [
       "<table border=\"1\" class=\"dataframe\">\n",
       "    <thead>\n",
       "        <tr>\n",
       "            <th>flight_id</th> <th>latitude</th> <th>longitude</th> <th>type</th> <th>name</th> <th>other_names1</th> <th>other_names2</th> <th>serial_number</th> <th>year_mfr</th> <th>agency</th> <th>timestamp</th>\n",
       "        </tr>\n",
       "    </thead>\n",
       "    <tbody>\n",
       "        <tr>\n",
       "            <td>72791e8  </td> <td>33.2552 </td> <td>-117.917 </td> <td>B350</td> <td>US DEPARTMENT OF HOMELAND SECURITY</td> <td>US CUSTOMS & BORDER PROTECTION</td> <td>OFFICE OF AIR & MARINE</td> <td>FM-36        </td> <td>2010    </td> <td>dhs   </td> <td>07       </td>\n",
       "        </tr>\n",
       "        <tr>\n",
       "            <td>72791e8  </td> <td>33.2659 </td> <td>-117.928 </td> <td>B350</td> <td>US DEPARTMENT OF HOMELAND SECURITY</td> <td>US CUSTOMS & BORDER PROTECTION</td> <td>OFFICE OF AIR & MARINE</td> <td>FM-36        </td> <td>2010    </td> <td>dhs   </td> <td>07       </td>\n",
       "        </tr>\n",
       "        <tr>\n",
       "            <td>72791e8  </td> <td>33.2741 </td> <td>-117.936 </td> <td>B350</td> <td>US DEPARTMENT OF HOMELAND SECURITY</td> <td>US CUSTOMS & BORDER PROTECTION</td> <td>OFFICE OF AIR & MARINE</td> <td>FM-36        </td> <td>2010    </td> <td>dhs   </td> <td>07       </td>\n",
       "        </tr>\n",
       "        <tr>\n",
       "            <td>72791e8  </td> <td>33.2825 </td> <td>-117.945 </td> <td>B350</td> <td>US DEPARTMENT OF HOMELAND SECURITY</td> <td>US CUSTOMS & BORDER PROTECTION</td> <td>OFFICE OF AIR & MARINE</td> <td>FM-36        </td> <td>2010    </td> <td>dhs   </td> <td>07       </td>\n",
       "        </tr>\n",
       "        <tr>\n",
       "            <td>72791e8  </td> <td>33.2934 </td> <td>-117.957 </td> <td>B350</td> <td>US DEPARTMENT OF HOMELAND SECURITY</td> <td>US CUSTOMS & BORDER PROTECTION</td> <td>OFFICE OF AIR & MARINE</td> <td>FM-36        </td> <td>2010    </td> <td>dhs   </td> <td>07       </td>\n",
       "        </tr>\n",
       "        <tr>\n",
       "            <td>72791e8  </td> <td>33.3026 </td> <td>-117.967 </td> <td>B350</td> <td>US DEPARTMENT OF HOMELAND SECURITY</td> <td>US CUSTOMS & BORDER PROTECTION</td> <td>OFFICE OF AIR & MARINE</td> <td>FM-36        </td> <td>2010    </td> <td>dhs   </td> <td>07       </td>\n",
       "        </tr>\n",
       "        <tr>\n",
       "            <td>72791e8  </td> <td>33.3333 </td> <td>-118.001 </td> <td>B350</td> <td>US DEPARTMENT OF HOMELAND SECURITY</td> <td>US CUSTOMS & BORDER PROTECTION</td> <td>OFFICE OF AIR & MARINE</td> <td>FM-36        </td> <td>2010    </td> <td>dhs   </td> <td>07       </td>\n",
       "        </tr>\n",
       "        <tr>\n",
       "            <td>72791e8  </td> <td>33.3466 </td> <td>-118.015 </td> <td>B350</td> <td>US DEPARTMENT OF HOMELAND SECURITY</td> <td>US CUSTOMS & BORDER PROTECTION</td> <td>OFFICE OF AIR & MARINE</td> <td>FM-36        </td> <td>2010    </td> <td>dhs   </td> <td>07       </td>\n",
       "        </tr>\n",
       "        <tr>\n",
       "            <td>72791e8  </td> <td>33.3634 </td> <td>-118.034 </td> <td>B350</td> <td>US DEPARTMENT OF HOMELAND SECURITY</td> <td>US CUSTOMS & BORDER PROTECTION</td> <td>OFFICE OF AIR & MARINE</td> <td>FM-36        </td> <td>2010    </td> <td>dhs   </td> <td>07       </td>\n",
       "        </tr>\n",
       "        <tr>\n",
       "            <td>72791e8  </td> <td>33.3818 </td> <td>-118.057 </td> <td>B350</td> <td>US DEPARTMENT OF HOMELAND SECURITY</td> <td>US CUSTOMS & BORDER PROTECTION</td> <td>OFFICE OF AIR & MARINE</td> <td>FM-36        </td> <td>2010    </td> <td>dhs   </td> <td>07       </td>\n",
       "        </tr>\n",
       "    </tbody>\n",
       "</table>\n",
       "<p>... (2024 rows omitted)</p>"
      ],
      "text/plain": [
       "flight_id | latitude | longitude | type | name                               | other_names1                   | other_names2           | serial_number | year_mfr | agency | timestamp\n",
       "72791e8   | 33.2552  | -117.917  | B350 | US DEPARTMENT OF HOMELAND SECURITY | US CUSTOMS & BORDER PROTECTION | OFFICE OF AIR & MARINE | FM-36         | 2010     | dhs    | 07\n",
       "72791e8   | 33.2659  | -117.928  | B350 | US DEPARTMENT OF HOMELAND SECURITY | US CUSTOMS & BORDER PROTECTION | OFFICE OF AIR & MARINE | FM-36         | 2010     | dhs    | 07\n",
       "72791e8   | 33.2741  | -117.936  | B350 | US DEPARTMENT OF HOMELAND SECURITY | US CUSTOMS & BORDER PROTECTION | OFFICE OF AIR & MARINE | FM-36         | 2010     | dhs    | 07\n",
       "72791e8   | 33.2825  | -117.945  | B350 | US DEPARTMENT OF HOMELAND SECURITY | US CUSTOMS & BORDER PROTECTION | OFFICE OF AIR & MARINE | FM-36         | 2010     | dhs    | 07\n",
       "72791e8   | 33.2934  | -117.957  | B350 | US DEPARTMENT OF HOMELAND SECURITY | US CUSTOMS & BORDER PROTECTION | OFFICE OF AIR & MARINE | FM-36         | 2010     | dhs    | 07\n",
       "72791e8   | 33.3026  | -117.967  | B350 | US DEPARTMENT OF HOMELAND SECURITY | US CUSTOMS & BORDER PROTECTION | OFFICE OF AIR & MARINE | FM-36         | 2010     | dhs    | 07\n",
       "72791e8   | 33.3333  | -118.001  | B350 | US DEPARTMENT OF HOMELAND SECURITY | US CUSTOMS & BORDER PROTECTION | OFFICE OF AIR & MARINE | FM-36         | 2010     | dhs    | 07\n",
       "72791e8   | 33.3466  | -118.015  | B350 | US DEPARTMENT OF HOMELAND SECURITY | US CUSTOMS & BORDER PROTECTION | OFFICE OF AIR & MARINE | FM-36         | 2010     | dhs    | 07\n",
       "72791e8   | 33.3634  | -118.034  | B350 | US DEPARTMENT OF HOMELAND SECURITY | US CUSTOMS & BORDER PROTECTION | OFFICE OF AIR & MARINE | FM-36         | 2010     | dhs    | 07\n",
       "72791e8   | 33.3818  | -118.057  | B350 | US DEPARTMENT OF HOMELAND SECURITY | US CUSTOMS & BORDER PROTECTION | OFFICE OF AIR & MARINE | FM-36         | 2010     | dhs    | 07\n",
       "... (2024 rows omitted)"
      ]
     },
     "execution_count": 47,
     "metadata": {},
     "output_type": "execute_result"
    }
   ],
   "source": [
    "times = fed_surveillance.drop(\"timestamp\")\n",
    "times = times.with_column(\"timestamp\", (time[11:13] for time in fed_surveillance[\"timestamp\"]))\n",
    "times"
   ]
  },
  {
   "cell_type": "code",
   "execution_count": 48,
   "metadata": {},
   "outputs": [
    {
     "data": {
      "text/html": [
       "<table border=\"1\" class=\"dataframe\">\n",
       "    <thead>\n",
       "        <tr>\n",
       "            <th>timestamp</th> <th>count</th>\n",
       "        </tr>\n",
       "    </thead>\n",
       "    <tbody>\n",
       "        <tr>\n",
       "            <td>00       </td> <td>81   </td>\n",
       "        </tr>\n",
       "        <tr>\n",
       "            <td>01       </td> <td>42   </td>\n",
       "        </tr>\n",
       "        <tr>\n",
       "            <td>02       </td> <td>47   </td>\n",
       "        </tr>\n",
       "        <tr>\n",
       "            <td>03       </td> <td>10   </td>\n",
       "        </tr>\n",
       "        <tr>\n",
       "            <td>05       </td> <td>15   </td>\n",
       "        </tr>\n",
       "        <tr>\n",
       "            <td>06       </td> <td>44   </td>\n",
       "        </tr>\n",
       "        <tr>\n",
       "            <td>07       </td> <td>32   </td>\n",
       "        </tr>\n",
       "        <tr>\n",
       "            <td>19       </td> <td>349  </td>\n",
       "        </tr>\n",
       "        <tr>\n",
       "            <td>20       </td> <td>382  </td>\n",
       "        </tr>\n",
       "        <tr>\n",
       "            <td>21       </td> <td>310  </td>\n",
       "        </tr>\n",
       "    </tbody>\n",
       "</table>\n",
       "<p>... (2 rows omitted)</p>"
      ],
      "text/plain": [
       "timestamp | count\n",
       "00        | 81\n",
       "01        | 42\n",
       "02        | 47\n",
       "03        | 10\n",
       "05        | 15\n",
       "06        | 44\n",
       "07        | 32\n",
       "19        | 349\n",
       "20        | 382\n",
       "21        | 310\n",
       "... (2 rows omitted)"
      ]
     },
     "execution_count": 48,
     "metadata": {},
     "output_type": "execute_result"
    }
   ],
   "source": [
    "# Group together flights with the same timestamp\n",
    "count_per_hour = times.group(\"timestamp\")\n",
    "count_per_hour"
   ]
  },
  {
   "cell_type": "markdown",
   "metadata": {},
   "source": [
    "Let's take a look at how the number of data points for federal surveillance planes varies depending on the time.\n",
    "\n",
    "**3.1 What visualization that we discussed, other than the ones we've used so far, would be most useful for analyzing variation over time with the table you just created?**"
   ]
  },
  {
   "cell_type": "markdown",
   "metadata": {},
   "source": [
    "YOUR ANSWER HERE"
   ]
  },
  {
   "cell_type": "code",
   "execution_count": 49,
   "metadata": {},
   "outputs": [
    {
     "data": {
      "image/png": "[encoded data removed]",
      "text/plain": [
       "<Figure size 432x288 with 1 Axes>"
      ]
     },
     "metadata": {},
     "output_type": "display_data"
    }
   ],
   "source": [
    "count_per_hour.plot(\"timestamp\", \"count\")"
   ]
  },
  {
   "cell_type": "markdown",
   "metadata": {},
   "source": [
    "Notice that the results of your graph are skewed towards certain hours of the day. The active hours may seem a little odd, if we just consider the direct timestamp. However, we should note that the timestamps provided are in UTC, or Coordinated Universal Time. \n",
    "\n",
    "**3.2 At what points of the day are flights usually happening. Do some research and provide a potential explanation of why the hours in the graph are skewed towards certain parts of the day. Note that all this data has been collected from parts of the United States.**"
   ]
  },
  {
   "cell_type": "markdown",
   "metadata": {},
   "source": [
    "YOUR ANSWER HERE"
   ]
  },
  {
   "cell_type": "markdown",
   "metadata": {},
   "source": [
    "## Conclusion\n",
    "\n",
    "Congratulations, you've finished Lab 5! Through this lab, we've covered all the four forms of data visualizations that we talked about in lecture: bar graphs, line plots, histograms, and scatterplots. There are many more visualizations, but for this class, you only need to know these four. Hopefully with this lab, you've also gained more familiarity with how tables and CSVs work, both important for your future assignments."
   ]
  },
  {
   "cell_type": "markdown",
   "metadata": {},
   "source": [
    "## Submission\n",
    "\n",
    "Congratulations, you've reached the end of this lab! While this lab is graded by effort, we still want to make sure that all of you get a grade for this assignment. To submit, go to datahub.berkeley.edu. Find your file. Click the checkbox next to the file. If it is green, press shutdown. If it isn't lit up, press \"Download\". After you download it, please rename the file to follow this format, \"[YOUR NAME] WEEK 5 LAB.ipynb\", and submit it to the correct bCourses assignment page. "
   ]
  }
 ],
 "metadata": {
  "kernelspec": {
   "display_name": "Python 3",
   "language": "python",
   "name": "python3"
  },
  "language_info": {
   "codemirror_mode": {
    "name": "ipython",
    "version": 3
   },
   "file_extension": ".py",
   "mimetype": "text/x-python",
   "name": "python",
   "nbconvert_exporter": "python",
   "pygments_lexer": "ipython3",
   "version": "3.6.7"
  }
 },
 "nbformat": 4,
 "nbformat_minor": 2
}
