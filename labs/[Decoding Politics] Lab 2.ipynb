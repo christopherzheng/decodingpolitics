{
 "cells": [
  {
   "cell_type": "markdown",
   "metadata": {},
   "source": [
    "# Week 2 Lab: Abstracting Congress"
   ]
  },
  {
   "cell_type": "markdown",
   "metadata": {},
   "source": [
    "## Objective\n",
    "In this lab, we will further explore the concepts of object oriented programming (OOP). As discussed in lecture, OOP in its simplest form is a method of grouping similar object traits together. In the last lab, we explored how election systems worked. In this lab, we will simulate congressional structure and build a basic operational Congress that can vote on bills."
   ]
  },
  {
   "cell_type": "code",
   "execution_count": 1,
   "metadata": {},
   "outputs": [],
   "source": [
    "from datascience import *\n",
    "import numpy as np"
   ]
  },
  {
   "cell_type": "markdown",
   "metadata": {},
   "source": [
    "## 1. Senators and Representatives\n",
    "We intend to create the most basic form of Congress, divided into the Senate and House of Representatives. To do so, we will create <code>Senator</code> and <code>Representative</code> objects, each with their own individual attributes.\n",
    "\n",
    "To implement Part 1, take a look at the two classes defined for you below (senator and representative) and fill in the respective code that distinguishes the two. Note that both classes take in certain arguments. How should the class handle passed in arguments? Where should these arguments be passed in?"
   ]
  },
  {
   "cell_type": "code",
   "execution_count": 2,
   "metadata": {},
   "outputs": [],
   "source": [
    "# Fill in term_length, self.name, self.party, and self.state\n",
    "class Senator:\n",
    "    term_length = 6\n",
    "    def __init__(self, name, party, state):\n",
    "        self.name = name\n",
    "        self.party = party\n",
    "        self.state = state"
   ]
  },
  {
   "cell_type": "code",
   "execution_count": 3,
   "metadata": {},
   "outputs": [],
   "source": [
    "# Fill in term_length, self.name, self.party, self.state, and self.district\n",
    "class Representative:\n",
    "    term_length = 2\n",
    "    def __init__(self, name, party, state, district):\n",
    "        self.name = name\n",
    "        self.party = party\n",
    "        self.state = state\n",
    "        self.district = district"
   ]
  },
  {
   "cell_type": "markdown",
   "metadata": {},
   "source": [
    "Notice how some of our variables, namely <code>term_length</code>, were outside of the <code>__init__</code> function. What is special about <code>term_length</code>? What is special about the other variables?\n",
    "\n",
    "Now that you've successfully created two different classes, we can create objects with them! Create a <code>Senator</code> and <code>Representative</code> object with the following information:\n",
    "\n",
    "Name: James Lankford<br>\n",
    "Position: Senator<br>\n",
    "Party: Republican<br>\n",
    "State: Oklahoma\n",
    "\n",
    "Name: Alexandria Ocasio-Cortez<br>\n",
    "Position: Representative<br>\n",
    "Party: Democratic<br>\n",
    "State: New York<br>\n",
    "District: 14"
   ]
  },
  {
   "cell_type": "code",
   "execution_count": 4,
   "metadata": {},
   "outputs": [],
   "source": [
    "lankford = Senator(\"James Lankford\", \"Republican\", \"Oklahoma\")\n",
    "cortez = Representative(\"Alexandria Ocasio-Cortez\", \"Democratic\", \"New York\", 14)"
   ]
  },
  {
   "cell_type": "code",
   "execution_count": 5,
   "metadata": {},
   "outputs": [
    {
     "data": {
      "text/plain": [
       "<__main__.Senator at 0x7f1c57af12b0>"
      ]
     },
     "execution_count": 5,
     "metadata": {},
     "output_type": "execute_result"
    }
   ],
   "source": [
    "lankford"
   ]
  },
  {
   "cell_type": "code",
   "execution_count": 6,
   "metadata": {},
   "outputs": [
    {
     "data": {
      "text/plain": [
       "<__main__.Representative at 0x7f1c57af1470>"
      ]
     },
     "execution_count": 6,
     "metadata": {},
     "output_type": "execute_result"
    }
   ],
   "source": [
    "cortez"
   ]
  },
  {
   "cell_type": "markdown",
   "metadata": {},
   "source": [
    "If you've correctly implemented both objects, the output of the lines above should have <code>main</code> followed by the class name and a string of numbers. If you are seeing an error of some variety, take a look at both how you have implemented the classes and created the objects. Make sure you're passing in the correct values.\n",
    "\n",
    "The numbers in the output do have some meaning, but for our purposes they are fairly useless. What happened to all the data that we stored as an object? How do we access it? Demonstrate how we can display Alexandria Ocasio-Cortez's party below."
   ]
  },
  {
   "cell_type": "code",
   "execution_count": 7,
   "metadata": {},
   "outputs": [
    {
     "data": {
      "text/plain": [
       "'Democratic'"
      ]
     },
     "execution_count": 7,
     "metadata": {},
     "output_type": "execute_result"
    }
   ],
   "source": [
    "cortez.party"
   ]
  },
  {
   "cell_type": "markdown",
   "metadata": {},
   "source": [
    "Now, create a string that describes all the information we know about James Lankford."
   ]
  },
  {
   "cell_type": "code",
   "execution_count": 8,
   "metadata": {},
   "outputs": [
    {
     "data": {
      "text/plain": [
       "'James Lankford is a Republican Senator from Oklahoma.'"
      ]
     },
     "execution_count": 8,
     "metadata": {},
     "output_type": "execute_result"
    }
   ],
   "source": [
    "lankford.name + \" is a \" + lankford.party + \" Senator from \" + lankford.state + \".\""
   ]
  },
  {
   "cell_type": "markdown",
   "metadata": {},
   "source": [
    "If we tried to do a similar statement with Alexandria Ocasio-Cortez and included the district, we would run into a Type Error. You can try this out for yourself if you'd like. This is because in Python, <code>print</code> can only display strings. Since the number 14 is an int, we need to use a special function, <code>str()</code>, so that the print function can read it. To use <code>str</code>, simply call the function on whatever integer you would like to make a string. Try filling in the code for a descriptive sentence on Alexandria Ocasio-Cortez below."
   ]
  },
  {
   "cell_type": "code",
   "execution_count": 9,
   "metadata": {},
   "outputs": [
    {
     "data": {
      "text/plain": [
       "'Alexandria Ocasio-Cortez is a Democratic Representative from District 14 of New York.'"
      ]
     },
     "execution_count": 9,
     "metadata": {},
     "output_type": "execute_result"
    }
   ],
   "source": [
    "cortez.name + \" is a \" + cortez.party + \" Representative from District \" + str(cortez.district) + \" of \" + cortez.state + \".\""
   ]
  },
  {
   "cell_type": "markdown",
   "metadata": {},
   "source": [
    "Remember how we had the <code>term_length</code> variable outside of the <code>__init__</code> function? Can we still call <code>term_length</code> through either of our objects?"
   ]
  },
  {
   "cell_type": "code",
   "execution_count": 10,
   "metadata": {},
   "outputs": [
    {
     "data": {
      "text/plain": [
       "6"
      ]
     },
     "execution_count": 10,
     "metadata": {},
     "output_type": "execute_result"
    }
   ],
   "source": [
    "lankford.term_length"
   ]
  },
  {
   "cell_type": "code",
   "execution_count": 11,
   "metadata": {},
   "outputs": [
    {
     "data": {
      "text/plain": [
       "2"
      ]
     },
     "execution_count": 11,
     "metadata": {},
     "output_type": "execute_result"
    }
   ],
   "source": [
    "cortez.term_length"
   ]
  },
  {
   "cell_type": "markdown",
   "metadata": {},
   "source": [
    "<code>term_length</code> is a *class variable*. This means that all instances of the class, in this case all <code>Senator</code>s and all <code>Representative</code>s, will have the <code>term_length</code> variable automatically set to be the designated value. We use class variables for information that we know will be consistent across all instances. Since we know that all terms in Senate are 6 years and all terms in the House of Representatives are 2 years, we can simply establish <code>term_length</code> as a class variable. You can also see that <code>term_length</code> is an established class variable by calling it directly on the class."
   ]
  },
  {
   "cell_type": "code",
   "execution_count": 12,
   "metadata": {},
   "outputs": [
    {
     "data": {
      "text/plain": [
       "6"
      ]
     },
     "execution_count": 12,
     "metadata": {},
     "output_type": "execute_result"
    }
   ],
   "source": [
    "Senator.term_length"
   ]
  },
  {
   "cell_type": "code",
   "execution_count": 13,
   "metadata": {},
   "outputs": [
    {
     "data": {
      "text/plain": [
       "2"
      ]
     },
     "execution_count": 13,
     "metadata": {},
     "output_type": "execute_result"
    }
   ],
   "source": [
    "Representative.term_length"
   ]
  },
  {
   "cell_type": "markdown",
   "metadata": {},
   "source": [
    "Calling any of the other variables in this manner will ***not*** work, as they are all instance variables and do not apply to the general class. This should make sense as you cannot apply a name, state, or party to the entire Senate or House of Representatives"
   ]
  },
  {
   "cell_type": "code",
   "execution_count": 14,
   "metadata": {},
   "outputs": [
    {
     "ename": "AttributeError",
     "evalue": "type object 'Senator' has no attribute 'name'",
     "output_type": "error",
     "traceback": [
      "\u001b[0;31m---------------------------------------------------------------------------\u001b[0m",
      "\u001b[0;31mAttributeError\u001b[0m                            Traceback (most recent call last)",
      "\u001b[0;32m<ipython-input-14-066141602717>\u001b[0m in \u001b[0;36m<module>\u001b[0;34m\u001b[0m\n\u001b[0;32m----> 1\u001b[0;31m \u001b[0mSenator\u001b[0m\u001b[0;34m.\u001b[0m\u001b[0mname\u001b[0m\u001b[0;34m\u001b[0m\u001b[0;34m\u001b[0m\u001b[0m\n\u001b[0m",
      "\u001b[0;31mAttributeError\u001b[0m: type object 'Senator' has no attribute 'name'"
     ]
    }
   ],
   "source": [
    "Senator.name"
   ]
  },
  {
   "cell_type": "markdown",
   "metadata": {},
   "source": [
    "## 2. ~~Dollar~~ Billz, Y'all\n",
    "What is Congress’s most important function? Passing bills into law of course. Bills can naturally take many different forms, but they do share some basic traits that we will be implementing today.\n",
    "\n",
    "To implement Part 2, take a look at the Bill class below and fill in the remaining information. Again, consider what information is important to know about a bill."
   ]
  },
  {
   "cell_type": "code",
   "execution_count": 15,
   "metadata": {},
   "outputs": [],
   "source": [
    "class Bill:\n",
    "    def __init__(self, number, sponsor):\n",
    "        self.number = number\n",
    "        self.sponsor = sponsor\n",
    "        self.passed = False\n",
    "        self.votes_yes = 0\n",
    "        self.votes_no = 0"
   ]
  },
  {
   "cell_type": "markdown",
   "metadata": {},
   "source": [
    "Consider the following information for a bill on banning assault weapons.\n",
    "\n",
    "Bill Number: S.66<br>\n",
    "Sponsor: Dianne Feinstein<br>\n",
    "Passed?: False\n",
    "\n",
    "Before we create the <code>Bill</code> object, let's take a moment to reflect on this information. Dianne Feinstein is the Senator who proposed the bill. While we could easily have her name listed as the sponsor for the bill, now that we have a Senator class we could also simply have a <code>Senator</code> object as the bill's sponsor. With Dianne Feinstein's information, create a <code>Senator</code> object and then create a related <code>Bill</code> object.\n",
    "\n",
    "Name: Dianne Feinstein<br>\n",
    "Position: Senator<br>\n",
    "Party: Democratic<br>\n",
    "State: California"
   ]
  },
  {
   "cell_type": "code",
   "execution_count": 16,
   "metadata": {},
   "outputs": [],
   "source": [
    "feinstein = Senator(\"Dianne Feinstein\", \"Democratic\", \"California\")\n",
    "weapons_bill = Bill(\"S.66\", feinstein)"
   ]
  },
  {
   "cell_type": "markdown",
   "metadata": {},
   "source": [
    "**2.1 What is the benefit of attaching the <code>Senator</code> object to the bill rather than simply putting in Dianne Feinstein's name as the sponsor? What additional information does this allow us to access?**\n",
    "\n",
    "YOUR ANSWER HERE:"
   ]
  },
  {
   "cell_type": "code",
   "execution_count": 17,
   "metadata": {},
   "outputs": [
    {
     "data": {
      "text/plain": [
       "'Democratic'"
      ]
     },
     "execution_count": 17,
     "metadata": {},
     "output_type": "execute_result"
    }
   ],
   "source": [
    "weapons_bill.sponsor.party"
   ]
  },
  {
   "cell_type": "markdown",
   "metadata": {},
   "source": [
    "## 3. Benedict Arlen\n",
    "Congrats, we now have a congress and bills! Hopefully in looking at the classes though, you’ve noticed this is a pretty basic implementation. There is so much more we might want to do with our <code>Senator</code>, <code>Representative</code>, and <code>Bill</code> objects after all.\n",
    "\n",
    "We've taken a look at how to access the attributes from classes and objects we've created. But what if we ever need to change it?\n",
    "\n",
    "Consider the case of Arlen Specter*, a former Senator from Pennsylvania. As a young, bright-eyed graduate from the University of Pennsylvania, Specter identified as a Democrat. Fifteen years later, however, Specter fulfilled the oft-repeated mantra of \"If you're not a liberal when you're 25, you have no heart. If you're not a conservative by the time you're 35, you have no brain\" by switching to the Republican Party, which he identified with when elected as Senator in 1980.\n",
    "\n",
    "In 2009 though, Specter had an apparent change of heart. Filled with the supposed optimism of youth, he switched back to the Democratic Party. He won his election and became a Democratic Senator.\n",
    "\n",
    "Let us assume that we have created a <code>Senator</code> object for Arlen Specter when he was still a Republican Senator. Now that he has officially switched parties, however, we must try to adjust our <code>Senator</code> object's attributes to match his new affiliation.\n",
    "\n",
    "<sup>*As an aside, Specter actually changed to the Republican Party when the Democrats didn't want him as their district attorney nominee. He later switched back to the Democratic Party in 2009 when he faced a difficult Republican primary. It is noteworthy that Specter split his vote between both parties while as a Republican and was known as a centrist; however, he also tended to change his tune whenever challenged in an election and vote on party lines, whether Democratic or Republican.</sup>"
   ]
  },
  {
   "cell_type": "code",
   "execution_count": 18,
   "metadata": {},
   "outputs": [
    {
     "data": {
      "text/plain": [
       "'Republican'"
      ]
     },
     "execution_count": 18,
     "metadata": {},
     "output_type": "execute_result"
    }
   ],
   "source": [
    "# Create the original Arlen Specter, a Republican Senator from Pennsylvania\n",
    "specter = Senator(\"Arlen Specter\", \"Republican\", \"Pennsylvania\")\n",
    "specter.party"
   ]
  },
  {
   "cell_type": "markdown",
   "metadata": {},
   "source": [
    "Python makes changing attributes relatively easy for us. We access attributes with a simple dot, followed by the name of the variable or attribute we wish to access. This access actually also allows us to set an attribute and override what we currently have. Try it out below."
   ]
  },
  {
   "cell_type": "code",
   "execution_count": 19,
   "metadata": {},
   "outputs": [
    {
     "data": {
      "text/plain": [
       "'Democratic'"
      ]
     },
     "execution_count": 19,
     "metadata": {},
     "output_type": "execute_result"
    }
   ],
   "source": [
    "# Set Specter's party to be Democratic after 2009\n",
    "specter.party = \"Democratic\"\n",
    "specter.party"
   ]
  },
  {
   "cell_type": "markdown",
   "metadata": {},
   "source": [
    "## 4. Voting\n",
    "We have created Senators, Representatives, and Bills. Now, let's create some more functionality. Bills, after all, need to be voted on. Since we have created the <code>weapons_bill</code> proposed in the Senate by Dianne Feinstein above, we will use this as an example and focus purely on the Senate.\n",
    "\n",
    "For a vote, we will need to know two crucial pieces of information: what the bill is and what the vote is. Since this information varies with each vote, we must have all three pieces of information as an input to our function."
   ]
  },
  {
   "cell_type": "markdown",
   "metadata": {},
   "source": [
    "**4.1 What data type should each input be? (e.g. String, boolean, etc.)**\n",
    "\n",
    "YOUR ANSWER HERE:"
   ]
  },
  {
   "cell_type": "markdown",
   "metadata": {},
   "source": [
    "**4.2 Why are we taking bill as an input if we know we are voting on the <code>weapons_bill</code>?**\n",
    "\n",
    "YOUR ANSWER HERE:"
   ]
  },
  {
   "cell_type": "markdown",
   "metadata": {},
   "source": [
    "Notice that when we created the <code>Bill</code> object, we had three attributes automatically set: <code>votes_yes</code>, <code>votes_no</code>, and <code>passed</code>. <code>votes_yes</code> and <code>votes_no</code> were both initialized to zero, as when a bill has been first introduced, it has not been voted on yet. Likewise, <code>passed</code> is set to False. Of course, if we wanted to go backwards in time and create bills that have already been voted on, we would need to edit those attributes.\n",
    "\n",
    "We will code the Senate vote in its simplest form, assuming that there is no filibustering and we only require a simple majority to pass the bill. For the input to vote, we will either enter <code>True</code> for a yes vote and <code>False</code> for a no vote."
   ]
  },
  {
   "cell_type": "code",
   "execution_count": 20,
   "metadata": {},
   "outputs": [],
   "source": [
    "def senate_vote(bill, vote):\n",
    "    if vote == True:\n",
    "        bill.votes_yes += 1\n",
    "    else:\n",
    "        bill.votes_no += 1\n",
    "    if bill.votes_yes > 50:\n",
    "        bill.passed = True"
   ]
  },
  {
   "cell_type": "markdown",
   "metadata": {},
   "source": [
    "**4.3 If we wanted to document old bills that have already been voted on, we could use our same Bill class and manually change the attributes. However, it would be easier to simply create a Bill class that took in additional information. How would you write the <code>__init__</code> function's header*?**\n",
    "\n",
    "<sup>*The header is the first line of the function, which in our original Bill class was <code>def __init__(self, number, sponsor)</code>.</sup>\n",
    "\n",
    "YOUR ANSWER HERE:"
   ]
  },
  {
   "cell_type": "markdown",
   "metadata": {},
   "source": [
    "We can pretty much guarantee that Dianne Feinstein will cast a yes vote for her own sponsored bill. Let us simulate that vote casting below."
   ]
  },
  {
   "cell_type": "code",
   "execution_count": 21,
   "metadata": {},
   "outputs": [
    {
     "data": {
      "text/plain": [
       "1"
      ]
     },
     "execution_count": 21,
     "metadata": {},
     "output_type": "execute_result"
    }
   ],
   "source": [
    "senate_vote(weapons_bill, True)\n",
    "weapons_bill.votes_yes"
   ]
  },
  {
   "cell_type": "code",
   "execution_count": 22,
   "metadata": {},
   "outputs": [
    {
     "data": {
      "text/plain": [
       "False"
      ]
     },
     "execution_count": 22,
     "metadata": {},
     "output_type": "execute_result"
    }
   ],
   "source": [
    "weapons_bill.passed"
   ]
  },
  {
   "cell_type": "markdown",
   "metadata": {},
   "source": [
    "As we can see, there should be an increase in the yes votes but the bill should not pass, as 1 < 51, the majority required to pass the bill.\n",
    "\n",
    "We could continue like this and write out the vote for each Senator. However, that would be tedious, and a computer scientist's goal is to be lazy. Instead, let's write out a function that can automate this process when given a list of the Senators' votes, assuming that all Democratic Senators vote yes for the bill along party lines, and all Republican Senators vote no. Independent Senators Angus King and Bernie Sanders caucus with the Democratic Party and will be counted as yes votes. First, however, we will need to reset the yes votes."
   ]
  },
  {
   "cell_type": "code",
   "execution_count": 23,
   "metadata": {},
   "outputs": [
    {
     "data": {
      "text/plain": [
       "0"
      ]
     },
     "execution_count": 23,
     "metadata": {},
     "output_type": "execute_result"
    }
   ],
   "source": [
    "weapons_bill.votes_yes = 0\n",
    "weapons_bill.votes_yes"
   ]
  },
  {
   "cell_type": "markdown",
   "metadata": {},
   "source": [
    "Next, we will need to compile a list of all Senators."
   ]
  },
  {
   "cell_type": "code",
   "execution_count": 24,
   "metadata": {},
   "outputs": [],
   "source": [
    "democratic_senators = np.array([\"Doug Jones\", \"Kyrsten Sinema\", \"Dianne Feinstein\", \"Kamala Harris\",\n",
    "                               \"Michael Bennet\", \"Richard Blumenthal\", \"Chris Murphy\", \"Tom Carper\",\n",
    "                               \"Chris Coons\", \"Brian Schatz\", \"Mazie Hirono\", \"Dick Durbin\", \"Tammy Duckworth\",\n",
    "                               \"Ben Cardin\", \"Chris Van Hollen\", \"Elizabeth Warren\", \"Ed Markey\",\n",
    "                               \"Debbie Stabenow\", \"Gary Peters\", \"Amy Klobuchar\", \"Tina Smith\",\n",
    "                               \"Jon Tester\", \"Catherine Cortez Masto\", \"Jacky Rosen\", \"Jeanne Shaheen\",\n",
    "                               \"Maggie Hassan\", \"Bob Menendez\", \"Cory Booker\", \"Tom Udall\", \"Martin Heinrich\",\n",
    "                               \"Chuck Schumer\", \"Kirsten Gillibrand\", \"Sherrod Brown\", \"Ron Wyden\",\n",
    "                               \"Jeff Merkley\", \"Bob Casey Jr.\", \"Jack Reed\", \"Sheldon Whitehouse\",\n",
    "                               \"Patrick Leahy\", \"Mark Warner\", \"Tim Kaine\", \"Patty Murray\", \"Maria Cantwell\",\n",
    "                               \"Joe Manchin\", \"Tammy Baldwin\"])\n",
    "republican_senators = np.array([\"Richard Shelby\", \"Lisa Murkowski\", \"Dan Sullivan\", \"Martha McSally\",\n",
    "                               \"John Boozman\", \"Tom Cotton\", \"Cory Gardner\", \"Marco Rubio\", \"Rick Scott\",\n",
    "                               \"Johnny Isakson\", \"David Perdue\", \"Mike Crapo\", \"Jim Risch\", \"Todd Young\",\n",
    "                               \"Mike Braun\", \"Chuck Grassley\", \"Joni Ernst\", \"Pat Roberts\", \"Jerry Moran\",\n",
    "                               \"Mitch McConnell\", \"Rand Paul\", \"Bill Cassidy\", \"John Kennedy\", \"Susan Collins\",\n",
    "                               \"Roger Wicker\", \"Cindy Hyde-Smith\", \"Roy Blunt\", \"Josh Hawley\", \"Steve Daines\",\n",
    "                               \"Deb Fischer\", \"Ben Sasse\", \"Richard Burr\", \"Thom Tillis\", \"John Hoeven\",\n",
    "                               \"Kevin Cramer\", \"Rob Portman\", \"Jim Inhofe\", \"James Lankford\", \"Pat Toomey\",\n",
    "                               \"Lindsey Graham\", \"Tim Scott\", \"John Thune\", \"Mike Rounds\", \"Lamar Alexamder\",\n",
    "                               \"Marsha Blackburn\", \"John Cornyn\", \"Ted Cruz\", \"Mike Lee\", \"Mitt Romney\",\n",
    "                               \"Shelley Moore Capito\", \"Ron Johnson\", \"Mike Enzi\", \"John Barrasso\"])\n",
    "independent_senators = np.array([\"Angus King\", \"Bernie Sanders\"])"
   ]
  },
  {
   "cell_type": "code",
   "execution_count": 25,
   "metadata": {},
   "outputs": [
    {
     "data": {
      "text/plain": [
       "45"
      ]
     },
     "execution_count": 25,
     "metadata": {},
     "output_type": "execute_result"
    }
   ],
   "source": [
    "len(democratic_senators)"
   ]
  },
  {
   "cell_type": "code",
   "execution_count": 26,
   "metadata": {},
   "outputs": [
    {
     "data": {
      "text/plain": [
       "53"
      ]
     },
     "execution_count": 26,
     "metadata": {},
     "output_type": "execute_result"
    }
   ],
   "source": [
    "len(republican_senators)"
   ]
  },
  {
   "cell_type": "code",
   "execution_count": 27,
   "metadata": {},
   "outputs": [
    {
     "data": {
      "text/plain": [
       "2"
      ]
     },
     "execution_count": 27,
     "metadata": {},
     "output_type": "execute_result"
    }
   ],
   "source": [
    "len(independent_senators)"
   ]
  },
  {
   "cell_type": "markdown",
   "metadata": {},
   "source": [
    "Since we have the actual number of Democratic, Republican, and Independent Senators, we could choose to directly change the yes votes and no votes. However, since we built a voting function, let us try to automate it rather than manually changing each attribute."
   ]
  },
  {
   "cell_type": "markdown",
   "metadata": {},
   "source": [
    "**4.4 What is the benefit of automating our votes?**\n",
    "\n",
    "YOUR ANSWER HERE:"
   ]
  },
  {
   "cell_type": "code",
   "execution_count": 33,
   "metadata": {},
   "outputs": [],
   "source": [
    "# dems: Democrats; reps: Republicans; inds: Independents\n",
    "# dem_bill: is this a Democrat or Republican sponsored bill?\n",
    "def auto_senate_vote(bill, dems, reps, inds, dem_bill):\n",
    "    for d in dems:\n",
    "        senate_vote(bill, dem_bill)\n",
    "    for r in reps:\n",
    "        senate_vote(bill, not dem_bill)\n",
    "    for i in inds:\n",
    "        senate_vote(bill, dem_bill)"
   ]
  },
  {
   "cell_type": "code",
   "execution_count": 34,
   "metadata": {},
   "outputs": [],
   "source": [
    "auto_senate_vote(weapons_bill, democratic_senators, republican_senators,\n",
    "         independent_senators, True)"
   ]
  },
  {
   "cell_type": "code",
   "execution_count": 35,
   "metadata": {},
   "outputs": [
    {
     "data": {
      "text/plain": [
       "94"
      ]
     },
     "execution_count": 35,
     "metadata": {},
     "output_type": "execute_result"
    }
   ],
   "source": [
    "weapons_bill.votes_yes"
   ]
  },
  {
   "cell_type": "code",
   "execution_count": 36,
   "metadata": {},
   "outputs": [
    {
     "data": {
      "text/plain": [
       "106"
      ]
     },
     "execution_count": 36,
     "metadata": {},
     "output_type": "execute_result"
    }
   ],
   "source": [
    "weapons_bill.votes_no"
   ]
  },
  {
   "cell_type": "code",
   "execution_count": 37,
   "metadata": {},
   "outputs": [
    {
     "data": {
      "text/plain": [
       "True"
      ]
     },
     "execution_count": 37,
     "metadata": {},
     "output_type": "execute_result"
    }
   ],
   "source": [
    "weapons_bill.passed"
   ]
  },
  {
   "cell_type": "markdown",
   "metadata": {},
   "source": [
    "**4.5 What is the purpose of including the <code>dem_bill</code> input? If we removed this input, what would happen?**\n",
    "\n",
    "YOUR ANSWER HERE:"
   ]
  },
  {
   "cell_type": "markdown",
   "metadata": {},
   "source": [
    "## Conclusion\n",
    "\n",
    "Object oriented programming is incredibly important in almost all forms of programming. This basic form of data abstraction simplifies code significantly and helps us group relevant information together. You can imagine the many applications this can be further expanded on"
   ]
  },
  {
   "cell_type": "markdown",
   "metadata": {},
   "source": [
    "## Further Understanding\n",
    "\n",
    "### Inheritance\n",
    "\n",
    "There are many attributes shared by both senators and representatives. Both senators and representatives have names, term-lengths, states they represent, committees they serve on, etc. It may appear somewhat redundant to create two different classes of objects for positions that are more similar than different—and it is. In Python and other object-oriented languages, you can establish a hierarchy that [inherits](https://www.python-course.eu/python3_inheritance.php \"Python Tutorial:Inheritance\") from its “parent.” As an example, consider a square and a rectangle. A square can be thought of as the “child” of a rectangle: it has inherited certain attributes (such as four sides), but also has unique characteristics of its own. Similarly, we could have implemented a “congressperson” object, and then had our senator and representative classes inherit the “congressperson” object to avoid implementing multiple features.\n",
    "\n",
    "* Can a “congressperson” exist without being a senator or representative? In our basic model, this should not ever be the case. How do we then prevent users from creating congresspeople that don’t fall into either category? There are methods of “abstraction” that can take away certain functions from users. We won’t go over them in this course as Python is not easily set up to prevent this type of error, but if you choose to take CS 61B in the future, this is an incredibly important subject when it comes to Java. For now, just keep this under consideration."
   ]
  }
 ],
 "metadata": {
  "kernelspec": {
   "display_name": "Python 3",
   "language": "python",
   "name": "python3"
  },
  "language_info": {
   "codemirror_mode": {
    "name": "ipython",
    "version": 3
   },
   "file_extension": ".py",
   "mimetype": "text/x-python",
   "name": "python",
   "nbconvert_exporter": "python",
   "pygments_lexer": "ipython3",
   "version": "3.6.7"
  }
 },
 "nbformat": 4,
 "nbformat_minor": 2
}
