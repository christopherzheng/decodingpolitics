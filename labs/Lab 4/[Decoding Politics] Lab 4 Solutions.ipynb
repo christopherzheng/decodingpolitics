{
 "cells": [
  {
   "cell_type": "markdown",
   "metadata": {},
   "source": [
    "# Week 4 Lab: Introduction to Tables"
   ]
  },
  {
   "cell_type": "markdown",
   "metadata": {},
   "source": [
    "This week's lab will introduce tables, which are object types that represent data sets. \n",
    "\n",
    "According to the Data 8 textbook, \"A table can be viewed in two ways: a sequence of named columns that each describe a single aspect of all entries in a data set, or a sequence of rows that each contain all information about a single entry in a data set.\" More information can be found in [Chapter 6](https://www.inferentialthinking.com/chapters/06/Tables) of the Data 8 textbook."
   ]
  },
  {
   "cell_type": "code",
   "execution_count": 2,
   "metadata": {},
   "outputs": [],
   "source": [
    "# PUT YOUR NAME HERE\n",
    "name = \"First Name Last Name\""
   ]
  },
  {
   "cell_type": "code",
   "execution_count": 3,
   "metadata": {},
   "outputs": [],
   "source": [
    "import numpy as np\n",
    "from datascience import *\n",
    "\n",
    "%matplotlib inline\n",
    "import matplotlib.pyplot as plots\n",
    "plots.style.use('fivethirtyeight')"
   ]
  },
  {
   "cell_type": "markdown",
   "metadata": {},
   "source": [
    "## 1. Creating a Table"
   ]
  },
  {
   "cell_type": "markdown",
   "metadata": {},
   "source": [
    "### Using Arrays"
   ]
  },
  {
   "cell_type": "markdown",
   "metadata": {},
   "source": [
    "Looking at the first description of a table, we are going to combine two arrays and create a table. As a reminder, the <code>\"np.array\"</code> function creates an array. Similarly the <code>Table()</code> function create a new table. It is important to import the datascience module in order to use the <code>Table()</code> function- it is not native to Python.\n",
    "\n",
    "Another useful function to utilze when creating a table is <code>with_columns</code>. This allows existing arrays to become a table. <code>with_columns</code> takes in two arguments: (\"Label\", array). "
   ]
  },
  {
   "cell_type": "code",
   "execution_count": 4,
   "metadata": {},
   "outputs": [
    {
     "data": {
      "text/plain": [
       "array(['Democratic', 'Republican'], dtype='<U10')"
      ]
     },
     "execution_count": 4,
     "metadata": {},
     "output_type": "execute_result"
    }
   ],
   "source": [
    "# Create an array that has the strings \"Democrat\", and \"Republicans\"\n",
    "political_parties = np.array([\"Democratic\", \"Republican\"])\n",
    "political_parties"
   ]
  },
  {
   "cell_type": "code",
   "execution_count": 5,
   "metadata": {},
   "outputs": [
    {
     "data": {
      "text/plain": [
       "array(['Andrew Jackson', 'Abraham Lincoln'], dtype='<U15')"
      ]
     },
     "execution_count": 5,
     "metadata": {},
     "output_type": "execute_result"
    }
   ],
   "source": [
    "# Create another array that has the strings \"Andrew Jackson\" and \"Abraham Lincoln\"\n",
    "party_founders = np.array([\"Andrew Jackson\", \"Abraham Lincoln\"])\n",
    "party_founders"
   ]
  },
  {
   "cell_type": "code",
   "execution_count": 6,
   "metadata": {},
   "outputs": [
    {
     "data": {
      "text/html": [
       "<table border=\"1\" class=\"dataframe\">\n",
       "    <thead>\n",
       "        <tr>\n",
       "            <th>Parties</th> <th>Presidents</th>\n",
       "        </tr>\n",
       "    </thead>\n",
       "    <tbody>\n",
       "        <tr>\n",
       "            <td>Democratic</td> <td>Andrew Jackson </td>\n",
       "        </tr>\n",
       "        <tr>\n",
       "            <td>Republican</td> <td>Abraham Lincoln</td>\n",
       "        </tr>\n",
       "    </tbody>\n",
       "</table>"
      ],
      "text/plain": [
       "Parties    | Presidents\n",
       "Democratic | Andrew Jackson\n",
       "Republican | Abraham Lincoln"
      ]
     },
     "execution_count": 6,
     "metadata": {},
     "output_type": "execute_result"
    }
   ],
   "source": [
    "# Merge the two arrays political_parties and party_founders into a Table\n",
    "parties = Table().with_columns(\"Parties\", political_parties,\n",
    "                              \"Presidents\", party_founders)\n",
    "parties"
   ]
  },
  {
   "cell_type": "code",
   "execution_count": 7,
   "metadata": {},
   "outputs": [
    {
     "data": {
      "text/plain": [
       "array([ 7, 16])"
      ]
     },
     "execution_count": 7,
     "metadata": {},
     "output_type": "execute_result"
    }
   ],
   "source": [
    "# Create a new \n",
    "rank = np.array([7, 16])\n",
    "rank"
   ]
  },
  {
   "cell_type": "code",
   "execution_count": 8,
   "metadata": {},
   "outputs": [
    {
     "data": {
      "text/html": [
       "<table border=\"1\" class=\"dataframe\">\n",
       "    <thead>\n",
       "        <tr>\n",
       "            <th>Parties</th> <th>Presidents</th> <th>Rank</th>\n",
       "        </tr>\n",
       "    </thead>\n",
       "    <tbody>\n",
       "        <tr>\n",
       "            <td>Democratic</td> <td>Andrew Jackson </td> <td>7   </td>\n",
       "        </tr>\n",
       "        <tr>\n",
       "            <td>Republican</td> <td>Abraham Lincoln</td> <td>16  </td>\n",
       "        </tr>\n",
       "    </tbody>\n",
       "</table>"
      ],
      "text/plain": [
       "Parties    | Presidents      | Rank\n",
       "Democratic | Andrew Jackson  | 7\n",
       "Republican | Abraham Lincoln | 16"
      ]
     },
     "execution_count": 8,
     "metadata": {},
     "output_type": "execute_result"
    }
   ],
   "source": [
    "parties = parties.with_column(\"Rank\", rank)\n",
    "parties"
   ]
  },
  {
   "cell_type": "markdown",
   "metadata": {},
   "source": [
    "Rows are another useful feature that can be used with tables. Rows are similar to columns conceptually, but columns contain all of the same data type, while rows can consist of different data types. The function <code>with_row()</code> can add a row to a table."
   ]
  },
  {
   "cell_type": "code",
   "execution_count": 9,
   "metadata": {},
   "outputs": [
    {
     "data": {
      "text/plain": [
       "['Republican', 'Donald Trump', 45]"
      ]
     },
     "execution_count": 9,
     "metadata": {},
     "output_type": "execute_result"
    }
   ],
   "source": [
    "# columns are all the same data type values BUT rows can consist of different data types. Below is a row\n",
    "current_prez = [\"Republican\", \"Donald Trump\", 45]\n",
    "current_prez"
   ]
  },
  {
   "cell_type": "code",
   "execution_count": 10,
   "metadata": {},
   "outputs": [
    {
     "data": {
      "text/html": [
       "<table border=\"1\" class=\"dataframe\">\n",
       "    <thead>\n",
       "        <tr>\n",
       "            <th>Parties</th> <th>Presidents</th> <th>Rank</th>\n",
       "        </tr>\n",
       "    </thead>\n",
       "    <tbody>\n",
       "        <tr>\n",
       "            <td>Democratic</td> <td>Andrew Jackson </td> <td>7   </td>\n",
       "        </tr>\n",
       "        <tr>\n",
       "            <td>Republican</td> <td>Abraham Lincoln</td> <td>16  </td>\n",
       "        </tr>\n",
       "        <tr>\n",
       "            <td>Republican</td> <td>Donald Trump   </td> <td>45  </td>\n",
       "        </tr>\n",
       "    </tbody>\n",
       "</table>"
      ],
      "text/plain": [
       "Parties    | Presidents      | Rank\n",
       "Democratic | Andrew Jackson  | 7\n",
       "Republican | Abraham Lincoln | 16\n",
       "Republican | Donald Trump    | 45"
      ]
     },
     "execution_count": 10,
     "metadata": {},
     "output_type": "execute_result"
    }
   ],
   "source": [
    "more_parties = parties.with_row(current_prez)\n",
    "more_parties"
   ]
  },
  {
   "cell_type": "markdown",
   "metadata": {},
   "source": [
    "## 2. The Presidential Table"
   ]
  },
  {
   "cell_type": "markdown",
   "metadata": {},
   "source": [
    "Adapted from [this Kaggle CSV](https://data.world/government/us-election-results), we'll be loading data from a CSV (comma seperate values) file to create a table. The table below contains information about each US president and includes columns such as their start and end dates, prior titles, party affiliations, and vice presidents during the start of their term."
   ]
  },
  {
   "cell_type": "code",
   "execution_count": 11,
   "metadata": {},
   "outputs": [
    {
     "data": {
      "text/html": [
       "<table border=\"1\" class=\"dataframe\">\n",
       "    <thead>\n",
       "        <tr>\n",
       "            <th>Rank</th> <th>start</th> <th>end</th> <th>President</th> <th>Prior Title</th> <th>Party</th> <th>Vice President</th>\n",
       "        </tr>\n",
       "    </thead>\n",
       "    <tbody>\n",
       "        <tr>\n",
       "            <td>1   </td> <td>4/30/1789 </td> <td>3/4/1797  </td> <td>George Washington     </td> <td>Commander-in-Chief of the Continental Army                  </td> <td>Nonpartisan            </td> <td>John Adams            </td>\n",
       "        </tr>\n",
       "        <tr>\n",
       "            <td>2   </td> <td>3/4/1797  </td> <td>3/4/1801  </td> <td>John Adams            </td> <td>Vice President                                              </td> <td>Federalist             </td> <td>Thomas Jefferson      </td>\n",
       "        </tr>\n",
       "        <tr>\n",
       "            <td>3   </td> <td>3/4/1801  </td> <td>3/4/1809  </td> <td>Thomas Jefferson      </td> <td>Vice President                                              </td> <td>Democratic-  Republican</td> <td>Aaron Burr            </td>\n",
       "        </tr>\n",
       "        <tr>\n",
       "            <td>4   </td> <td>3/4/1809  </td> <td>3/4/1817  </td> <td>James Madison         </td> <td>United States Secretary of State                            </td> <td>Democratic-  Republican</td> <td>George Clinton        </td>\n",
       "        </tr>\n",
       "        <tr>\n",
       "            <td>5   </td> <td>3/4/1817  </td> <td>3/4/1825  </td> <td>James Monroe          </td> <td>United States Secretary of State                            </td> <td>Democratic-  Republican</td> <td>Daniel D. Tompkins    </td>\n",
       "        </tr>\n",
       "        <tr>\n",
       "            <td>6   </td> <td>3/4/1825  </td> <td>3/4/1829  </td> <td>John Quincy Adams     </td> <td>United States Secretary of State                            </td> <td>Democratic-  Republican</td> <td>John C. Calhoun       </td>\n",
       "        </tr>\n",
       "        <tr>\n",
       "            <td>7   </td> <td>3/4/1829  </td> <td>3/4/1837  </td> <td>Andrew Jackson        </td> <td>US Senator                                                  </td> <td>Democratic             </td> <td>John C. Calhoun       </td>\n",
       "        </tr>\n",
       "        <tr>\n",
       "            <td>8   </td> <td>3/4/1837  </td> <td>3/4/1841  </td> <td>Martin Van Buren      </td> <td>Vice President                                              </td> <td>Democratic             </td> <td>Richard Mentor Johnson</td>\n",
       "        </tr>\n",
       "        <tr>\n",
       "            <td>9   </td> <td>3/4/1841  </td> <td>4/4/1841  </td> <td>William Henry Harrison</td> <td>United States Minister                                      </td> <td>Whig                   </td> <td>John Tyler            </td>\n",
       "        </tr>\n",
       "        <tr>\n",
       "            <td>10  </td> <td>4/4/1841  </td> <td>3/4/1845  </td> <td>John Tyler            </td> <td>Vice President                                              </td> <td>Whig                   </td> <td>Office vacant         </td>\n",
       "        </tr>\n",
       "        <tr>\n",
       "            <td>11  </td> <td>3/4/1845  </td> <td>3/4/1849  </td> <td>James K. Polk         </td> <td>Governor                                                    </td> <td>Democratic             </td> <td>George M. Dallas      </td>\n",
       "        </tr>\n",
       "        <tr>\n",
       "            <td>12  </td> <td>3/4/1849  </td> <td>9/9/1850  </td> <td>Zachary Taylor        </td> <td>Major General of the 1st Infantry Regiment United States ...</td> <td>Whig                   </td> <td>Millard Fillmore      </td>\n",
       "        </tr>\n",
       "        <tr>\n",
       "            <td>13  </td> <td>9/9/1850  </td> <td>3/4/1853  </td> <td>Millard Fillmore      </td> <td>Vice President                                              </td> <td>Whig                   </td> <td>Office vacant         </td>\n",
       "        </tr>\n",
       "        <tr>\n",
       "            <td>14  </td> <td>3/4/1853  </td> <td>3/4/1857  </td> <td>Franklin Pierce       </td> <td>Brigadier General of the 9th Infantry United States Army    </td> <td>Democratic             </td> <td>William R. King       </td>\n",
       "        </tr>\n",
       "        <tr>\n",
       "            <td>15  </td> <td>3/4/1857  </td> <td>3/4/1861  </td> <td>James Buchanan        </td> <td>United States Minister                                      </td> <td>Democratic             </td> <td>John C. Breckinridge  </td>\n",
       "        </tr>\n",
       "        <tr>\n",
       "            <td>16  </td> <td>3/4/1861  </td> <td>4/15/1865 </td> <td>Abraham Lincoln       </td> <td>US Representative                                           </td> <td>Republican             </td> <td>Hannibal Hamlin       </td>\n",
       "        </tr>\n",
       "        <tr>\n",
       "            <td>17  </td> <td>4/15/1865 </td> <td>3/4/1869  </td> <td>Andrew Johnson        </td> <td>Vice President                                              </td> <td> Democratic            </td> <td>Office vacant         </td>\n",
       "        </tr>\n",
       "        <tr>\n",
       "            <td>18  </td> <td>3/4/1869  </td> <td>3/4/1877  </td> <td>Ulysses S. Grant      </td> <td>Commanding General of the United States Army                </td> <td>Republican             </td> <td>Schuyler Colfax       </td>\n",
       "        </tr>\n",
       "        <tr>\n",
       "            <td>19  </td> <td>3/4/1877  </td> <td>3/4/1881  </td> <td>Rutherford B. Hayes   </td> <td>Governor                                                    </td> <td>Republican             </td> <td>William A. Wheeler    </td>\n",
       "        </tr>\n",
       "        <tr>\n",
       "            <td>20  </td> <td>3/4/1881  </td> <td>9/19/1881 </td> <td>James A. Garfield     </td> <td>US Representative                                           </td> <td>Republican             </td> <td>Chester A. Arthur     </td>\n",
       "        </tr>\n",
       "        <tr>\n",
       "            <td>21  </td> <td>9/19/1881 </td> <td>3/4/1885  </td> <td>Chester A. Arthur     </td> <td>Vice President                                              </td> <td>Republican             </td> <td>Office vacant         </td>\n",
       "        </tr>\n",
       "        <tr>\n",
       "            <td>22  </td> <td>3/4/1885  </td> <td>3/4/1889  </td> <td>Grover Cleveland      </td> <td>Governor of New York                                        </td> <td>Democratic             </td> <td>Thomas A. Hendricks   </td>\n",
       "        </tr>\n",
       "        <tr>\n",
       "            <td>23  </td> <td>3/4/1889  </td> <td>3/4/1893  </td> <td>Benjamin Harrison     </td> <td>US Senator                                                  </td> <td>Republican             </td> <td>Levi P. Morton        </td>\n",
       "        </tr>\n",
       "        <tr>\n",
       "            <td>24  </td> <td>3/4/1893  </td> <td>3/4/1897  </td> <td>Grover Cleveland      </td> <td>President                                                   </td> <td>Democratic             </td> <td>Adlai Stevenson       </td>\n",
       "        </tr>\n",
       "        <tr>\n",
       "            <td>25  </td> <td>3/4/1897  </td> <td>9/14/1901 </td> <td>William McKinley      </td> <td>Governor                                                    </td> <td>Republican             </td> <td>Garret Hobart         </td>\n",
       "        </tr>\n",
       "        <tr>\n",
       "            <td>26  </td> <td>9/14/1901 </td> <td>3/4/1909  </td> <td>Theodore Roosevelt    </td> <td>Vice President                                              </td> <td>Republican             </td> <td>Charles W. Fairbanks  </td>\n",
       "        </tr>\n",
       "        <tr>\n",
       "            <td>27  </td> <td>3/4/1909  </td> <td>3/4/1913  </td> <td>William Howard Taft   </td> <td>United States Secretary of War                              </td> <td>Republican             </td> <td>James S. Sherman      </td>\n",
       "        </tr>\n",
       "        <tr>\n",
       "            <td>28  </td> <td>3/4/1913  </td> <td>3/4/1921  </td> <td>Woodrow Wilson        </td> <td>Governor                                                    </td> <td>Democratic             </td> <td>Thomas R. Marshall    </td>\n",
       "        </tr>\n",
       "        <tr>\n",
       "            <td>29  </td> <td>3/4/1921  </td> <td>8/2/1923  </td> <td>Warren G. Harding     </td> <td>US Senator                                                  </td> <td>Republican             </td> <td>Calvin Coolidge       </td>\n",
       "        </tr>\n",
       "        <tr>\n",
       "            <td>30  </td> <td>8/2/1923  </td> <td>3/4/1929  </td> <td>Calvin Coolidge       </td> <td>Vice President                                              </td> <td>Republican             </td> <td>Charles G. Dawes      </td>\n",
       "        </tr>\n",
       "        <tr>\n",
       "            <td>31  </td> <td>3/4/1929  </td> <td>3/4/1933  </td> <td>Herbert Hoover        </td> <td>United States Secretary of Commerce                         </td> <td>Republican             </td> <td>Charles Curtis        </td>\n",
       "        </tr>\n",
       "        <tr>\n",
       "            <td>32  </td> <td>3/4/1933  </td> <td>1/20/1941 </td> <td>Franklin D. Roosevelt </td> <td>Governor                                                    </td> <td>Democratic             </td> <td>John Nance Garner     </td>\n",
       "        </tr>\n",
       "        <tr>\n",
       "            <td>33  </td> <td>4/12/1945 </td> <td>1/20/1953 </td> <td>Harry S. Truman       </td> <td>Vice President                                              </td> <td>Democratic             </td> <td>Alben W. Barkley      </td>\n",
       "        </tr>\n",
       "        <tr>\n",
       "            <td>34  </td> <td>1/20/1953 </td> <td>1/20/1961 </td> <td>Dwight D. Eisenhower  </td> <td>Supreme Allied Commander Europe                             </td> <td>Republican             </td> <td>Richard Nixon         </td>\n",
       "        </tr>\n",
       "        <tr>\n",
       "            <td>35  </td> <td>1/20/1961 </td> <td>11/22/1963</td> <td>John F. Kennedy       </td> <td>US Senator                                                  </td> <td>Democratic             </td> <td>Lyndon B. Johnson     </td>\n",
       "        </tr>\n",
       "        <tr>\n",
       "            <td>36  </td> <td>11/22/1963</td> <td>1/20/1969 </td> <td>Lyndon B. Johnson     </td> <td>Vice President                                              </td> <td>Democratic             </td> <td>Hubert Humphrey       </td>\n",
       "        </tr>\n",
       "        <tr>\n",
       "            <td>37  </td> <td>1/20/1969 </td> <td>8/9/1974  </td> <td>Richard Nixon         </td> <td>Vice President                                              </td> <td>Republican             </td> <td>Spiro Agnew           </td>\n",
       "        </tr>\n",
       "        <tr>\n",
       "            <td>38  </td> <td>8/9/1974  </td> <td>1/20/1977 </td> <td>Gerald Ford           </td> <td>Vice President                                              </td> <td>Republican             </td> <td>Nelson Rockefeller    </td>\n",
       "        </tr>\n",
       "        <tr>\n",
       "            <td>39  </td> <td>1/20/1977 </td> <td>1/20/1981 </td> <td>Jimmy Carter          </td> <td>Governor                                                    </td> <td>Democratic             </td> <td>Walter Mondale        </td>\n",
       "        </tr>\n",
       "        <tr>\n",
       "            <td>40  </td> <td>1/20/1981 </td> <td>1/20/1989 </td> <td>Ronald Reagan         </td> <td>Governor                                                    </td> <td>Republican             </td> <td>George H. W. Bush     </td>\n",
       "        </tr>\n",
       "        <tr>\n",
       "            <td>41  </td> <td>1/20/1989 </td> <td>1/20/1993 </td> <td>George H. W. Bush     </td> <td>Vice President                                              </td> <td>Republican             </td> <td>Dan Quayle            </td>\n",
       "        </tr>\n",
       "        <tr>\n",
       "            <td>42  </td> <td>1/20/1993 </td> <td>1/20/2001 </td> <td>Bill Clinton          </td> <td>Governor                                                    </td> <td>Democratic             </td> <td>Al Gore               </td>\n",
       "        </tr>\n",
       "        <tr>\n",
       "            <td>43  </td> <td>1/20/2001 </td> <td>1/20/2009 </td> <td>George W. Bush        </td> <td>Governor                                                    </td> <td>Republican             </td> <td>Dick Cheney           </td>\n",
       "        </tr>\n",
       "        <tr>\n",
       "            <td>44  </td> <td>1/20/2009 </td> <td>1/20/2017 </td> <td>Barack Obama          </td> <td>US Senator                                                  </td> <td>Democratic             </td> <td>Joe Biden             </td>\n",
       "        </tr>\n",
       "        <tr>\n",
       "            <td>45  </td> <td>1/20/2017 </td> <td>nan       </td> <td>Donald Trump          </td> <td>Chairman of  The Trump Organization                         </td> <td>Republican             </td> <td>Mike Pence            </td>\n",
       "        </tr>\n",
       "    </tbody>\n",
       "</table>"
      ],
      "text/plain": [
       "<IPython.core.display.HTML object>"
      ]
     },
     "metadata": {},
     "output_type": "display_data"
    }
   ],
   "source": [
    "# load the table\n",
    "us_presidents = Table.read_table(\"us_presidents.csv\")\n",
    "us_presidents.show()"
   ]
  },
  {
   "cell_type": "markdown",
   "metadata": {},
   "source": [
    "### Using the drop(), sort(), and select() functions, we can manipulate the table to filter specific results we want."
   ]
  },
  {
   "cell_type": "markdown",
   "metadata": {},
   "source": [
    "* <code>drop()</code> - drops the columns that we don't want or don't want to see\n",
    "* <code>sort()</code> - sorts the dataset according to the selected columns\n",
    "* <code>select()</code> - selects specific columns to show and omits the rest \n",
    "\n",
    "* <code>show()</code> - shows all values of a table"
   ]
  },
  {
   "cell_type": "markdown",
   "metadata": {},
   "source": [
    "#### a. Drop the Rank, start, end, Party, and Vice President columns and save the result as a new Table."
   ]
  },
  {
   "cell_type": "code",
   "execution_count": 12,
   "metadata": {},
   "outputs": [
    {
     "data": {
      "text/html": [
       "<table border=\"1\" class=\"dataframe\">\n",
       "    <thead>\n",
       "        <tr>\n",
       "            <th>President</th> <th>Prior Title</th>\n",
       "        </tr>\n",
       "    </thead>\n",
       "    <tbody>\n",
       "        <tr>\n",
       "            <td>George Washington     </td> <td>Commander-in-Chief of the Continental Army                  </td>\n",
       "        </tr>\n",
       "        <tr>\n",
       "            <td>John Adams            </td> <td>Vice President                                              </td>\n",
       "        </tr>\n",
       "        <tr>\n",
       "            <td>Thomas Jefferson      </td> <td>Vice President                                              </td>\n",
       "        </tr>\n",
       "        <tr>\n",
       "            <td>James Madison         </td> <td>United States Secretary of State                            </td>\n",
       "        </tr>\n",
       "        <tr>\n",
       "            <td>James Monroe          </td> <td>United States Secretary of State                            </td>\n",
       "        </tr>\n",
       "        <tr>\n",
       "            <td>John Quincy Adams     </td> <td>United States Secretary of State                            </td>\n",
       "        </tr>\n",
       "        <tr>\n",
       "            <td>Andrew Jackson        </td> <td>US Senator                                                  </td>\n",
       "        </tr>\n",
       "        <tr>\n",
       "            <td>Martin Van Buren      </td> <td>Vice President                                              </td>\n",
       "        </tr>\n",
       "        <tr>\n",
       "            <td>William Henry Harrison</td> <td>United States Minister                                      </td>\n",
       "        </tr>\n",
       "        <tr>\n",
       "            <td>John Tyler            </td> <td>Vice President                                              </td>\n",
       "        </tr>\n",
       "        <tr>\n",
       "            <td>James K. Polk         </td> <td>Governor                                                    </td>\n",
       "        </tr>\n",
       "        <tr>\n",
       "            <td>Zachary Taylor        </td> <td>Major General of the 1st Infantry Regiment United States ...</td>\n",
       "        </tr>\n",
       "        <tr>\n",
       "            <td>Millard Fillmore      </td> <td>Vice President                                              </td>\n",
       "        </tr>\n",
       "        <tr>\n",
       "            <td>Franklin Pierce       </td> <td>Brigadier General of the 9th Infantry United States Army    </td>\n",
       "        </tr>\n",
       "        <tr>\n",
       "            <td>James Buchanan        </td> <td>United States Minister                                      </td>\n",
       "        </tr>\n",
       "        <tr>\n",
       "            <td>Abraham Lincoln       </td> <td>US Representative                                           </td>\n",
       "        </tr>\n",
       "        <tr>\n",
       "            <td>Andrew Johnson        </td> <td>Vice President                                              </td>\n",
       "        </tr>\n",
       "        <tr>\n",
       "            <td>Ulysses S. Grant      </td> <td>Commanding General of the United States Army                </td>\n",
       "        </tr>\n",
       "        <tr>\n",
       "            <td>Rutherford B. Hayes   </td> <td>Governor                                                    </td>\n",
       "        </tr>\n",
       "        <tr>\n",
       "            <td>James A. Garfield     </td> <td>US Representative                                           </td>\n",
       "        </tr>\n",
       "        <tr>\n",
       "            <td>Chester A. Arthur     </td> <td>Vice President                                              </td>\n",
       "        </tr>\n",
       "        <tr>\n",
       "            <td>Grover Cleveland      </td> <td>Governor of New York                                        </td>\n",
       "        </tr>\n",
       "        <tr>\n",
       "            <td>Benjamin Harrison     </td> <td>US Senator                                                  </td>\n",
       "        </tr>\n",
       "        <tr>\n",
       "            <td>Grover Cleveland      </td> <td>President                                                   </td>\n",
       "        </tr>\n",
       "        <tr>\n",
       "            <td>William McKinley      </td> <td>Governor                                                    </td>\n",
       "        </tr>\n",
       "        <tr>\n",
       "            <td>Theodore Roosevelt    </td> <td>Vice President                                              </td>\n",
       "        </tr>\n",
       "        <tr>\n",
       "            <td>William Howard Taft   </td> <td>United States Secretary of War                              </td>\n",
       "        </tr>\n",
       "        <tr>\n",
       "            <td>Woodrow Wilson        </td> <td>Governor                                                    </td>\n",
       "        </tr>\n",
       "        <tr>\n",
       "            <td>Warren G. Harding     </td> <td>US Senator                                                  </td>\n",
       "        </tr>\n",
       "        <tr>\n",
       "            <td>Calvin Coolidge       </td> <td>Vice President                                              </td>\n",
       "        </tr>\n",
       "        <tr>\n",
       "            <td>Herbert Hoover        </td> <td>United States Secretary of Commerce                         </td>\n",
       "        </tr>\n",
       "        <tr>\n",
       "            <td>Franklin D. Roosevelt </td> <td>Governor                                                    </td>\n",
       "        </tr>\n",
       "        <tr>\n",
       "            <td>Harry S. Truman       </td> <td>Vice President                                              </td>\n",
       "        </tr>\n",
       "        <tr>\n",
       "            <td>Dwight D. Eisenhower  </td> <td>Supreme Allied Commander Europe                             </td>\n",
       "        </tr>\n",
       "        <tr>\n",
       "            <td>John F. Kennedy       </td> <td>US Senator                                                  </td>\n",
       "        </tr>\n",
       "        <tr>\n",
       "            <td>Lyndon B. Johnson     </td> <td>Vice President                                              </td>\n",
       "        </tr>\n",
       "        <tr>\n",
       "            <td>Richard Nixon         </td> <td>Vice President                                              </td>\n",
       "        </tr>\n",
       "        <tr>\n",
       "            <td>Gerald Ford           </td> <td>Vice President                                              </td>\n",
       "        </tr>\n",
       "        <tr>\n",
       "            <td>Jimmy Carter          </td> <td>Governor                                                    </td>\n",
       "        </tr>\n",
       "        <tr>\n",
       "            <td>Ronald Reagan         </td> <td>Governor                                                    </td>\n",
       "        </tr>\n",
       "        <tr>\n",
       "            <td>George H. W. Bush     </td> <td>Vice President                                              </td>\n",
       "        </tr>\n",
       "        <tr>\n",
       "            <td>Bill Clinton          </td> <td>Governor                                                    </td>\n",
       "        </tr>\n",
       "        <tr>\n",
       "            <td>George W. Bush        </td> <td>Governor                                                    </td>\n",
       "        </tr>\n",
       "        <tr>\n",
       "            <td>Barack Obama          </td> <td>US Senator                                                  </td>\n",
       "        </tr>\n",
       "        <tr>\n",
       "            <td>Donald Trump          </td> <td>Chairman of  The Trump Organization                         </td>\n",
       "        </tr>\n",
       "    </tbody>\n",
       "</table>"
      ],
      "text/plain": [
       "<IPython.core.display.HTML object>"
      ]
     },
     "metadata": {},
     "output_type": "display_data"
    }
   ],
   "source": [
    "us_presidents_prior_title = us_presidents.drop(\"Rank\", \"start\", \"end\", \"Party\", \"Vice President\")\n",
    "us_presidents_prior_title.show()"
   ]
  },
  {
   "cell_type": "markdown",
   "metadata": {},
   "source": [
    "#### b. Sort the new table by \"Prior Title\"."
   ]
  },
  {
   "cell_type": "code",
   "execution_count": 13,
   "metadata": {},
   "outputs": [
    {
     "data": {
      "text/html": [
       "<table border=\"1\" class=\"dataframe\">\n",
       "    <thead>\n",
       "        <tr>\n",
       "            <th>President</th> <th>Prior Title</th>\n",
       "        </tr>\n",
       "    </thead>\n",
       "    <tbody>\n",
       "        <tr>\n",
       "            <td>Franklin Pierce       </td> <td>Brigadier General of the 9th Infantry United States Army    </td>\n",
       "        </tr>\n",
       "        <tr>\n",
       "            <td>Donald Trump          </td> <td>Chairman of  The Trump Organization                         </td>\n",
       "        </tr>\n",
       "        <tr>\n",
       "            <td>George Washington     </td> <td>Commander-in-Chief of the Continental Army                  </td>\n",
       "        </tr>\n",
       "        <tr>\n",
       "            <td>Ulysses S. Grant      </td> <td>Commanding General of the United States Army                </td>\n",
       "        </tr>\n",
       "        <tr>\n",
       "            <td>James K. Polk         </td> <td>Governor                                                    </td>\n",
       "        </tr>\n",
       "        <tr>\n",
       "            <td>Rutherford B. Hayes   </td> <td>Governor                                                    </td>\n",
       "        </tr>\n",
       "        <tr>\n",
       "            <td>William McKinley      </td> <td>Governor                                                    </td>\n",
       "        </tr>\n",
       "        <tr>\n",
       "            <td>Woodrow Wilson        </td> <td>Governor                                                    </td>\n",
       "        </tr>\n",
       "        <tr>\n",
       "            <td>Franklin D. Roosevelt </td> <td>Governor                                                    </td>\n",
       "        </tr>\n",
       "        <tr>\n",
       "            <td>Jimmy Carter          </td> <td>Governor                                                    </td>\n",
       "        </tr>\n",
       "        <tr>\n",
       "            <td>Ronald Reagan         </td> <td>Governor                                                    </td>\n",
       "        </tr>\n",
       "        <tr>\n",
       "            <td>Bill Clinton          </td> <td>Governor                                                    </td>\n",
       "        </tr>\n",
       "        <tr>\n",
       "            <td>George W. Bush        </td> <td>Governor                                                    </td>\n",
       "        </tr>\n",
       "        <tr>\n",
       "            <td>Grover Cleveland      </td> <td>Governor of New York                                        </td>\n",
       "        </tr>\n",
       "        <tr>\n",
       "            <td>Zachary Taylor        </td> <td>Major General of the 1st Infantry Regiment United States ...</td>\n",
       "        </tr>\n",
       "        <tr>\n",
       "            <td>Grover Cleveland      </td> <td>President                                                   </td>\n",
       "        </tr>\n",
       "        <tr>\n",
       "            <td>Dwight D. Eisenhower  </td> <td>Supreme Allied Commander Europe                             </td>\n",
       "        </tr>\n",
       "        <tr>\n",
       "            <td>Abraham Lincoln       </td> <td>US Representative                                           </td>\n",
       "        </tr>\n",
       "        <tr>\n",
       "            <td>James A. Garfield     </td> <td>US Representative                                           </td>\n",
       "        </tr>\n",
       "        <tr>\n",
       "            <td>Andrew Jackson        </td> <td>US Senator                                                  </td>\n",
       "        </tr>\n",
       "        <tr>\n",
       "            <td>Benjamin Harrison     </td> <td>US Senator                                                  </td>\n",
       "        </tr>\n",
       "        <tr>\n",
       "            <td>Warren G. Harding     </td> <td>US Senator                                                  </td>\n",
       "        </tr>\n",
       "        <tr>\n",
       "            <td>Barack Obama          </td> <td>US Senator                                                  </td>\n",
       "        </tr>\n",
       "        <tr>\n",
       "            <td>John F. Kennedy       </td> <td>US Senator                                                  </td>\n",
       "        </tr>\n",
       "        <tr>\n",
       "            <td>William Henry Harrison</td> <td>United States Minister                                      </td>\n",
       "        </tr>\n",
       "        <tr>\n",
       "            <td>James Buchanan        </td> <td>United States Minister                                      </td>\n",
       "        </tr>\n",
       "        <tr>\n",
       "            <td>Herbert Hoover        </td> <td>United States Secretary of Commerce                         </td>\n",
       "        </tr>\n",
       "        <tr>\n",
       "            <td>James Madison         </td> <td>United States Secretary of State                            </td>\n",
       "        </tr>\n",
       "        <tr>\n",
       "            <td>James Monroe          </td> <td>United States Secretary of State                            </td>\n",
       "        </tr>\n",
       "        <tr>\n",
       "            <td>John Quincy Adams     </td> <td>United States Secretary of State                            </td>\n",
       "        </tr>\n",
       "        <tr>\n",
       "            <td>William Howard Taft   </td> <td>United States Secretary of War                              </td>\n",
       "        </tr>\n",
       "        <tr>\n",
       "            <td>John Adams            </td> <td>Vice President                                              </td>\n",
       "        </tr>\n",
       "        <tr>\n",
       "            <td>Thomas Jefferson      </td> <td>Vice President                                              </td>\n",
       "        </tr>\n",
       "        <tr>\n",
       "            <td>Martin Van Buren      </td> <td>Vice President                                              </td>\n",
       "        </tr>\n",
       "        <tr>\n",
       "            <td>John Tyler            </td> <td>Vice President                                              </td>\n",
       "        </tr>\n",
       "        <tr>\n",
       "            <td>Millard Fillmore      </td> <td>Vice President                                              </td>\n",
       "        </tr>\n",
       "        <tr>\n",
       "            <td>Andrew Johnson        </td> <td>Vice President                                              </td>\n",
       "        </tr>\n",
       "        <tr>\n",
       "            <td>Chester A. Arthur     </td> <td>Vice President                                              </td>\n",
       "        </tr>\n",
       "        <tr>\n",
       "            <td>Theodore Roosevelt    </td> <td>Vice President                                              </td>\n",
       "        </tr>\n",
       "        <tr>\n",
       "            <td>Calvin Coolidge       </td> <td>Vice President                                              </td>\n",
       "        </tr>\n",
       "        <tr>\n",
       "            <td>Harry S. Truman       </td> <td>Vice President                                              </td>\n",
       "        </tr>\n",
       "        <tr>\n",
       "            <td>Lyndon B. Johnson     </td> <td>Vice President                                              </td>\n",
       "        </tr>\n",
       "        <tr>\n",
       "            <td>Gerald Ford           </td> <td>Vice President                                              </td>\n",
       "        </tr>\n",
       "        <tr>\n",
       "            <td>George H. W. Bush     </td> <td>Vice President                                              </td>\n",
       "        </tr>\n",
       "        <tr>\n",
       "            <td>Richard Nixon         </td> <td>Vice President                                              </td>\n",
       "        </tr>\n",
       "    </tbody>\n",
       "</table>"
      ],
      "text/plain": [
       "<IPython.core.display.HTML object>"
      ]
     },
     "metadata": {},
     "output_type": "display_data"
    }
   ],
   "source": [
    "us_presidents_prior_title.sort(\"Prior Title\").show()"
   ]
  },
  {
   "cell_type": "markdown",
   "metadata": {},
   "source": [
    "### Group()"
   ]
  },
  {
   "cell_type": "markdown",
   "metadata": {},
   "source": [
    "The <code>group()</code> function will group together every instance of the column that you are trying to find a particular pattern for. For example, if we wanted to group by Prior Title, <code>group(\"Prior Titles\")</code> would give us a count of each prior title that each president had prior to becoming elected."
   ]
  },
  {
   "cell_type": "code",
   "execution_count": 14,
   "metadata": {},
   "outputs": [
    {
     "data": {
      "text/html": [
       "<table border=\"1\" class=\"dataframe\">\n",
       "    <thead>\n",
       "        <tr>\n",
       "            <th>Prior Title</th> <th>count</th>\n",
       "        </tr>\n",
       "    </thead>\n",
       "    <tbody>\n",
       "        <tr>\n",
       "            <td>Brigadier General of the 9th Infantry United States Army    </td> <td>1    </td>\n",
       "        </tr>\n",
       "        <tr>\n",
       "            <td>Chairman of  The Trump Organization                         </td> <td>1    </td>\n",
       "        </tr>\n",
       "        <tr>\n",
       "            <td>Commander-in-Chief of the Continental Army                  </td> <td>1    </td>\n",
       "        </tr>\n",
       "        <tr>\n",
       "            <td>Commanding General of the United States Army                </td> <td>1    </td>\n",
       "        </tr>\n",
       "        <tr>\n",
       "            <td>Governor                                                    </td> <td>9    </td>\n",
       "        </tr>\n",
       "        <tr>\n",
       "            <td>Governor of New York                                        </td> <td>1    </td>\n",
       "        </tr>\n",
       "        <tr>\n",
       "            <td>Major General of the 1st Infantry Regiment United States ...</td> <td>1    </td>\n",
       "        </tr>\n",
       "        <tr>\n",
       "            <td>President                                                   </td> <td>1    </td>\n",
       "        </tr>\n",
       "        <tr>\n",
       "            <td>Supreme Allied Commander Europe                             </td> <td>1    </td>\n",
       "        </tr>\n",
       "        <tr>\n",
       "            <td>US Representative                                           </td> <td>2    </td>\n",
       "        </tr>\n",
       "        <tr>\n",
       "            <td>US Senator                                                  </td> <td>4    </td>\n",
       "        </tr>\n",
       "        <tr>\n",
       "            <td>US Senator                                                  </td> <td>1    </td>\n",
       "        </tr>\n",
       "        <tr>\n",
       "            <td>United States Minister                                      </td> <td>2    </td>\n",
       "        </tr>\n",
       "        <tr>\n",
       "            <td>United States Secretary of Commerce                         </td> <td>1    </td>\n",
       "        </tr>\n",
       "        <tr>\n",
       "            <td>United States Secretary of State                            </td> <td>3    </td>\n",
       "        </tr>\n",
       "        <tr>\n",
       "            <td>United States Secretary of War                              </td> <td>1    </td>\n",
       "        </tr>\n",
       "        <tr>\n",
       "            <td>Vice President                                              </td> <td>13   </td>\n",
       "        </tr>\n",
       "        <tr>\n",
       "            <td>Vice President                                              </td> <td>1    </td>\n",
       "        </tr>\n",
       "    </tbody>\n",
       "</table>"
      ],
      "text/plain": [
       "<IPython.core.display.HTML object>"
      ]
     },
     "metadata": {},
     "output_type": "display_data"
    }
   ],
   "source": [
    "# group example\n",
    "prior_count = us_presidents_prior_title.group(\"Prior Title\")\n",
    "prior_count.show()"
   ]
  },
  {
   "cell_type": "markdown",
   "metadata": {},
   "source": [
    "#### Now select the \"President\" and \"Party\" columns from the original us_presidents table and store it into _parties_"
   ]
  },
  {
   "cell_type": "code",
   "execution_count": 15,
   "metadata": {},
   "outputs": [
    {
     "data": {
      "text/html": [
       "<table border=\"1\" class=\"dataframe\">\n",
       "    <thead>\n",
       "        <tr>\n",
       "            <th>President</th> <th>Party</th>\n",
       "        </tr>\n",
       "    </thead>\n",
       "    <tbody>\n",
       "        <tr>\n",
       "            <td>George Washington     </td> <td>Nonpartisan            </td>\n",
       "        </tr>\n",
       "        <tr>\n",
       "            <td>John Adams            </td> <td>Federalist             </td>\n",
       "        </tr>\n",
       "        <tr>\n",
       "            <td>Thomas Jefferson      </td> <td>Democratic-  Republican</td>\n",
       "        </tr>\n",
       "        <tr>\n",
       "            <td>James Madison         </td> <td>Democratic-  Republican</td>\n",
       "        </tr>\n",
       "        <tr>\n",
       "            <td>James Monroe          </td> <td>Democratic-  Republican</td>\n",
       "        </tr>\n",
       "        <tr>\n",
       "            <td>John Quincy Adams     </td> <td>Democratic-  Republican</td>\n",
       "        </tr>\n",
       "        <tr>\n",
       "            <td>Andrew Jackson        </td> <td>Democratic             </td>\n",
       "        </tr>\n",
       "        <tr>\n",
       "            <td>Martin Van Buren      </td> <td>Democratic             </td>\n",
       "        </tr>\n",
       "        <tr>\n",
       "            <td>William Henry Harrison</td> <td>Whig                   </td>\n",
       "        </tr>\n",
       "        <tr>\n",
       "            <td>John Tyler            </td> <td>Whig                   </td>\n",
       "        </tr>\n",
       "    </tbody>\n",
       "</table>\n",
       "<p>... (35 rows omitted)</p>"
      ],
      "text/plain": [
       "President              | Party\n",
       "George Washington      | Nonpartisan\n",
       "John Adams             | Federalist\n",
       "Thomas Jefferson       | Democratic-  Republican\n",
       "James Madison          | Democratic-  Republican\n",
       "James Monroe           | Democratic-  Republican\n",
       "John Quincy Adams      | Democratic-  Republican\n",
       "Andrew Jackson         | Democratic\n",
       "Martin Van Buren       | Democratic\n",
       "William Henry Harrison | Whig\n",
       "John Tyler             | Whig\n",
       "... (35 rows omitted)"
      ]
     },
     "execution_count": 15,
     "metadata": {},
     "output_type": "execute_result"
    }
   ],
   "source": [
    "parties = us_presidents.select(\"President\", \"Party\")\n",
    "parties"
   ]
  },
  {
   "cell_type": "code",
   "execution_count": 16,
   "metadata": {},
   "outputs": [
    {
     "data": {
      "text/html": [
       "<table border=\"1\" class=\"dataframe\">\n",
       "    <thead>\n",
       "        <tr>\n",
       "            <th>Party</th> <th>count</th>\n",
       "        </tr>\n",
       "    </thead>\n",
       "    <tbody>\n",
       "        <tr>\n",
       "            <td> Democratic            </td> <td>1    </td>\n",
       "        </tr>\n",
       "        <tr>\n",
       "            <td>Democratic             </td> <td>15   </td>\n",
       "        </tr>\n",
       "        <tr>\n",
       "            <td>Democratic-  Republican</td> <td>4    </td>\n",
       "        </tr>\n",
       "        <tr>\n",
       "            <td>Federalist             </td> <td>1    </td>\n",
       "        </tr>\n",
       "        <tr>\n",
       "            <td>Nonpartisan            </td> <td>1    </td>\n",
       "        </tr>\n",
       "        <tr>\n",
       "            <td>Republican             </td> <td>19   </td>\n",
       "        </tr>\n",
       "        <tr>\n",
       "            <td>Whig                   </td> <td>4    </td>\n",
       "        </tr>\n",
       "    </tbody>\n",
       "</table>"
      ],
      "text/plain": [
       "<IPython.core.display.HTML object>"
      ]
     },
     "metadata": {},
     "output_type": "display_data"
    }
   ],
   "source": [
    "parties.group(\"Party\").show()"
   ]
  },
  {
   "cell_type": "markdown",
   "metadata": {},
   "source": [
    "### Where()"
   ]
  },
  {
   "cell_type": "markdown",
   "metadata": {},
   "source": [
    "The <code>where</code> function creates a table with only the rows that match some predicate. Predicates include: \n",
    "\n",
    "|Predicate|Example|Result|\n",
    "|-|-|-|\n",
    "|`are.equal_to`|`are.equal_to(1774)`|Find rows with values equal to 1774|\n",
    "|`are.not_equal_to`|`are.not_equal_to(1774)`|Find rows with values not equal to 1774|\n",
    "|`are.above`|`are.above(1774)`|Find rows with values above (and not equal to) 1774|\n",
    "|`are.above_or_equal_to`|`are.above_or_equal_to(1774)`|Find rows with values above 1774 or equal to 1774|\n",
    "|`are.below`|`are.below(1774)`|Find rows with values below 1774|\n",
    "|`are.between`|`are.between(2, 10)`|Find rows with values above or equal to 2 and below 10|\n"
   ]
  },
  {
   "cell_type": "markdown",
   "metadata": {},
   "source": [
    "#### Using the <code>group</code> function, find all of the instances where the Presidents of the United States were formerly Vice Presidents."
   ]
  },
  {
   "cell_type": "code",
   "execution_count": 21,
   "metadata": {},
   "outputs": [
    {
     "data": {
      "text/html": [
       "<table border=\"1\" class=\"dataframe\">\n",
       "    <thead>\n",
       "        <tr>\n",
       "            <th>Rank</th> <th>start</th> <th>end</th> <th>President</th> <th>Prior Title</th> <th>Party</th> <th>Vice President</th>\n",
       "        </tr>\n",
       "    </thead>\n",
       "    <tbody>\n",
       "        <tr>\n",
       "            <td>2   </td> <td>3/4/1797  </td> <td>3/4/1801 </td> <td>John Adams        </td> <td>Vice President</td> <td>Federalist             </td> <td>Thomas Jefferson      </td>\n",
       "        </tr>\n",
       "        <tr>\n",
       "            <td>3   </td> <td>3/4/1801  </td> <td>3/4/1809 </td> <td>Thomas Jefferson  </td> <td>Vice President</td> <td>Democratic-  Republican</td> <td>Aaron Burr            </td>\n",
       "        </tr>\n",
       "        <tr>\n",
       "            <td>8   </td> <td>3/4/1837  </td> <td>3/4/1841 </td> <td>Martin Van Buren  </td> <td>Vice President</td> <td>Democratic             </td> <td>Richard Mentor Johnson</td>\n",
       "        </tr>\n",
       "        <tr>\n",
       "            <td>10  </td> <td>4/4/1841  </td> <td>3/4/1845 </td> <td>John Tyler        </td> <td>Vice President</td> <td>Whig                   </td> <td>Office vacant         </td>\n",
       "        </tr>\n",
       "        <tr>\n",
       "            <td>13  </td> <td>9/9/1850  </td> <td>3/4/1853 </td> <td>Millard Fillmore  </td> <td>Vice President</td> <td>Whig                   </td> <td>Office vacant         </td>\n",
       "        </tr>\n",
       "        <tr>\n",
       "            <td>17  </td> <td>4/15/1865 </td> <td>3/4/1869 </td> <td>Andrew Johnson    </td> <td>Vice President</td> <td> Democratic            </td> <td>Office vacant         </td>\n",
       "        </tr>\n",
       "        <tr>\n",
       "            <td>21  </td> <td>9/19/1881 </td> <td>3/4/1885 </td> <td>Chester A. Arthur </td> <td>Vice President</td> <td>Republican             </td> <td>Office vacant         </td>\n",
       "        </tr>\n",
       "        <tr>\n",
       "            <td>26  </td> <td>9/14/1901 </td> <td>3/4/1909 </td> <td>Theodore Roosevelt</td> <td>Vice President</td> <td>Republican             </td> <td>Charles W. Fairbanks  </td>\n",
       "        </tr>\n",
       "        <tr>\n",
       "            <td>30  </td> <td>8/2/1923  </td> <td>3/4/1929 </td> <td>Calvin Coolidge   </td> <td>Vice President</td> <td>Republican             </td> <td>Charles G. Dawes      </td>\n",
       "        </tr>\n",
       "        <tr>\n",
       "            <td>33  </td> <td>4/12/1945 </td> <td>1/20/1953</td> <td>Harry S. Truman   </td> <td>Vice President</td> <td>Democratic             </td> <td>Alben W. Barkley      </td>\n",
       "        </tr>\n",
       "        <tr>\n",
       "            <td>36  </td> <td>11/22/1963</td> <td>1/20/1969</td> <td>Lyndon B. Johnson </td> <td>Vice President</td> <td>Democratic             </td> <td>Hubert Humphrey       </td>\n",
       "        </tr>\n",
       "        <tr>\n",
       "            <td>38  </td> <td>8/9/1974  </td> <td>1/20/1977</td> <td>Gerald Ford       </td> <td>Vice President</td> <td>Republican             </td> <td>Nelson Rockefeller    </td>\n",
       "        </tr>\n",
       "        <tr>\n",
       "            <td>41  </td> <td>1/20/1989 </td> <td>1/20/1993</td> <td>George H. W. Bush </td> <td>Vice President</td> <td>Republican             </td> <td>Dan Quayle            </td>\n",
       "        </tr>\n",
       "    </tbody>\n",
       "</table>"
      ],
      "text/plain": [
       "<IPython.core.display.HTML object>"
      ]
     },
     "metadata": {},
     "output_type": "display_data"
    }
   ],
   "source": [
    "us_presidents.where(\"Prior Title\", are.equal_to(\"Vice President\")).show()"
   ]
  },
  {
   "cell_type": "markdown",
   "metadata": {},
   "source": [
    "## 3. Viewing and Manipulating Tables "
   ]
  },
  {
   "cell_type": "markdown",
   "metadata": {},
   "source": [
    "The next section will utilze the concepts learned above in context with the Global Terrorism Database. Created as a project under the University of Maryland, the GTD is \"is an open-source database including information on terrorist events around the world from 1970 through 2017 (with additional annual updates planned for the future). Unlike many other event databases, the GTD includes systematic data on domestic as well as transnational and international terrorist incidents that have occurred during this time period and now includes more than 180,000 cases. For each GTD incident, information is available on the date and location of the incident, the weapons used and nature of the target, the number of casualties, and--when identifiable--the group or individual responsible\" ([GTD](https://www.start.umd.edu/gtd/about/))."
   ]
  },
  {
   "cell_type": "markdown",
   "metadata": {},
   "source": [
    "### We will be using the information from the Global Terrorism Database to see how tables can be used to visualize data. \n",
    "\n",
    "_Trigger warning: the data below contains sensitive information about terrorist attacks, not limited to but including location of the attack, the date, the groups targeted, and the attack type. Please let us know if you are uncomfortable with the material and we will provide an alternate exercise that uses the exact same content below, but with a different data set._"
   ]
  },
  {
   "cell_type": "code",
   "execution_count": 22,
   "metadata": {},
   "outputs": [
    {
     "name": "stderr",
     "output_type": "stream",
     "text": [
      "/srv/app/venv/lib/python3.6/site-packages/IPython/core/interactiveshell.py:3185: DtypeWarning: Columns (3,30,58,91,93) have mixed types. Specify dtype option on import or set low_memory=False.\n",
      "  if (yield from self.run_code(code, result)):\n"
     ]
    },
    {
     "data": {
      "text/html": [
       "<table border=\"1\" class=\"dataframe\">\n",
       "    <thead>\n",
       "        <tr>\n",
       "            <th>iyear</th> <th>imonth</th> <th>iday</th> <th>approxdate</th> <th>country</th> <th>country_txt</th> <th>region</th> <th>region_txt</th> <th>provstate</th> <th>city</th> <th>latitude</th> <th>longitude</th> <th>specificity</th> <th>vicinity</th> <th>location</th> <th>summary</th> <th>crit1</th> <th>crit2</th> <th>crit3</th> <th>doubtterr</th> <th>alternative</th> <th>alternative_txt</th> <th>multiple</th> <th>success</th> <th>suicide</th> <th>attacktype1</th> <th>attacktype1_txt</th> <th>attacktype2</th> <th>attacktype2_txt</th> <th>attacktype3</th> <th>attacktype3_txt</th> <th>targtype1</th> <th>targtype1_txt</th> <th>targsubtype1</th> <th>targsubtype1_txt</th> <th>corp1</th> <th>target1</th> <th>natlty1</th> <th>natlty1_txt</th> <th>targtype2</th> <th>targtype2_txt</th> <th>targsubtype2</th> <th>targsubtype2_txt</th> <th>corp2</th> <th>target2</th> <th>natlty2</th> <th>natlty2_txt</th> <th>targtype3</th> <th>targtype3_txt</th> <th>targsubtype3</th> <th>targsubtype3_txt</th> <th>corp3</th> <th>target3</th> <th>natlty3</th> <th>natlty3_txt</th> <th>gname</th> <th>gsubname</th> <th>gname2</th> <th>gsubname2</th> <th>gname3</th> <th>gsubname3</th> <th>motive</th> <th>guncertain1</th> <th>guncertain2</th> <th>guncertain3</th> <th>individual</th> <th>nperps</th> <th>nperpcap</th> <th>claimed</th> <th>claimmode</th> <th>claimmode_txt</th> <th>claim2</th> <th>claimmode2</th> <th>claimmode2_txt</th> <th>claim3</th> <th>claimmode3</th> <th>claimmode3_txt</th> <th>compclaim</th> <th>weaptype1</th> <th>weaptype1_txt</th> <th>weapsubtype1</th> <th>weapsubtype1_txt</th> <th>weaptype2</th> <th>weaptype2_txt</th> <th>weapsubtype2</th> <th>weapsubtype2_txt</th> <th>weaptype3</th> <th>weaptype3_txt</th> <th>weapsubtype3</th> <th>weapsubtype3_txt</th> <th>weaptype4</th> <th>weaptype4_txt</th> <th>weapsubtype4</th> <th>weapsubtype4_txt</th> <th>weapdetail</th> <th>nkill</th> <th>nkillus</th> <th>nkillter</th> <th>nwound</th> <th>nwoundus</th> <th>nwoundte</th> <th>property</th> <th>propextent</th> <th>propextent_txt</th> <th>propvalue</th> <th>propcomment</th> <th>ishostkid</th> <th>nhostkid</th> <th>nhostkidus</th> <th>nhours</th> <th>ndays</th> <th>divert</th> <th>kidhijcountry</th> <th>ransom</th> <th>ransomamt</th> <th>ransomamtus</th> <th>ransompaid</th> <th>ransompaidus</th> <th>ransomnote</th> <th>hostkidoutcome</th> <th>hostkidoutcome_txt</th> <th>nreleased</th> <th>addnotes</th> <th>scite1</th> <th>scite2</th> <th>scite3</th> <th>dbsource</th> <th>INT_LOG</th> <th>INT_IDEO</th> <th>INT_MISC</th> <th>INT_ANY</th> <th>related</th>\n",
       "        </tr>\n",
       "    </thead>\n",
       "    <tbody>\n",
       "        <tr>\n",
       "            <td>1990 </td> <td>1     </td> <td>0   </td> <td>nan       </td> <td>110    </td> <td>Lebanon    </td> <td>10    </td> <td>Middle East & North Africa </td> <td>Beirut                                 </td> <td>Beirut                 </td> <td>33.8885 </td> <td>35.5035  </td> <td>1          </td> <td>0       </td> <td>nan     </td> <td>nan    </td> <td>1    </td> <td>1    </td> <td>1    </td> <td>-9       </td> <td>nan        </td> <td>nan            </td> <td>0       </td> <td>1      </td> <td>0      </td> <td>6          </td> <td>Hostage Taking (Kidnapping)</td> <td>nan        </td> <td>nan            </td> <td>nan        </td> <td>nan            </td> <td>10       </td> <td>Journalists & Media           </td> <td>53          </td> <td>Newspaper Journalist/Staff/Facility                 </td> <td>Editors Assoc.          </td> <td>Journalist George Hajj            </td> <td>110    </td> <td>Lebanon      </td> <td>nan      </td> <td>nan                           </td> <td>nan         </td> <td>nan             </td> <td>nan            </td> <td>nan                    </td> <td>nan    </td> <td>nan          </td> <td>nan      </td> <td>nan          </td> <td>nan         </td> <td>nan             </td> <td>nan  </td> <td>nan    </td> <td>nan    </td> <td>nan        </td> <td>Unknown                                      </td> <td>nan     </td> <td>nan   </td> <td>nan      </td> <td>nan   </td> <td>nan      </td> <td>nan   </td> <td>0          </td> <td>nan        </td> <td>nan        </td> <td>0         </td> <td>nan   </td> <td>nan     </td> <td>nan    </td> <td>nan      </td> <td>nan          </td> <td>nan   </td> <td>nan       </td> <td>nan           </td> <td>nan   </td> <td>nan       </td> <td>nan           </td> <td>nan      </td> <td>5        </td> <td>Firearms     </td> <td>3           </td> <td>Handgun                          </td> <td>nan      </td> <td>nan          </td> <td>nan         </td> <td>nan             </td> <td>nan      </td> <td>nan          </td> <td>nan         </td> <td>nan             </td> <td>nan      </td> <td>nan          </td> <td>nan         </td> <td>nan             </td> <td>Pistol           </td> <td>0    </td> <td>nan    </td> <td>nan     </td> <td>0     </td> <td>nan     </td> <td>nan     </td> <td>0       </td> <td>nan       </td> <td>nan           </td> <td>nan      </td> <td>nan        </td> <td>1        </td> <td>1       </td> <td>0         </td> <td>nan   </td> <td>nan  </td> <td>nan   </td> <td>Lebanon      </td> <td>0     </td> <td>nan      </td> <td>nan        </td> <td>nan       </td> <td>nan         </td> <td>nan       </td> <td>nan           </td> <td>nan               </td> <td>nan      </td> <td>nan     </td> <td>nan   </td> <td>nan   </td> <td>nan   </td> <td>PGIS    </td> <td>-9     </td> <td>-9      </td> <td>0       </td> <td>-9     </td> <td>nan    </td>\n",
       "        </tr>\n",
       "        <tr>\n",
       "            <td>1990 </td> <td>1     </td> <td>1   </td> <td>nan       </td> <td>92     </td> <td>India      </td> <td>6     </td> <td>South Asia                 </td> <td>Jammu and Kashmir                      </td> <td>Srinagar               </td> <td>34.0837 </td> <td>74.7899  </td> <td>1          </td> <td>0       </td> <td>nan     </td> <td>nan    </td> <td>1    </td> <td>1    </td> <td>1    </td> <td>0        </td> <td>nan        </td> <td>nan            </td> <td>0       </td> <td>1      </td> <td>0      </td> <td>3          </td> <td>Bombing/Explosion          </td> <td>nan        </td> <td>nan            </td> <td>nan        </td> <td>nan            </td> <td>2        </td> <td>Government (General)          </td> <td>15          </td> <td>Politician or Political Party Movement/Meeting/Rally</td> <td>Govt                    </td> <td>State Legislative Building        </td> <td>92     </td> <td>India        </td> <td>nan      </td> <td>nan                           </td> <td>nan         </td> <td>nan             </td> <td>nan            </td> <td>nan                    </td> <td>nan    </td> <td>nan          </td> <td>nan      </td> <td>nan          </td> <td>nan         </td> <td>nan             </td> <td>nan  </td> <td>nan    </td> <td>nan    </td> <td>nan        </td> <td>Unknown                                      </td> <td>nan     </td> <td>nan   </td> <td>nan      </td> <td>nan   </td> <td>nan      </td> <td>nan   </td> <td>0          </td> <td>nan        </td> <td>nan        </td> <td>0         </td> <td>nan   </td> <td>nan     </td> <td>nan    </td> <td>nan      </td> <td>nan          </td> <td>nan   </td> <td>nan       </td> <td>nan           </td> <td>nan   </td> <td>nan       </td> <td>nan           </td> <td>nan      </td> <td>6        </td> <td>Explosives   </td> <td>16          </td> <td>Unknown Explosive Type           </td> <td>nan      </td> <td>nan          </td> <td>nan         </td> <td>nan             </td> <td>nan      </td> <td>nan          </td> <td>nan         </td> <td>nan             </td> <td>nan      </td> <td>nan          </td> <td>nan         </td> <td>nan             </td> <td>Explosive        </td> <td>0    </td> <td>nan    </td> <td>nan     </td> <td>0     </td> <td>nan     </td> <td>nan     </td> <td>1       </td> <td>nan       </td> <td>nan           </td> <td>nan      </td> <td>nan        </td> <td>0        </td> <td>nan     </td> <td>nan       </td> <td>nan   </td> <td>nan  </td> <td>nan   </td> <td>nan          </td> <td>0     </td> <td>nan      </td> <td>nan        </td> <td>nan       </td> <td>nan         </td> <td>nan       </td> <td>nan           </td> <td>nan               </td> <td>nan      </td> <td>nan     </td> <td>nan   </td> <td>nan   </td> <td>nan   </td> <td>PGIS    </td> <td>-9     </td> <td>-9      </td> <td>0       </td> <td>-9     </td> <td>nan    </td>\n",
       "        </tr>\n",
       "        <tr>\n",
       "            <td>1990 </td> <td>1     </td> <td>1   </td> <td>nan       </td> <td>92     </td> <td>India      </td> <td>6     </td> <td>South Asia                 </td> <td>Jammu and Kashmir                      </td> <td>Srinagar               </td> <td>34.0837 </td> <td>74.7899  </td> <td>1          </td> <td>0       </td> <td>nan     </td> <td>nan    </td> <td>1    </td> <td>1    </td> <td>1    </td> <td>-9       </td> <td>nan        </td> <td>nan            </td> <td>0       </td> <td>1      </td> <td>0      </td> <td>3          </td> <td>Bombing/Explosion          </td> <td>nan        </td> <td>nan            </td> <td>nan        </td> <td>nan            </td> <td>1        </td> <td>Business                      </td> <td>5           </td> <td>Industrial/Textiles/Factory                         </td> <td>State electrical company</td> <td>Office Complex                    </td> <td>92     </td> <td>India        </td> <td>nan      </td> <td>nan                           </td> <td>nan         </td> <td>nan             </td> <td>nan            </td> <td>nan                    </td> <td>nan    </td> <td>nan          </td> <td>nan      </td> <td>nan          </td> <td>nan         </td> <td>nan             </td> <td>nan  </td> <td>nan    </td> <td>nan    </td> <td>nan        </td> <td>Unknown                                      </td> <td>nan     </td> <td>nan   </td> <td>nan      </td> <td>nan   </td> <td>nan      </td> <td>nan   </td> <td>0          </td> <td>nan        </td> <td>nan        </td> <td>0         </td> <td>nan   </td> <td>nan     </td> <td>nan    </td> <td>nan      </td> <td>nan          </td> <td>nan   </td> <td>nan       </td> <td>nan           </td> <td>nan   </td> <td>nan       </td> <td>nan           </td> <td>nan      </td> <td>6        </td> <td>Explosives   </td> <td>16          </td> <td>Unknown Explosive Type           </td> <td>nan      </td> <td>nan          </td> <td>nan         </td> <td>nan             </td> <td>nan      </td> <td>nan          </td> <td>nan         </td> <td>nan             </td> <td>nan      </td> <td>nan          </td> <td>nan         </td> <td>nan             </td> <td>Explosive        </td> <td>0    </td> <td>nan    </td> <td>nan     </td> <td>0     </td> <td>nan     </td> <td>nan     </td> <td>1       </td> <td>nan       </td> <td>nan           </td> <td>nan      </td> <td>nan        </td> <td>0        </td> <td>nan     </td> <td>nan       </td> <td>nan   </td> <td>nan  </td> <td>nan   </td> <td>nan          </td> <td>0     </td> <td>nan      </td> <td>nan        </td> <td>nan       </td> <td>nan         </td> <td>nan       </td> <td>nan           </td> <td>nan               </td> <td>nan      </td> <td>nan     </td> <td>nan   </td> <td>nan   </td> <td>nan   </td> <td>PGIS    </td> <td>-9     </td> <td>-9      </td> <td>0       </td> <td>-9     </td> <td>nan    </td>\n",
       "        </tr>\n",
       "        <tr>\n",
       "            <td>1990 </td> <td>1     </td> <td>1   </td> <td>nan       </td> <td>92     </td> <td>India      </td> <td>6     </td> <td>South Asia                 </td> <td>Jammu and Kashmir                      </td> <td>Srinagar               </td> <td>34.0837 </td> <td>74.7899  </td> <td>1          </td> <td>0       </td> <td>nan     </td> <td>nan    </td> <td>1    </td> <td>1    </td> <td>1    </td> <td>0        </td> <td>nan        </td> <td>nan            </td> <td>0       </td> <td>1      </td> <td>0      </td> <td>3          </td> <td>Bombing/Explosion          </td> <td>nan        </td> <td>nan            </td> <td>nan        </td> <td>nan            </td> <td>19       </td> <td>Transportation                </td> <td>99          </td> <td>Bus (excluding tourists)                            </td> <td>Bus Co.                 </td> <td>Bus                               </td> <td>92     </td> <td>India        </td> <td>nan      </td> <td>nan                           </td> <td>nan         </td> <td>nan             </td> <td>nan            </td> <td>nan                    </td> <td>nan    </td> <td>nan          </td> <td>nan      </td> <td>nan          </td> <td>nan         </td> <td>nan             </td> <td>nan  </td> <td>nan    </td> <td>nan    </td> <td>nan        </td> <td>Unknown                                      </td> <td>nan     </td> <td>nan   </td> <td>nan      </td> <td>nan   </td> <td>nan      </td> <td>nan   </td> <td>0          </td> <td>nan        </td> <td>nan        </td> <td>0         </td> <td>nan   </td> <td>nan     </td> <td>nan    </td> <td>nan      </td> <td>nan          </td> <td>nan   </td> <td>nan       </td> <td>nan           </td> <td>nan   </td> <td>nan       </td> <td>nan           </td> <td>nan      </td> <td>6        </td> <td>Explosives   </td> <td>16          </td> <td>Unknown Explosive Type           </td> <td>nan      </td> <td>nan          </td> <td>nan         </td> <td>nan             </td> <td>nan      </td> <td>nan          </td> <td>nan         </td> <td>nan             </td> <td>nan      </td> <td>nan          </td> <td>nan         </td> <td>nan             </td> <td>Explosive        </td> <td>0    </td> <td>nan    </td> <td>nan     </td> <td>0     </td> <td>nan     </td> <td>nan     </td> <td>1       </td> <td>nan       </td> <td>nan           </td> <td>nan      </td> <td>nan        </td> <td>0        </td> <td>nan     </td> <td>nan       </td> <td>nan   </td> <td>nan  </td> <td>nan   </td> <td>nan          </td> <td>0     </td> <td>nan      </td> <td>nan        </td> <td>nan       </td> <td>nan         </td> <td>nan       </td> <td>nan           </td> <td>nan               </td> <td>nan      </td> <td>nan     </td> <td>nan   </td> <td>nan   </td> <td>nan   </td> <td>PGIS    </td> <td>-9     </td> <td>-9      </td> <td>0       </td> <td>-9     </td> <td>nan    </td>\n",
       "        </tr>\n",
       "        <tr>\n",
       "            <td>1990 </td> <td>1     </td> <td>1   </td> <td>nan       </td> <td>26     </td> <td>Bolivia    </td> <td>3     </td> <td>South America              </td> <td>Cochabamba                             </td> <td>Cochabamba             </td> <td>-17.3828</td> <td>-66.1664 </td> <td>1          </td> <td>0       </td> <td>nan     </td> <td>nan    </td> <td>1    </td> <td>1    </td> <td>1    </td> <td>0        </td> <td>nan        </td> <td>nan            </td> <td>0       </td> <td>1      </td> <td>0      </td> <td>3          </td> <td>Bombing/Explosion          </td> <td>nan        </td> <td>nan            </td> <td>nan        </td> <td>nan            </td> <td>15       </td> <td>Religious Figures/Institutions</td> <td>86          </td> <td>Place of Worship                                    </td> <td>Mormon church           </td> <td>chapel                            </td> <td>217    </td> <td>United States</td> <td>nan      </td> <td>nan                           </td> <td>nan         </td> <td>nan             </td> <td>nan            </td> <td>nan                    </td> <td>nan    </td> <td>nan          </td> <td>nan      </td> <td>nan          </td> <td>nan         </td> <td>nan             </td> <td>nan  </td> <td>nan    </td> <td>nan    </td> <td>nan        </td> <td>Alejo Calatayu                               </td> <td>nan     </td> <td>nan   </td> <td>nan      </td> <td>nan   </td> <td>nan      </td> <td>nan   </td> <td>0          </td> <td>nan        </td> <td>nan        </td> <td>0         </td> <td>nan   </td> <td>nan     </td> <td>nan    </td> <td>nan      </td> <td>nan          </td> <td>nan   </td> <td>nan       </td> <td>nan           </td> <td>nan   </td> <td>nan       </td> <td>nan           </td> <td>nan      </td> <td>6        </td> <td>Explosives   </td> <td>7           </td> <td>Grenade                          </td> <td>nan      </td> <td>nan          </td> <td>nan         </td> <td>nan             </td> <td>nan      </td> <td>nan          </td> <td>nan         </td> <td>nan             </td> <td>nan      </td> <td>nan          </td> <td>nan         </td> <td>nan             </td> <td>Grenade          </td> <td>0    </td> <td>nan    </td> <td>nan     </td> <td>0     </td> <td>nan     </td> <td>nan     </td> <td>1       </td> <td>nan       </td> <td>nan           </td> <td>nan      </td> <td>nan        </td> <td>0        </td> <td>nan     </td> <td>nan       </td> <td>nan   </td> <td>nan  </td> <td>nan   </td> <td>nan          </td> <td>0     </td> <td>nan      </td> <td>nan        </td> <td>nan       </td> <td>nan         </td> <td>nan       </td> <td>nan           </td> <td>nan               </td> <td>nan      </td> <td>nan     </td> <td>nan   </td> <td>nan   </td> <td>nan   </td> <td>PGIS    </td> <td>0      </td> <td>1       </td> <td>1       </td> <td>1      </td> <td>nan    </td>\n",
       "        </tr>\n",
       "        <tr>\n",
       "            <td>1990 </td> <td>1     </td> <td>1   </td> <td>nan       </td> <td>145    </td> <td>Nicaragua  </td> <td>2     </td> <td>Central America & Caribbean</td> <td>North Caribbean Coast Autonomous Region</td> <td>Puerto Cabezas district</td> <td>14.2337 </td> <td>-83.5389 </td> <td>3          </td> <td>1       </td> <td>nan     </td> <td>nan    </td> <td>1    </td> <td>1    </td> <td>1    </td> <td>0        </td> <td>nan        </td> <td>nan            </td> <td>0       </td> <td>1      </td> <td>0      </td> <td>1          </td> <td>Assassination              </td> <td>nan        </td> <td>nan            </td> <td>nan        </td> <td>nan            </td> <td>15       </td> <td>Religious Figures/Institutions</td> <td>85          </td> <td>Religious Figure                                    </td> <td>Catholic Church         </td> <td>Sister Theresa de Jesus Rosales   </td> <td>145    </td> <td>Nicaragua    </td> <td>15       </td> <td>Religious Figures/Institutions</td> <td>85          </td> <td>Religious Figure</td> <td>Catholic Church</td> <td>Sister Maureen Courtney</td> <td>217    </td> <td>United States</td> <td>nan      </td> <td>nan          </td> <td>nan         </td> <td>nan             </td> <td>nan  </td> <td>nan    </td> <td>nan    </td> <td>nan        </td> <td>Nicaraguan Resistance                        </td> <td>nan     </td> <td>nan   </td> <td>nan      </td> <td>nan   </td> <td>nan      </td> <td>nan   </td> <td>0          </td> <td>nan        </td> <td>nan        </td> <td>0         </td> <td>nan   </td> <td>nan     </td> <td>nan    </td> <td>nan      </td> <td>nan          </td> <td>nan   </td> <td>nan       </td> <td>nan           </td> <td>nan   </td> <td>nan       </td> <td>nan           </td> <td>nan      </td> <td>5        </td> <td>Firearms     </td> <td>2           </td> <td>Automatic or Semi-Automatic Rifle</td> <td>nan      </td> <td>nan          </td> <td>nan         </td> <td>nan             </td> <td>nan      </td> <td>nan          </td> <td>nan         </td> <td>nan             </td> <td>nan      </td> <td>nan          </td> <td>nan         </td> <td>nan             </td> <td>Automatic firearm</td> <td>2    </td> <td>1      </td> <td>nan     </td> <td>0     </td> <td>nan     </td> <td>nan     </td> <td>0       </td> <td>nan       </td> <td>nan           </td> <td>nan      </td> <td>nan        </td> <td>0        </td> <td>nan     </td> <td>nan       </td> <td>nan   </td> <td>nan  </td> <td>nan   </td> <td>nan          </td> <td>0     </td> <td>nan      </td> <td>nan        </td> <td>nan       </td> <td>nan         </td> <td>nan       </td> <td>nan           </td> <td>nan               </td> <td>nan      </td> <td>nan     </td> <td>nan   </td> <td>nan   </td> <td>nan   </td> <td>PGIS    </td> <td>0      </td> <td>1       </td> <td>1       </td> <td>1      </td> <td>nan    </td>\n",
       "        </tr>\n",
       "        <tr>\n",
       "            <td>1990 </td> <td>1     </td> <td>1   </td> <td>nan       </td> <td>97     </td> <td>Israel     </td> <td>10    </td> <td>Middle East & North Africa </td> <td>Tel Aviv                               </td> <td>Tel Aviv               </td> <td>32.083  </td> <td>34.8119  </td> <td>1          </td> <td>0       </td> <td>nan     </td> <td>nan    </td> <td>1    </td> <td>1    </td> <td>1    </td> <td>0        </td> <td>nan        </td> <td>nan            </td> <td>0       </td> <td>0      </td> <td>0      </td> <td>1          </td> <td>Assassination              </td> <td>nan        </td> <td>nan            </td> <td>nan        </td> <td>nan            </td> <td>2        </td> <td>Government (General)          </td> <td>18          </td> <td>Government Personnel (excluding police, military)   </td> <td>Govt.                   </td> <td>Vice Premier Shimon Perez and wife</td> <td>97     </td> <td>Israel       </td> <td>nan      </td> <td>nan                           </td> <td>nan         </td> <td>nan             </td> <td>nan            </td> <td>nan                    </td> <td>nan    </td> <td>nan          </td> <td>nan      </td> <td>nan          </td> <td>nan         </td> <td>nan             </td> <td>nan  </td> <td>nan    </td> <td>nan    </td> <td>nan        </td> <td>Unknown                                      </td> <td>nan     </td> <td>nan   </td> <td>nan      </td> <td>nan   </td> <td>nan      </td> <td>nan   </td> <td>0          </td> <td>nan        </td> <td>nan        </td> <td>0         </td> <td>nan   </td> <td>nan     </td> <td>nan    </td> <td>nan      </td> <td>nan          </td> <td>nan   </td> <td>nan       </td> <td>nan           </td> <td>nan   </td> <td>nan       </td> <td>nan           </td> <td>nan      </td> <td>6        </td> <td>Explosives   </td> <td>16          </td> <td>Unknown Explosive Type           </td> <td>nan      </td> <td>nan          </td> <td>nan         </td> <td>nan             </td> <td>nan      </td> <td>nan          </td> <td>nan         </td> <td>nan             </td> <td>nan      </td> <td>nan          </td> <td>nan         </td> <td>nan             </td> <td>Explosive        </td> <td>0    </td> <td>nan    </td> <td>nan     </td> <td>0     </td> <td>nan     </td> <td>nan     </td> <td>0       </td> <td>nan       </td> <td>nan           </td> <td>nan      </td> <td>nan        </td> <td>0        </td> <td>nan     </td> <td>nan       </td> <td>nan   </td> <td>nan  </td> <td>nan   </td> <td>nan          </td> <td>0     </td> <td>nan      </td> <td>nan        </td> <td>nan       </td> <td>nan         </td> <td>nan       </td> <td>nan           </td> <td>nan               </td> <td>nan      </td> <td>nan     </td> <td>nan   </td> <td>nan   </td> <td>nan   </td> <td>PGIS    </td> <td>-9     </td> <td>-9      </td> <td>0       </td> <td>-9     </td> <td>nan    </td>\n",
       "        </tr>\n",
       "        <tr>\n",
       "            <td>1990 </td> <td>1     </td> <td>1   </td> <td>nan       </td> <td>26     </td> <td>Bolivia    </td> <td>3     </td> <td>South America              </td> <td>Santa Cruz                             </td> <td>Santa Cruz             </td> <td>-17.7832</td> <td>-63.182  </td> <td>1          </td> <td>0       </td> <td>nan     </td> <td>nan    </td> <td>1    </td> <td>1    </td> <td>1    </td> <td>-9       </td> <td>nan        </td> <td>nan            </td> <td>0       </td> <td>1      </td> <td>0      </td> <td>3          </td> <td>Bombing/Explosion          </td> <td>nan        </td> <td>nan            </td> <td>nan        </td> <td>nan            </td> <td>1        </td> <td>Business                      </td> <td>4           </td> <td>Multinational Corporation                           </td> <td>Tesoro Petroleum Co.    </td> <td>Entrance to Company offices       </td> <td>217    </td> <td>United States</td> <td>nan      </td> <td>nan                           </td> <td>nan         </td> <td>nan             </td> <td>nan            </td> <td>nan                    </td> <td>nan    </td> <td>nan          </td> <td>nan      </td> <td>nan          </td> <td>nan         </td> <td>nan             </td> <td>nan  </td> <td>nan    </td> <td>nan    </td> <td>nan        </td> <td>Unknown                                      </td> <td>nan     </td> <td>nan   </td> <td>nan      </td> <td>nan   </td> <td>nan      </td> <td>nan   </td> <td>0          </td> <td>nan        </td> <td>nan        </td> <td>0         </td> <td>nan   </td> <td>nan     </td> <td>nan    </td> <td>nan      </td> <td>nan          </td> <td>nan   </td> <td>nan       </td> <td>nan           </td> <td>nan   </td> <td>nan       </td> <td>nan           </td> <td>nan      </td> <td>6        </td> <td>Explosives   </td> <td>16          </td> <td>Unknown Explosive Type           </td> <td>nan      </td> <td>nan          </td> <td>nan         </td> <td>nan             </td> <td>nan      </td> <td>nan          </td> <td>nan         </td> <td>nan             </td> <td>nan      </td> <td>nan          </td> <td>nan         </td> <td>nan             </td> <td>Explosive        </td> <td>0    </td> <td>nan    </td> <td>nan     </td> <td>0     </td> <td>nan     </td> <td>nan     </td> <td>1       </td> <td>nan       </td> <td>nan           </td> <td>nan      </td> <td>nan        </td> <td>0        </td> <td>nan     </td> <td>nan       </td> <td>nan   </td> <td>nan  </td> <td>nan   </td> <td>nan          </td> <td>0     </td> <td>nan      </td> <td>nan        </td> <td>nan       </td> <td>nan         </td> <td>nan       </td> <td>nan           </td> <td>nan               </td> <td>nan      </td> <td>nan     </td> <td>nan   </td> <td>nan   </td> <td>nan   </td> <td>PGIS    </td> <td>-9     </td> <td>-9      </td> <td>1       </td> <td>1      </td> <td>nan    </td>\n",
       "        </tr>\n",
       "        <tr>\n",
       "            <td>1990 </td> <td>1     </td> <td>2   </td> <td>nan       </td> <td>45     </td> <td>Colombia   </td> <td>3     </td> <td>South America              </td> <td>Cundinamarca                           </td> <td>Unknown                </td> <td>5.026   </td> <td>-74.03   </td> <td>4          </td> <td>0       </td> <td>nan     </td> <td>nan    </td> <td>1    </td> <td>1    </td> <td>1    </td> <td>0        </td> <td>nan        </td> <td>nan            </td> <td>0       </td> <td>1      </td> <td>0      </td> <td>2          </td> <td>Armed Assault              </td> <td>nan        </td> <td>nan            </td> <td>nan        </td> <td>nan            </td> <td>3        </td> <td>Police                        </td> <td>25          </td> <td>Police Security Forces/Officers                     </td> <td>Police                  </td> <td>Unit                              </td> <td>45     </td> <td>Colombia     </td> <td>nan      </td> <td>nan                           </td> <td>nan         </td> <td>nan             </td> <td>nan            </td> <td>nan                    </td> <td>nan    </td> <td>nan          </td> <td>nan      </td> <td>nan          </td> <td>nan         </td> <td>nan             </td> <td>nan  </td> <td>nan    </td> <td>nan    </td> <td>nan        </td> <td>Revolutionary Armed Forces of Colombia (FARC)</td> <td>nan     </td> <td>nan   </td> <td>nan      </td> <td>nan   </td> <td>nan      </td> <td>nan   </td> <td>0          </td> <td>nan        </td> <td>nan        </td> <td>0         </td> <td>nan   </td> <td>nan     </td> <td>nan    </td> <td>nan      </td> <td>nan          </td> <td>nan   </td> <td>nan       </td> <td>nan           </td> <td>nan   </td> <td>nan       </td> <td>nan           </td> <td>nan      </td> <td>5        </td> <td>Firearms     </td> <td>2           </td> <td>Automatic or Semi-Automatic Rifle</td> <td>nan      </td> <td>nan          </td> <td>nan         </td> <td>nan             </td> <td>nan      </td> <td>nan          </td> <td>nan         </td> <td>nan             </td> <td>nan      </td> <td>nan          </td> <td>nan         </td> <td>nan             </td> <td>Automatic firearm</td> <td>0    </td> <td>nan    </td> <td>nan     </td> <td>0     </td> <td>nan     </td> <td>nan     </td> <td>1       </td> <td>nan       </td> <td>nan           </td> <td>nan      </td> <td>nan        </td> <td>0        </td> <td>nan     </td> <td>nan       </td> <td>nan   </td> <td>nan  </td> <td>nan   </td> <td>nan          </td> <td>0     </td> <td>nan      </td> <td>nan        </td> <td>nan       </td> <td>nan         </td> <td>nan       </td> <td>nan           </td> <td>nan               </td> <td>nan      </td> <td>nan     </td> <td>nan   </td> <td>nan   </td> <td>nan   </td> <td>PGIS    </td> <td>0      </td> <td>0       </td> <td>0       </td> <td>0      </td> <td>nan    </td>\n",
       "        </tr>\n",
       "        <tr>\n",
       "            <td>1990 </td> <td>1     </td> <td>2   </td> <td>nan       </td> <td>159    </td> <td>Peru       </td> <td>3     </td> <td>South America              </td> <td>Unknown                                </td> <td>Amnaija                </td> <td>nan     </td> <td>nan      </td> <td>5          </td> <td>0       </td> <td>nan     </td> <td>nan    </td> <td>1    </td> <td>1    </td> <td>1    </td> <td>0        </td> <td>nan        </td> <td>nan            </td> <td>0       </td> <td>1      </td> <td>0      </td> <td>2          </td> <td>Armed Assault              </td> <td>nan        </td> <td>nan            </td> <td>nan        </td> <td>nan            </td> <td>3        </td> <td>Police                        </td> <td>22          </td> <td>Police Building (headquarters, station, school)     </td> <td>Police                  </td> <td>Station                           </td> <td>159    </td> <td>Peru         </td> <td>nan      </td> <td>nan                           </td> <td>nan         </td> <td>nan             </td> <td>nan            </td> <td>nan                    </td> <td>nan    </td> <td>nan          </td> <td>nan      </td> <td>nan          </td> <td>nan         </td> <td>nan             </td> <td>nan  </td> <td>nan    </td> <td>nan    </td> <td>nan        </td> <td>Shining Path (SL)                            </td> <td>nan     </td> <td>nan   </td> <td>nan      </td> <td>nan   </td> <td>nan      </td> <td>nan   </td> <td>0          </td> <td>nan        </td> <td>nan        </td> <td>0         </td> <td>nan   </td> <td>nan     </td> <td>nan    </td> <td>nan      </td> <td>nan          </td> <td>nan   </td> <td>nan       </td> <td>nan           </td> <td>nan   </td> <td>nan       </td> <td>nan           </td> <td>nan      </td> <td>5        </td> <td>Firearms     </td> <td>2           </td> <td>Automatic or Semi-Automatic Rifle</td> <td>nan      </td> <td>nan          </td> <td>nan         </td> <td>nan             </td> <td>nan      </td> <td>nan          </td> <td>nan         </td> <td>nan             </td> <td>nan      </td> <td>nan          </td> <td>nan         </td> <td>nan             </td> <td>Automatic firearm</td> <td>0    </td> <td>nan    </td> <td>nan     </td> <td>2     </td> <td>nan     </td> <td>nan     </td> <td>1       </td> <td>nan       </td> <td>nan           </td> <td>nan      </td> <td>nan        </td> <td>0        </td> <td>nan     </td> <td>nan       </td> <td>nan   </td> <td>nan  </td> <td>nan   </td> <td>nan          </td> <td>0     </td> <td>nan      </td> <td>nan        </td> <td>nan       </td> <td>nan         </td> <td>nan       </td> <td>nan           </td> <td>nan               </td> <td>nan      </td> <td>nan     </td> <td>nan   </td> <td>nan   </td> <td>nan   </td> <td>PGIS    </td> <td>0      </td> <td>0       </td> <td>0       </td> <td>0      </td> <td>nan    </td>\n",
       "        </tr>\n",
       "    </tbody>\n",
       "</table>\n",
       "<p>... (20168 rows omitted)</p>"
      ],
      "text/plain": [
       "iyear | imonth | iday | approxdate | country | country_txt | region | region_txt                  | provstate                               | city                    | latitude | longitude | specificity | vicinity | location | summary | crit1 | crit2 | crit3 | doubtterr | alternative | alternative_txt | multiple | success | suicide | attacktype1 | attacktype1_txt             | attacktype2 | attacktype2_txt | attacktype3 | attacktype3_txt | targtype1 | targtype1_txt                  | targsubtype1 | targsubtype1_txt                                     | corp1                    | target1                            | natlty1 | natlty1_txt   | targtype2 | targtype2_txt                  | targsubtype2 | targsubtype2_txt | corp2           | target2                 | natlty2 | natlty2_txt   | targtype3 | targtype3_txt | targsubtype3 | targsubtype3_txt | corp3 | target3 | natlty3 | natlty3_txt | gname                                         | gsubname | gname2 | gsubname2 | gname3 | gsubname3 | motive | guncertain1 | guncertain2 | guncertain3 | individual | nperps | nperpcap | claimed | claimmode | claimmode_txt | claim2 | claimmode2 | claimmode2_txt | claim3 | claimmode3 | claimmode3_txt | compclaim | weaptype1 | weaptype1_txt | weapsubtype1 | weapsubtype1_txt                  | weaptype2 | weaptype2_txt | weapsubtype2 | weapsubtype2_txt | weaptype3 | weaptype3_txt | weapsubtype3 | weapsubtype3_txt | weaptype4 | weaptype4_txt | weapsubtype4 | weapsubtype4_txt | weapdetail        | nkill | nkillus | nkillter | nwound | nwoundus | nwoundte | property | propextent | propextent_txt | propvalue | propcomment | ishostkid | nhostkid | nhostkidus | nhours | ndays | divert | kidhijcountry | ransom | ransomamt | ransomamtus | ransompaid | ransompaidus | ransomnote | hostkidoutcome | hostkidoutcome_txt | nreleased | addnotes | scite1 | scite2 | scite3 | dbsource | INT_LOG | INT_IDEO | INT_MISC | INT_ANY | related\n",
       "1990  | 1      | 0    | nan        | 110     | Lebanon     | 10     | Middle East & North Africa  | Beirut                                  | Beirut                  | 33.8885  | 35.5035   | 1           | 0        | nan      | nan     | 1     | 1     | 1     | -9        | nan         | nan             | 0        | 1       | 0       | 6           | Hostage Taking (Kidnapping) | nan         | nan             | nan         | nan             | 10        | Journalists & Media            | 53           | Newspaper Journalist/Staff/Facility                  | Editors Assoc.           | Journalist George Hajj             | 110     | Lebanon       | nan       | nan                            | nan          | nan              | nan             | nan                     | nan     | nan           | nan       | nan           | nan          | nan              | nan   | nan     | nan     | nan         | Unknown                                       | nan      | nan    | nan       | nan    | nan       | nan    | 0           | nan         | nan         | 0          | nan    | nan      | nan     | nan       | nan           | nan    | nan        | nan            | nan    | nan        | nan            | nan       | 5         | Firearms      | 3            | Handgun                           | nan       | nan           | nan          | nan              | nan       | nan           | nan          | nan              | nan       | nan           | nan          | nan              | Pistol            | 0     | nan     | nan      | 0      | nan      | nan      | 0        | nan        | nan            | nan       | nan         | 1         | 1        | 0          | nan    | nan   | nan    | Lebanon       | 0      | nan       | nan         | nan        | nan          | nan        | nan            | nan                | nan       | nan      | nan    | nan    | nan    | PGIS     | -9      | -9       | 0        | -9      | nan\n",
       "1990  | 1      | 1    | nan        | 92      | India       | 6      | South Asia                  | Jammu and Kashmir                       | Srinagar                | 34.0837  | 74.7899   | 1           | 0        | nan      | nan     | 1     | 1     | 1     | 0         | nan         | nan             | 0        | 1       | 0       | 3           | Bombing/Explosion           | nan         | nan             | nan         | nan             | 2         | Government (General)           | 15           | Politician or Political Party Movement/Meeting/Rally | Govt                     | State Legislative Building         | 92      | India         | nan       | nan                            | nan          | nan              | nan             | nan                     | nan     | nan           | nan       | nan           | nan          | nan              | nan   | nan     | nan     | nan         | Unknown                                       | nan      | nan    | nan       | nan    | nan       | nan    | 0           | nan         | nan         | 0          | nan    | nan      | nan     | nan       | nan           | nan    | nan        | nan            | nan    | nan        | nan            | nan       | 6         | Explosives    | 16           | Unknown Explosive Type            | nan       | nan           | nan          | nan              | nan       | nan           | nan          | nan              | nan       | nan           | nan          | nan              | Explosive         | 0     | nan     | nan      | 0      | nan      | nan      | 1        | nan        | nan            | nan       | nan         | 0         | nan      | nan        | nan    | nan   | nan    | nan           | 0      | nan       | nan         | nan        | nan          | nan        | nan            | nan                | nan       | nan      | nan    | nan    | nan    | PGIS     | -9      | -9       | 0        | -9      | nan\n",
       "1990  | 1      | 1    | nan        | 92      | India       | 6      | South Asia                  | Jammu and Kashmir                       | Srinagar                | 34.0837  | 74.7899   | 1           | 0        | nan      | nan     | 1     | 1     | 1     | -9        | nan         | nan             | 0        | 1       | 0       | 3           | Bombing/Explosion           | nan         | nan             | nan         | nan             | 1         | Business                       | 5            | Industrial/Textiles/Factory                          | State electrical company | Office Complex                     | 92      | India         | nan       | nan                            | nan          | nan              | nan             | nan                     | nan     | nan           | nan       | nan           | nan          | nan              | nan   | nan     | nan     | nan         | Unknown                                       | nan      | nan    | nan       | nan    | nan       | nan    | 0           | nan         | nan         | 0          | nan    | nan      | nan     | nan       | nan           | nan    | nan        | nan            | nan    | nan        | nan            | nan       | 6         | Explosives    | 16           | Unknown Explosive Type            | nan       | nan           | nan          | nan              | nan       | nan           | nan          | nan              | nan       | nan           | nan          | nan              | Explosive         | 0     | nan     | nan      | 0      | nan      | nan      | 1        | nan        | nan            | nan       | nan         | 0         | nan      | nan        | nan    | nan   | nan    | nan           | 0      | nan       | nan         | nan        | nan          | nan        | nan            | nan                | nan       | nan      | nan    | nan    | nan    | PGIS     | -9      | -9       | 0        | -9      | nan\n",
       "1990  | 1      | 1    | nan        | 92      | India       | 6      | South Asia                  | Jammu and Kashmir                       | Srinagar                | 34.0837  | 74.7899   | 1           | 0        | nan      | nan     | 1     | 1     | 1     | 0         | nan         | nan             | 0        | 1       | 0       | 3           | Bombing/Explosion           | nan         | nan             | nan         | nan             | 19        | Transportation                 | 99           | Bus (excluding tourists)                             | Bus Co.                  | Bus                                | 92      | India         | nan       | nan                            | nan          | nan              | nan             | nan                     | nan     | nan           | nan       | nan           | nan          | nan              | nan   | nan     | nan     | nan         | Unknown                                       | nan      | nan    | nan       | nan    | nan       | nan    | 0           | nan         | nan         | 0          | nan    | nan      | nan     | nan       | nan           | nan    | nan        | nan            | nan    | nan        | nan            | nan       | 6         | Explosives    | 16           | Unknown Explosive Type            | nan       | nan           | nan          | nan              | nan       | nan           | nan          | nan              | nan       | nan           | nan          | nan              | Explosive         | 0     | nan     | nan      | 0      | nan      | nan      | 1        | nan        | nan            | nan       | nan         | 0         | nan      | nan        | nan    | nan   | nan    | nan           | 0      | nan       | nan         | nan        | nan          | nan        | nan            | nan                | nan       | nan      | nan    | nan    | nan    | PGIS     | -9      | -9       | 0        | -9      | nan\n",
       "1990  | 1      | 1    | nan        | 26      | Bolivia     | 3      | South America               | Cochabamba                              | Cochabamba              | -17.3828 | -66.1664  | 1           | 0        | nan      | nan     | 1     | 1     | 1     | 0         | nan         | nan             | 0        | 1       | 0       | 3           | Bombing/Explosion           | nan         | nan             | nan         | nan             | 15        | Religious Figures/Institutions | 86           | Place of Worship                                     | Mormon church            | chapel                             | 217     | United States | nan       | nan                            | nan          | nan              | nan             | nan                     | nan     | nan           | nan       | nan           | nan          | nan              | nan   | nan     | nan     | nan         | Alejo Calatayu                                | nan      | nan    | nan       | nan    | nan       | nan    | 0           | nan         | nan         | 0          | nan    | nan      | nan     | nan       | nan           | nan    | nan        | nan            | nan    | nan        | nan            | nan       | 6         | Explosives    | 7            | Grenade                           | nan       | nan           | nan          | nan              | nan       | nan           | nan          | nan              | nan       | nan           | nan          | nan              | Grenade           | 0     | nan     | nan      | 0      | nan      | nan      | 1        | nan        | nan            | nan       | nan         | 0         | nan      | nan        | nan    | nan   | nan    | nan           | 0      | nan       | nan         | nan        | nan          | nan        | nan            | nan                | nan       | nan      | nan    | nan    | nan    | PGIS     | 0       | 1        | 1        | 1       | nan\n",
       "1990  | 1      | 1    | nan        | 145     | Nicaragua   | 2      | Central America & Caribbean | North Caribbean Coast Autonomous Region | Puerto Cabezas district | 14.2337  | -83.5389  | 3           | 1        | nan      | nan     | 1     | 1     | 1     | 0         | nan         | nan             | 0        | 1       | 0       | 1           | Assassination               | nan         | nan             | nan         | nan             | 15        | Religious Figures/Institutions | 85           | Religious Figure                                     | Catholic Church          | Sister Theresa de Jesus Rosales    | 145     | Nicaragua     | 15        | Religious Figures/Institutions | 85           | Religious Figure | Catholic Church | Sister Maureen Courtney | 217     | United States | nan       | nan           | nan          | nan              | nan   | nan     | nan     | nan         | Nicaraguan Resistance                         | nan      | nan    | nan       | nan    | nan       | nan    | 0           | nan         | nan         | 0          | nan    | nan      | nan     | nan       | nan           | nan    | nan        | nan            | nan    | nan        | nan            | nan       | 5         | Firearms      | 2            | Automatic or Semi-Automatic Rifle | nan       | nan           | nan          | nan              | nan       | nan           | nan          | nan              | nan       | nan           | nan          | nan              | Automatic firearm | 2     | 1       | nan      | 0      | nan      | nan      | 0        | nan        | nan            | nan       | nan         | 0         | nan      | nan        | nan    | nan   | nan    | nan           | 0      | nan       | nan         | nan        | nan          | nan        | nan            | nan                | nan       | nan      | nan    | nan    | nan    | PGIS     | 0       | 1        | 1        | 1       | nan\n",
       "1990  | 1      | 1    | nan        | 97      | Israel      | 10     | Middle East & North Africa  | Tel Aviv                                | Tel Aviv                | 32.083   | 34.8119   | 1           | 0        | nan      | nan     | 1     | 1     | 1     | 0         | nan         | nan             | 0        | 0       | 0       | 1           | Assassination               | nan         | nan             | nan         | nan             | 2         | Government (General)           | 18           | Government Personnel (excluding police, military)    | Govt.                    | Vice Premier Shimon Perez and wife | 97      | Israel        | nan       | nan                            | nan          | nan              | nan             | nan                     | nan     | nan           | nan       | nan           | nan          | nan              | nan   | nan     | nan     | nan         | Unknown                                       | nan      | nan    | nan       | nan    | nan       | nan    | 0           | nan         | nan         | 0          | nan    | nan      | nan     | nan       | nan           | nan    | nan        | nan            | nan    | nan        | nan            | nan       | 6         | Explosives    | 16           | Unknown Explosive Type            | nan       | nan           | nan          | nan              | nan       | nan           | nan          | nan              | nan       | nan           | nan          | nan              | Explosive         | 0     | nan     | nan      | 0      | nan      | nan      | 0        | nan        | nan            | nan       | nan         | 0         | nan      | nan        | nan    | nan   | nan    | nan           | 0      | nan       | nan         | nan        | nan          | nan        | nan            | nan                | nan       | nan      | nan    | nan    | nan    | PGIS     | -9      | -9       | 0        | -9      | nan\n",
       "1990  | 1      | 1    | nan        | 26      | Bolivia     | 3      | South America               | Santa Cruz                              | Santa Cruz              | -17.7832 | -63.182   | 1           | 0        | nan      | nan     | 1     | 1     | 1     | -9        | nan         | nan             | 0        | 1       | 0       | 3           | Bombing/Explosion           | nan         | nan             | nan         | nan             | 1         | Business                       | 4            | Multinational Corporation                            | Tesoro Petroleum Co.     | Entrance to Company offices        | 217     | United States | nan       | nan                            | nan          | nan              | nan             | nan                     | nan     | nan           | nan       | nan           | nan          | nan              | nan   | nan     | nan     | nan         | Unknown                                       | nan      | nan    | nan       | nan    | nan       | nan    | 0           | nan         | nan         | 0          | nan    | nan      | nan     | nan       | nan           | nan    | nan        | nan            | nan    | nan        | nan            | nan       | 6         | Explosives    | 16           | Unknown Explosive Type            | nan       | nan           | nan          | nan              | nan       | nan           | nan          | nan              | nan       | nan           | nan          | nan              | Explosive         | 0     | nan     | nan      | 0      | nan      | nan      | 1        | nan        | nan            | nan       | nan         | 0         | nan      | nan        | nan    | nan   | nan    | nan           | 0      | nan       | nan         | nan        | nan          | nan        | nan            | nan                | nan       | nan      | nan    | nan    | nan    | PGIS     | -9      | -9       | 1        | 1       | nan\n",
       "1990  | 1      | 2    | nan        | 45      | Colombia    | 3      | South America               | Cundinamarca                            | Unknown                 | 5.026    | -74.03    | 4           | 0        | nan      | nan     | 1     | 1     | 1     | 0         | nan         | nan             | 0        | 1       | 0       | 2           | Armed Assault               | nan         | nan             | nan         | nan             | 3         | Police                         | 25           | Police Security Forces/Officers                      | Police                   | Unit                               | 45      | Colombia      | nan       | nan                            | nan          | nan              | nan             | nan                     | nan     | nan           | nan       | nan           | nan          | nan              | nan   | nan     | nan     | nan         | Revolutionary Armed Forces of Colombia (FARC) | nan      | nan    | nan       | nan    | nan       | nan    | 0           | nan         | nan         | 0          | nan    | nan      | nan     | nan       | nan           | nan    | nan        | nan            | nan    | nan        | nan            | nan       | 5         | Firearms      | 2            | Automatic or Semi-Automatic Rifle | nan       | nan           | nan          | nan              | nan       | nan           | nan          | nan              | nan       | nan           | nan          | nan              | Automatic firearm | 0     | nan     | nan      | 0      | nan      | nan      | 1        | nan        | nan            | nan       | nan         | 0         | nan      | nan        | nan    | nan   | nan    | nan           | 0      | nan       | nan         | nan        | nan          | nan        | nan            | nan                | nan       | nan      | nan    | nan    | nan    | PGIS     | 0       | 0        | 0        | 0       | nan\n",
       "1990  | 1      | 2    | nan        | 159     | Peru        | 3      | South America               | Unknown                                 | Amnaija                 | nan      | nan       | 5           | 0        | nan      | nan     | 1     | 1     | 1     | 0         | nan         | nan             | 0        | 1       | 0       | 2           | Armed Assault               | nan         | nan             | nan         | nan             | 3         | Police                         | 22           | Police Building (headquarters, station, school)      | Police                   | Station                            | 159     | Peru          | nan       | nan                            | nan          | nan              | nan             | nan                     | nan     | nan           | nan       | nan           | nan          | nan              | nan   | nan     | nan     | nan         | Shining Path (SL)                             | nan      | nan    | nan       | nan    | nan       | nan    | 0           | nan         | nan         | 0          | nan    | nan      | nan     | nan       | nan           | nan    | nan        | nan            | nan    | nan        | nan            | nan       | 5         | Firearms      | 2            | Automatic or Semi-Automatic Rifle | nan       | nan           | nan          | nan              | nan       | nan           | nan          | nan              | nan       | nan           | nan          | nan              | Automatic firearm | 0     | nan     | nan      | 2      | nan      | nan      | 1        | nan        | nan            | nan       | nan         | 0         | nan      | nan        | nan    | nan   | nan    | nan           | 0      | nan       | nan         | nan        | nan          | nan        | nan            | nan                | nan       | nan      | nan    | nan    | nan    | PGIS     | 0       | 0        | 0        | 0       | nan\n",
       "... (20168 rows omitted)"
      ]
     },
     "execution_count": 22,
     "metadata": {},
     "output_type": "execute_result"
    }
   ],
   "source": [
    "# GTD 1990-1995\n",
    "GTD_1990_1995 = Table.read_table(\"gtd_90to95.csv\")\n",
    "GTD_1990_1995"
   ]
  },
  {
   "cell_type": "markdown",
   "metadata": {},
   "source": [
    "This is a lot of data! Using the num_rows() and num_columns we can see exactly how many points are in this dataset."
   ]
  },
  {
   "cell_type": "markdown",
   "metadata": {},
   "source": [
    "#### <code>num_rows()</code>"
   ]
  },
  {
   "cell_type": "code",
   "execution_count": 23,
   "metadata": {},
   "outputs": [
    {
     "data": {
      "text/plain": [
       "20178"
      ]
     },
     "execution_count": 23,
     "metadata": {},
     "output_type": "execute_result"
    }
   ],
   "source": [
    "GTD_1990_1995.num_rows"
   ]
  },
  {
   "cell_type": "markdown",
   "metadata": {},
   "source": [
    "#### <code>num_columns()</code>"
   ]
  },
  {
   "cell_type": "code",
   "execution_count": 24,
   "metadata": {},
   "outputs": [
    {
     "data": {
      "text/plain": [
       "132"
      ]
     },
     "execution_count": 24,
     "metadata": {},
     "output_type": "execute_result"
    }
   ],
   "source": [
    "GTD_1990_1995.num_columns"
   ]
  },
  {
   "cell_type": "markdown",
   "metadata": {},
   "source": [
    "As we can see, the dataset has a lot of columns and rows. As many of the rows don't contain numerical values, we will be taking them out for our lab's purposes. (Feel free to review the GTD on your own time though if you're interested in doing more with the collected data!)"
   ]
  },
  {
   "cell_type": "markdown",
   "metadata": {},
   "source": [
    "#### Save the table with the following columns: \"iyear\", \"imonth\", \"iday\", \"country\", \"country_txt\", \"region\", \"region_txt\", \"provstate\", \"city\", \"latitude\", \"longitude\", \"attacktype1_txt\", \"targtype1_txt\", \"corp1\""
   ]
  },
  {
   "cell_type": "code",
   "execution_count": 35,
   "metadata": {},
   "outputs": [
    {
     "data": {
      "text/html": [
       "<table border=\"1\" class=\"dataframe\">\n",
       "    <thead>\n",
       "        <tr>\n",
       "            <th>iyear</th> <th>imonth</th> <th>iday</th> <th>country</th> <th>country_txt</th> <th>region</th> <th>region_txt</th> <th>provstate</th> <th>city</th> <th>latitude</th> <th>longitude</th> <th>attacktype1_txt</th> <th>targtype1_txt</th> <th>corp1</th>\n",
       "        </tr>\n",
       "    </thead>\n",
       "    <tbody>\n",
       "        <tr>\n",
       "            <td>1990 </td> <td>1     </td> <td>0   </td> <td>110    </td> <td>Lebanon    </td> <td>10    </td> <td>Middle East & North Africa </td> <td>Beirut                                 </td> <td>Beirut                 </td> <td>33.8885 </td> <td>35.5035  </td> <td>Hostage Taking (Kidnapping)</td> <td>Journalists & Media           </td> <td>Editors Assoc.          </td>\n",
       "        </tr>\n",
       "        <tr>\n",
       "            <td>1990 </td> <td>1     </td> <td>1   </td> <td>92     </td> <td>India      </td> <td>6     </td> <td>South Asia                 </td> <td>Jammu and Kashmir                      </td> <td>Srinagar               </td> <td>34.0837 </td> <td>74.7899  </td> <td>Bombing/Explosion          </td> <td>Government (General)          </td> <td>Govt                    </td>\n",
       "        </tr>\n",
       "        <tr>\n",
       "            <td>1990 </td> <td>1     </td> <td>1   </td> <td>92     </td> <td>India      </td> <td>6     </td> <td>South Asia                 </td> <td>Jammu and Kashmir                      </td> <td>Srinagar               </td> <td>34.0837 </td> <td>74.7899  </td> <td>Bombing/Explosion          </td> <td>Business                      </td> <td>State electrical company</td>\n",
       "        </tr>\n",
       "        <tr>\n",
       "            <td>1990 </td> <td>1     </td> <td>1   </td> <td>92     </td> <td>India      </td> <td>6     </td> <td>South Asia                 </td> <td>Jammu and Kashmir                      </td> <td>Srinagar               </td> <td>34.0837 </td> <td>74.7899  </td> <td>Bombing/Explosion          </td> <td>Transportation                </td> <td>Bus Co.                 </td>\n",
       "        </tr>\n",
       "        <tr>\n",
       "            <td>1990 </td> <td>1     </td> <td>1   </td> <td>26     </td> <td>Bolivia    </td> <td>3     </td> <td>South America              </td> <td>Cochabamba                             </td> <td>Cochabamba             </td> <td>-17.3828</td> <td>-66.1664 </td> <td>Bombing/Explosion          </td> <td>Religious Figures/Institutions</td> <td>Mormon church           </td>\n",
       "        </tr>\n",
       "        <tr>\n",
       "            <td>1990 </td> <td>1     </td> <td>1   </td> <td>145    </td> <td>Nicaragua  </td> <td>2     </td> <td>Central America & Caribbean</td> <td>North Caribbean Coast Autonomous Region</td> <td>Puerto Cabezas district</td> <td>14.2337 </td> <td>-83.5389 </td> <td>Assassination              </td> <td>Religious Figures/Institutions</td> <td>Catholic Church         </td>\n",
       "        </tr>\n",
       "        <tr>\n",
       "            <td>1990 </td> <td>1     </td> <td>1   </td> <td>97     </td> <td>Israel     </td> <td>10    </td> <td>Middle East & North Africa </td> <td>Tel Aviv                               </td> <td>Tel Aviv               </td> <td>32.083  </td> <td>34.8119  </td> <td>Assassination              </td> <td>Government (General)          </td> <td>Govt.                   </td>\n",
       "        </tr>\n",
       "        <tr>\n",
       "            <td>1990 </td> <td>1     </td> <td>1   </td> <td>26     </td> <td>Bolivia    </td> <td>3     </td> <td>South America              </td> <td>Santa Cruz                             </td> <td>Santa Cruz             </td> <td>-17.7832</td> <td>-63.182  </td> <td>Bombing/Explosion          </td> <td>Business                      </td> <td>Tesoro Petroleum Co.    </td>\n",
       "        </tr>\n",
       "        <tr>\n",
       "            <td>1990 </td> <td>1     </td> <td>2   </td> <td>45     </td> <td>Colombia   </td> <td>3     </td> <td>South America              </td> <td>Cundinamarca                           </td> <td>Unknown                </td> <td>5.026   </td> <td>-74.03   </td> <td>Armed Assault              </td> <td>Police                        </td> <td>Police                  </td>\n",
       "        </tr>\n",
       "        <tr>\n",
       "            <td>1990 </td> <td>1     </td> <td>2   </td> <td>159    </td> <td>Peru       </td> <td>3     </td> <td>South America              </td> <td>Unknown                                </td> <td>Amnaija                </td> <td>nan     </td> <td>nan      </td> <td>Armed Assault              </td> <td>Police                        </td> <td>Police                  </td>\n",
       "        </tr>\n",
       "    </tbody>\n",
       "</table>\n",
       "<p>... (20168 rows omitted)</p>"
      ],
      "text/plain": [
       "iyear | imonth | iday | country | country_txt | region | region_txt                  | provstate                               | city                    | latitude | longitude | attacktype1_txt             | targtype1_txt                  | corp1\n",
       "1990  | 1      | 0    | 110     | Lebanon     | 10     | Middle East & North Africa  | Beirut                                  | Beirut                  | 33.8885  | 35.5035   | Hostage Taking (Kidnapping) | Journalists & Media            | Editors Assoc.\n",
       "1990  | 1      | 1    | 92      | India       | 6      | South Asia                  | Jammu and Kashmir                       | Srinagar                | 34.0837  | 74.7899   | Bombing/Explosion           | Government (General)           | Govt\n",
       "1990  | 1      | 1    | 92      | India       | 6      | South Asia                  | Jammu and Kashmir                       | Srinagar                | 34.0837  | 74.7899   | Bombing/Explosion           | Business                       | State electrical company\n",
       "1990  | 1      | 1    | 92      | India       | 6      | South Asia                  | Jammu and Kashmir                       | Srinagar                | 34.0837  | 74.7899   | Bombing/Explosion           | Transportation                 | Bus Co.\n",
       "1990  | 1      | 1    | 26      | Bolivia     | 3      | South America               | Cochabamba                              | Cochabamba              | -17.3828 | -66.1664  | Bombing/Explosion           | Religious Figures/Institutions | Mormon church\n",
       "1990  | 1      | 1    | 145     | Nicaragua   | 2      | Central America & Caribbean | North Caribbean Coast Autonomous Region | Puerto Cabezas district | 14.2337  | -83.5389  | Assassination               | Religious Figures/Institutions | Catholic Church\n",
       "1990  | 1      | 1    | 97      | Israel      | 10     | Middle East & North Africa  | Tel Aviv                                | Tel Aviv                | 32.083   | 34.8119   | Assassination               | Government (General)           | Govt.\n",
       "1990  | 1      | 1    | 26      | Bolivia     | 3      | South America               | Santa Cruz                              | Santa Cruz              | -17.7832 | -63.182   | Bombing/Explosion           | Business                       | Tesoro Petroleum Co.\n",
       "1990  | 1      | 2    | 45      | Colombia    | 3      | South America               | Cundinamarca                            | Unknown                 | 5.026    | -74.03    | Armed Assault               | Police                         | Police\n",
       "1990  | 1      | 2    | 159     | Peru        | 3      | South America               | Unknown                                 | Amnaija                 | nan      | nan       | Armed Assault               | Police                         | Police\n",
       "... (20168 rows omitted)"
      ]
     },
     "execution_count": 35,
     "metadata": {},
     "output_type": "execute_result"
    }
   ],
   "source": [
    "#country, year, city, weapons\n",
    "GTD_1990_1995 = GTD_1990_1995.select(\"iyear\", \"imonth\", \"iday\",\n",
    "                                     \"country\", \"country_txt\",\n",
    "                                     \"region\", \"region_txt\", \"provstate\",\n",
    "                                     \"city\", \"latitude\", \"longitude\",\n",
    "                                     \"attacktype1_txt\", \"targtype1_txt\", \"corp1\")\n",
    "GTD_1990_1995"
   ]
  },
  {
   "cell_type": "markdown",
   "metadata": {},
   "source": [
    "#### Create a new table called <code>GTD_1992</code> that has all of the incidents that took place in 1992."
   ]
  },
  {
   "cell_type": "code",
   "execution_count": 26,
   "metadata": {},
   "outputs": [
    {
     "data": {
      "text/html": [
       "<table border=\"1\" class=\"dataframe\">\n",
       "    <thead>\n",
       "        <tr>\n",
       "            <th>iyear</th> <th>imonth</th> <th>iday</th> <th>approxdate</th> <th>country</th> <th>country_txt</th> <th>region</th> <th>region_txt</th> <th>provstate</th> <th>city</th> <th>latitude</th> <th>longitude</th> <th>specificity</th> <th>vicinity</th> <th>location</th> <th>summary</th> <th>crit1</th> <th>crit2</th> <th>crit3</th> <th>doubtterr</th> <th>alternative</th> <th>alternative_txt</th> <th>multiple</th> <th>success</th> <th>suicide</th> <th>attacktype1</th> <th>attacktype1_txt</th> <th>attacktype2</th> <th>attacktype2_txt</th> <th>attacktype3</th> <th>attacktype3_txt</th> <th>targtype1</th> <th>targtype1_txt</th> <th>targsubtype1</th> <th>targsubtype1_txt</th> <th>corp1</th> <th>target1</th> <th>natlty1</th> <th>natlty1_txt</th> <th>targtype2</th> <th>targtype2_txt</th> <th>targsubtype2</th> <th>targsubtype2_txt</th> <th>corp2</th> <th>target2</th> <th>natlty2</th> <th>natlty2_txt</th> <th>targtype3</th> <th>targtype3_txt</th> <th>targsubtype3</th> <th>targsubtype3_txt</th> <th>corp3</th> <th>target3</th> <th>natlty3</th> <th>natlty3_txt</th> <th>gname</th> <th>gsubname</th> <th>gname2</th> <th>gsubname2</th> <th>gname3</th> <th>gsubname3</th> <th>motive</th> <th>guncertain1</th> <th>guncertain2</th> <th>guncertain3</th> <th>individual</th> <th>nperps</th> <th>nperpcap</th> <th>claimed</th> <th>claimmode</th> <th>claimmode_txt</th> <th>claim2</th> <th>claimmode2</th> <th>claimmode2_txt</th> <th>claim3</th> <th>claimmode3</th> <th>claimmode3_txt</th> <th>compclaim</th> <th>weaptype1</th> <th>weaptype1_txt</th> <th>weapsubtype1</th> <th>weapsubtype1_txt</th> <th>weaptype2</th> <th>weaptype2_txt</th> <th>weapsubtype2</th> <th>weapsubtype2_txt</th> <th>weaptype3</th> <th>weaptype3_txt</th> <th>weapsubtype3</th> <th>weapsubtype3_txt</th> <th>weaptype4</th> <th>weaptype4_txt</th> <th>weapsubtype4</th> <th>weapsubtype4_txt</th> <th>weapdetail</th> <th>nkill</th> <th>nkillus</th> <th>nkillter</th> <th>nwound</th> <th>nwoundus</th> <th>nwoundte</th> <th>property</th> <th>propextent</th> <th>propextent_txt</th> <th>propvalue</th> <th>propcomment</th> <th>ishostkid</th> <th>nhostkid</th> <th>nhostkidus</th> <th>nhours</th> <th>ndays</th> <th>divert</th> <th>kidhijcountry</th> <th>ransom</th> <th>ransomamt</th> <th>ransomamtus</th> <th>ransompaid</th> <th>ransompaidus</th> <th>ransomnote</th> <th>hostkidoutcome</th> <th>hostkidoutcome_txt</th> <th>nreleased</th> <th>addnotes</th> <th>scite1</th> <th>scite2</th> <th>scite3</th> <th>dbsource</th> <th>INT_LOG</th> <th>INT_IDEO</th> <th>INT_MISC</th> <th>INT_ANY</th> <th>related</th>\n",
       "        </tr>\n",
       "    </thead>\n",
       "    <tbody>\n",
       "        <tr>\n",
       "            <td>1992 </td> <td>1     </td> <td>0   </td> <td>nan       </td> <td>185    </td> <td>Spain         </td> <td>8     </td> <td>Western Europe             </td> <td>Basque Country  </td> <td>Vizcaya district</td> <td>43.2241 </td> <td>-2.71893 </td> <td>3          </td> <td>0       </td> <td>nan     </td> <td>nan    </td> <td>1    </td> <td>1    </td> <td>1    </td> <td>-9       </td> <td>nan        </td> <td>nan            </td> <td>0       </td> <td>0      </td> <td>0      </td> <td>1          </td> <td>Assassination                 </td> <td>nan        </td> <td>nan            </td> <td>nan        </td> <td>nan            </td> <td>1        </td> <td>Business                   </td> <td>nan         </td> <td>nan                                              </td> <td>nan  </td> <td>Businessman Julian Cormenzaga                     </td> <td>185    </td> <td>Spain           </td> <td>nan      </td> <td>nan          </td> <td>nan         </td> <td>nan             </td> <td>nan  </td> <td>nan    </td> <td>nan    </td> <td>nan        </td> <td>nan      </td> <td>nan          </td> <td>nan         </td> <td>nan             </td> <td>nan  </td> <td>nan    </td> <td>nan    </td> <td>nan        </td> <td>Unknown                                         </td> <td>nan     </td> <td>nan   </td> <td>nan      </td> <td>nan   </td> <td>nan      </td> <td>nan   </td> <td>0          </td> <td>nan        </td> <td>nan        </td> <td>0         </td> <td>nan   </td> <td>nan     </td> <td>nan    </td> <td>nan      </td> <td>nan          </td> <td>nan   </td> <td>nan       </td> <td>nan           </td> <td>nan   </td> <td>nan       </td> <td>nan           </td> <td>nan      </td> <td>6        </td> <td>Explosives   </td> <td>9           </td> <td>Letter Bomb                      </td> <td>nan      </td> <td>nan          </td> <td>nan         </td> <td>nan             </td> <td>nan      </td> <td>nan          </td> <td>nan         </td> <td>nan             </td> <td>nan      </td> <td>nan          </td> <td>nan         </td> <td>nan             </td> <td>Letter bomb - defused</td> <td>0    </td> <td>nan    </td> <td>nan     </td> <td>0     </td> <td>nan     </td> <td>nan     </td> <td>0       </td> <td>nan       </td> <td>nan                        </td> <td>nan      </td> <td>nan        </td> <td>0        </td> <td>nan     </td> <td>nan       </td> <td>nan   </td> <td>nan  </td> <td>nan   </td> <td>nan          </td> <td>0     </td> <td>nan      </td> <td>nan        </td> <td>nan       </td> <td>nan         </td> <td>nan       </td> <td>nan           </td> <td>nan               </td> <td>nan      </td> <td>nan     </td> <td>nan   </td> <td>nan   </td> <td>nan   </td> <td>PGIS    </td> <td>-9     </td> <td>-9      </td> <td>0       </td> <td>-9     </td> <td>nan                                                   </td>\n",
       "        </tr>\n",
       "        <tr>\n",
       "            <td>1992 </td> <td>1     </td> <td>0   </td> <td>nan       </td> <td>604    </td> <td>Zaire         </td> <td>11    </td> <td>Sub-Saharan Africa         </td> <td>Katanga         </td> <td>Fungurume       </td> <td>-10.6174</td> <td>26.3095  </td> <td>1          </td> <td>0       </td> <td>nan     </td> <td>nan    </td> <td>1    </td> <td>1    </td> <td>1    </td> <td>0        </td> <td>nan        </td> <td>nan            </td> <td>0       </td> <td>1      </td> <td>0      </td> <td>2          </td> <td>Armed Assault                 </td> <td>nan        </td> <td>nan            </td> <td>nan        </td> <td>nan            </td> <td>2        </td> <td>Government (General)       </td> <td>18          </td> <td>Government Personnel (excluding police, military)</td> <td>Govt.</td> <td>Group of Government Supporters                    </td> <td>604    </td> <td>Zaire           </td> <td>nan      </td> <td>nan          </td> <td>nan         </td> <td>nan             </td> <td>nan  </td> <td>nan    </td> <td>nan    </td> <td>nan        </td> <td>nan      </td> <td>nan          </td> <td>nan         </td> <td>nan             </td> <td>nan  </td> <td>nan    </td> <td>nan    </td> <td>nan        </td> <td>Supporters Opposition Leader Etienne Tshisekedi </td> <td>nan     </td> <td>nan   </td> <td>nan      </td> <td>nan   </td> <td>nan      </td> <td>nan   </td> <td>0          </td> <td>nan        </td> <td>nan        </td> <td>0         </td> <td>nan   </td> <td>nan     </td> <td>nan    </td> <td>nan      </td> <td>nan          </td> <td>nan   </td> <td>nan       </td> <td>nan           </td> <td>nan   </td> <td>nan       </td> <td>nan           </td> <td>nan      </td> <td>5        </td> <td>Firearms     </td> <td>3           </td> <td>Handgun                          </td> <td>nan      </td> <td>nan          </td> <td>nan         </td> <td>nan             </td> <td>nan      </td> <td>nan          </td> <td>nan         </td> <td>nan             </td> <td>nan      </td> <td>nan          </td> <td>nan         </td> <td>nan             </td> <td>Pistol               </td> <td>8    </td> <td>nan    </td> <td>nan     </td> <td>50    </td> <td>nan     </td> <td>nan     </td> <td>1       </td> <td>nan       </td> <td>nan                        </td> <td>nan      </td> <td>nan        </td> <td>0        </td> <td>nan     </td> <td>nan       </td> <td>nan   </td> <td>nan  </td> <td>nan   </td> <td>nan          </td> <td>0     </td> <td>nan      </td> <td>nan        </td> <td>nan       </td> <td>nan         </td> <td>nan       </td> <td>nan           </td> <td>nan               </td> <td>nan      </td> <td>nan     </td> <td>nan   </td> <td>nan   </td> <td>nan   </td> <td>PGIS    </td> <td>1      </td> <td>1       </td> <td>0       </td> <td>1      </td> <td>nan                                                   </td>\n",
       "        </tr>\n",
       "        <tr>\n",
       "            <td>1992 </td> <td>1     </td> <td>1   </td> <td>nan       </td> <td>97     </td> <td>Israel        </td> <td>10    </td> <td>Middle East & North Africa </td> <td>West Bank       </td> <td>Dayr al Balah   </td> <td>31.4189 </td> <td>34.3526  </td> <td>1          </td> <td>0       </td> <td>nan     </td> <td>nan    </td> <td>1    </td> <td>1    </td> <td>1    </td> <td>0        </td> <td>nan        </td> <td>nan            </td> <td>0       </td> <td>1      </td> <td>0      </td> <td>1          </td> <td>Assassination                 </td> <td>nan        </td> <td>nan            </td> <td>nan        </td> <td>nan            </td> <td>14       </td> <td>Private Citizens & Property</td> <td>71          </td> <td>Race/Ethnicity Identified                        </td> <td>nan  </td> <td>Israeli Settler Doron Shorshan                    </td> <td>97     </td> <td>Israel          </td> <td>nan      </td> <td>nan          </td> <td>nan         </td> <td>nan             </td> <td>nan  </td> <td>nan    </td> <td>nan    </td> <td>nan        </td> <td>nan      </td> <td>nan          </td> <td>nan         </td> <td>nan             </td> <td>nan  </td> <td>nan    </td> <td>nan    </td> <td>nan        </td> <td>Palestinians                                    </td> <td>nan     </td> <td>nan   </td> <td>nan      </td> <td>nan   </td> <td>nan      </td> <td>nan   </td> <td>0          </td> <td>nan        </td> <td>nan        </td> <td>0         </td> <td>nan   </td> <td>nan     </td> <td>nan    </td> <td>nan      </td> <td>nan          </td> <td>nan   </td> <td>nan       </td> <td>nan           </td> <td>nan   </td> <td>nan       </td> <td>nan           </td> <td>nan      </td> <td>5        </td> <td>Firearms     </td> <td>2           </td> <td>Automatic or Semi-Automatic Rifle</td> <td>nan      </td> <td>nan          </td> <td>nan         </td> <td>nan             </td> <td>nan      </td> <td>nan          </td> <td>nan         </td> <td>nan             </td> <td>nan      </td> <td>nan          </td> <td>nan         </td> <td>nan             </td> <td>Automatic firearm    </td> <td>1    </td> <td>nan    </td> <td>nan     </td> <td>0     </td> <td>nan     </td> <td>nan     </td> <td>0       </td> <td>nan       </td> <td>nan                        </td> <td>nan      </td> <td>nan        </td> <td>0        </td> <td>nan     </td> <td>nan       </td> <td>nan   </td> <td>nan  </td> <td>nan   </td> <td>nan          </td> <td>0     </td> <td>nan      </td> <td>nan        </td> <td>nan       </td> <td>nan         </td> <td>nan       </td> <td>nan           </td> <td>nan               </td> <td>nan      </td> <td>nan     </td> <td>nan   </td> <td>nan   </td> <td>nan   </td> <td>PGIS    </td> <td>1      </td> <td>0       </td> <td>0       </td> <td>1      </td> <td>nan                                                   </td>\n",
       "        </tr>\n",
       "        <tr>\n",
       "            <td>1992 </td> <td>1     </td> <td>1   </td> <td>nan       </td> <td>61     </td> <td>El Salvador   </td> <td>2     </td> <td>Central America & Caribbean</td> <td>San Salvador    </td> <td>San Salvador    </td> <td>13.6929 </td> <td>-89.1992 </td> <td>1          </td> <td>0       </td> <td>nan     </td> <td>nan    </td> <td>1    </td> <td>1    </td> <td>1    </td> <td>0        </td> <td>nan        </td> <td>nan            </td> <td>0       </td> <td>1      </td> <td>0      </td> <td>3          </td> <td>Bombing/Explosion             </td> <td>nan        </td> <td>nan            </td> <td>nan        </td> <td>nan            </td> <td>10       </td> <td>Journalists & Media        </td> <td>53          </td> <td>Newspaper Journalist/Staff/Facility              </td> <td>nan  </td> <td>Vehicles Reuters and New York Times Correspondents</td> <td>217    </td> <td>United States   </td> <td>nan      </td> <td>nan          </td> <td>nan         </td> <td>nan             </td> <td>nan  </td> <td>nan    </td> <td>nan    </td> <td>nan        </td> <td>nan      </td> <td>nan          </td> <td>nan         </td> <td>nan             </td> <td>nan  </td> <td>nan    </td> <td>nan    </td> <td>nan        </td> <td>Farabundo Marti National Liberation Front (FMLN)</td> <td>nan     </td> <td>nan   </td> <td>nan      </td> <td>nan   </td> <td>nan      </td> <td>nan   </td> <td>0          </td> <td>nan        </td> <td>nan        </td> <td>0         </td> <td>nan   </td> <td>nan     </td> <td>nan    </td> <td>nan      </td> <td>nan          </td> <td>nan   </td> <td>nan       </td> <td>nan           </td> <td>nan   </td> <td>nan       </td> <td>nan           </td> <td>nan      </td> <td>6        </td> <td>Explosives   </td> <td>16          </td> <td>Unknown Explosive Type           </td> <td>nan      </td> <td>nan          </td> <td>nan         </td> <td>nan             </td> <td>nan      </td> <td>nan          </td> <td>nan         </td> <td>nan             </td> <td>nan      </td> <td>nan          </td> <td>nan         </td> <td>nan             </td> <td>Explosive            </td> <td>0    </td> <td>nan    </td> <td>nan     </td> <td>0     </td> <td>nan     </td> <td>nan     </td> <td>1       </td> <td>3         </td> <td>Minor (likely < $1 million)</td> <td>30000    </td> <td>nan        </td> <td>0        </td> <td>nan     </td> <td>nan       </td> <td>nan   </td> <td>nan  </td> <td>nan   </td> <td>nan          </td> <td>0     </td> <td>nan      </td> <td>nan        </td> <td>nan       </td> <td>nan         </td> <td>nan       </td> <td>nan           </td> <td>nan               </td> <td>nan      </td> <td>nan     </td> <td>nan   </td> <td>nan   </td> <td>nan   </td> <td>PGIS    </td> <td>0      </td> <td>1       </td> <td>1       </td> <td>1      </td> <td>nan                                                   </td>\n",
       "        </tr>\n",
       "        <tr>\n",
       "            <td>1992 </td> <td>1     </td> <td>1   </td> <td>nan       </td> <td>603    </td> <td>United Kingdom</td> <td>8     </td> <td>Western Europe             </td> <td>Northern Ireland</td> <td>Unknown         </td> <td>54.7877 </td> <td>-6.49231 </td> <td>4          </td> <td>0       </td> <td>nan     </td> <td>nan    </td> <td>1    </td> <td>1    </td> <td>1    </td> <td>0        </td> <td>nan        </td> <td>nan            </td> <td>1       </td> <td>1      </td> <td>0      </td> <td>7          </td> <td>Facility/Infrastructure Attack</td> <td>nan        </td> <td>nan            </td> <td>nan        </td> <td>nan            </td> <td>1        </td> <td>Business                   </td> <td>7           </td> <td>Retail/Grocery/Bakery                            </td> <td>nan  </td> <td>store                                             </td> <td>233    </td> <td>Northern Ireland</td> <td>nan      </td> <td>nan          </td> <td>nan         </td> <td>nan             </td> <td>nan  </td> <td>nan    </td> <td>nan    </td> <td>nan        </td> <td>nan      </td> <td>nan          </td> <td>nan         </td> <td>nan             </td> <td>nan  </td> <td>nan    </td> <td>nan    </td> <td>nan        </td> <td>Irish Republican Army (IRA)                     </td> <td>nan     </td> <td>nan   </td> <td>nan      </td> <td>nan   </td> <td>nan      </td> <td>nan   </td> <td>0          </td> <td>nan        </td> <td>nan        </td> <td>0         </td> <td>nan   </td> <td>nan     </td> <td>nan    </td> <td>nan      </td> <td>nan          </td> <td>nan   </td> <td>nan       </td> <td>nan           </td> <td>nan   </td> <td>nan       </td> <td>nan           </td> <td>nan      </td> <td>8        </td> <td>Incendiary   </td> <td>nan         </td> <td>nan                              </td> <td>nan      </td> <td>nan          </td> <td>nan         </td> <td>nan             </td> <td>nan      </td> <td>nan          </td> <td>nan         </td> <td>nan             </td> <td>nan      </td> <td>nan          </td> <td>nan         </td> <td>nan             </td> <td>Incendiary           </td> <td>0    </td> <td>nan    </td> <td>nan     </td> <td>0     </td> <td>nan     </td> <td>nan     </td> <td>1       </td> <td>nan       </td> <td>nan                        </td> <td>nan      </td> <td>nan        </td> <td>0        </td> <td>nan     </td> <td>nan       </td> <td>nan   </td> <td>nan  </td> <td>nan   </td> <td>nan          </td> <td>0     </td> <td>nan      </td> <td>nan        </td> <td>nan       </td> <td>nan         </td> <td>nan       </td> <td>nan           </td> <td>nan               </td> <td>nan      </td> <td>nan     </td> <td>nan   </td> <td>nan   </td> <td>nan   </td> <td>PGIS    </td> <td>0      </td> <td>0       </td> <td>1       </td> <td>1      </td> <td>199201010003, 199201010004, 199201010005, 199201010006</td>\n",
       "        </tr>\n",
       "        <tr>\n",
       "            <td>1992 </td> <td>1     </td> <td>1   </td> <td>nan       </td> <td>603    </td> <td>United Kingdom</td> <td>8     </td> <td>Western Europe             </td> <td>Northern Ireland</td> <td>Unknown         </td> <td>54.7877 </td> <td>-6.49231 </td> <td>4          </td> <td>0       </td> <td>nan     </td> <td>nan    </td> <td>1    </td> <td>1    </td> <td>1    </td> <td>0        </td> <td>nan        </td> <td>nan            </td> <td>1       </td> <td>1      </td> <td>0      </td> <td>7          </td> <td>Facility/Infrastructure Attack</td> <td>nan        </td> <td>nan            </td> <td>nan        </td> <td>nan            </td> <td>1        </td> <td>Business                   </td> <td>7           </td> <td>Retail/Grocery/Bakery                            </td> <td>nan  </td> <td>store                                             </td> <td>233    </td> <td>Northern Ireland</td> <td>nan      </td> <td>nan          </td> <td>nan         </td> <td>nan             </td> <td>nan  </td> <td>nan    </td> <td>nan    </td> <td>nan        </td> <td>nan      </td> <td>nan          </td> <td>nan         </td> <td>nan             </td> <td>nan  </td> <td>nan    </td> <td>nan    </td> <td>nan        </td> <td>Irish Republican Army (IRA)                     </td> <td>nan     </td> <td>nan   </td> <td>nan      </td> <td>nan   </td> <td>nan      </td> <td>nan   </td> <td>0          </td> <td>nan        </td> <td>nan        </td> <td>0         </td> <td>nan   </td> <td>nan     </td> <td>nan    </td> <td>nan      </td> <td>nan          </td> <td>nan   </td> <td>nan       </td> <td>nan           </td> <td>nan   </td> <td>nan       </td> <td>nan           </td> <td>nan      </td> <td>8        </td> <td>Incendiary   </td> <td>nan         </td> <td>nan                              </td> <td>nan      </td> <td>nan          </td> <td>nan         </td> <td>nan             </td> <td>nan      </td> <td>nan          </td> <td>nan         </td> <td>nan             </td> <td>nan      </td> <td>nan          </td> <td>nan         </td> <td>nan             </td> <td>Incendiary           </td> <td>0    </td> <td>nan    </td> <td>nan     </td> <td>0     </td> <td>nan     </td> <td>nan     </td> <td>1       </td> <td>nan       </td> <td>nan                        </td> <td>nan      </td> <td>nan        </td> <td>0        </td> <td>nan     </td> <td>nan       </td> <td>nan   </td> <td>nan  </td> <td>nan   </td> <td>nan          </td> <td>0     </td> <td>nan      </td> <td>nan        </td> <td>nan       </td> <td>nan         </td> <td>nan       </td> <td>nan           </td> <td>nan               </td> <td>nan      </td> <td>nan     </td> <td>nan   </td> <td>nan   </td> <td>nan   </td> <td>PGIS    </td> <td>0      </td> <td>0       </td> <td>1       </td> <td>1      </td> <td>199201010004, 199201010003, 199201010005, 199201010006</td>\n",
       "        </tr>\n",
       "        <tr>\n",
       "            <td>1992 </td> <td>1     </td> <td>1   </td> <td>nan       </td> <td>603    </td> <td>United Kingdom</td> <td>8     </td> <td>Western Europe             </td> <td>Northern Ireland</td> <td>Unknown         </td> <td>54.7877 </td> <td>-6.49231 </td> <td>4          </td> <td>0       </td> <td>nan     </td> <td>nan    </td> <td>1    </td> <td>1    </td> <td>1    </td> <td>0        </td> <td>nan        </td> <td>nan            </td> <td>1       </td> <td>1      </td> <td>0      </td> <td>7          </td> <td>Facility/Infrastructure Attack</td> <td>nan        </td> <td>nan            </td> <td>nan        </td> <td>nan            </td> <td>1        </td> <td>Business                   </td> <td>7           </td> <td>Retail/Grocery/Bakery                            </td> <td>nan  </td> <td>store                                             </td> <td>233    </td> <td>Northern Ireland</td> <td>nan      </td> <td>nan          </td> <td>nan         </td> <td>nan             </td> <td>nan  </td> <td>nan    </td> <td>nan    </td> <td>nan        </td> <td>nan      </td> <td>nan          </td> <td>nan         </td> <td>nan             </td> <td>nan  </td> <td>nan    </td> <td>nan    </td> <td>nan        </td> <td>Irish Republican Army (IRA)                     </td> <td>nan     </td> <td>nan   </td> <td>nan      </td> <td>nan   </td> <td>nan      </td> <td>nan   </td> <td>0          </td> <td>nan        </td> <td>nan        </td> <td>0         </td> <td>nan   </td> <td>nan     </td> <td>nan    </td> <td>nan      </td> <td>nan          </td> <td>nan   </td> <td>nan       </td> <td>nan           </td> <td>nan   </td> <td>nan       </td> <td>nan           </td> <td>nan      </td> <td>8        </td> <td>Incendiary   </td> <td>nan         </td> <td>nan                              </td> <td>nan      </td> <td>nan          </td> <td>nan         </td> <td>nan             </td> <td>nan      </td> <td>nan          </td> <td>nan         </td> <td>nan             </td> <td>nan      </td> <td>nan          </td> <td>nan         </td> <td>nan             </td> <td>Incendiary           </td> <td>0    </td> <td>nan    </td> <td>nan     </td> <td>0     </td> <td>nan     </td> <td>nan     </td> <td>1       </td> <td>nan       </td> <td>nan                        </td> <td>nan      </td> <td>nan        </td> <td>0        </td> <td>nan     </td> <td>nan       </td> <td>nan   </td> <td>nan  </td> <td>nan   </td> <td>nan          </td> <td>0     </td> <td>nan      </td> <td>nan        </td> <td>nan       </td> <td>nan         </td> <td>nan       </td> <td>nan           </td> <td>nan               </td> <td>nan      </td> <td>nan     </td> <td>nan   </td> <td>nan   </td> <td>nan   </td> <td>PGIS    </td> <td>0      </td> <td>0       </td> <td>1       </td> <td>1      </td> <td>199201010005, 199201010003, 199201010004, 199201010006</td>\n",
       "        </tr>\n",
       "        <tr>\n",
       "            <td>1992 </td> <td>1     </td> <td>1   </td> <td>nan       </td> <td>603    </td> <td>United Kingdom</td> <td>8     </td> <td>Western Europe             </td> <td>Northern Ireland</td> <td>Unknown         </td> <td>54.7877 </td> <td>-6.49231 </td> <td>4          </td> <td>0       </td> <td>nan     </td> <td>nan    </td> <td>1    </td> <td>1    </td> <td>1    </td> <td>0        </td> <td>nan        </td> <td>nan            </td> <td>1       </td> <td>1      </td> <td>0      </td> <td>7          </td> <td>Facility/Infrastructure Attack</td> <td>nan        </td> <td>nan            </td> <td>nan        </td> <td>nan            </td> <td>1        </td> <td>Business                   </td> <td>7           </td> <td>Retail/Grocery/Bakery                            </td> <td>nan  </td> <td>store                                             </td> <td>233    </td> <td>Northern Ireland</td> <td>nan      </td> <td>nan          </td> <td>nan         </td> <td>nan             </td> <td>nan  </td> <td>nan    </td> <td>nan    </td> <td>nan        </td> <td>nan      </td> <td>nan          </td> <td>nan         </td> <td>nan             </td> <td>nan  </td> <td>nan    </td> <td>nan    </td> <td>nan        </td> <td>Irish Republican Army (IRA)                     </td> <td>nan     </td> <td>nan   </td> <td>nan      </td> <td>nan   </td> <td>nan      </td> <td>nan   </td> <td>0          </td> <td>nan        </td> <td>nan        </td> <td>0         </td> <td>nan   </td> <td>nan     </td> <td>nan    </td> <td>nan      </td> <td>nan          </td> <td>nan   </td> <td>nan       </td> <td>nan           </td> <td>nan   </td> <td>nan       </td> <td>nan           </td> <td>nan      </td> <td>8        </td> <td>Incendiary   </td> <td>nan         </td> <td>nan                              </td> <td>nan      </td> <td>nan          </td> <td>nan         </td> <td>nan             </td> <td>nan      </td> <td>nan          </td> <td>nan         </td> <td>nan             </td> <td>nan      </td> <td>nan          </td> <td>nan         </td> <td>nan             </td> <td>Incendiary           </td> <td>0    </td> <td>nan    </td> <td>nan     </td> <td>0     </td> <td>nan     </td> <td>nan     </td> <td>1       </td> <td>nan       </td> <td>nan                        </td> <td>nan      </td> <td>nan        </td> <td>0        </td> <td>nan     </td> <td>nan       </td> <td>nan   </td> <td>nan  </td> <td>nan   </td> <td>nan          </td> <td>0     </td> <td>nan      </td> <td>nan        </td> <td>nan       </td> <td>nan         </td> <td>nan       </td> <td>nan           </td> <td>nan               </td> <td>nan      </td> <td>nan     </td> <td>nan   </td> <td>nan   </td> <td>nan   </td> <td>PGIS    </td> <td>0      </td> <td>0       </td> <td>1       </td> <td>1      </td> <td>199201010006, 199201010003, 199201010004, 199201010005</td>\n",
       "        </tr>\n",
       "        <tr>\n",
       "            <td>1992 </td> <td>1     </td> <td>1   </td> <td>nan       </td> <td>159    </td> <td>Peru          </td> <td>3     </td> <td>South America              </td> <td>Ancash          </td> <td>Huari           </td> <td>-9.34839</td> <td>-77.1708 </td> <td>1          </td> <td>0       </td> <td>nan     </td> <td>nan    </td> <td>1    </td> <td>1    </td> <td>1    </td> <td>0        </td> <td>nan        </td> <td>nan            </td> <td>0       </td> <td>1      </td> <td>0      </td> <td>3          </td> <td>Bombing/Explosion             </td> <td>nan        </td> <td>nan            </td> <td>nan        </td> <td>nan            </td> <td>2        </td> <td>Government (General)       </td> <td>21          </td> <td>Government Building/Facility/Office              </td> <td>Govt </td> <td>Municipal Bldg                                    </td> <td>159    </td> <td>Peru            </td> <td>nan      </td> <td>nan          </td> <td>nan         </td> <td>nan             </td> <td>nan  </td> <td>nan    </td> <td>nan    </td> <td>nan        </td> <td>nan      </td> <td>nan          </td> <td>nan         </td> <td>nan             </td> <td>nan  </td> <td>nan    </td> <td>nan    </td> <td>nan        </td> <td>Shining Path (SL)                               </td> <td>nan     </td> <td>nan   </td> <td>nan      </td> <td>nan   </td> <td>nan      </td> <td>nan   </td> <td>0          </td> <td>nan        </td> <td>nan        </td> <td>0         </td> <td>nan   </td> <td>nan     </td> <td>nan    </td> <td>nan      </td> <td>nan          </td> <td>nan   </td> <td>nan       </td> <td>nan           </td> <td>nan   </td> <td>nan       </td> <td>nan           </td> <td>nan      </td> <td>6        </td> <td>Explosives   </td> <td>16          </td> <td>Unknown Explosive Type           </td> <td>nan      </td> <td>nan          </td> <td>nan         </td> <td>nan             </td> <td>nan      </td> <td>nan          </td> <td>nan         </td> <td>nan             </td> <td>nan      </td> <td>nan          </td> <td>nan         </td> <td>nan             </td> <td>Explosive            </td> <td>0    </td> <td>nan    </td> <td>nan     </td> <td>0     </td> <td>nan     </td> <td>nan     </td> <td>1       </td> <td>nan       </td> <td>nan                        </td> <td>nan      </td> <td>nan        </td> <td>0        </td> <td>nan     </td> <td>nan       </td> <td>nan   </td> <td>nan  </td> <td>nan   </td> <td>nan          </td> <td>0     </td> <td>nan      </td> <td>nan        </td> <td>nan       </td> <td>nan         </td> <td>nan       </td> <td>nan           </td> <td>nan               </td> <td>nan      </td> <td>nan     </td> <td>nan   </td> <td>nan   </td> <td>nan   </td> <td>PGIS    </td> <td>0      </td> <td>0       </td> <td>0       </td> <td>0      </td> <td>nan                                                   </td>\n",
       "        </tr>\n",
       "        <tr>\n",
       "            <td>1992 </td> <td>1     </td> <td>1   </td> <td>nan       </td> <td>183    </td> <td>South Africa  </td> <td>11    </td> <td>Sub-Saharan Africa         </td> <td>Mpumalanga      </td> <td>Nelspruit       </td> <td>-25.4742</td> <td>30.9695  </td> <td>1          </td> <td>0       </td> <td>nan     </td> <td>nan    </td> <td>1    </td> <td>1    </td> <td>1    </td> <td>0        </td> <td>nan        </td> <td>nan            </td> <td>0       </td> <td>1      </td> <td>0      </td> <td>3          </td> <td>Bombing/Explosion             </td> <td>nan        </td> <td>nan            </td> <td>nan        </td> <td>nan            </td> <td>8        </td> <td>Educational Institution    </td> <td>49          </td> <td>School/University/Educational Building           </td> <td>nan  </td> <td>School                                            </td> <td>183    </td> <td>South Africa    </td> <td>nan      </td> <td>nan          </td> <td>nan         </td> <td>nan             </td> <td>nan  </td> <td>nan    </td> <td>nan    </td> <td>nan        </td> <td>nan      </td> <td>nan          </td> <td>nan         </td> <td>nan             </td> <td>nan  </td> <td>nan    </td> <td>nan    </td> <td>nan        </td> <td>Right-wing extremists                           </td> <td>nan     </td> <td>nan   </td> <td>nan      </td> <td>nan   </td> <td>nan      </td> <td>nan   </td> <td>0          </td> <td>nan        </td> <td>nan        </td> <td>0         </td> <td>nan   </td> <td>nan     </td> <td>nan    </td> <td>nan      </td> <td>nan          </td> <td>nan   </td> <td>nan       </td> <td>nan           </td> <td>nan   </td> <td>nan       </td> <td>nan           </td> <td>nan      </td> <td>6        </td> <td>Explosives   </td> <td>16          </td> <td>Unknown Explosive Type           </td> <td>nan      </td> <td>nan          </td> <td>nan         </td> <td>nan             </td> <td>nan      </td> <td>nan          </td> <td>nan         </td> <td>nan             </td> <td>nan      </td> <td>nan          </td> <td>nan         </td> <td>nan             </td> <td>Explosive            </td> <td>0    </td> <td>nan    </td> <td>nan     </td> <td>0     </td> <td>nan     </td> <td>nan     </td> <td>1       </td> <td>nan       </td> <td>nan                        </td> <td>nan      </td> <td>nan        </td> <td>0        </td> <td>nan     </td> <td>nan       </td> <td>nan   </td> <td>nan  </td> <td>nan   </td> <td>nan          </td> <td>0     </td> <td>nan      </td> <td>nan        </td> <td>nan       </td> <td>nan         </td> <td>nan       </td> <td>nan           </td> <td>nan               </td> <td>nan      </td> <td>nan     </td> <td>nan   </td> <td>nan   </td> <td>nan   </td> <td>PGIS    </td> <td>-9     </td> <td>-9      </td> <td>0       </td> <td>-9     </td> <td>nan                                                   </td>\n",
       "        </tr>\n",
       "    </tbody>\n",
       "</table>\n",
       "<p>... (5061 rows omitted)</p>"
      ],
      "text/plain": [
       "iyear | imonth | iday | approxdate | country | country_txt    | region | region_txt                  | provstate        | city             | latitude | longitude | specificity | vicinity | location | summary | crit1 | crit2 | crit3 | doubtterr | alternative | alternative_txt | multiple | success | suicide | attacktype1 | attacktype1_txt                | attacktype2 | attacktype2_txt | attacktype3 | attacktype3_txt | targtype1 | targtype1_txt               | targsubtype1 | targsubtype1_txt                                  | corp1 | target1                                            | natlty1 | natlty1_txt      | targtype2 | targtype2_txt | targsubtype2 | targsubtype2_txt | corp2 | target2 | natlty2 | natlty2_txt | targtype3 | targtype3_txt | targsubtype3 | targsubtype3_txt | corp3 | target3 | natlty3 | natlty3_txt | gname                                            | gsubname | gname2 | gsubname2 | gname3 | gsubname3 | motive | guncertain1 | guncertain2 | guncertain3 | individual | nperps | nperpcap | claimed | claimmode | claimmode_txt | claim2 | claimmode2 | claimmode2_txt | claim3 | claimmode3 | claimmode3_txt | compclaim | weaptype1 | weaptype1_txt | weapsubtype1 | weapsubtype1_txt                  | weaptype2 | weaptype2_txt | weapsubtype2 | weapsubtype2_txt | weaptype3 | weaptype3_txt | weapsubtype3 | weapsubtype3_txt | weaptype4 | weaptype4_txt | weapsubtype4 | weapsubtype4_txt | weapdetail            | nkill | nkillus | nkillter | nwound | nwoundus | nwoundte | property | propextent | propextent_txt              | propvalue | propcomment | ishostkid | nhostkid | nhostkidus | nhours | ndays | divert | kidhijcountry | ransom | ransomamt | ransomamtus | ransompaid | ransompaidus | ransomnote | hostkidoutcome | hostkidoutcome_txt | nreleased | addnotes | scite1 | scite2 | scite3 | dbsource | INT_LOG | INT_IDEO | INT_MISC | INT_ANY | related\n",
       "1992  | 1      | 0    | nan        | 185     | Spain          | 8      | Western Europe              | Basque Country   | Vizcaya district | 43.2241  | -2.71893  | 3           | 0        | nan      | nan     | 1     | 1     | 1     | -9        | nan         | nan             | 0        | 0       | 0       | 1           | Assassination                  | nan         | nan             | nan         | nan             | 1         | Business                    | nan          | nan                                               | nan   | Businessman Julian Cormenzaga                      | 185     | Spain            | nan       | nan           | nan          | nan              | nan   | nan     | nan     | nan         | nan       | nan           | nan          | nan              | nan   | nan     | nan     | nan         | Unknown                                          | nan      | nan    | nan       | nan    | nan       | nan    | 0           | nan         | nan         | 0          | nan    | nan      | nan     | nan       | nan           | nan    | nan        | nan            | nan    | nan        | nan            | nan       | 6         | Explosives    | 9            | Letter Bomb                       | nan       | nan           | nan          | nan              | nan       | nan           | nan          | nan              | nan       | nan           | nan          | nan              | Letter bomb - defused | 0     | nan     | nan      | 0      | nan      | nan      | 0        | nan        | nan                         | nan       | nan         | 0         | nan      | nan        | nan    | nan   | nan    | nan           | 0      | nan       | nan         | nan        | nan          | nan        | nan            | nan                | nan       | nan      | nan    | nan    | nan    | PGIS     | -9      | -9       | 0        | -9      | nan\n",
       "1992  | 1      | 0    | nan        | 604     | Zaire          | 11     | Sub-Saharan Africa          | Katanga          | Fungurume        | -10.6174 | 26.3095   | 1           | 0        | nan      | nan     | 1     | 1     | 1     | 0         | nan         | nan             | 0        | 1       | 0       | 2           | Armed Assault                  | nan         | nan             | nan         | nan             | 2         | Government (General)        | 18           | Government Personnel (excluding police, military) | Govt. | Group of Government Supporters                     | 604     | Zaire            | nan       | nan           | nan          | nan              | nan   | nan     | nan     | nan         | nan       | nan           | nan          | nan              | nan   | nan     | nan     | nan         | Supporters Opposition Leader Etienne Tshisekedi  | nan      | nan    | nan       | nan    | nan       | nan    | 0           | nan         | nan         | 0          | nan    | nan      | nan     | nan       | nan           | nan    | nan        | nan            | nan    | nan        | nan            | nan       | 5         | Firearms      | 3            | Handgun                           | nan       | nan           | nan          | nan              | nan       | nan           | nan          | nan              | nan       | nan           | nan          | nan              | Pistol                | 8     | nan     | nan      | 50     | nan      | nan      | 1        | nan        | nan                         | nan       | nan         | 0         | nan      | nan        | nan    | nan   | nan    | nan           | 0      | nan       | nan         | nan        | nan          | nan        | nan            | nan                | nan       | nan      | nan    | nan    | nan    | PGIS     | 1       | 1        | 0        | 1       | nan\n",
       "1992  | 1      | 1    | nan        | 97      | Israel         | 10     | Middle East & North Africa  | West Bank        | Dayr al Balah    | 31.4189  | 34.3526   | 1           | 0        | nan      | nan     | 1     | 1     | 1     | 0         | nan         | nan             | 0        | 1       | 0       | 1           | Assassination                  | nan         | nan             | nan         | nan             | 14        | Private Citizens & Property | 71           | Race/Ethnicity Identified                         | nan   | Israeli Settler Doron Shorshan                     | 97      | Israel           | nan       | nan           | nan          | nan              | nan   | nan     | nan     | nan         | nan       | nan           | nan          | nan              | nan   | nan     | nan     | nan         | Palestinians                                     | nan      | nan    | nan       | nan    | nan       | nan    | 0           | nan         | nan         | 0          | nan    | nan      | nan     | nan       | nan           | nan    | nan        | nan            | nan    | nan        | nan            | nan       | 5         | Firearms      | 2            | Automatic or Semi-Automatic Rifle | nan       | nan           | nan          | nan              | nan       | nan           | nan          | nan              | nan       | nan           | nan          | nan              | Automatic firearm     | 1     | nan     | nan      | 0      | nan      | nan      | 0        | nan        | nan                         | nan       | nan         | 0         | nan      | nan        | nan    | nan   | nan    | nan           | 0      | nan       | nan         | nan        | nan          | nan        | nan            | nan                | nan       | nan      | nan    | nan    | nan    | PGIS     | 1       | 0        | 0        | 1       | nan\n",
       "1992  | 1      | 1    | nan        | 61      | El Salvador    | 2      | Central America & Caribbean | San Salvador     | San Salvador     | 13.6929  | -89.1992  | 1           | 0        | nan      | nan     | 1     | 1     | 1     | 0         | nan         | nan             | 0        | 1       | 0       | 3           | Bombing/Explosion              | nan         | nan             | nan         | nan             | 10        | Journalists & Media         | 53           | Newspaper Journalist/Staff/Facility               | nan   | Vehicles Reuters and New York Times Correspondents | 217     | United States    | nan       | nan           | nan          | nan              | nan   | nan     | nan     | nan         | nan       | nan           | nan          | nan              | nan   | nan     | nan     | nan         | Farabundo Marti National Liberation Front (FMLN) | nan      | nan    | nan       | nan    | nan       | nan    | 0           | nan         | nan         | 0          | nan    | nan      | nan     | nan       | nan           | nan    | nan        | nan            | nan    | nan        | nan            | nan       | 6         | Explosives    | 16           | Unknown Explosive Type            | nan       | nan           | nan          | nan              | nan       | nan           | nan          | nan              | nan       | nan           | nan          | nan              | Explosive             | 0     | nan     | nan      | 0      | nan      | nan      | 1        | 3          | Minor (likely < $1 million) | 30000     | nan         | 0         | nan      | nan        | nan    | nan   | nan    | nan           | 0      | nan       | nan         | nan        | nan          | nan        | nan            | nan                | nan       | nan      | nan    | nan    | nan    | PGIS     | 0       | 1        | 1        | 1       | nan\n",
       "1992  | 1      | 1    | nan        | 603     | United Kingdom | 8      | Western Europe              | Northern Ireland | Unknown          | 54.7877  | -6.49231  | 4           | 0        | nan      | nan     | 1     | 1     | 1     | 0         | nan         | nan             | 1        | 1       | 0       | 7           | Facility/Infrastructure Attack | nan         | nan             | nan         | nan             | 1         | Business                    | 7            | Retail/Grocery/Bakery                             | nan   | store                                              | 233     | Northern Ireland | nan       | nan           | nan          | nan              | nan   | nan     | nan     | nan         | nan       | nan           | nan          | nan              | nan   | nan     | nan     | nan         | Irish Republican Army (IRA)                      | nan      | nan    | nan       | nan    | nan       | nan    | 0           | nan         | nan         | 0          | nan    | nan      | nan     | nan       | nan           | nan    | nan        | nan            | nan    | nan        | nan            | nan       | 8         | Incendiary    | nan          | nan                               | nan       | nan           | nan          | nan              | nan       | nan           | nan          | nan              | nan       | nan           | nan          | nan              | Incendiary            | 0     | nan     | nan      | 0      | nan      | nan      | 1        | nan        | nan                         | nan       | nan         | 0         | nan      | nan        | nan    | nan   | nan    | nan           | 0      | nan       | nan         | nan        | nan          | nan        | nan            | nan                | nan       | nan      | nan    | nan    | nan    | PGIS     | 0       | 0        | 1        | 1       | 199201010003, 199201010004, 199201010005, 199201010006\n",
       "1992  | 1      | 1    | nan        | 603     | United Kingdom | 8      | Western Europe              | Northern Ireland | Unknown          | 54.7877  | -6.49231  | 4           | 0        | nan      | nan     | 1     | 1     | 1     | 0         | nan         | nan             | 1        | 1       | 0       | 7           | Facility/Infrastructure Attack | nan         | nan             | nan         | nan             | 1         | Business                    | 7            | Retail/Grocery/Bakery                             | nan   | store                                              | 233     | Northern Ireland | nan       | nan           | nan          | nan              | nan   | nan     | nan     | nan         | nan       | nan           | nan          | nan              | nan   | nan     | nan     | nan         | Irish Republican Army (IRA)                      | nan      | nan    | nan       | nan    | nan       | nan    | 0           | nan         | nan         | 0          | nan    | nan      | nan     | nan       | nan           | nan    | nan        | nan            | nan    | nan        | nan            | nan       | 8         | Incendiary    | nan          | nan                               | nan       | nan           | nan          | nan              | nan       | nan           | nan          | nan              | nan       | nan           | nan          | nan              | Incendiary            | 0     | nan     | nan      | 0      | nan      | nan      | 1        | nan        | nan                         | nan       | nan         | 0         | nan      | nan        | nan    | nan   | nan    | nan           | 0      | nan       | nan         | nan        | nan          | nan        | nan            | nan                | nan       | nan      | nan    | nan    | nan    | PGIS     | 0       | 0        | 1        | 1       | 199201010004, 199201010003, 199201010005, 199201010006\n",
       "1992  | 1      | 1    | nan        | 603     | United Kingdom | 8      | Western Europe              | Northern Ireland | Unknown          | 54.7877  | -6.49231  | 4           | 0        | nan      | nan     | 1     | 1     | 1     | 0         | nan         | nan             | 1        | 1       | 0       | 7           | Facility/Infrastructure Attack | nan         | nan             | nan         | nan             | 1         | Business                    | 7            | Retail/Grocery/Bakery                             | nan   | store                                              | 233     | Northern Ireland | nan       | nan           | nan          | nan              | nan   | nan     | nan     | nan         | nan       | nan           | nan          | nan              | nan   | nan     | nan     | nan         | Irish Republican Army (IRA)                      | nan      | nan    | nan       | nan    | nan       | nan    | 0           | nan         | nan         | 0          | nan    | nan      | nan     | nan       | nan           | nan    | nan        | nan            | nan    | nan        | nan            | nan       | 8         | Incendiary    | nan          | nan                               | nan       | nan           | nan          | nan              | nan       | nan           | nan          | nan              | nan       | nan           | nan          | nan              | Incendiary            | 0     | nan     | nan      | 0      | nan      | nan      | 1        | nan        | nan                         | nan       | nan         | 0         | nan      | nan        | nan    | nan   | nan    | nan           | 0      | nan       | nan         | nan        | nan          | nan        | nan            | nan                | nan       | nan      | nan    | nan    | nan    | PGIS     | 0       | 0        | 1        | 1       | 199201010005, 199201010003, 199201010004, 199201010006\n",
       "1992  | 1      | 1    | nan        | 603     | United Kingdom | 8      | Western Europe              | Northern Ireland | Unknown          | 54.7877  | -6.49231  | 4           | 0        | nan      | nan     | 1     | 1     | 1     | 0         | nan         | nan             | 1        | 1       | 0       | 7           | Facility/Infrastructure Attack | nan         | nan             | nan         | nan             | 1         | Business                    | 7            | Retail/Grocery/Bakery                             | nan   | store                                              | 233     | Northern Ireland | nan       | nan           | nan          | nan              | nan   | nan     | nan     | nan         | nan       | nan           | nan          | nan              | nan   | nan     | nan     | nan         | Irish Republican Army (IRA)                      | nan      | nan    | nan       | nan    | nan       | nan    | 0           | nan         | nan         | 0          | nan    | nan      | nan     | nan       | nan           | nan    | nan        | nan            | nan    | nan        | nan            | nan       | 8         | Incendiary    | nan          | nan                               | nan       | nan           | nan          | nan              | nan       | nan           | nan          | nan              | nan       | nan           | nan          | nan              | Incendiary            | 0     | nan     | nan      | 0      | nan      | nan      | 1        | nan        | nan                         | nan       | nan         | 0         | nan      | nan        | nan    | nan   | nan    | nan           | 0      | nan       | nan         | nan        | nan          | nan        | nan            | nan                | nan       | nan      | nan    | nan    | nan    | PGIS     | 0       | 0        | 1        | 1       | 199201010006, 199201010003, 199201010004, 199201010005\n",
       "1992  | 1      | 1    | nan        | 159     | Peru           | 3      | South America               | Ancash           | Huari            | -9.34839 | -77.1708  | 1           | 0        | nan      | nan     | 1     | 1     | 1     | 0         | nan         | nan             | 0        | 1       | 0       | 3           | Bombing/Explosion              | nan         | nan             | nan         | nan             | 2         | Government (General)        | 21           | Government Building/Facility/Office               | Govt  | Municipal Bldg                                     | 159     | Peru             | nan       | nan           | nan          | nan              | nan   | nan     | nan     | nan         | nan       | nan           | nan          | nan              | nan   | nan     | nan     | nan         | Shining Path (SL)                                | nan      | nan    | nan       | nan    | nan       | nan    | 0           | nan         | nan         | 0          | nan    | nan      | nan     | nan       | nan           | nan    | nan        | nan            | nan    | nan        | nan            | nan       | 6         | Explosives    | 16           | Unknown Explosive Type            | nan       | nan           | nan          | nan              | nan       | nan           | nan          | nan              | nan       | nan           | nan          | nan              | Explosive             | 0     | nan     | nan      | 0      | nan      | nan      | 1        | nan        | nan                         | nan       | nan         | 0         | nan      | nan        | nan    | nan   | nan    | nan           | 0      | nan       | nan         | nan        | nan          | nan        | nan            | nan                | nan       | nan      | nan    | nan    | nan    | PGIS     | 0       | 0        | 0        | 0       | nan\n",
       "1992  | 1      | 1    | nan        | 183     | South Africa   | 11     | Sub-Saharan Africa          | Mpumalanga       | Nelspruit        | -25.4742 | 30.9695   | 1           | 0        | nan      | nan     | 1     | 1     | 1     | 0         | nan         | nan             | 0        | 1       | 0       | 3           | Bombing/Explosion              | nan         | nan             | nan         | nan             | 8         | Educational Institution     | 49           | School/University/Educational Building            | nan   | School                                             | 183     | South Africa     | nan       | nan           | nan          | nan              | nan   | nan     | nan     | nan         | nan       | nan           | nan          | nan              | nan   | nan     | nan     | nan         | Right-wing extremists                            | nan      | nan    | nan       | nan    | nan       | nan    | 0           | nan         | nan         | 0          | nan    | nan      | nan     | nan       | nan           | nan    | nan        | nan            | nan    | nan        | nan            | nan       | 6         | Explosives    | 16           | Unknown Explosive Type            | nan       | nan           | nan          | nan              | nan       | nan           | nan          | nan              | nan       | nan           | nan          | nan              | Explosive             | 0     | nan     | nan      | 0      | nan      | nan      | 1        | nan        | nan                         | nan       | nan         | 0         | nan      | nan        | nan    | nan   | nan    | nan           | 0      | nan       | nan         | nan        | nan          | nan        | nan            | nan                | nan       | nan      | nan    | nan    | nan    | PGIS     | -9      | -9       | 0        | -9      | nan\n",
       "... (5061 rows omitted)"
      ]
     },
     "execution_count": 26,
     "metadata": {},
     "output_type": "execute_result"
    }
   ],
   "source": [
    "GTD_1992 = GTD_1990_1995.where(\"iyear\", are.equal_to(1992))\n",
    "GTD_1992"
   ]
  },
  {
   "cell_type": "markdown",
   "metadata": {},
   "source": [
    "#### Group <code>GTD_1992</code> by <code>country_txt</code> and then sort the amount of incidents from greatest number to least number."
   ]
  },
  {
   "cell_type": "code",
   "execution_count": 31,
   "metadata": {},
   "outputs": [
    {
     "data": {
      "text/html": [
       "<table border=\"1\" class=\"dataframe\">\n",
       "    <thead>\n",
       "        <tr>\n",
       "            <th>country_txt</th> <th>count</th>\n",
       "        </tr>\n",
       "    </thead>\n",
       "    <tbody>\n",
       "        <tr>\n",
       "            <td>Colombia      </td> <td>523  </td>\n",
       "        </tr>\n",
       "        <tr>\n",
       "            <td>Turkey        </td> <td>514  </td>\n",
       "        </tr>\n",
       "        <tr>\n",
       "            <td>Peru          </td> <td>383  </td>\n",
       "        </tr>\n",
       "        <tr>\n",
       "            <td>United Kingdom</td> <td>274  </td>\n",
       "        </tr>\n",
       "        <tr>\n",
       "            <td>South Africa  </td> <td>271  </td>\n",
       "        </tr>\n",
       "        <tr>\n",
       "            <td>India         </td> <td>237  </td>\n",
       "        </tr>\n",
       "        <tr>\n",
       "            <td>Algeria       </td> <td>215  </td>\n",
       "        </tr>\n",
       "        <tr>\n",
       "            <td>Philippines   </td> <td>162  </td>\n",
       "        </tr>\n",
       "        <tr>\n",
       "            <td>Germany       </td> <td>156  </td>\n",
       "        </tr>\n",
       "        <tr>\n",
       "            <td>France        </td> <td>126  </td>\n",
       "        </tr>\n",
       "    </tbody>\n",
       "</table>\n",
       "<p>... (131 rows omitted)</p>"
      ],
      "text/plain": [
       "country_txt    | count\n",
       "Colombia       | 523\n",
       "Turkey         | 514\n",
       "Peru           | 383\n",
       "United Kingdom | 274\n",
       "South Africa   | 271\n",
       "India          | 237\n",
       "Algeria        | 215\n",
       "Philippines    | 162\n",
       "Germany        | 156\n",
       "France         | 126\n",
       "... (131 rows omitted)"
      ]
     },
     "execution_count": 31,
     "metadata": {},
     "output_type": "execute_result"
    }
   ],
   "source": [
    "GTD_1992.group(\"country_txt\").sort('count', descending=True)"
   ]
  },
  {
   "cell_type": "markdown",
   "metadata": {},
   "source": [
    "#### What country has the highest number of incidents? What was happening at this moment politically that could indicate the high incident rate?"
   ]
  },
  {
   "cell_type": "markdown",
   "metadata": {},
   "source": [
    "## Conclusion\n",
    "\n",
    "This concludes our introduction to Tables! We covered how to create a table using two arrays, how to add a new column or row to a table, how to create a table from a CSV file, various table function including <code>sort</code>, <code>drop</code>, <code>select</code>, <code>show</code>, <code>group</code>, and <code>where</code>."
   ]
  },
  {
   "cell_type": "markdown",
   "metadata": {},
   "source": [
    "## Submission"
   ]
  },
  {
   "cell_type": "markdown",
   "metadata": {},
   "source": [
    "Congratulations, you've reached the end of this lab! While this lab is graded by effort, we still want to make sure that all of you get a grade for this assignment. To submit, go to datahub.berkeley.edu. Find your file. Click the checkbox next to the file. If it is green, press shutdown. If it isn't lit up, press \"Download\". After you download it, please rename the file to follow this format, \"[YOUR NAME] WEEK 4 LAB.ipynb\", and submit it to the correct bCourses assignment page. "
   ]
  },
  {
   "cell_type": "code",
   "execution_count": null,
   "metadata": {},
   "outputs": [],
   "source": []
  }
 ],
 "metadata": {
  "kernelspec": {
   "display_name": "Python 3",
   "language": "python",
   "name": "python3"
  },
  "language_info": {
   "codemirror_mode": {
    "name": "ipython",
    "version": 3
   },
   "file_extension": ".py",
   "mimetype": "text/x-python",
   "name": "python",
   "nbconvert_exporter": "python",
   "pygments_lexer": "ipython3",
   "version": "3.6.7"
  }
 },
 "nbformat": 4,
 "nbformat_minor": 2
}
