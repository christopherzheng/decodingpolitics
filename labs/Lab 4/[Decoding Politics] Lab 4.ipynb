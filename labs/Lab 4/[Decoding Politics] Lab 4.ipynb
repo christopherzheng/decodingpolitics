{
 "cells": [
  {
   "cell_type": "markdown",
   "metadata": {},
   "source": [
    "# Week 4 Lab: Introduction to Tables"
   ]
  },
  {
   "cell_type": "markdown",
   "metadata": {},
   "source": [
    "This week's lab will introduce tables, which are object types that represent data sets. \n",
    "\n",
    "According to the Data 8 textbook, \"A table can be viewed in two ways: a sequence of named columns that each describe a single aspect of all entries in a data set, or a sequence of rows that each contain all information about a single entry in a data set.\" More information can be found in [Chapter 6](https://www.inferentialthinking.com/chapters/06/Tables) of the Data 8 textbook."
   ]
  },
  {
   "cell_type": "code",
   "execution_count": null,
   "metadata": {
    "collapsed": true
   },
   "outputs": [],
   "source": [
    "# PUT YOUR NAME HERE\n",
    "name = \"First Name Last Name\""
   ]
  },
  {
   "cell_type": "code",
   "execution_count": null,
   "metadata": {
    "collapsed": true
   },
   "outputs": [],
   "source": [
    "import numpy as np\n",
    "from datascience import *\n",
    "\n",
    "%matplotlib inline\n",
    "import matplotlib.pyplot as plots\n",
    "plots.style.use('fivethirtyeight')"
   ]
  },
  {
   "cell_type": "markdown",
   "metadata": {},
   "source": [
    "## 1. Creating a Table"
   ]
  },
  {
   "cell_type": "markdown",
   "metadata": {},
   "source": [
    "### Using Arrays"
   ]
  },
  {
   "cell_type": "markdown",
   "metadata": {},
   "source": [
    "Looking at the first description of a table, we are going to combine two arrays and create a table. As a reminder, the <code>\"np.array\"</code> function creates an array. Similarly the <code>Table()</code> function create a new table. It is important to import the datascience module in order to use the <code>Table()</code> function- it is not native to Python.\n",
    "\n",
    "Another useful function to utilze when creating a table is <code>with_columns</code>. This allows existing arrays to become a table. <code>with_columns</code> takes in two arguments: (\"Label\", array). "
   ]
  },
  {
   "cell_type": "code",
   "execution_count": null,
   "metadata": {},
   "outputs": [],
   "source": [
    "# Create an array that has the strings \"Democrat\", and \"Republicans\"\n",
    "political_parties = ...\n",
    "political_parties"
   ]
  },
  {
   "cell_type": "code",
   "execution_count": null,
   "metadata": {},
   "outputs": [],
   "source": [
    "# Create another array that has the strings \"Andrew Jackson\" and \"Abraham Lincoln\"\n",
    "party_founders = ...\n",
    "party_founders"
   ]
  },
  {
   "cell_type": "code",
   "execution_count": null,
   "metadata": {},
   "outputs": [],
   "source": [
    "# Merge the two arrays political_parties and party_founders into a Table\n",
    "parties = ...\n",
    "parties"
   ]
  },
  {
   "cell_type": "code",
   "execution_count": null,
   "metadata": {},
   "outputs": [],
   "source": [
    "# Create a new array with the order in which Jackson and Lincoln were presidents, respectively 7 and 16\n",
    "rank = ...\n",
    "rank"
   ]
  },
  {
   "cell_type": "code",
   "execution_count": null,
   "metadata": {},
   "outputs": [],
   "source": [
    "# Add in the \"Rank\" column to the parties Table\n",
    "parties = ...\n",
    "parties"
   ]
  },
  {
   "cell_type": "markdown",
   "metadata": {},
   "source": [
    "Rows are another useful feature that can be used with tables. Rows are similar to columns conceptually, but columns contain all of the same data type, while rows can consist of different data types. The function <code>with_row()</code> can add a row to a table."
   ]
  },
  {
   "cell_type": "code",
   "execution_count": null,
   "metadata": {},
   "outputs": [],
   "source": [
    "# columns are all the same data type values BUT rows can consist of different data types. Below is a row\n",
    "current_prez = [\"Republican\", \"Donald Trump\", 45]\n",
    "current_prez"
   ]
  },
  {
   "cell_type": "code",
   "execution_count": null,
   "metadata": {},
   "outputs": [],
   "source": [
    "# Add the new row that we created to our parties Table\n",
    "more_parties = ...\n",
    "more_parties"
   ]
  },
  {
   "cell_type": "markdown",
   "metadata": {},
   "source": [
    "## 2. The Presidential Table"
   ]
  },
  {
   "cell_type": "markdown",
   "metadata": {},
   "source": [
    "Adapted from [this Kaggle CSV](https://data.world/government/us-election-results), we'll be loading data from a CSV (comma seperate values) file to create a table. The table below contains information about each US president and includes columns such as their start and end dates, prior titles, party affiliations, and vice presidents during the start of their term."
   ]
  },
  {
   "cell_type": "code",
   "execution_count": null,
   "metadata": {},
   "outputs": [],
   "source": [
    "# load the table\n",
    "us_presidents = Table.read_table(\"us_presidents.csv\")\n",
    "us_presidents.show()"
   ]
  },
  {
   "cell_type": "markdown",
   "metadata": {},
   "source": [
    "### Using the drop(), sort(), and select() functions, we can manipulate the table to filter specific results we want."
   ]
  },
  {
   "cell_type": "markdown",
   "metadata": {},
   "source": [
    "* <code>drop()</code> - drops the columns that we don't want or don't want to see\n",
    "* <code>sort()</code> - sorts the dataset according to the selected columns\n",
    "* <code>select()</code> - selects specific columns to show and omits the rest \n",
    "* <code>show()</code> - shows all values of a table\n",
    "\n",
    "Take a look at this __[reference](http://data8.org/sp19/python-reference.html)__."
   ]
  },
  {
   "cell_type": "markdown",
   "metadata": {},
   "source": [
    "#### a. Drop the Rank, start, end, Party, and Vice President columns and save the result as a new Table."
   ]
  },
  {
   "cell_type": "code",
   "execution_count": null,
   "metadata": {},
   "outputs": [],
   "source": [
    "us_presidents_prior_title = ...\n",
    "us_presidents_prior_title.show()"
   ]
  },
  {
   "cell_type": "markdown",
   "metadata": {},
   "source": [
    "#### b. Sort the new table by \"Prior Title\". Remember to call .show() at the end so it displays!"
   ]
  },
  {
   "cell_type": "code",
   "execution_count": null,
   "metadata": {},
   "outputs": [],
   "source": [
    "..."
   ]
  },
  {
   "cell_type": "markdown",
   "metadata": {},
   "source": [
    "### Group()"
   ]
  },
  {
   "cell_type": "markdown",
   "metadata": {},
   "source": [
    "The <code>group()</code> function will group together every instance of the column that you are trying to find a particular pattern for. For example, if we wanted to group by Prior Title, <code>group(\"Prior Titles\")</code> would give us a count of each prior title that each president had prior to becoming elected."
   ]
  },
  {
   "cell_type": "code",
   "execution_count": null,
   "metadata": {},
   "outputs": [],
   "source": [
    "# group example\n",
    "prior_count = us_presidents_prior_title.group(\"Prior Title\")\n",
    "prior_count.show()"
   ]
  },
  {
   "cell_type": "markdown",
   "metadata": {},
   "source": [
    "#### Now select the \"President\" and \"Party\" columns from the original us_presidents table and store it into _parties_"
   ]
  },
  {
   "cell_type": "code",
   "execution_count": null,
   "metadata": {},
   "outputs": [],
   "source": [
    "parties = ...\n",
    "parties"
   ]
  },
  {
   "cell_type": "code",
   "execution_count": null,
   "metadata": {},
   "outputs": [],
   "source": [
    "parties.group(\"Party\").show()"
   ]
  },
  {
   "cell_type": "markdown",
   "metadata": {},
   "source": [
    "### Where()"
   ]
  },
  {
   "cell_type": "markdown",
   "metadata": {},
   "source": [
    "The <code>where</code> function creates a table with only the rows that match some predicate. Predicates include: \n",
    "\n",
    "|Predicate|Example|Result|\n",
    "|-|-|-|\n",
    "|`are.equal_to`|`are.equal_to(1774)`|Find rows with values equal to 1774|\n",
    "|`are.not_equal_to`|`are.not_equal_to(1774)`|Find rows with values not equal to 1774|\n",
    "|`are.above`|`are.above(1774)`|Find rows with values above (and not equal to) 1774|\n",
    "|`are.above_or_equal_to`|`are.above_or_equal_to(1774)`|Find rows with values above 1774 or equal to 1774|\n",
    "|`are.below`|`are.below(1774)`|Find rows with values below 1774|\n",
    "|`are.between`|`are.between(2, 10)`|Find rows with values above or equal to 2 and below 10|\n"
   ]
  },
  {
   "cell_type": "markdown",
   "metadata": {},
   "source": [
    "#### Using the <code>group</code> function, find all of the instances where the Presidents of the United States were formerly Vice Presidents. Again, remember to call .show() at the end to display the table."
   ]
  },
  {
   "cell_type": "code",
   "execution_count": null,
   "metadata": {},
   "outputs": [],
   "source": [
    "us_presidents.where(\"Prior Title\", are.equal_to(\"Vice President\")).show()"
   ]
  },
  {
   "cell_type": "markdown",
   "metadata": {},
   "source": [
    "## 3. Viewing and Manipulating Tables "
   ]
  },
  {
   "cell_type": "markdown",
   "metadata": {},
   "source": [
    "The next section will utilze the concepts learned above in context with the Global Terrorism Database. Created as a project under the University of Maryland, the GTD is \"is an open-source database including information on terrorist events around the world from 1970 through 2017 (with additional annual updates planned for the future). Unlike many other event databases, the GTD includes systematic data on domestic as well as transnational and international terrorist incidents that have occurred during this time period and now includes more than 180,000 cases. For each GTD incident, information is available on the date and location of the incident, the weapons used and nature of the target, the number of casualties, and--when identifiable--the group or individual responsible\" ([GTD](https://www.start.umd.edu/gtd/about/))."
   ]
  },
  {
   "cell_type": "markdown",
   "metadata": {},
   "source": [
    "### We will be using the information from the Global Terrorism Database to see how tables can be used to visualize data. \n",
    "\n",
    "_Trigger warning: the data below contains sensitive information about terrorist attacks, not limited to but including location of the attack, the date, the groups targeted, and the attack type. Please let us know if you are uncomfortable with the material and we will provide an alternate exercise that uses the exact same content below, but with a different data set._"
   ]
  },
  {
   "cell_type": "code",
   "execution_count": null,
   "metadata": {},
   "outputs": [],
   "source": [
    "# GTD 1990-1995\n",
    "GTD_1990_1995 = Table.read_table(\"gtd_90to95.csv\")\n",
    "GTD_1990_1995"
   ]
  },
  {
   "cell_type": "markdown",
   "metadata": {},
   "source": [
    "This is a lot of data! Using the num_rows and num_columns attributes we can see exactly how many points are in this dataset."
   ]
  },
  {
   "cell_type": "markdown",
   "metadata": {},
   "source": [
    "#### <code>num_rows</code>"
   ]
  },
  {
   "cell_type": "code",
   "execution_count": null,
   "metadata": {},
   "outputs": [],
   "source": [
    "GTD_1990_1995.num_rows"
   ]
  },
  {
   "cell_type": "markdown",
   "metadata": {},
   "source": [
    "#### <code>num_columns</code>"
   ]
  },
  {
   "cell_type": "code",
   "execution_count": null,
   "metadata": {},
   "outputs": [],
   "source": [
    "GTD_1990_1995.num_columns"
   ]
  },
  {
   "cell_type": "markdown",
   "metadata": {},
   "source": [
    "#### If we want to see the different column labels we can see the <code> labels </code> function to view them all. "
   ]
  },
  {
   "cell_type": "markdown",
   "metadata": {},
   "source": [
    "Using label, find all the column names of <code> GTD_1990_1995 </code>"
   ]
  },
  {
   "cell_type": "code",
   "execution_count": null,
   "metadata": {},
   "outputs": [],
   "source": [
    "..."
   ]
  },
  {
   "cell_type": "markdown",
   "metadata": {},
   "source": [
    "As we can see, the dataset has a lot of columns and rows. As many of the rows don't contain numerical values, we will be taking them out for our lab's purposes. (Feel free to review the GTD on your own time though if you're interested in doing more with the collected data!)"
   ]
  },
  {
   "cell_type": "markdown",
   "metadata": {},
   "source": [
    "#### Save the table with the following columns: \"iyear\", \"imonth\", \"iday\", \"country\", \"country_txt\", \"region\", \"region_txt\", \"provstate\", \"city\", \"latitude\", \"longitude\", \"attacktype1_txt\", \"targtype1_txt\", \"corp1\""
   ]
  },
  {
   "cell_type": "code",
   "execution_count": null,
   "metadata": {},
   "outputs": [],
   "source": [
    "#country, year, city, weapons\n",
    "GTD_1990_1995 = ...\n",
    "GTD_1990_1995"
   ]
  },
  {
   "cell_type": "markdown",
   "metadata": {},
   "source": [
    "#### Create a new table called <code>GTD_1992</code> that has all of the incidents that took place in 1992."
   ]
  },
  {
   "cell_type": "code",
   "execution_count": null,
   "metadata": {},
   "outputs": [],
   "source": [
    "GTD_1992 = ...\n",
    "GTD_1992"
   ]
  },
  {
   "cell_type": "markdown",
   "metadata": {},
   "source": [
    "#### Group <code>GTD_1992</code> by <code>country_txt</code> and then sort the amount of incidents from greatest number to least number."
   ]
  },
  {
   "cell_type": "code",
   "execution_count": null,
   "metadata": {},
   "outputs": [],
   "source": [
    "..."
   ]
  },
  {
   "cell_type": "markdown",
   "metadata": {},
   "source": [
    "#### What country has the highest number of incidents? What was happening at this moment politically that could indicate the high incident rate?"
   ]
  },
  {
   "cell_type": "markdown",
   "metadata": {},
   "source": [
    "## Conclusion\n",
    "\n",
    "This concludes our introduction to Tables! We covered how to create a table using two arrays, how to add a new column or row to a table, how to create a table from a CSV file, various table function including <code>sort</code>, <code>drop</code>, <code>select</code>, <code>show</code>, <code>group</code>, and <code>where</code>."
   ]
  },
  {
   "cell_type": "markdown",
   "metadata": {},
   "source": [
    "## Submission"
   ]
  },
  {
   "cell_type": "markdown",
   "metadata": {},
   "source": [
    "Congratulations, you've reached the end of this lab! While this lab is graded by effort, we still want to make sure that all of you get a grade for this assignment. To submit, go to datahub.berkeley.edu. Find your file. Click the checkbox next to the file. If it is green, press shutdown. If it isn't lit up, press \"Download\". After you download it, please rename the file to follow this format, \"[YOUR NAME] WEEK 4 LAB.ipynb\", and submit it to the correct bCourses assignment page. "
   ]
  }
 ],
 "metadata": {
  "kernelspec": {
   "display_name": "Python 3",
   "language": "python",
   "name": "python3"
  },
  "language_info": {
   "codemirror_mode": {
    "name": "ipython",
    "version": 3
   },
   "file_extension": ".py",
   "mimetype": "text/x-python",
   "name": "python",
   "nbconvert_exporter": "python",
   "pygments_lexer": "ipython3",
   "version": "3.6.7"
  }
 },
 "nbformat": 4,
 "nbformat_minor": 2
}
