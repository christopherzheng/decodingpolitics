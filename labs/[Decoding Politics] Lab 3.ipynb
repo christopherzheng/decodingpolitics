{
 "cells": [
  {
   "cell_type": "markdown",
   "metadata": {},
   "source": [
    "# Week 3 Lab: Review"
   ]
  },
  {
   "cell_type": "markdown",
   "metadata": {},
   "source": [
    "## Objective\n",
    "In our first lab, we explored how election systems worked. Last week, we simulated congressional structure and built a basic operational Congress that can vote on bills. This week, we will review the concepts from Week 1 and Week 2 in the context of the CA Congressional Representatives from the 115th and 116th Congress, alongside California voter registration patterns."
   ]
  },
  {
   "cell_type": "code",
   "execution_count": 2,
   "metadata": {
    "collapsed": false
   },
   "outputs": [],
   "source": [
    "# from datascience import *\n",
    "import numpy as np"
   ]
  },
  {
   "cell_type": "markdown",
   "metadata": {},
   "source": [
    "## 1. Hello, Goodbye (Representative Edition)\n",
    "\n",
    "Following the system implemented by the American Founding Fathers, the US legislative branch is bicameral, or has 2 houses. As we discussed last week, Senators serve for 6 years while Representatives serve for 2 terms. This means that every 2 terms,  people have the potential to elect the same representative or someone completely new. Title inspired by the [popular Beatles song](https://en.wikipedia.org/wiki/Hello,_Goodbye).\n",
    "\n",
    "Using the arrays below, we will be comparing data from CA's 2016 and 2018 Congressional elections."
   ]
  },
  {
   "cell_type": "code",
   "execution_count": 3,
   "metadata": {
    "collapsed": true
   },
   "outputs": [],
   "source": [
    "ca_representatives_115 = np.array([\"Doug LaMalfa\", \"Jared Huffman\", \"John Garamendi\",\n",
    "                               \"Tom McClintock\", \"Mike Thompson\", \"Doris O. Matsui\", \n",
    "                              \"Ami Bera\", \"Paul Cook\", \"Jerry McNerney\", \"Jeff Denham\", \n",
    "                              \"Mark DeSaulnier\", \"Nancy Pelosi\", \"Barbara Lee\", \"Jackie Speier\", \n",
    "                              \"Eric Swalwell\", \"Jim Costa\", \"Ro Khanna\", \"Anna G. Eshoo\", \"Zoe Lofgren\",\n",
    "                              \"Jimmy Panetta\", \"David G. Valadao\", \"Devin Nunes\", \"Kevin McCarthy\", \n",
    "                               \"Salud Carbajal\", \"Stephen Knight\", \"Julia Brownley\", \"Judy Chu\", \"Adam B. Schiff\", \n",
    "                               \"Tony Cardenas\", \"Brad Sherman\", \"Pete Aguilar\", \"Grace F. Napolitano\", \"Ted Lieu\", \n",
    "                               \"Xavier Becerra\", \"Norma J. Torres\", \"Raul Ruiz\", \"Karen Bass\", \"Linda T. Sanchez\",\n",
    "                               \"Edward R. Royce\", \"Lucille Roybal-Allard\", \"Mark Takano\", \"Ken Calvert\", \n",
    "                               \"Maxine Waters\", \"Janice Hahn\", \"Mimi Walters\", \"Lou Correa\", \"Alan S. Lowenthal\",\n",
    "                               \"Dana Rohrabacher\", \"Darrell E. Issa\", \"Duncan D. Hunter\", \"Juan Vargas\", \n",
    "                               \"Scott H. Peters\", \"Susan A. Davis\"])"
   ]
  },
  {
   "cell_type": "code",
   "execution_count": 4,
   "metadata": {
    "collapsed": true
   },
   "outputs": [],
   "source": [
    "ca_representatives_116 = np.array([\"Doug LaMalfa\", \"Jared Huffman\", \"John Garamendi\",\n",
    "                               \"Tom McClintock\", \"Mike Thompson\", \"Doris O. Matsui\", \n",
    "                              \"Ami Bera\", \"Paul Cook\", \"Jerry McNerney\", \"Josh Harder\", \n",
    "                              \"Mark DeSaulnier\", \"Nancy Pelosi\", \"Barbara Lee\", \"Jackie Speier\", \n",
    "                              \"Eric Swalwell\", \"Jim Costa\", \"Ro Khanna\", \"Anna G. Eshoo\", \"Zoe Lofgren\",\n",
    "                              \"Jimmy Panetta\", \"TJ Cox\", \"Devin Nunes\", \"Kevin McCarthy\", \n",
    "                               \"Salud Carbajal\", \"Katie Hill\", \"Julia Brownley\", \"Judy Chu\", \"Adam B. Schiff\", \n",
    "                               \"Tony Cardenas\", \"Brad Sherman\", \"Pete Aguilar\", \"Grace F. Napolitano\", \"Ted Lieu\", \n",
    "                               \"Xavier Becerra\", \"Norma J. Torres\", \"Raul Ruiz\", \"Karen Bass\", \"Linda T. Sanchez\",\n",
    "                               \"Gil Cisneros\", \"Lucille Roybal-Allard\", \"Mark Takano\", \"Ken Calvert\", \n",
    "                               \"Maxine Waters\", \"Janice Hahn\", \"Katie Porter\", \"Lou Correa\", \"Alan S. Lowenthal\",\n",
    "                               \"Harley Rouda\", \"Mike Levin\", \"Duncan D. Hunter\", \"Juan Vargas\", \n",
    "                               \"Scott H. Peters\", \"Susan A. Davis\"])"
   ]
  },
  {
   "cell_type": "markdown",
   "metadata": {},
   "source": [
    "We've briefly talked about boolean operators, which allows for comparison of two entities that results in either a true of false value. For example, let $a = 5$ and $b = 6$, then $a < b$ would return false. "
   ]
  },
  {
   "cell_type": "markdown",
   "metadata": {},
   "source": [
    "#### Using boolean algebra, create a statement that checks whether the representatives from the 115th Congress are the same as the representatives from the 116th Congress."
   ]
  },
  {
   "cell_type": "code",
   "execution_count": 46,
   "metadata": {
    "collapsed": false
   },
   "outputs": [
    {
     "data": {
      "text/plain": [
       "array([ True,  True,  True,  True,  True,  True,  True,  True,  True,\n",
       "       False,  True,  True,  True,  True,  True,  True,  True,  True,\n",
       "        True,  True, False,  True,  True,  True, False,  True,  True,\n",
       "        True,  True,  True,  True,  True,  True,  True,  True,  True,\n",
       "        True,  True, False,  True,  True,  True,  True,  True, False,\n",
       "        True,  True, False, False,  True,  True,  True,  True])"
      ]
     },
     "execution_count": 46,
     "metadata": {},
     "output_type": "execute_result"
    }
   ],
   "source": [
    "ca_representatives_115 == ca_representatives_116"
   ]
  },
  {
   "cell_type": "markdown",
   "metadata": {},
   "source": [
    "#### How many total Congressional House of Representatives does California have? How many representatives are the same? How many are different?"
   ]
  },
  {
   "cell_type": "code",
   "execution_count": 47,
   "metadata": {
    "collapsed": false
   },
   "outputs": [
    {
     "data": {
      "text/plain": [
       "53"
      ]
     },
     "execution_count": 47,
     "metadata": {},
     "output_type": "execute_result"
    }
   ],
   "source": [
    "len_reps = len(ca_representatives_115)\n",
    "len_reps"
   ]
  },
  {
   "cell_type": "markdown",
   "metadata": {},
   "source": [
    "answer goes here"
   ]
  },
  {
   "cell_type": "markdown",
   "metadata": {},
   "source": [
    "#### Create a function called incumbent finds all the districts with incumbents and the districts that have changed.  "
   ]
  },
  {
   "cell_type": "code",
   "execution_count": 10,
   "metadata": {
    "collapsed": false
   },
   "outputs": [
    {
     "name": "stdout",
     "output_type": "stream",
     "text": [
      "('These are the incumbents: ', array(['Doug LaMalfa', 'Jared Huffman', 'John Garamendi', 'Tom McClintock',\n",
      "       'Mike Thompson', 'Doris O. Matsui', 'Ami Bera', 'Paul Cook',\n",
      "       'Jerry McNerney', 'Mark DeSaulnier', 'Nancy Pelosi', 'Barbara Lee',\n",
      "       'Jackie Speier', 'Eric Swalwell', 'Jim Costa', 'Ro Khanna',\n",
      "       'Anna G. Eshoo', 'Zoe Lofgren', 'Jimmy Panetta', 'Devin Nunes',\n",
      "       'Kevin McCarthy', 'Salud Carbajal', 'Julia Brownley', 'Judy Chu',\n",
      "       'Adam B. Schiff', 'Tony Cardenas', 'Brad Sherman', 'Pete Aguilar',\n",
      "       'Grace F. Napolitano', 'Ted Lieu', 'Xavier Becerra',\n",
      "       'Norma J. Torres', 'Raul Ruiz', 'Karen Bass', 'Linda T. Sanchez',\n",
      "       'Lucille Roybal-Allard', 'Mark Takano', 'Ken Calvert',\n",
      "       'Maxine Waters', 'Janice Hahn', 'Lou Correa', 'Alan S. Lowenthal',\n",
      "       'Duncan D. Hunter', 'Juan Vargas', 'Scott H. Peters',\n",
      "       'Susan A. Davis'], \n",
      "      dtype='|S32'))\n",
      "('These are the newly-elected: ', array(['Josh Harder', 'TJ Cox', 'Katie Hill', 'Gil Cisneros',\n",
      "       'Katie Porter', 'Harley Rouda', 'Mike Levin'], \n",
      "      dtype='|S32'))\n"
     ]
    }
   ],
   "source": [
    "def incumbent(ca115, ca116):\n",
    "    same_reps = np.array([])\n",
    "    different_reps = np.array([])\n",
    "    for rep in range(len(ca116)):\n",
    "        if ca115[rep] == ca116[rep]:\n",
    "            same_reps = np.append(same_reps, ca116[rep])\n",
    "        else:\n",
    "            different_reps = np.append(different_reps, ca116[rep])\n",
    "    return same_reps, different_reps\n",
    "\n",
    "incumbents, not_incumbents = incumbent(ca_representatives_115, ca_representatives_116)\n",
    "print(\"These are the incumbents: \", incumbents)\n",
    "print(\"These are the newly-elected: \", not_incumbents)"
   ]
  },
  {
   "cell_type": "markdown",
   "metadata": {},
   "source": [
    "## 2. Who's Who? (Senator Edition)"
   ]
  },
  {
   "cell_type": "markdown",
   "metadata": {},
   "source": [
    "Next, we will need to compile a list of all Senators from the 116th Congress. Note that we said $make\\_array()$ in class, but it's only a slight difference between $make\\_array()$ and $np.array()$. They work fairly interchangeably. If it makes you feel more comfortable, you can change $np.array()$ to $make\\_array()$ and get rid of the $[]$. (This is following the information from Question 4 in last week's lab)"
   ]
  },
  {
   "cell_type": "code",
   "execution_count": 11,
   "metadata": {
    "collapsed": true
   },
   "outputs": [],
   "source": [
    "democratic_senators = np.array([\"Doug Jones\", \"Kyrsten Sinema\", \"Dianne Feinstein\", \"Kamala Harris\",\n",
    "                               \"Michael Bennet\", \"Richard Blumenthal\", \"Chris Murphy\", \"Tom Carper\",\n",
    "                               \"Chris Coons\", \"Brian Schatz\", \"Mazie Hirono\", \"Dick Durbin\", \"Tammy Duckworth\",\n",
    "                               \"Ben Cardin\", \"Chris Van Hollen\", \"Elizabeth Warren\", \"Ed Markey\",\n",
    "                               \"Debbie Stabenow\", \"Gary Peters\", \"Amy Klobuchar\", \"Tina Smith\",\n",
    "                               \"Jon Tester\", \"Catherine Cortez Masto\", \"Jacky Rosen\", \"Jeanne Shaheen\",\n",
    "                               \"Maggie Hassan\", \"Bob Menendez\", \"Cory Booker\", \"Tom Udall\", \"Martin Heinrich\",\n",
    "                               \"Chuck Schumer\", \"Kirsten Gillibrand\", \"Sherrod Brown\", \"Ron Wyden\",\n",
    "                               \"Jeff Merkley\", \"Bob Casey Jr.\", \"Jack Reed\", \"Sheldon Whitehouse\",\n",
    "                               \"Patrick Leahy\", \"Mark Warner\", \"Tim Kaine\", \"Patty Murray\", \"Maria Cantwell\",\n",
    "                               \"Joe Manchin\", \"Tammy Baldwin\"])\n",
    "republican_senators = np.array([\"Richard Shelby\", \"Lisa Murkowski\", \"Dan Sullivan\", \"Martha McSally\",\n",
    "                               \"John Boozman\", \"Tom Cotton\", \"Cory Gardner\", \"Marco Rubio\", \"Rick Scott\",\n",
    "                               \"Johnny Isakson\", \"David Perdue\", \"Mike Crapo\", \"Jim Risch\", \"Todd Young\",\n",
    "                               \"Mike Braun\", \"Chuck Grassley\", \"Joni Ernst\", \"Pat Roberts\", \"Jerry Moran\",\n",
    "                               \"Mitch McConnell\", \"Rand Paul\", \"Bill Cassidy\", \"John Kennedy\", \"Susan Collins\",\n",
    "                               \"Roger Wicker\", \"Cindy Hyde-Smith\", \"Roy Blunt\", \"Josh Hawley\", \"Steve Daines\",\n",
    "                               \"Deb Fischer\", \"Ben Sasse\", \"Richard Burr\", \"Thom Tillis\", \"John Hoeven\",\n",
    "                               \"Kevin Cramer\", \"Rob Portman\", \"Jim Inhofe\", \"James Lankford\", \"Pat Toomey\",\n",
    "                               \"Lindsey Graham\", \"Tim Scott\", \"John Thune\", \"Mike Rounds\", \"Lamar Alexamder\",\n",
    "                               \"Marsha Blackburn\", \"John Cornyn\", \"Ted Cruz\", \"Mike Lee\", \"Mitt Romney\",\n",
    "                               \"Shelley Moore Capito\", \"Ron Johnson\", \"Mike Enzi\", \"John Barrasso\"])\n",
    "independent_senators = np.array([\"Angus King\", \"Bernie Sanders\"])"
   ]
  },
  {
   "cell_type": "markdown",
   "metadata": {},
   "source": [
    "#### How many Democratics are in the Senate?"
   ]
  },
  {
   "cell_type": "code",
   "execution_count": 12,
   "metadata": {
    "collapsed": false
   },
   "outputs": [
    {
     "data": {
      "text/plain": [
       "45"
      ]
     },
     "execution_count": 12,
     "metadata": {},
     "output_type": "execute_result"
    }
   ],
   "source": [
    "# Hint: The len() function takes in an array and will output an integer with the size of the array.\n",
    "len(democratic_senators)"
   ]
  },
  {
   "cell_type": "markdown",
   "metadata": {},
   "source": [
    "#### How many Republicans are in the Senate?"
   ]
  },
  {
   "cell_type": "code",
   "execution_count": 13,
   "metadata": {
    "collapsed": false
   },
   "outputs": [
    {
     "data": {
      "text/plain": [
       "53"
      ]
     },
     "execution_count": 13,
     "metadata": {},
     "output_type": "execute_result"
    }
   ],
   "source": [
    "len(republican_senators)"
   ]
  },
  {
   "cell_type": "markdown",
   "metadata": {},
   "source": [
    "#### How many Independents are in the Senate?"
   ]
  },
  {
   "cell_type": "code",
   "execution_count": 14,
   "metadata": {
    "collapsed": false
   },
   "outputs": [
    {
     "data": {
      "text/plain": [
       "2"
      ]
     },
     "execution_count": 14,
     "metadata": {},
     "output_type": "execute_result"
    }
   ],
   "source": [
    "len(independent_senators)"
   ]
  },
  {
   "cell_type": "markdown",
   "metadata": {},
   "source": [
    "#### Which party currently has the majority in the Senate? "
   ]
  },
  {
   "cell_type": "code",
   "execution_count": 91,
   "metadata": {
    "collapsed": false
   },
   "outputs": [
    {
     "data": {
      "text/plain": [
       "53"
      ]
     },
     "execution_count": 91,
     "metadata": {},
     "output_type": "execute_result"
    }
   ],
   "source": [
    "max(len(democratic_senators), len(republican_senators), len(independent_senators))"
   ]
  },
  {
   "cell_type": "markdown",
   "metadata": {},
   "source": [
    "**Let's write a function that returns all the inputs that start with the letter \"B\". Note: while we haven't explicitly taught you this yet, to get the first letter of a string, you do x[0] where x is the string.**"
   ]
  },
  {
   "cell_type": "code",
   "execution_count": 32,
   "metadata": {
    "collapsed": false
   },
   "outputs": [
    {
     "data": {
      "text/plain": [
       "array([], dtype=float64)"
      ]
     },
     "execution_count": 32,
     "metadata": {},
     "output_type": "execute_result"
    }
   ],
   "source": [
    "def first_letter(people, letter): \n",
    "    same_first_letter = np.array([])\n",
    "    for person in people: \n",
    "        if person[0] == letter: \n",
    "            same_first_letter = np.append(same_first_letter, person)\n",
    "    return same_first_letter"
   ]
  },
  {
   "cell_type": "markdown",
   "metadata": {},
   "source": [
    "**Using the above function, which letter begins the first name of the most US Senators?**"
   ]
  },
  {
   "cell_type": "code",
   "execution_count": 42,
   "metadata": {
    "collapsed": false
   },
   "outputs": [
    {
     "data": {
      "text/plain": [
       "19.0"
      ]
     },
     "execution_count": 42,
     "metadata": {},
     "output_type": "execute_result"
    }
   ],
   "source": [
    "letter = \"ABCDEFGHIJKLMNOPQRSTUVWXYZ\"\n",
    "num_of_sen = np.array([])\n",
    "for l in letter: \n",
    "    num_of_sen = np.append(num_of_sen, len(first_letter(democratic_senators, l)) \\\n",
    "                                       + len(first_letter(republican_senators, l)) \\\n",
    "                                       + len(first_letter(independent_senators, l)))\n",
    "max(num_of_sen)"
   ]
  },
  {
   "cell_type": "markdown",
   "metadata": {},
   "source": [
    "## 3. CA Voter Registration Patterns"
   ]
  },
  {
   "cell_type": "markdown",
   "metadata": {},
   "source": [
    "The Secretary of State office handles voter registration and collects information about voter registration 60 days and 15 days prior to an election. We will be examing information from the [November 6, 2018 General Election](https://www.sos.ca.gov/elections/voter-registration/voter-registration-statistics/)."
   ]
  },
  {
   "cell_type": "markdown",
   "metadata": {},
   "source": [
    "#### According to the October 22, 2018 report, there were 25,200,451 eligible voters and 19,696,371 people registered. Create a function that calculates the total percentage of registered eligible voters."
   ]
  },
  {
   "cell_type": "code",
   "execution_count": 24,
   "metadata": {
    "collapsed": false
   },
   "outputs": [
    {
     "data": {
      "text/plain": [
       "0"
      ]
     },
     "execution_count": 24,
     "metadata": {},
     "output_type": "execute_result"
    }
   ],
   "source": [
    "def registered_voters(population, total):\n",
    "    \"\"\"\"\"Compares the number of registered to the number of eligible voters and returns a percentage\"\"\"\"\"\n",
    "    return (population / total) * 100\n",
    "\n",
    "oct_18_registered_voters = 19696371\n",
    "oct_18_eligible_voters = 25200451\n",
    "registered_voters(oct_18_registered_voters, oct_18_eligible_voters)"
   ]
  },
  {
   "cell_type": "markdown",
   "metadata": {},
   "source": [
    "Let's compare voter registration information from <code>Alameda</code> county, <code>Fresno</code> county, <code>Los Angeles</code> county, and <code>Merced</code> county from the 60 day [report generated September 7th, 2018](https://www.sos.ca.gov/elections/voter-registration/voter-registration-statistics/)"
   ]
  },
  {
   "cell_type": "markdown",
   "metadata": {},
   "source": [
    "#### Alameda County\n",
    "Eligible Voters: 1,088,060<br>\n",
    "Registered Voters: 853,629<br>\n",
    "\n",
    "\n",
    "#### Fresno County\n",
    "Eligible Voters: 596,859 <br>\n",
    "Registered Voters: 448,237<br>\n",
    "\n",
    "\n",
    "#### Los Angeles County\n",
    "Eligible Voters: 6,226,227<br>\n",
    "Registered Voters: 5,151,253 <br>\n",
    "\n",
    "\n",
    "#### Merced County\n",
    "Eligible Voters: 160,573<br>\n",
    "Registered Voters: 94,531<br>"
   ]
  },
  {
   "cell_type": "markdown",
   "metadata": {},
   "source": [
    "#### Use the registered voters function to compare the different registration rates between these four counties. Store the percentage in variables entitled $alameda$, $fresno$, $la$, and $merced$. "
   ]
  },
  {
   "cell_type": "code",
   "execution_count": 19,
   "metadata": {
    "collapsed": true
   },
   "outputs": [],
   "source": [
    "alameda_registered_voters = 1088060\n",
    "alameda_eligible_voters = 853629\n",
    "\n",
    "fresno_registered_voters = 596859\n",
    "fresno_eligible_voters = 448237\n",
    "\n",
    "la_registered_voters = 6226227\n",
    "la_eligible_voters = 5151253\n",
    "\n",
    "merced_registered_voters = 160573\n",
    "merced_eligible_voters = 94531"
   ]
  },
  {
   "cell_type": "code",
   "execution_count": 20,
   "metadata": {
    "collapsed": false
   },
   "outputs": [
    {
     "data": {
      "text/plain": [
       "78.45422127456206"
      ]
     },
     "execution_count": 20,
     "metadata": {},
     "output_type": "execute_result"
    }
   ],
   "source": [
    "alameda = registered_voters(alameda_eligible_voters, alameda_registered_voters)\n",
    "alameda"
   ]
  },
  {
   "cell_type": "code",
   "execution_count": 21,
   "metadata": {
    "collapsed": false
   },
   "outputs": [
    {
     "data": {
      "text/plain": [
       "75.0993115626974"
      ]
     },
     "execution_count": 21,
     "metadata": {},
     "output_type": "execute_result"
    }
   ],
   "source": [
    "fresno = registered_voters(fresno_eligible_voters, fresno_registered_voters)\n",
    "fresno"
   ]
  },
  {
   "cell_type": "code",
   "execution_count": 22,
   "metadata": {
    "collapsed": false
   },
   "outputs": [
    {
     "data": {
      "text/plain": [
       "82.73474449293288"
      ]
     },
     "execution_count": 22,
     "metadata": {},
     "output_type": "execute_result"
    }
   ],
   "source": [
    "la = registered_voters(la_eligible_voters, la_registered_voters)\n",
    "la"
   ]
  },
  {
   "cell_type": "code",
   "execution_count": 23,
   "metadata": {
    "collapsed": false
   },
   "outputs": [
    {
     "data": {
      "text/plain": [
       "58.87104307698057"
      ]
     },
     "execution_count": 23,
     "metadata": {},
     "output_type": "execute_result"
    }
   ],
   "source": [
    "merced = registered_voters(merced_eligible_voters, merced_registered_voters)\n",
    "merced"
   ]
  },
  {
   "cell_type": "markdown",
   "metadata": {},
   "source": [
    "#### Which county has the highest percentage of voter registration? What are some factors that contribute to the high amount?"
   ]
  },
  {
   "cell_type": "code",
   "execution_count": 110,
   "metadata": {
    "collapsed": false
   },
   "outputs": [
    {
     "data": {
      "text/plain": [
       "82.73474449293288"
      ]
     },
     "execution_count": 110,
     "metadata": {},
     "output_type": "execute_result"
    }
   ],
   "source": [
    "max(alameda, fresno, la, merced)"
   ]
  },
  {
   "cell_type": "markdown",
   "metadata": {},
   "source": []
  },
  {
   "cell_type": "markdown",
   "metadata": {},
   "source": [
    "#### Which county has the lowest percentage of voter registration? What are some factors that contribute to the low amount?"
   ]
  },
  {
   "cell_type": "code",
   "execution_count": 108,
   "metadata": {
    "collapsed": false
   },
   "outputs": [
    {
     "data": {
      "text/plain": [
       "58.87104307698057"
      ]
     },
     "execution_count": 108,
     "metadata": {},
     "output_type": "execute_result"
    }
   ],
   "source": [
    "min(alameda, fresno, la, merced)"
   ]
  },
  {
   "cell_type": "markdown",
   "metadata": {},
   "source": []
  },
  {
   "cell_type": "markdown",
   "metadata": {},
   "source": [
    "## Conclusion\n",
    "\n",
    "This concludes our review of Weeks 1 and 2! We covered various data types, including strings, booleans, int, and float values, print statements, arithmetic operators and boolean algebra, functions, arrays, loops, and if-else statements in conjunction with CA Congressional Representatives information from the 115th and 116th Congress alongside comparisons among voter registration in various Californian counties. Hopefully by the end of this lab, you feel more familar with the material and are comfortable not only using functions that already exist, but also with creating your own."
   ]
  },
  {
   "cell_type": "markdown",
   "metadata": {},
   "source": [
    "## Submission"
   ]
  },
  {
   "cell_type": "markdown",
   "metadata": {},
   "source": [
    "Congratulations, you've reached the end of this lab! While this lab is graded by effort, we still want to make sure that all of you get a grade for this assignment. To submit, go to datahub.berkeley.edu. Find your file. Click the checkbox next to the file. If it is green, press shutdown. If it isn't lit up, press \"Download\". After you download it, please rename the file to follow this format, \"[YOUR NAME] WEEK 3 LAB.ipynb\", and submit it to the correct bCourses assignment page. "
   ]
  }
 ],
 "metadata": {
  "kernelspec": {
   "display_name": "Python 2",
   "language": "python",
   "name": "python2"
  },
  "language_info": {
   "codemirror_mode": {
    "name": "ipython",
    "version": 2
   },
   "file_extension": ".py",
   "mimetype": "text/x-python",
   "name": "python",
   "nbconvert_exporter": "python",
   "pygments_lexer": "ipython2",
   "version": "2.7.13"
  }
 },
 "nbformat": 4,
 "nbformat_minor": 2
}
